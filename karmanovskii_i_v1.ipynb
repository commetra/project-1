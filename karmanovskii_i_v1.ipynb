{
  "cells": [
    {
      "cell_type": "markdown",
      "metadata": {
        "id": "view-in-github",
        "colab_type": "text"
      },
      "source": [
        "<a href=\"https://colab.research.google.com/github/commetra/project-1/blob/main/karmanovskii_i_v1.ipynb\" target=\"_parent\"><img src=\"https://colab.research.google.com/assets/colab-badge.svg\" alt=\"Open In Colab\"/></a>"
      ]
    },
    {
      "cell_type": "markdown",
      "metadata": {
        "id": "Q_NLCmJDvifG"
      },
      "source": [
        "<img src=\"http://s3.amazonaws.com/pix.iemoji.com/images/emoji/apple/ios-12/256/waving-hand.png\" align=left width=44, heigth=44>\n",
        "<div class=\"alert alert-info\">\n",
        "<b> Комментарий ревьюера</b>\n",
        "\n",
        "\n",
        "Привет,  Ирина! Мы уже встречались на предыдущем проекте, но представлюсь повторно:  меня зовут Дмитрий Махортов, и я буду проверять твой проект. Сразу предлагаю общение на «ты» 🙂, но если тебе это не комфортно, то дай знать, и мы перейдем на «вы».\n",
        "\n",
        "Моя основная цель — не указать на совершенные тобою ошибки, а поделиться своим опытом и помочь тебе погрузиться в увлекательный мир работы с данными и вырасти в крепкого профи. Это отдаленная цель. А ближайшая - сделать твою работу еще лучше )).\n",
        "   \n",
        "    \n",
        "Все ключевые этапы в работе выполнены, и я вижу что с проектом ты справшяешься. Есть моменты, которые нужно доработать, но я уверен, у тебя все получится.\n",
        "        \n",
        "Расскажу как обычно проходит проверка:    \n",
        "Бывают моменты, которые требуют пристального внимания. Комментарии по ним выделены <span style='background-color:#F7B3A4'> красным цветом </span> и обозначены значком 🛑. После их доработки проект будет принят.  🙂\n",
        "\n",
        "<span style='background-color:#B7EBA7'> Зеленым цветом </span> и значком ✅ отмечены удачные и элегантные решения, на которые можно опираться в будущих проектах. Или советы «со звездочкой», которые помогут тебе в будущем.\n",
        "\n",
        "<span style='background-color:#F9EDA6'>Жёлтым цветом </span> и значком ⚠️ выделено то, что в следующий раз можно сделать по-другому. Ты можешь учесть эти комментарии при выполнении будущих заданий или доработать проект сейчас (однако это не обязательно).\n",
        "\n",
        "Давай работать над проектом в диалоге: **если ты что-то меняешь в проекте по моим рекомендациям — пиши об этом**. Выбери для своих комментариев какой-то заметный цвет, так мне будет легче отследить изменения. Пожалуйста, **не перемещай, не изменяй и не удаляй мои комментарии**. Всё это поможет выполнить повторную проверку твоего проекта оперативнее.\n",
        "</div>\n"
      ]
    },
    {
      "cell_type": "markdown",
      "source": [],
      "metadata": {
        "id": "WgrkygOLvlh2"
      }
    },
    {
      "cell_type": "markdown",
      "metadata": {
        "id": "1M7xgewgvifK"
      },
      "source": [
        "<div class=\"alert\" style=\"background-color:#ead7f7;color:#8737bf\">\n",
        "    <font size=\"3\"><b>Комментарий студента</b></font>\n",
        "   \n",
        "Привет, Дмитрий! Рада, что мы снова вместе работаем над проектом. Спасибо огромное за комментарии и ссылки, всё поправила.\n",
        "\n",
        "</div>"
      ]
    },
    {
      "cell_type": "code",
      "execution_count": 1,
      "metadata": {
        "colab": {
          "base_uri": "https://localhost:8080/"
        },
        "id": "EHl2fzsd4H07",
        "outputId": "58fb72f3-585b-4d89-fea8-cea4050deb50"
      },
      "outputs": [
        {
          "output_type": "stream",
          "name": "stdout",
          "text": [
            "replace to_upload/test_images.csv? [y]es, [n]o, [A]ll, [N]one, [r]ename: A\n"
          ]
        }
      ],
      "source": [
        "!wget -q https://code.s3.yandex.net/datasets/dsplus_integrated_project_4.zip\n",
        "!unzip -q dsplus_integrated_project_4.zip"
      ]
    },
    {
      "cell_type": "markdown",
      "metadata": {
        "id": "4DPF7AL4vifM"
      },
      "source": [
        "<img src=\"https://emojigraph.org/media/apple/check-mark-button_2705.png\" align=left width=33, heigth=33>\n",
        "<div class=\"alert alert-success\">\n",
        "Да, этот скрипт очень помогает быстро загрузить датасет на виртуальную машину, с которой мы работаем из Colab</div>"
      ]
    },
    {
      "cell_type": "markdown",
      "metadata": {
        "id": "B57HvcyphYhM"
      },
      "source": [
        "## Библиотеки"
      ]
    },
    {
      "cell_type": "code",
      "execution_count": 2,
      "metadata": {
        "id": "r5ozslAzA_mO"
      },
      "outputs": [],
      "source": [
        "import pandas as pd\n",
        "import matplotlib.pyplot as plt\n",
        "import nltk\n",
        "import numpy as np\n",
        "import os\n",
        "import spacy\n",
        "import torch\n",
        "import torch.nn as nn\n",
        "import torchvision.transforms as transforms\n",
        "import tensorflow as tf\n",
        "import re\n",
        "\n",
        "from torchvision import models\n",
        "from PIL import Image\n",
        "\n",
        "\n",
        "from keras.preprocessing import image\n",
        "from keras.applications import ResNet50\n",
        "from keras.applications.resnet50 import preprocess_input\n",
        "\n",
        "from nltk import pos_tag, word_tokenize\n",
        "from nltk.corpus import stopwords as nltk_stopwords\n",
        "from nltk.stem import WordNetLemmatizer\n",
        "\n",
        "from random import randrange\n",
        "\n",
        "from sklearn.feature_extraction.text import TfidfVectorizer\n",
        "from sklearn.metrics import mean_absolute_error, mean_squared_error\n",
        "from sklearn.model_selection import train_test_split, GridSearchCV, GroupShuffleSplit\n",
        "from sklearn.linear_model import LinearRegression\n",
        "from sklearn.dummy import DummyRegressor\n",
        "from sklearn.preprocessing import StandardScaler\n",
        "\n",
        "from tensorflow import keras\n",
        "from tensorflow.keras.applications.resnet import ResNet50\n",
        "from tensorflow.keras.layers import GlobalAveragePooling2D, Dense\n",
        "from tensorflow.keras.models import Sequential\n",
        "from tensorflow.keras.optimizers import Adam\n",
        "\n",
        "\n",
        "DATA_PATH = '/content/to_upload/'"
      ]
    },
    {
      "cell_type": "markdown",
      "metadata": {
        "id": "TG3hIjzzvifN"
      },
      "source": [
        "<img src=\"https://emojigraph.org/media/apple/check-mark-button_2705.png\" align=left width=33, heigth=33>\n",
        "<div class=\"alert alert-success\">\n",
        "Отлично, все нужные библиотеки импортированы в начале ноутбука.Это хорошая практика.</div>"
      ]
    },
    {
      "cell_type": "markdown",
      "metadata": {
        "id": "H6wzKJGCvifN"
      },
      "source": [
        "<img src=\"https://emojigraph.org/media/apple/check-mark-button_2705.png\" align=left width=33, heigth=33>\n",
        "<div class=\"alert alert-success\">\n",
        "Большое тебе человеческое спасибо за вынос пути к данным в отдельную константу. Это сэкономило мне немало времени при проверке.</div>"
      ]
    },
    {
      "cell_type": "markdown",
      "metadata": {
        "id": "off_W7aNDxB8"
      },
      "source": [
        "## Загрузка"
      ]
    },
    {
      "cell_type": "markdown",
      "metadata": {
        "id": "QK9r-qYlKX-4"
      },
      "source": [
        "В файле **train_dataset.csv** собрана информация, необходимая для обучения:\n",
        "- имя файла изображения,\n",
        "- идентификатор описания и текст описания, для одной картинки может быть доступно до 5 описаний.\n",
        "- идентификатор описания имеет формат <имя файла изображения>#<порядковый номер описания>."
      ]
    },
    {
      "cell_type": "code",
      "execution_count": 3,
      "metadata": {
        "colab": {
          "base_uri": "https://localhost:8080/",
          "height": 164
        },
        "id": "odCbTQfdA668",
        "outputId": "064d1ef8-518e-444c-ad52-06ba559d06cb"
      },
      "outputs": [
        {
          "output_type": "execute_result",
          "data": {
            "text/plain": [
              "                       image                     query_id  \\\n",
              "0  1056338697_4f7d7ce270.jpg  2549968784_39bfbe44f9.jpg#2   \n",
              "1  1262583859_653f1469a9.jpg  2549968784_39bfbe44f9.jpg#2   \n",
              "\n",
              "                                          query_text  \n",
              "0  A young child is wearing blue goggles and sitt...  \n",
              "1  A young child is wearing blue goggles and sitt...  "
            ],
            "text/html": [
              "\n",
              "  <div id=\"df-beb069c2-afdb-43fe-aeb0-9e21e10a7610\" class=\"colab-df-container\">\n",
              "    <div>\n",
              "<style scoped>\n",
              "    .dataframe tbody tr th:only-of-type {\n",
              "        vertical-align: middle;\n",
              "    }\n",
              "\n",
              "    .dataframe tbody tr th {\n",
              "        vertical-align: top;\n",
              "    }\n",
              "\n",
              "    .dataframe thead th {\n",
              "        text-align: right;\n",
              "    }\n",
              "</style>\n",
              "<table border=\"1\" class=\"dataframe\">\n",
              "  <thead>\n",
              "    <tr style=\"text-align: right;\">\n",
              "      <th></th>\n",
              "      <th>image</th>\n",
              "      <th>query_id</th>\n",
              "      <th>query_text</th>\n",
              "    </tr>\n",
              "  </thead>\n",
              "  <tbody>\n",
              "    <tr>\n",
              "      <th>0</th>\n",
              "      <td>1056338697_4f7d7ce270.jpg</td>\n",
              "      <td>2549968784_39bfbe44f9.jpg#2</td>\n",
              "      <td>A young child is wearing blue goggles and sitt...</td>\n",
              "    </tr>\n",
              "    <tr>\n",
              "      <th>1</th>\n",
              "      <td>1262583859_653f1469a9.jpg</td>\n",
              "      <td>2549968784_39bfbe44f9.jpg#2</td>\n",
              "      <td>A young child is wearing blue goggles and sitt...</td>\n",
              "    </tr>\n",
              "  </tbody>\n",
              "</table>\n",
              "</div>\n",
              "    <div class=\"colab-df-buttons\">\n",
              "\n",
              "  <div class=\"colab-df-container\">\n",
              "    <button class=\"colab-df-convert\" onclick=\"convertToInteractive('df-beb069c2-afdb-43fe-aeb0-9e21e10a7610')\"\n",
              "            title=\"Convert this dataframe to an interactive table.\"\n",
              "            style=\"display:none;\">\n",
              "\n",
              "  <svg xmlns=\"http://www.w3.org/2000/svg\" height=\"24px\" viewBox=\"0 -960 960 960\">\n",
              "    <path d=\"M120-120v-720h720v720H120Zm60-500h600v-160H180v160Zm220 220h160v-160H400v160Zm0 220h160v-160H400v160ZM180-400h160v-160H180v160Zm440 0h160v-160H620v160ZM180-180h160v-160H180v160Zm440 0h160v-160H620v160Z\"/>\n",
              "  </svg>\n",
              "    </button>\n",
              "\n",
              "  <style>\n",
              "    .colab-df-container {\n",
              "      display:flex;\n",
              "      gap: 12px;\n",
              "    }\n",
              "\n",
              "    .colab-df-convert {\n",
              "      background-color: #E8F0FE;\n",
              "      border: none;\n",
              "      border-radius: 50%;\n",
              "      cursor: pointer;\n",
              "      display: none;\n",
              "      fill: #1967D2;\n",
              "      height: 32px;\n",
              "      padding: 0 0 0 0;\n",
              "      width: 32px;\n",
              "    }\n",
              "\n",
              "    .colab-df-convert:hover {\n",
              "      background-color: #E2EBFA;\n",
              "      box-shadow: 0px 1px 2px rgba(60, 64, 67, 0.3), 0px 1px 3px 1px rgba(60, 64, 67, 0.15);\n",
              "      fill: #174EA6;\n",
              "    }\n",
              "\n",
              "    .colab-df-buttons div {\n",
              "      margin-bottom: 4px;\n",
              "    }\n",
              "\n",
              "    [theme=dark] .colab-df-convert {\n",
              "      background-color: #3B4455;\n",
              "      fill: #D2E3FC;\n",
              "    }\n",
              "\n",
              "    [theme=dark] .colab-df-convert:hover {\n",
              "      background-color: #434B5C;\n",
              "      box-shadow: 0px 1px 3px 1px rgba(0, 0, 0, 0.15);\n",
              "      filter: drop-shadow(0px 1px 2px rgba(0, 0, 0, 0.3));\n",
              "      fill: #FFFFFF;\n",
              "    }\n",
              "  </style>\n",
              "\n",
              "    <script>\n",
              "      const buttonEl =\n",
              "        document.querySelector('#df-beb069c2-afdb-43fe-aeb0-9e21e10a7610 button.colab-df-convert');\n",
              "      buttonEl.style.display =\n",
              "        google.colab.kernel.accessAllowed ? 'block' : 'none';\n",
              "\n",
              "      async function convertToInteractive(key) {\n",
              "        const element = document.querySelector('#df-beb069c2-afdb-43fe-aeb0-9e21e10a7610');\n",
              "        const dataTable =\n",
              "          await google.colab.kernel.invokeFunction('convertToInteractive',\n",
              "                                                    [key], {});\n",
              "        if (!dataTable) return;\n",
              "\n",
              "        const docLinkHtml = 'Like what you see? Visit the ' +\n",
              "          '<a target=\"_blank\" href=https://colab.research.google.com/notebooks/data_table.ipynb>data table notebook</a>'\n",
              "          + ' to learn more about interactive tables.';\n",
              "        element.innerHTML = '';\n",
              "        dataTable['output_type'] = 'display_data';\n",
              "        await google.colab.output.renderOutput(dataTable, element);\n",
              "        const docLink = document.createElement('div');\n",
              "        docLink.innerHTML = docLinkHtml;\n",
              "        element.appendChild(docLink);\n",
              "      }\n",
              "    </script>\n",
              "  </div>\n",
              "\n",
              "\n",
              "<div id=\"df-f348f1c4-0e01-456c-8885-a7963388b092\">\n",
              "  <button class=\"colab-df-quickchart\" onclick=\"quickchart('df-f348f1c4-0e01-456c-8885-a7963388b092')\"\n",
              "            title=\"Suggest charts\"\n",
              "            style=\"display:none;\">\n",
              "\n",
              "<svg xmlns=\"http://www.w3.org/2000/svg\" height=\"24px\"viewBox=\"0 0 24 24\"\n",
              "     width=\"24px\">\n",
              "    <g>\n",
              "        <path d=\"M19 3H5c-1.1 0-2 .9-2 2v14c0 1.1.9 2 2 2h14c1.1 0 2-.9 2-2V5c0-1.1-.9-2-2-2zM9 17H7v-7h2v7zm4 0h-2V7h2v10zm4 0h-2v-4h2v4z\"/>\n",
              "    </g>\n",
              "</svg>\n",
              "  </button>\n",
              "\n",
              "<style>\n",
              "  .colab-df-quickchart {\n",
              "      --bg-color: #E8F0FE;\n",
              "      --fill-color: #1967D2;\n",
              "      --hover-bg-color: #E2EBFA;\n",
              "      --hover-fill-color: #174EA6;\n",
              "      --disabled-fill-color: #AAA;\n",
              "      --disabled-bg-color: #DDD;\n",
              "  }\n",
              "\n",
              "  [theme=dark] .colab-df-quickchart {\n",
              "      --bg-color: #3B4455;\n",
              "      --fill-color: #D2E3FC;\n",
              "      --hover-bg-color: #434B5C;\n",
              "      --hover-fill-color: #FFFFFF;\n",
              "      --disabled-bg-color: #3B4455;\n",
              "      --disabled-fill-color: #666;\n",
              "  }\n",
              "\n",
              "  .colab-df-quickchart {\n",
              "    background-color: var(--bg-color);\n",
              "    border: none;\n",
              "    border-radius: 50%;\n",
              "    cursor: pointer;\n",
              "    display: none;\n",
              "    fill: var(--fill-color);\n",
              "    height: 32px;\n",
              "    padding: 0;\n",
              "    width: 32px;\n",
              "  }\n",
              "\n",
              "  .colab-df-quickchart:hover {\n",
              "    background-color: var(--hover-bg-color);\n",
              "    box-shadow: 0 1px 2px rgba(60, 64, 67, 0.3), 0 1px 3px 1px rgba(60, 64, 67, 0.15);\n",
              "    fill: var(--button-hover-fill-color);\n",
              "  }\n",
              "\n",
              "  .colab-df-quickchart-complete:disabled,\n",
              "  .colab-df-quickchart-complete:disabled:hover {\n",
              "    background-color: var(--disabled-bg-color);\n",
              "    fill: var(--disabled-fill-color);\n",
              "    box-shadow: none;\n",
              "  }\n",
              "\n",
              "  .colab-df-spinner {\n",
              "    border: 2px solid var(--fill-color);\n",
              "    border-color: transparent;\n",
              "    border-bottom-color: var(--fill-color);\n",
              "    animation:\n",
              "      spin 1s steps(1) infinite;\n",
              "  }\n",
              "\n",
              "  @keyframes spin {\n",
              "    0% {\n",
              "      border-color: transparent;\n",
              "      border-bottom-color: var(--fill-color);\n",
              "      border-left-color: var(--fill-color);\n",
              "    }\n",
              "    20% {\n",
              "      border-color: transparent;\n",
              "      border-left-color: var(--fill-color);\n",
              "      border-top-color: var(--fill-color);\n",
              "    }\n",
              "    30% {\n",
              "      border-color: transparent;\n",
              "      border-left-color: var(--fill-color);\n",
              "      border-top-color: var(--fill-color);\n",
              "      border-right-color: var(--fill-color);\n",
              "    }\n",
              "    40% {\n",
              "      border-color: transparent;\n",
              "      border-right-color: var(--fill-color);\n",
              "      border-top-color: var(--fill-color);\n",
              "    }\n",
              "    60% {\n",
              "      border-color: transparent;\n",
              "      border-right-color: var(--fill-color);\n",
              "    }\n",
              "    80% {\n",
              "      border-color: transparent;\n",
              "      border-right-color: var(--fill-color);\n",
              "      border-bottom-color: var(--fill-color);\n",
              "    }\n",
              "    90% {\n",
              "      border-color: transparent;\n",
              "      border-bottom-color: var(--fill-color);\n",
              "    }\n",
              "  }\n",
              "</style>\n",
              "\n",
              "  <script>\n",
              "    async function quickchart(key) {\n",
              "      const quickchartButtonEl =\n",
              "        document.querySelector('#' + key + ' button');\n",
              "      quickchartButtonEl.disabled = true;  // To prevent multiple clicks.\n",
              "      quickchartButtonEl.classList.add('colab-df-spinner');\n",
              "      try {\n",
              "        const charts = await google.colab.kernel.invokeFunction(\n",
              "            'suggestCharts', [key], {});\n",
              "      } catch (error) {\n",
              "        console.error('Error during call to suggestCharts:', error);\n",
              "      }\n",
              "      quickchartButtonEl.classList.remove('colab-df-spinner');\n",
              "      quickchartButtonEl.classList.add('colab-df-quickchart-complete');\n",
              "    }\n",
              "    (() => {\n",
              "      let quickchartButtonEl =\n",
              "        document.querySelector('#df-f348f1c4-0e01-456c-8885-a7963388b092 button');\n",
              "      quickchartButtonEl.style.display =\n",
              "        google.colab.kernel.accessAllowed ? 'block' : 'none';\n",
              "    })();\n",
              "  </script>\n",
              "</div>\n",
              "    </div>\n",
              "  </div>\n"
            ],
            "application/vnd.google.colaboratory.intrinsic+json": {
              "type": "dataframe",
              "variable_name": "train_dataset",
              "summary": "{\n  \"name\": \"train_dataset\",\n  \"rows\": 5822,\n  \"fields\": [\n    {\n      \"column\": \"image\",\n      \"properties\": {\n        \"dtype\": \"category\",\n        \"num_unique_values\": 1000,\n        \"samples\": [\n          \"260828892_7925d27865.jpg\",\n          \"2892995070_39f3c9a56e.jpg\",\n          \"2208067635_39a03834ca.jpg\"\n        ],\n        \"semantic_type\": \"\",\n        \"description\": \"\"\n      }\n    },\n    {\n      \"column\": \"query_id\",\n      \"properties\": {\n        \"dtype\": \"category\",\n        \"num_unique_values\": 977,\n        \"samples\": [\n          \"300922408_05a4f9938c.jpg#2\",\n          \"2309860995_c2e2a0feeb.jpg#2\",\n          \"3500136982_bf7a85531e.jpg#2\"\n        ],\n        \"semantic_type\": \"\",\n        \"description\": \"\"\n      }\n    },\n    {\n      \"column\": \"query_text\",\n      \"properties\": {\n        \"dtype\": \"category\",\n        \"num_unique_values\": 977,\n        \"samples\": [\n          \"A man kneels in the wet sand at a beach near a dog .\",\n          \"A woman wears sunglasses and a black coat as she walks .\",\n          \"A line of rollerbladers crouch down aerodynamically\"\n        ],\n        \"semantic_type\": \"\",\n        \"description\": \"\"\n      }\n    }\n  ]\n}"
            }
          },
          "metadata": {},
          "execution_count": 3
        }
      ],
      "source": [
        "train_dataset = pd.read_csv(DATA_PATH +'train_dataset.csv')\n",
        "train_dataset.head(2)"
      ]
    },
    {
      "cell_type": "code",
      "execution_count": 4,
      "metadata": {
        "colab": {
          "base_uri": "https://localhost:8080/"
        },
        "id": "wi4eLaYyCfSI",
        "outputId": "ea793c42-1fa4-48dd-9ae6-49f37eba5b99"
      },
      "outputs": [
        {
          "output_type": "stream",
          "name": "stdout",
          "text": [
            "<class 'pandas.core.frame.DataFrame'>\n",
            "RangeIndex: 5822 entries, 0 to 5821\n",
            "Data columns (total 3 columns):\n",
            " #   Column      Non-Null Count  Dtype \n",
            "---  ------      --------------  ----- \n",
            " 0   image       5822 non-null   object\n",
            " 1   query_id    5822 non-null   object\n",
            " 2   query_text  5822 non-null   object\n",
            "dtypes: object(3)\n",
            "memory usage: 136.6+ KB\n"
          ]
        }
      ],
      "source": [
        "train_dataset.info()"
      ]
    },
    {
      "cell_type": "code",
      "execution_count": 5,
      "metadata": {
        "colab": {
          "base_uri": "https://localhost:8080/"
        },
        "id": "h8HwR2vYhp9B",
        "outputId": "5b525af0-6756-4b3d-88cd-dd1105ec3afe"
      },
      "outputs": [
        {
          "output_type": "execute_result",
          "data": {
            "text/plain": [
              "0"
            ]
          },
          "metadata": {},
          "execution_count": 5
        }
      ],
      "source": [
        "train_dataset.duplicated().sum()"
      ]
    },
    {
      "cell_type": "markdown",
      "metadata": {
        "id": "qAxOOmoavifO"
      },
      "source": [
        "<img src=\"https://emojigraph.org/media/apple/check-mark-button_2705.png\" align=left width=33, heigth=33>\n",
        "<div class=\"alert alert-success\">\n",
        " 👍 </div>"
      ]
    },
    {
      "cell_type": "markdown",
      "metadata": {
        "id": "4_p4AeG_5HgG"
      },
      "source": [
        "Пропусков нет."
      ]
    },
    {
      "cell_type": "markdown",
      "source": [
        "В переменную images_df сохраним уникальные имена файлов изображений."
      ],
      "metadata": {
        "id": "jQc6h-ONe8c7"
      }
    },
    {
      "cell_type": "code",
      "source": [
        "images_df = pd.DataFrame(train_dataset['image']).drop_duplicates('image').reset_index(drop=True)\n",
        "len(images_df['image'])"
      ],
      "metadata": {
        "colab": {
          "base_uri": "https://localhost:8080/"
        },
        "id": "KyR-gidmelgJ",
        "outputId": "47d7c851-af85-4fcc-cb0d-9a554e85509d"
      },
      "execution_count": 6,
      "outputs": [
        {
          "output_type": "execute_result",
          "data": {
            "text/plain": [
              "1000"
            ]
          },
          "metadata": {},
          "execution_count": 6
        }
      ]
    },
    {
      "cell_type": "markdown",
      "source": [
        "В переменную queries_df - уникальные id и тексты запросов."
      ],
      "metadata": {
        "id": "FuQhGoI0fQsF"
      }
    },
    {
      "cell_type": "code",
      "source": [
        "queries_df = train_dataset[['query_id', 'query_text']].drop_duplicates().reset_index(drop=True)\n",
        "len(queries_df)"
      ],
      "metadata": {
        "colab": {
          "base_uri": "https://localhost:8080/"
        },
        "id": "MNsWLofwfHqh",
        "outputId": "8c51452d-bd6c-4fde-afb5-e75c4efb9e9a"
      },
      "execution_count": 7,
      "outputs": [
        {
          "output_type": "execute_result",
          "data": {
            "text/plain": [
              "977"
            ]
          },
          "metadata": {},
          "execution_count": 7
        }
      ]
    },
    {
      "cell_type": "markdown",
      "source": [
        "Лемманизируем их."
      ],
      "metadata": {
        "id": "8P0k4fbkfpb4"
      }
    },
    {
      "cell_type": "code",
      "source": [
        "nlp = spacy.load('en_core_web_sm', disable=['parser', 'ner'])"
      ],
      "metadata": {
        "id": "42mvFTgRfti3"
      },
      "execution_count": 8,
      "outputs": []
    },
    {
      "cell_type": "code",
      "source": [
        "def lemmatize_text(df):\n",
        "    df['lem_query_text'] = df['query_text'].apply(lambda text: \" \".join([token.lemma_ for token in nlp(text)]))\n",
        "    return df"
      ],
      "metadata": {
        "id": "kBACIfkUfxBR"
      },
      "execution_count": 9,
      "outputs": []
    },
    {
      "cell_type": "code",
      "source": [
        "queries_df = lemmatize_text(queries_df)"
      ],
      "metadata": {
        "id": "kcZr2yTcf3if"
      },
      "execution_count": 10,
      "outputs": []
    },
    {
      "cell_type": "code",
      "source": [
        "queries_df.head(1)"
      ],
      "metadata": {
        "colab": {
          "base_uri": "https://localhost:8080/",
          "height": 116
        },
        "id": "uskaZ29bf-bG",
        "outputId": "8af6f0f8-8da4-4319-a52d-c504d189d125"
      },
      "execution_count": 11,
      "outputs": [
        {
          "output_type": "execute_result",
          "data": {
            "text/plain": [
              "                      query_id  \\\n",
              "0  2549968784_39bfbe44f9.jpg#2   \n",
              "\n",
              "                                          query_text  \\\n",
              "0  A young child is wearing blue goggles and sitt...   \n",
              "\n",
              "                                      lem_query_text  \n",
              "0  a young child be wear blue goggle and sit in a...  "
            ],
            "text/html": [
              "\n",
              "  <div id=\"df-1c3bc404-5feb-4138-8870-588f1ece7e25\" class=\"colab-df-container\">\n",
              "    <div>\n",
              "<style scoped>\n",
              "    .dataframe tbody tr th:only-of-type {\n",
              "        vertical-align: middle;\n",
              "    }\n",
              "\n",
              "    .dataframe tbody tr th {\n",
              "        vertical-align: top;\n",
              "    }\n",
              "\n",
              "    .dataframe thead th {\n",
              "        text-align: right;\n",
              "    }\n",
              "</style>\n",
              "<table border=\"1\" class=\"dataframe\">\n",
              "  <thead>\n",
              "    <tr style=\"text-align: right;\">\n",
              "      <th></th>\n",
              "      <th>query_id</th>\n",
              "      <th>query_text</th>\n",
              "      <th>lem_query_text</th>\n",
              "    </tr>\n",
              "  </thead>\n",
              "  <tbody>\n",
              "    <tr>\n",
              "      <th>0</th>\n",
              "      <td>2549968784_39bfbe44f9.jpg#2</td>\n",
              "      <td>A young child is wearing blue goggles and sitt...</td>\n",
              "      <td>a young child be wear blue goggle and sit in a...</td>\n",
              "    </tr>\n",
              "  </tbody>\n",
              "</table>\n",
              "</div>\n",
              "    <div class=\"colab-df-buttons\">\n",
              "\n",
              "  <div class=\"colab-df-container\">\n",
              "    <button class=\"colab-df-convert\" onclick=\"convertToInteractive('df-1c3bc404-5feb-4138-8870-588f1ece7e25')\"\n",
              "            title=\"Convert this dataframe to an interactive table.\"\n",
              "            style=\"display:none;\">\n",
              "\n",
              "  <svg xmlns=\"http://www.w3.org/2000/svg\" height=\"24px\" viewBox=\"0 -960 960 960\">\n",
              "    <path d=\"M120-120v-720h720v720H120Zm60-500h600v-160H180v160Zm220 220h160v-160H400v160Zm0 220h160v-160H400v160ZM180-400h160v-160H180v160Zm440 0h160v-160H620v160ZM180-180h160v-160H180v160Zm440 0h160v-160H620v160Z\"/>\n",
              "  </svg>\n",
              "    </button>\n",
              "\n",
              "  <style>\n",
              "    .colab-df-container {\n",
              "      display:flex;\n",
              "      gap: 12px;\n",
              "    }\n",
              "\n",
              "    .colab-df-convert {\n",
              "      background-color: #E8F0FE;\n",
              "      border: none;\n",
              "      border-radius: 50%;\n",
              "      cursor: pointer;\n",
              "      display: none;\n",
              "      fill: #1967D2;\n",
              "      height: 32px;\n",
              "      padding: 0 0 0 0;\n",
              "      width: 32px;\n",
              "    }\n",
              "\n",
              "    .colab-df-convert:hover {\n",
              "      background-color: #E2EBFA;\n",
              "      box-shadow: 0px 1px 2px rgba(60, 64, 67, 0.3), 0px 1px 3px 1px rgba(60, 64, 67, 0.15);\n",
              "      fill: #174EA6;\n",
              "    }\n",
              "\n",
              "    .colab-df-buttons div {\n",
              "      margin-bottom: 4px;\n",
              "    }\n",
              "\n",
              "    [theme=dark] .colab-df-convert {\n",
              "      background-color: #3B4455;\n",
              "      fill: #D2E3FC;\n",
              "    }\n",
              "\n",
              "    [theme=dark] .colab-df-convert:hover {\n",
              "      background-color: #434B5C;\n",
              "      box-shadow: 0px 1px 3px 1px rgba(0, 0, 0, 0.15);\n",
              "      filter: drop-shadow(0px 1px 2px rgba(0, 0, 0, 0.3));\n",
              "      fill: #FFFFFF;\n",
              "    }\n",
              "  </style>\n",
              "\n",
              "    <script>\n",
              "      const buttonEl =\n",
              "        document.querySelector('#df-1c3bc404-5feb-4138-8870-588f1ece7e25 button.colab-df-convert');\n",
              "      buttonEl.style.display =\n",
              "        google.colab.kernel.accessAllowed ? 'block' : 'none';\n",
              "\n",
              "      async function convertToInteractive(key) {\n",
              "        const element = document.querySelector('#df-1c3bc404-5feb-4138-8870-588f1ece7e25');\n",
              "        const dataTable =\n",
              "          await google.colab.kernel.invokeFunction('convertToInteractive',\n",
              "                                                    [key], {});\n",
              "        if (!dataTable) return;\n",
              "\n",
              "        const docLinkHtml = 'Like what you see? Visit the ' +\n",
              "          '<a target=\"_blank\" href=https://colab.research.google.com/notebooks/data_table.ipynb>data table notebook</a>'\n",
              "          + ' to learn more about interactive tables.';\n",
              "        element.innerHTML = '';\n",
              "        dataTable['output_type'] = 'display_data';\n",
              "        await google.colab.output.renderOutput(dataTable, element);\n",
              "        const docLink = document.createElement('div');\n",
              "        docLink.innerHTML = docLinkHtml;\n",
              "        element.appendChild(docLink);\n",
              "      }\n",
              "    </script>\n",
              "  </div>\n",
              "\n",
              "    </div>\n",
              "  </div>\n"
            ],
            "application/vnd.google.colaboratory.intrinsic+json": {
              "type": "dataframe",
              "variable_name": "queries_df",
              "summary": "{\n  \"name\": \"queries_df\",\n  \"rows\": 977,\n  \"fields\": [\n    {\n      \"column\": \"query_id\",\n      \"properties\": {\n        \"dtype\": \"string\",\n        \"num_unique_values\": 977,\n        \"samples\": [\n          \"300922408_05a4f9938c.jpg#2\",\n          \"2309860995_c2e2a0feeb.jpg#2\",\n          \"3500136982_bf7a85531e.jpg#2\"\n        ],\n        \"semantic_type\": \"\",\n        \"description\": \"\"\n      }\n    },\n    {\n      \"column\": \"query_text\",\n      \"properties\": {\n        \"dtype\": \"string\",\n        \"num_unique_values\": 977,\n        \"samples\": [\n          \"A man kneels in the wet sand at a beach near a dog .\",\n          \"A woman wears sunglasses and a black coat as she walks .\",\n          \"A line of rollerbladers crouch down aerodynamically\"\n        ],\n        \"semantic_type\": \"\",\n        \"description\": \"\"\n      }\n    },\n    {\n      \"column\": \"lem_query_text\",\n      \"properties\": {\n        \"dtype\": \"string\",\n        \"num_unique_values\": 977,\n        \"samples\": [\n          \"a man kneel in the wet sand at a beach near a dog .\",\n          \"a woman wear sunglass and a black coat as she walk .\",\n          \"a line of rollerblader crouch down aerodynamically\"\n        ],\n        \"semantic_type\": \"\",\n        \"description\": \"\"\n      }\n    }\n  ]\n}"
            }
          },
          "metadata": {},
          "execution_count": 11
        }
      ]
    },
    {
      "cell_type": "markdown",
      "metadata": {
        "id": "X7yl6Z6yICYX"
      },
      "source": [
        "В файле **ExpertAnnotations.tsv** содержатся данные по соответствию изображения и описания, полученные в результате опроса экспертов.\n",
        "\n",
        "Колоноки:\n",
        "- image - Имя файла изображения.\n",
        "- query_id - Идентификатор описания.\n",
        "- exp_1, exp_2, exp_3 — оценки трёх экспертов.\n",
        "\n",
        "Эксперты ставят оценки по шкале от 1 до 4:\n",
        "- 1 — изображение и запрос совершенно не соответствуют друг другу,\n",
        "- 2 — запрос содержит элементы описания изображения, но в целом запрос тексту не соответствует,\n",
        "- 3 — запрос и текст соответствуют с точностью до некоторых деталей,\n",
        "- 4 — запрос и текст соответствуют полностью."
      ]
    },
    {
      "cell_type": "code",
      "execution_count": 12,
      "metadata": {
        "colab": {
          "base_uri": "https://localhost:8080/",
          "height": 131
        },
        "id": "qn6O2IatEp_g",
        "outputId": "c36a317b-5e73-47fb-ebe2-d0c134048712"
      },
      "outputs": [
        {
          "output_type": "execute_result",
          "data": {
            "text/plain": [
              "                       image                     query_id  exp_1  exp_2  exp_3\n",
              "0  1056338697_4f7d7ce270.jpg  2549968784_39bfbe44f9.jpg#2      1      1      1\n",
              "1  1056338697_4f7d7ce270.jpg  2718495608_d8533e3ac5.jpg#2      1      1      2"
            ],
            "text/html": [
              "\n",
              "  <div id=\"df-a366f78c-a2f3-4c6d-8031-9fdecb3a3c23\" class=\"colab-df-container\">\n",
              "    <div>\n",
              "<style scoped>\n",
              "    .dataframe tbody tr th:only-of-type {\n",
              "        vertical-align: middle;\n",
              "    }\n",
              "\n",
              "    .dataframe tbody tr th {\n",
              "        vertical-align: top;\n",
              "    }\n",
              "\n",
              "    .dataframe thead th {\n",
              "        text-align: right;\n",
              "    }\n",
              "</style>\n",
              "<table border=\"1\" class=\"dataframe\">\n",
              "  <thead>\n",
              "    <tr style=\"text-align: right;\">\n",
              "      <th></th>\n",
              "      <th>image</th>\n",
              "      <th>query_id</th>\n",
              "      <th>exp_1</th>\n",
              "      <th>exp_2</th>\n",
              "      <th>exp_3</th>\n",
              "    </tr>\n",
              "  </thead>\n",
              "  <tbody>\n",
              "    <tr>\n",
              "      <th>0</th>\n",
              "      <td>1056338697_4f7d7ce270.jpg</td>\n",
              "      <td>2549968784_39bfbe44f9.jpg#2</td>\n",
              "      <td>1</td>\n",
              "      <td>1</td>\n",
              "      <td>1</td>\n",
              "    </tr>\n",
              "    <tr>\n",
              "      <th>1</th>\n",
              "      <td>1056338697_4f7d7ce270.jpg</td>\n",
              "      <td>2718495608_d8533e3ac5.jpg#2</td>\n",
              "      <td>1</td>\n",
              "      <td>1</td>\n",
              "      <td>2</td>\n",
              "    </tr>\n",
              "  </tbody>\n",
              "</table>\n",
              "</div>\n",
              "    <div class=\"colab-df-buttons\">\n",
              "\n",
              "  <div class=\"colab-df-container\">\n",
              "    <button class=\"colab-df-convert\" onclick=\"convertToInteractive('df-a366f78c-a2f3-4c6d-8031-9fdecb3a3c23')\"\n",
              "            title=\"Convert this dataframe to an interactive table.\"\n",
              "            style=\"display:none;\">\n",
              "\n",
              "  <svg xmlns=\"http://www.w3.org/2000/svg\" height=\"24px\" viewBox=\"0 -960 960 960\">\n",
              "    <path d=\"M120-120v-720h720v720H120Zm60-500h600v-160H180v160Zm220 220h160v-160H400v160Zm0 220h160v-160H400v160ZM180-400h160v-160H180v160Zm440 0h160v-160H620v160ZM180-180h160v-160H180v160Zm440 0h160v-160H620v160Z\"/>\n",
              "  </svg>\n",
              "    </button>\n",
              "\n",
              "  <style>\n",
              "    .colab-df-container {\n",
              "      display:flex;\n",
              "      gap: 12px;\n",
              "    }\n",
              "\n",
              "    .colab-df-convert {\n",
              "      background-color: #E8F0FE;\n",
              "      border: none;\n",
              "      border-radius: 50%;\n",
              "      cursor: pointer;\n",
              "      display: none;\n",
              "      fill: #1967D2;\n",
              "      height: 32px;\n",
              "      padding: 0 0 0 0;\n",
              "      width: 32px;\n",
              "    }\n",
              "\n",
              "    .colab-df-convert:hover {\n",
              "      background-color: #E2EBFA;\n",
              "      box-shadow: 0px 1px 2px rgba(60, 64, 67, 0.3), 0px 1px 3px 1px rgba(60, 64, 67, 0.15);\n",
              "      fill: #174EA6;\n",
              "    }\n",
              "\n",
              "    .colab-df-buttons div {\n",
              "      margin-bottom: 4px;\n",
              "    }\n",
              "\n",
              "    [theme=dark] .colab-df-convert {\n",
              "      background-color: #3B4455;\n",
              "      fill: #D2E3FC;\n",
              "    }\n",
              "\n",
              "    [theme=dark] .colab-df-convert:hover {\n",
              "      background-color: #434B5C;\n",
              "      box-shadow: 0px 1px 3px 1px rgba(0, 0, 0, 0.15);\n",
              "      filter: drop-shadow(0px 1px 2px rgba(0, 0, 0, 0.3));\n",
              "      fill: #FFFFFF;\n",
              "    }\n",
              "  </style>\n",
              "\n",
              "    <script>\n",
              "      const buttonEl =\n",
              "        document.querySelector('#df-a366f78c-a2f3-4c6d-8031-9fdecb3a3c23 button.colab-df-convert');\n",
              "      buttonEl.style.display =\n",
              "        google.colab.kernel.accessAllowed ? 'block' : 'none';\n",
              "\n",
              "      async function convertToInteractive(key) {\n",
              "        const element = document.querySelector('#df-a366f78c-a2f3-4c6d-8031-9fdecb3a3c23');\n",
              "        const dataTable =\n",
              "          await google.colab.kernel.invokeFunction('convertToInteractive',\n",
              "                                                    [key], {});\n",
              "        if (!dataTable) return;\n",
              "\n",
              "        const docLinkHtml = 'Like what you see? Visit the ' +\n",
              "          '<a target=\"_blank\" href=https://colab.research.google.com/notebooks/data_table.ipynb>data table notebook</a>'\n",
              "          + ' to learn more about interactive tables.';\n",
              "        element.innerHTML = '';\n",
              "        dataTable['output_type'] = 'display_data';\n",
              "        await google.colab.output.renderOutput(dataTable, element);\n",
              "        const docLink = document.createElement('div');\n",
              "        docLink.innerHTML = docLinkHtml;\n",
              "        element.appendChild(docLink);\n",
              "      }\n",
              "    </script>\n",
              "  </div>\n",
              "\n",
              "\n",
              "<div id=\"df-5143d44c-0092-40c7-acb7-600eaad82e26\">\n",
              "  <button class=\"colab-df-quickchart\" onclick=\"quickchart('df-5143d44c-0092-40c7-acb7-600eaad82e26')\"\n",
              "            title=\"Suggest charts\"\n",
              "            style=\"display:none;\">\n",
              "\n",
              "<svg xmlns=\"http://www.w3.org/2000/svg\" height=\"24px\"viewBox=\"0 0 24 24\"\n",
              "     width=\"24px\">\n",
              "    <g>\n",
              "        <path d=\"M19 3H5c-1.1 0-2 .9-2 2v14c0 1.1.9 2 2 2h14c1.1 0 2-.9 2-2V5c0-1.1-.9-2-2-2zM9 17H7v-7h2v7zm4 0h-2V7h2v10zm4 0h-2v-4h2v4z\"/>\n",
              "    </g>\n",
              "</svg>\n",
              "  </button>\n",
              "\n",
              "<style>\n",
              "  .colab-df-quickchart {\n",
              "      --bg-color: #E8F0FE;\n",
              "      --fill-color: #1967D2;\n",
              "      --hover-bg-color: #E2EBFA;\n",
              "      --hover-fill-color: #174EA6;\n",
              "      --disabled-fill-color: #AAA;\n",
              "      --disabled-bg-color: #DDD;\n",
              "  }\n",
              "\n",
              "  [theme=dark] .colab-df-quickchart {\n",
              "      --bg-color: #3B4455;\n",
              "      --fill-color: #D2E3FC;\n",
              "      --hover-bg-color: #434B5C;\n",
              "      --hover-fill-color: #FFFFFF;\n",
              "      --disabled-bg-color: #3B4455;\n",
              "      --disabled-fill-color: #666;\n",
              "  }\n",
              "\n",
              "  .colab-df-quickchart {\n",
              "    background-color: var(--bg-color);\n",
              "    border: none;\n",
              "    border-radius: 50%;\n",
              "    cursor: pointer;\n",
              "    display: none;\n",
              "    fill: var(--fill-color);\n",
              "    height: 32px;\n",
              "    padding: 0;\n",
              "    width: 32px;\n",
              "  }\n",
              "\n",
              "  .colab-df-quickchart:hover {\n",
              "    background-color: var(--hover-bg-color);\n",
              "    box-shadow: 0 1px 2px rgba(60, 64, 67, 0.3), 0 1px 3px 1px rgba(60, 64, 67, 0.15);\n",
              "    fill: var(--button-hover-fill-color);\n",
              "  }\n",
              "\n",
              "  .colab-df-quickchart-complete:disabled,\n",
              "  .colab-df-quickchart-complete:disabled:hover {\n",
              "    background-color: var(--disabled-bg-color);\n",
              "    fill: var(--disabled-fill-color);\n",
              "    box-shadow: none;\n",
              "  }\n",
              "\n",
              "  .colab-df-spinner {\n",
              "    border: 2px solid var(--fill-color);\n",
              "    border-color: transparent;\n",
              "    border-bottom-color: var(--fill-color);\n",
              "    animation:\n",
              "      spin 1s steps(1) infinite;\n",
              "  }\n",
              "\n",
              "  @keyframes spin {\n",
              "    0% {\n",
              "      border-color: transparent;\n",
              "      border-bottom-color: var(--fill-color);\n",
              "      border-left-color: var(--fill-color);\n",
              "    }\n",
              "    20% {\n",
              "      border-color: transparent;\n",
              "      border-left-color: var(--fill-color);\n",
              "      border-top-color: var(--fill-color);\n",
              "    }\n",
              "    30% {\n",
              "      border-color: transparent;\n",
              "      border-left-color: var(--fill-color);\n",
              "      border-top-color: var(--fill-color);\n",
              "      border-right-color: var(--fill-color);\n",
              "    }\n",
              "    40% {\n",
              "      border-color: transparent;\n",
              "      border-right-color: var(--fill-color);\n",
              "      border-top-color: var(--fill-color);\n",
              "    }\n",
              "    60% {\n",
              "      border-color: transparent;\n",
              "      border-right-color: var(--fill-color);\n",
              "    }\n",
              "    80% {\n",
              "      border-color: transparent;\n",
              "      border-right-color: var(--fill-color);\n",
              "      border-bottom-color: var(--fill-color);\n",
              "    }\n",
              "    90% {\n",
              "      border-color: transparent;\n",
              "      border-bottom-color: var(--fill-color);\n",
              "    }\n",
              "  }\n",
              "</style>\n",
              "\n",
              "  <script>\n",
              "    async function quickchart(key) {\n",
              "      const quickchartButtonEl =\n",
              "        document.querySelector('#' + key + ' button');\n",
              "      quickchartButtonEl.disabled = true;  // To prevent multiple clicks.\n",
              "      quickchartButtonEl.classList.add('colab-df-spinner');\n",
              "      try {\n",
              "        const charts = await google.colab.kernel.invokeFunction(\n",
              "            'suggestCharts', [key], {});\n",
              "      } catch (error) {\n",
              "        console.error('Error during call to suggestCharts:', error);\n",
              "      }\n",
              "      quickchartButtonEl.classList.remove('colab-df-spinner');\n",
              "      quickchartButtonEl.classList.add('colab-df-quickchart-complete');\n",
              "    }\n",
              "    (() => {\n",
              "      let quickchartButtonEl =\n",
              "        document.querySelector('#df-5143d44c-0092-40c7-acb7-600eaad82e26 button');\n",
              "      quickchartButtonEl.style.display =\n",
              "        google.colab.kernel.accessAllowed ? 'block' : 'none';\n",
              "    })();\n",
              "  </script>\n",
              "</div>\n",
              "    </div>\n",
              "  </div>\n"
            ],
            "application/vnd.google.colaboratory.intrinsic+json": {
              "type": "dataframe",
              "variable_name": "expert_annotations",
              "summary": "{\n  \"name\": \"expert_annotations\",\n  \"rows\": 5822,\n  \"fields\": [\n    {\n      \"column\": \"image\",\n      \"properties\": {\n        \"dtype\": \"category\",\n        \"num_unique_values\": 1000,\n        \"samples\": [\n          \"3113322995_13781860f2.jpg\",\n          \"3484832904_08619300d9.jpg\",\n          \"3494394662_3edfd4a34c.jpg\"\n        ],\n        \"semantic_type\": \"\",\n        \"description\": \"\"\n      }\n    },\n    {\n      \"column\": \"query_id\",\n      \"properties\": {\n        \"dtype\": \"category\",\n        \"num_unique_values\": 977,\n        \"samples\": [\n          \"300922408_05a4f9938c.jpg#2\",\n          \"2309860995_c2e2a0feeb.jpg#2\",\n          \"3500136982_bf7a85531e.jpg#2\"\n        ],\n        \"semantic_type\": \"\",\n        \"description\": \"\"\n      }\n    },\n    {\n      \"column\": \"exp_1\",\n      \"properties\": {\n        \"dtype\": \"number\",\n        \"std\": 0,\n        \"min\": 1,\n        \"max\": 4,\n        \"num_unique_values\": 4,\n        \"samples\": [\n          2,\n          4,\n          1\n        ],\n        \"semantic_type\": \"\",\n        \"description\": \"\"\n      }\n    },\n    {\n      \"column\": \"exp_2\",\n      \"properties\": {\n        \"dtype\": \"number\",\n        \"std\": 0,\n        \"min\": 1,\n        \"max\": 4,\n        \"num_unique_values\": 4,\n        \"samples\": [\n          2,\n          4,\n          1\n        ],\n        \"semantic_type\": \"\",\n        \"description\": \"\"\n      }\n    },\n    {\n      \"column\": \"exp_3\",\n      \"properties\": {\n        \"dtype\": \"number\",\n        \"std\": 0,\n        \"min\": 1,\n        \"max\": 4,\n        \"num_unique_values\": 4,\n        \"samples\": [\n          2,\n          4,\n          1\n        ],\n        \"semantic_type\": \"\",\n        \"description\": \"\"\n      }\n    }\n  ]\n}"
            }
          },
          "metadata": {},
          "execution_count": 12
        }
      ],
      "source": [
        "expert_annotations = pd.read_csv(DATA_PATH + 'ExpertAnnotations.tsv', sep='\\t', header=None)\n",
        "expert_annotations.columns = ['image', 'query_id', 'exp_1', 'exp_2', 'exp_3']\n",
        "expert_annotations.head(2)"
      ]
    },
    {
      "cell_type": "code",
      "execution_count": 13,
      "metadata": {
        "colab": {
          "base_uri": "https://localhost:8080/"
        },
        "id": "Inp9BUBqPpep",
        "outputId": "6042d907-0f2b-4133-8e88-766ead22b1be"
      },
      "outputs": [
        {
          "output_type": "stream",
          "name": "stdout",
          "text": [
            "<class 'pandas.core.frame.DataFrame'>\n",
            "RangeIndex: 5822 entries, 0 to 5821\n",
            "Data columns (total 5 columns):\n",
            " #   Column    Non-Null Count  Dtype \n",
            "---  ------    --------------  ----- \n",
            " 0   image     5822 non-null   object\n",
            " 1   query_id  5822 non-null   object\n",
            " 2   exp_1     5822 non-null   int64 \n",
            " 3   exp_2     5822 non-null   int64 \n",
            " 4   exp_3     5822 non-null   int64 \n",
            "dtypes: int64(3), object(2)\n",
            "memory usage: 227.5+ KB\n"
          ]
        }
      ],
      "source": [
        "expert_annotations.info()"
      ]
    },
    {
      "cell_type": "markdown",
      "metadata": {
        "id": "Gqk5fQPNvifP"
      },
      "source": [
        "<img src=\"https://emojigraph.org/media/apple/check-mark-button_2705.png\" align=left width=33, heigth=33>\n",
        "<div class=\"alert alert-success\">\n",
        " 👍 </div>"
      ]
    },
    {
      "cell_type": "markdown",
      "metadata": {
        "id": "S0hCbxiLGzhE"
      },
      "source": [
        "В файле **CrowdAnnotations.tsv** — данные по соответствию изображения и описания, полученные с помощью краудсорсинга.\n",
        "\n",
        "Колоноки:\n",
        "- image - имя файла изображения;\n",
        "- query_id - идентификатор описания;\n",
        "- conf_rate - доля людей, подтвердивших, что описание соответствует изображению;\n",
        "- confirm - количество человек, подтвердивших, что описание соответствует изображению;\n",
        "- not_confirm - количество человек, подтвердивших, что описание не соответствует изображению."
      ]
    },
    {
      "cell_type": "code",
      "execution_count": 14,
      "metadata": {
        "colab": {
          "base_uri": "https://localhost:8080/",
          "height": 131
        },
        "id": "EtVEZR8ZFMOy",
        "outputId": "f43f5dcc-f986-4198-8e3a-f2c57bb708cb"
      },
      "outputs": [
        {
          "output_type": "execute_result",
          "data": {
            "text/plain": [
              "                       image                     query_id  conf_rate  confirm  \\\n",
              "0  1056338697_4f7d7ce270.jpg  1056338697_4f7d7ce270.jpg#2        1.0        3   \n",
              "1  1056338697_4f7d7ce270.jpg   114051287_dd85625a04.jpg#2        0.0        0   \n",
              "\n",
              "   not_confirm  \n",
              "0            0  \n",
              "1            3  "
            ],
            "text/html": [
              "\n",
              "  <div id=\"df-d1e2e1c5-8793-4e25-8452-ee4c5cb64ed2\" class=\"colab-df-container\">\n",
              "    <div>\n",
              "<style scoped>\n",
              "    .dataframe tbody tr th:only-of-type {\n",
              "        vertical-align: middle;\n",
              "    }\n",
              "\n",
              "    .dataframe tbody tr th {\n",
              "        vertical-align: top;\n",
              "    }\n",
              "\n",
              "    .dataframe thead th {\n",
              "        text-align: right;\n",
              "    }\n",
              "</style>\n",
              "<table border=\"1\" class=\"dataframe\">\n",
              "  <thead>\n",
              "    <tr style=\"text-align: right;\">\n",
              "      <th></th>\n",
              "      <th>image</th>\n",
              "      <th>query_id</th>\n",
              "      <th>conf_rate</th>\n",
              "      <th>confirm</th>\n",
              "      <th>not_confirm</th>\n",
              "    </tr>\n",
              "  </thead>\n",
              "  <tbody>\n",
              "    <tr>\n",
              "      <th>0</th>\n",
              "      <td>1056338697_4f7d7ce270.jpg</td>\n",
              "      <td>1056338697_4f7d7ce270.jpg#2</td>\n",
              "      <td>1.0</td>\n",
              "      <td>3</td>\n",
              "      <td>0</td>\n",
              "    </tr>\n",
              "    <tr>\n",
              "      <th>1</th>\n",
              "      <td>1056338697_4f7d7ce270.jpg</td>\n",
              "      <td>114051287_dd85625a04.jpg#2</td>\n",
              "      <td>0.0</td>\n",
              "      <td>0</td>\n",
              "      <td>3</td>\n",
              "    </tr>\n",
              "  </tbody>\n",
              "</table>\n",
              "</div>\n",
              "    <div class=\"colab-df-buttons\">\n",
              "\n",
              "  <div class=\"colab-df-container\">\n",
              "    <button class=\"colab-df-convert\" onclick=\"convertToInteractive('df-d1e2e1c5-8793-4e25-8452-ee4c5cb64ed2')\"\n",
              "            title=\"Convert this dataframe to an interactive table.\"\n",
              "            style=\"display:none;\">\n",
              "\n",
              "  <svg xmlns=\"http://www.w3.org/2000/svg\" height=\"24px\" viewBox=\"0 -960 960 960\">\n",
              "    <path d=\"M120-120v-720h720v720H120Zm60-500h600v-160H180v160Zm220 220h160v-160H400v160Zm0 220h160v-160H400v160ZM180-400h160v-160H180v160Zm440 0h160v-160H620v160ZM180-180h160v-160H180v160Zm440 0h160v-160H620v160Z\"/>\n",
              "  </svg>\n",
              "    </button>\n",
              "\n",
              "  <style>\n",
              "    .colab-df-container {\n",
              "      display:flex;\n",
              "      gap: 12px;\n",
              "    }\n",
              "\n",
              "    .colab-df-convert {\n",
              "      background-color: #E8F0FE;\n",
              "      border: none;\n",
              "      border-radius: 50%;\n",
              "      cursor: pointer;\n",
              "      display: none;\n",
              "      fill: #1967D2;\n",
              "      height: 32px;\n",
              "      padding: 0 0 0 0;\n",
              "      width: 32px;\n",
              "    }\n",
              "\n",
              "    .colab-df-convert:hover {\n",
              "      background-color: #E2EBFA;\n",
              "      box-shadow: 0px 1px 2px rgba(60, 64, 67, 0.3), 0px 1px 3px 1px rgba(60, 64, 67, 0.15);\n",
              "      fill: #174EA6;\n",
              "    }\n",
              "\n",
              "    .colab-df-buttons div {\n",
              "      margin-bottom: 4px;\n",
              "    }\n",
              "\n",
              "    [theme=dark] .colab-df-convert {\n",
              "      background-color: #3B4455;\n",
              "      fill: #D2E3FC;\n",
              "    }\n",
              "\n",
              "    [theme=dark] .colab-df-convert:hover {\n",
              "      background-color: #434B5C;\n",
              "      box-shadow: 0px 1px 3px 1px rgba(0, 0, 0, 0.15);\n",
              "      filter: drop-shadow(0px 1px 2px rgba(0, 0, 0, 0.3));\n",
              "      fill: #FFFFFF;\n",
              "    }\n",
              "  </style>\n",
              "\n",
              "    <script>\n",
              "      const buttonEl =\n",
              "        document.querySelector('#df-d1e2e1c5-8793-4e25-8452-ee4c5cb64ed2 button.colab-df-convert');\n",
              "      buttonEl.style.display =\n",
              "        google.colab.kernel.accessAllowed ? 'block' : 'none';\n",
              "\n",
              "      async function convertToInteractive(key) {\n",
              "        const element = document.querySelector('#df-d1e2e1c5-8793-4e25-8452-ee4c5cb64ed2');\n",
              "        const dataTable =\n",
              "          await google.colab.kernel.invokeFunction('convertToInteractive',\n",
              "                                                    [key], {});\n",
              "        if (!dataTable) return;\n",
              "\n",
              "        const docLinkHtml = 'Like what you see? Visit the ' +\n",
              "          '<a target=\"_blank\" href=https://colab.research.google.com/notebooks/data_table.ipynb>data table notebook</a>'\n",
              "          + ' to learn more about interactive tables.';\n",
              "        element.innerHTML = '';\n",
              "        dataTable['output_type'] = 'display_data';\n",
              "        await google.colab.output.renderOutput(dataTable, element);\n",
              "        const docLink = document.createElement('div');\n",
              "        docLink.innerHTML = docLinkHtml;\n",
              "        element.appendChild(docLink);\n",
              "      }\n",
              "    </script>\n",
              "  </div>\n",
              "\n",
              "\n",
              "<div id=\"df-5737cd05-7e54-4afe-8ac9-178da0ef31cc\">\n",
              "  <button class=\"colab-df-quickchart\" onclick=\"quickchart('df-5737cd05-7e54-4afe-8ac9-178da0ef31cc')\"\n",
              "            title=\"Suggest charts\"\n",
              "            style=\"display:none;\">\n",
              "\n",
              "<svg xmlns=\"http://www.w3.org/2000/svg\" height=\"24px\"viewBox=\"0 0 24 24\"\n",
              "     width=\"24px\">\n",
              "    <g>\n",
              "        <path d=\"M19 3H5c-1.1 0-2 .9-2 2v14c0 1.1.9 2 2 2h14c1.1 0 2-.9 2-2V5c0-1.1-.9-2-2-2zM9 17H7v-7h2v7zm4 0h-2V7h2v10zm4 0h-2v-4h2v4z\"/>\n",
              "    </g>\n",
              "</svg>\n",
              "  </button>\n",
              "\n",
              "<style>\n",
              "  .colab-df-quickchart {\n",
              "      --bg-color: #E8F0FE;\n",
              "      --fill-color: #1967D2;\n",
              "      --hover-bg-color: #E2EBFA;\n",
              "      --hover-fill-color: #174EA6;\n",
              "      --disabled-fill-color: #AAA;\n",
              "      --disabled-bg-color: #DDD;\n",
              "  }\n",
              "\n",
              "  [theme=dark] .colab-df-quickchart {\n",
              "      --bg-color: #3B4455;\n",
              "      --fill-color: #D2E3FC;\n",
              "      --hover-bg-color: #434B5C;\n",
              "      --hover-fill-color: #FFFFFF;\n",
              "      --disabled-bg-color: #3B4455;\n",
              "      --disabled-fill-color: #666;\n",
              "  }\n",
              "\n",
              "  .colab-df-quickchart {\n",
              "    background-color: var(--bg-color);\n",
              "    border: none;\n",
              "    border-radius: 50%;\n",
              "    cursor: pointer;\n",
              "    display: none;\n",
              "    fill: var(--fill-color);\n",
              "    height: 32px;\n",
              "    padding: 0;\n",
              "    width: 32px;\n",
              "  }\n",
              "\n",
              "  .colab-df-quickchart:hover {\n",
              "    background-color: var(--hover-bg-color);\n",
              "    box-shadow: 0 1px 2px rgba(60, 64, 67, 0.3), 0 1px 3px 1px rgba(60, 64, 67, 0.15);\n",
              "    fill: var(--button-hover-fill-color);\n",
              "  }\n",
              "\n",
              "  .colab-df-quickchart-complete:disabled,\n",
              "  .colab-df-quickchart-complete:disabled:hover {\n",
              "    background-color: var(--disabled-bg-color);\n",
              "    fill: var(--disabled-fill-color);\n",
              "    box-shadow: none;\n",
              "  }\n",
              "\n",
              "  .colab-df-spinner {\n",
              "    border: 2px solid var(--fill-color);\n",
              "    border-color: transparent;\n",
              "    border-bottom-color: var(--fill-color);\n",
              "    animation:\n",
              "      spin 1s steps(1) infinite;\n",
              "  }\n",
              "\n",
              "  @keyframes spin {\n",
              "    0% {\n",
              "      border-color: transparent;\n",
              "      border-bottom-color: var(--fill-color);\n",
              "      border-left-color: var(--fill-color);\n",
              "    }\n",
              "    20% {\n",
              "      border-color: transparent;\n",
              "      border-left-color: var(--fill-color);\n",
              "      border-top-color: var(--fill-color);\n",
              "    }\n",
              "    30% {\n",
              "      border-color: transparent;\n",
              "      border-left-color: var(--fill-color);\n",
              "      border-top-color: var(--fill-color);\n",
              "      border-right-color: var(--fill-color);\n",
              "    }\n",
              "    40% {\n",
              "      border-color: transparent;\n",
              "      border-right-color: var(--fill-color);\n",
              "      border-top-color: var(--fill-color);\n",
              "    }\n",
              "    60% {\n",
              "      border-color: transparent;\n",
              "      border-right-color: var(--fill-color);\n",
              "    }\n",
              "    80% {\n",
              "      border-color: transparent;\n",
              "      border-right-color: var(--fill-color);\n",
              "      border-bottom-color: var(--fill-color);\n",
              "    }\n",
              "    90% {\n",
              "      border-color: transparent;\n",
              "      border-bottom-color: var(--fill-color);\n",
              "    }\n",
              "  }\n",
              "</style>\n",
              "\n",
              "  <script>\n",
              "    async function quickchart(key) {\n",
              "      const quickchartButtonEl =\n",
              "        document.querySelector('#' + key + ' button');\n",
              "      quickchartButtonEl.disabled = true;  // To prevent multiple clicks.\n",
              "      quickchartButtonEl.classList.add('colab-df-spinner');\n",
              "      try {\n",
              "        const charts = await google.colab.kernel.invokeFunction(\n",
              "            'suggestCharts', [key], {});\n",
              "      } catch (error) {\n",
              "        console.error('Error during call to suggestCharts:', error);\n",
              "      }\n",
              "      quickchartButtonEl.classList.remove('colab-df-spinner');\n",
              "      quickchartButtonEl.classList.add('colab-df-quickchart-complete');\n",
              "    }\n",
              "    (() => {\n",
              "      let quickchartButtonEl =\n",
              "        document.querySelector('#df-5737cd05-7e54-4afe-8ac9-178da0ef31cc button');\n",
              "      quickchartButtonEl.style.display =\n",
              "        google.colab.kernel.accessAllowed ? 'block' : 'none';\n",
              "    })();\n",
              "  </script>\n",
              "</div>\n",
              "    </div>\n",
              "  </div>\n"
            ],
            "application/vnd.google.colaboratory.intrinsic+json": {
              "type": "dataframe",
              "variable_name": "crowd_annotations",
              "summary": "{\n  \"name\": \"crowd_annotations\",\n  \"rows\": 47830,\n  \"fields\": [\n    {\n      \"column\": \"image\",\n      \"properties\": {\n        \"dtype\": \"category\",\n        \"num_unique_values\": 1000,\n        \"samples\": [\n          \"3113322995_13781860f2.jpg\",\n          \"3484832904_08619300d9.jpg\",\n          \"3494394662_3edfd4a34c.jpg\"\n        ],\n        \"semantic_type\": \"\",\n        \"description\": \"\"\n      }\n    },\n    {\n      \"column\": \"query_id\",\n      \"properties\": {\n        \"dtype\": \"category\",\n        \"num_unique_values\": 1000,\n        \"samples\": [\n          \"3365783912_e12c3510d8.jpg#2\",\n          \"2393264648_a280744f97.jpg#2\",\n          \"2926595608_69b22be8d4.jpg#2\"\n        ],\n        \"semantic_type\": \"\",\n        \"description\": \"\"\n      }\n    },\n    {\n      \"column\": \"conf_rate\",\n      \"properties\": {\n        \"dtype\": \"number\",\n        \"std\": 0.2075317553784419,\n        \"min\": 0.0,\n        \"max\": 1.0,\n        \"num_unique_values\": 12,\n        \"samples\": [\n          0.166666666666667,\n          0.75,\n          1.0\n        ],\n        \"semantic_type\": \"\",\n        \"description\": \"\"\n      }\n    },\n    {\n      \"column\": \"confirm\",\n      \"properties\": {\n        \"dtype\": \"number\",\n        \"std\": 0,\n        \"min\": 0,\n        \"max\": 5,\n        \"num_unique_values\": 6,\n        \"samples\": [\n          3,\n          0,\n          5\n        ],\n        \"semantic_type\": \"\",\n        \"description\": \"\"\n      }\n    },\n    {\n      \"column\": \"not_confirm\",\n      \"properties\": {\n        \"dtype\": \"number\",\n        \"std\": 0,\n        \"min\": 0,\n        \"max\": 6,\n        \"num_unique_values\": 7,\n        \"samples\": [\n          0,\n          3,\n          5\n        ],\n        \"semantic_type\": \"\",\n        \"description\": \"\"\n      }\n    }\n  ]\n}"
            }
          },
          "metadata": {},
          "execution_count": 14
        }
      ],
      "source": [
        "crowd_annotations = pd.read_csv(DATA_PATH + 'CrowdAnnotations.tsv', sep='\\t', header=None)\n",
        "crowd_annotations.columns = ['image', 'query_id', 'conf_rate', 'confirm', 'not_confirm']\n",
        "crowd_annotations.head(2)"
      ]
    },
    {
      "cell_type": "code",
      "execution_count": 15,
      "metadata": {
        "colab": {
          "base_uri": "https://localhost:8080/"
        },
        "id": "A_2lkwKbHx7k",
        "outputId": "63caf8b4-e2c0-4626-82ac-2aee1db401f3"
      },
      "outputs": [
        {
          "output_type": "stream",
          "name": "stdout",
          "text": [
            "<class 'pandas.core.frame.DataFrame'>\n",
            "RangeIndex: 47830 entries, 0 to 47829\n",
            "Data columns (total 5 columns):\n",
            " #   Column       Non-Null Count  Dtype  \n",
            "---  ------       --------------  -----  \n",
            " 0   image        47830 non-null  object \n",
            " 1   query_id     47830 non-null  object \n",
            " 2   conf_rate    47830 non-null  float64\n",
            " 3   confirm      47830 non-null  int64  \n",
            " 4   not_confirm  47830 non-null  int64  \n",
            "dtypes: float64(1), int64(2), object(2)\n",
            "memory usage: 1.8+ MB\n"
          ]
        }
      ],
      "source": [
        "crowd_annotations.info()"
      ]
    },
    {
      "cell_type": "markdown",
      "metadata": {
        "id": "WagaBL5A5gRt"
      },
      "source": [
        "Пропусков нет."
      ]
    },
    {
      "cell_type": "markdown",
      "metadata": {
        "id": "VP-LOQqGvifQ"
      },
      "source": [
        "<img src=\"https://emojigraph.org/media/apple/check-mark-button_2705.png\" align=left width=33, heigth=33>\n",
        "<div class=\"alert alert-success\">\n",
        " 👍 </div>"
      ]
    },
    {
      "cell_type": "markdown",
      "metadata": {
        "id": "FWRbgbqBGT2A"
      },
      "source": [
        "В файле **test_queries.csv** находится информация, необходимая для тестирования:\n",
        "- идентификатор запроса, текст запроса и релевантное изображение;\n",
        "- для одной картинки может быть доступно до 5 описаний;\n",
        "- идентификатор описания имеет формат <имя файла изображения>#<порядковый номер описания>."
      ]
    },
    {
      "cell_type": "code",
      "execution_count": 16,
      "metadata": {
        "colab": {
          "base_uri": "https://localhost:8080/",
          "height": 164
        },
        "id": "mewncY9mF-jU",
        "outputId": "7eb51d39-b989-42aa-a365-211c1822cbdc"
      },
      "outputs": [
        {
          "output_type": "execute_result",
          "data": {
            "text/plain": [
              "                      query_id  \\\n",
              "0  1177994172_10d143cb8d.jpg#0   \n",
              "1  1177994172_10d143cb8d.jpg#1   \n",
              "\n",
              "                                          query_text  \\\n",
              "0  Two blonde boys , one in a camouflage shirt an...   \n",
              "1  Two boys are squirting water guns at each other .   \n",
              "\n",
              "                       image  \n",
              "0  1177994172_10d143cb8d.jpg  \n",
              "1  1177994172_10d143cb8d.jpg  "
            ],
            "text/html": [
              "\n",
              "  <div id=\"df-bd62f027-1223-4622-85e7-59da3b843b25\" class=\"colab-df-container\">\n",
              "    <div>\n",
              "<style scoped>\n",
              "    .dataframe tbody tr th:only-of-type {\n",
              "        vertical-align: middle;\n",
              "    }\n",
              "\n",
              "    .dataframe tbody tr th {\n",
              "        vertical-align: top;\n",
              "    }\n",
              "\n",
              "    .dataframe thead th {\n",
              "        text-align: right;\n",
              "    }\n",
              "</style>\n",
              "<table border=\"1\" class=\"dataframe\">\n",
              "  <thead>\n",
              "    <tr style=\"text-align: right;\">\n",
              "      <th></th>\n",
              "      <th>query_id</th>\n",
              "      <th>query_text</th>\n",
              "      <th>image</th>\n",
              "    </tr>\n",
              "  </thead>\n",
              "  <tbody>\n",
              "    <tr>\n",
              "      <th>0</th>\n",
              "      <td>1177994172_10d143cb8d.jpg#0</td>\n",
              "      <td>Two blonde boys , one in a camouflage shirt an...</td>\n",
              "      <td>1177994172_10d143cb8d.jpg</td>\n",
              "    </tr>\n",
              "    <tr>\n",
              "      <th>1</th>\n",
              "      <td>1177994172_10d143cb8d.jpg#1</td>\n",
              "      <td>Two boys are squirting water guns at each other .</td>\n",
              "      <td>1177994172_10d143cb8d.jpg</td>\n",
              "    </tr>\n",
              "  </tbody>\n",
              "</table>\n",
              "</div>\n",
              "    <div class=\"colab-df-buttons\">\n",
              "\n",
              "  <div class=\"colab-df-container\">\n",
              "    <button class=\"colab-df-convert\" onclick=\"convertToInteractive('df-bd62f027-1223-4622-85e7-59da3b843b25')\"\n",
              "            title=\"Convert this dataframe to an interactive table.\"\n",
              "            style=\"display:none;\">\n",
              "\n",
              "  <svg xmlns=\"http://www.w3.org/2000/svg\" height=\"24px\" viewBox=\"0 -960 960 960\">\n",
              "    <path d=\"M120-120v-720h720v720H120Zm60-500h600v-160H180v160Zm220 220h160v-160H400v160Zm0 220h160v-160H400v160ZM180-400h160v-160H180v160Zm440 0h160v-160H620v160ZM180-180h160v-160H180v160Zm440 0h160v-160H620v160Z\"/>\n",
              "  </svg>\n",
              "    </button>\n",
              "\n",
              "  <style>\n",
              "    .colab-df-container {\n",
              "      display:flex;\n",
              "      gap: 12px;\n",
              "    }\n",
              "\n",
              "    .colab-df-convert {\n",
              "      background-color: #E8F0FE;\n",
              "      border: none;\n",
              "      border-radius: 50%;\n",
              "      cursor: pointer;\n",
              "      display: none;\n",
              "      fill: #1967D2;\n",
              "      height: 32px;\n",
              "      padding: 0 0 0 0;\n",
              "      width: 32px;\n",
              "    }\n",
              "\n",
              "    .colab-df-convert:hover {\n",
              "      background-color: #E2EBFA;\n",
              "      box-shadow: 0px 1px 2px rgba(60, 64, 67, 0.3), 0px 1px 3px 1px rgba(60, 64, 67, 0.15);\n",
              "      fill: #174EA6;\n",
              "    }\n",
              "\n",
              "    .colab-df-buttons div {\n",
              "      margin-bottom: 4px;\n",
              "    }\n",
              "\n",
              "    [theme=dark] .colab-df-convert {\n",
              "      background-color: #3B4455;\n",
              "      fill: #D2E3FC;\n",
              "    }\n",
              "\n",
              "    [theme=dark] .colab-df-convert:hover {\n",
              "      background-color: #434B5C;\n",
              "      box-shadow: 0px 1px 3px 1px rgba(0, 0, 0, 0.15);\n",
              "      filter: drop-shadow(0px 1px 2px rgba(0, 0, 0, 0.3));\n",
              "      fill: #FFFFFF;\n",
              "    }\n",
              "  </style>\n",
              "\n",
              "    <script>\n",
              "      const buttonEl =\n",
              "        document.querySelector('#df-bd62f027-1223-4622-85e7-59da3b843b25 button.colab-df-convert');\n",
              "      buttonEl.style.display =\n",
              "        google.colab.kernel.accessAllowed ? 'block' : 'none';\n",
              "\n",
              "      async function convertToInteractive(key) {\n",
              "        const element = document.querySelector('#df-bd62f027-1223-4622-85e7-59da3b843b25');\n",
              "        const dataTable =\n",
              "          await google.colab.kernel.invokeFunction('convertToInteractive',\n",
              "                                                    [key], {});\n",
              "        if (!dataTable) return;\n",
              "\n",
              "        const docLinkHtml = 'Like what you see? Visit the ' +\n",
              "          '<a target=\"_blank\" href=https://colab.research.google.com/notebooks/data_table.ipynb>data table notebook</a>'\n",
              "          + ' to learn more about interactive tables.';\n",
              "        element.innerHTML = '';\n",
              "        dataTable['output_type'] = 'display_data';\n",
              "        await google.colab.output.renderOutput(dataTable, element);\n",
              "        const docLink = document.createElement('div');\n",
              "        docLink.innerHTML = docLinkHtml;\n",
              "        element.appendChild(docLink);\n",
              "      }\n",
              "    </script>\n",
              "  </div>\n",
              "\n",
              "\n",
              "<div id=\"df-f21afa8d-55c6-4d39-adcf-98148208d4c0\">\n",
              "  <button class=\"colab-df-quickchart\" onclick=\"quickchart('df-f21afa8d-55c6-4d39-adcf-98148208d4c0')\"\n",
              "            title=\"Suggest charts\"\n",
              "            style=\"display:none;\">\n",
              "\n",
              "<svg xmlns=\"http://www.w3.org/2000/svg\" height=\"24px\"viewBox=\"0 0 24 24\"\n",
              "     width=\"24px\">\n",
              "    <g>\n",
              "        <path d=\"M19 3H5c-1.1 0-2 .9-2 2v14c0 1.1.9 2 2 2h14c1.1 0 2-.9 2-2V5c0-1.1-.9-2-2-2zM9 17H7v-7h2v7zm4 0h-2V7h2v10zm4 0h-2v-4h2v4z\"/>\n",
              "    </g>\n",
              "</svg>\n",
              "  </button>\n",
              "\n",
              "<style>\n",
              "  .colab-df-quickchart {\n",
              "      --bg-color: #E8F0FE;\n",
              "      --fill-color: #1967D2;\n",
              "      --hover-bg-color: #E2EBFA;\n",
              "      --hover-fill-color: #174EA6;\n",
              "      --disabled-fill-color: #AAA;\n",
              "      --disabled-bg-color: #DDD;\n",
              "  }\n",
              "\n",
              "  [theme=dark] .colab-df-quickchart {\n",
              "      --bg-color: #3B4455;\n",
              "      --fill-color: #D2E3FC;\n",
              "      --hover-bg-color: #434B5C;\n",
              "      --hover-fill-color: #FFFFFF;\n",
              "      --disabled-bg-color: #3B4455;\n",
              "      --disabled-fill-color: #666;\n",
              "  }\n",
              "\n",
              "  .colab-df-quickchart {\n",
              "    background-color: var(--bg-color);\n",
              "    border: none;\n",
              "    border-radius: 50%;\n",
              "    cursor: pointer;\n",
              "    display: none;\n",
              "    fill: var(--fill-color);\n",
              "    height: 32px;\n",
              "    padding: 0;\n",
              "    width: 32px;\n",
              "  }\n",
              "\n",
              "  .colab-df-quickchart:hover {\n",
              "    background-color: var(--hover-bg-color);\n",
              "    box-shadow: 0 1px 2px rgba(60, 64, 67, 0.3), 0 1px 3px 1px rgba(60, 64, 67, 0.15);\n",
              "    fill: var(--button-hover-fill-color);\n",
              "  }\n",
              "\n",
              "  .colab-df-quickchart-complete:disabled,\n",
              "  .colab-df-quickchart-complete:disabled:hover {\n",
              "    background-color: var(--disabled-bg-color);\n",
              "    fill: var(--disabled-fill-color);\n",
              "    box-shadow: none;\n",
              "  }\n",
              "\n",
              "  .colab-df-spinner {\n",
              "    border: 2px solid var(--fill-color);\n",
              "    border-color: transparent;\n",
              "    border-bottom-color: var(--fill-color);\n",
              "    animation:\n",
              "      spin 1s steps(1) infinite;\n",
              "  }\n",
              "\n",
              "  @keyframes spin {\n",
              "    0% {\n",
              "      border-color: transparent;\n",
              "      border-bottom-color: var(--fill-color);\n",
              "      border-left-color: var(--fill-color);\n",
              "    }\n",
              "    20% {\n",
              "      border-color: transparent;\n",
              "      border-left-color: var(--fill-color);\n",
              "      border-top-color: var(--fill-color);\n",
              "    }\n",
              "    30% {\n",
              "      border-color: transparent;\n",
              "      border-left-color: var(--fill-color);\n",
              "      border-top-color: var(--fill-color);\n",
              "      border-right-color: var(--fill-color);\n",
              "    }\n",
              "    40% {\n",
              "      border-color: transparent;\n",
              "      border-right-color: var(--fill-color);\n",
              "      border-top-color: var(--fill-color);\n",
              "    }\n",
              "    60% {\n",
              "      border-color: transparent;\n",
              "      border-right-color: var(--fill-color);\n",
              "    }\n",
              "    80% {\n",
              "      border-color: transparent;\n",
              "      border-right-color: var(--fill-color);\n",
              "      border-bottom-color: var(--fill-color);\n",
              "    }\n",
              "    90% {\n",
              "      border-color: transparent;\n",
              "      border-bottom-color: var(--fill-color);\n",
              "    }\n",
              "  }\n",
              "</style>\n",
              "\n",
              "  <script>\n",
              "    async function quickchart(key) {\n",
              "      const quickchartButtonEl =\n",
              "        document.querySelector('#' + key + ' button');\n",
              "      quickchartButtonEl.disabled = true;  // To prevent multiple clicks.\n",
              "      quickchartButtonEl.classList.add('colab-df-spinner');\n",
              "      try {\n",
              "        const charts = await google.colab.kernel.invokeFunction(\n",
              "            'suggestCharts', [key], {});\n",
              "      } catch (error) {\n",
              "        console.error('Error during call to suggestCharts:', error);\n",
              "      }\n",
              "      quickchartButtonEl.classList.remove('colab-df-spinner');\n",
              "      quickchartButtonEl.classList.add('colab-df-quickchart-complete');\n",
              "    }\n",
              "    (() => {\n",
              "      let quickchartButtonEl =\n",
              "        document.querySelector('#df-f21afa8d-55c6-4d39-adcf-98148208d4c0 button');\n",
              "      quickchartButtonEl.style.display =\n",
              "        google.colab.kernel.accessAllowed ? 'block' : 'none';\n",
              "    })();\n",
              "  </script>\n",
              "</div>\n",
              "    </div>\n",
              "  </div>\n"
            ],
            "application/vnd.google.colaboratory.intrinsic+json": {
              "type": "dataframe",
              "variable_name": "test_queries",
              "summary": "{\n  \"name\": \"test_queries\",\n  \"rows\": 500,\n  \"fields\": [\n    {\n      \"column\": \"query_id\",\n      \"properties\": {\n        \"dtype\": \"string\",\n        \"num_unique_values\": 500,\n        \"samples\": [\n          \"3482859574_3908de3427.jpg#1\",\n          \"2141713971_e25eb12712.jpg#3\",\n          \"3488087117_2719647989.jpg#4\"\n        ],\n        \"semantic_type\": \"\",\n        \"description\": \"\"\n      }\n    },\n    {\n      \"column\": \"query_text\",\n      \"properties\": {\n        \"dtype\": \"string\",\n        \"num_unique_values\": 500,\n        \"samples\": [\n          \"A group of girls who are gothically dressed standing together\",\n          \"A woman and girl riding downhill on a sled with a dog running alongside them\",\n          \"The dog is running .\"\n        ],\n        \"semantic_type\": \"\",\n        \"description\": \"\"\n      }\n    },\n    {\n      \"column\": \"image\",\n      \"properties\": {\n        \"dtype\": \"category\",\n        \"num_unique_values\": 100,\n        \"samples\": [\n          \"3722572342_6904d11d52.jpg\",\n          \"3184031654_34b5c4ffe1.jpg\",\n          \"3459871361_92d1ecda36.jpg\"\n        ],\n        \"semantic_type\": \"\",\n        \"description\": \"\"\n      }\n    }\n  ]\n}"
            }
          },
          "metadata": {},
          "execution_count": 16
        }
      ],
      "source": [
        "test_queries = pd.read_csv(DATA_PATH + 'test_queries.csv', sep='|', index_col=[0])\n",
        "test_queries.head(2)"
      ]
    },
    {
      "cell_type": "code",
      "execution_count": 17,
      "metadata": {
        "colab": {
          "base_uri": "https://localhost:8080/"
        },
        "id": "aK-dNbbncUhY",
        "outputId": "6316d9a0-cc1c-40d0-cacb-5675786cfcdb"
      },
      "outputs": [
        {
          "output_type": "stream",
          "name": "stdout",
          "text": [
            "<class 'pandas.core.frame.DataFrame'>\n",
            "Index: 500 entries, 0 to 499\n",
            "Data columns (total 3 columns):\n",
            " #   Column      Non-Null Count  Dtype \n",
            "---  ------      --------------  ----- \n",
            " 0   query_id    500 non-null    object\n",
            " 1   query_text  500 non-null    object\n",
            " 2   image       500 non-null    object\n",
            "dtypes: object(3)\n",
            "memory usage: 15.6+ KB\n"
          ]
        }
      ],
      "source": [
        "test_queries.info()"
      ]
    },
    {
      "cell_type": "markdown",
      "metadata": {
        "id": "DyFeuGBW5tyU"
      },
      "source": [
        "Пропусков нет."
      ]
    },
    {
      "cell_type": "code",
      "source": [
        "test_queries.duplicated().sum()"
      ],
      "metadata": {
        "colab": {
          "base_uri": "https://localhost:8080/"
        },
        "id": "fpVFdZ3gTqWm",
        "outputId": "7019d4cd-c806-455c-cac7-f393652791aa"
      },
      "execution_count": 18,
      "outputs": [
        {
          "output_type": "execute_result",
          "data": {
            "text/plain": [
              "0"
            ]
          },
          "metadata": {},
          "execution_count": 18
        }
      ]
    },
    {
      "cell_type": "markdown",
      "metadata": {
        "id": "RU1ADjbPJCQp"
      },
      "source": [
        "В папке **test_images** содержатся изображения для тестирования модели."
      ]
    },
    {
      "cell_type": "code",
      "execution_count": 19,
      "metadata": {
        "colab": {
          "base_uri": "https://localhost:8080/",
          "height": 131
        },
        "id": "ePY7cbUkJ6cR",
        "outputId": "6d2b88ee-bbde-4e0b-f4f2-f27af1efd120"
      },
      "outputs": [
        {
          "output_type": "execute_result",
          "data": {
            "text/plain": [
              "                       image\n",
              "0  3356748019_2251399314.jpg\n",
              "1  2887171449_f54a2b9f39.jpg"
            ],
            "text/html": [
              "\n",
              "  <div id=\"df-372b4c50-2b81-445e-88c6-ba2f9a11baff\" class=\"colab-df-container\">\n",
              "    <div>\n",
              "<style scoped>\n",
              "    .dataframe tbody tr th:only-of-type {\n",
              "        vertical-align: middle;\n",
              "    }\n",
              "\n",
              "    .dataframe tbody tr th {\n",
              "        vertical-align: top;\n",
              "    }\n",
              "\n",
              "    .dataframe thead th {\n",
              "        text-align: right;\n",
              "    }\n",
              "</style>\n",
              "<table border=\"1\" class=\"dataframe\">\n",
              "  <thead>\n",
              "    <tr style=\"text-align: right;\">\n",
              "      <th></th>\n",
              "      <th>image</th>\n",
              "    </tr>\n",
              "  </thead>\n",
              "  <tbody>\n",
              "    <tr>\n",
              "      <th>0</th>\n",
              "      <td>3356748019_2251399314.jpg</td>\n",
              "    </tr>\n",
              "    <tr>\n",
              "      <th>1</th>\n",
              "      <td>2887171449_f54a2b9f39.jpg</td>\n",
              "    </tr>\n",
              "  </tbody>\n",
              "</table>\n",
              "</div>\n",
              "    <div class=\"colab-df-buttons\">\n",
              "\n",
              "  <div class=\"colab-df-container\">\n",
              "    <button class=\"colab-df-convert\" onclick=\"convertToInteractive('df-372b4c50-2b81-445e-88c6-ba2f9a11baff')\"\n",
              "            title=\"Convert this dataframe to an interactive table.\"\n",
              "            style=\"display:none;\">\n",
              "\n",
              "  <svg xmlns=\"http://www.w3.org/2000/svg\" height=\"24px\" viewBox=\"0 -960 960 960\">\n",
              "    <path d=\"M120-120v-720h720v720H120Zm60-500h600v-160H180v160Zm220 220h160v-160H400v160Zm0 220h160v-160H400v160ZM180-400h160v-160H180v160Zm440 0h160v-160H620v160ZM180-180h160v-160H180v160Zm440 0h160v-160H620v160Z\"/>\n",
              "  </svg>\n",
              "    </button>\n",
              "\n",
              "  <style>\n",
              "    .colab-df-container {\n",
              "      display:flex;\n",
              "      gap: 12px;\n",
              "    }\n",
              "\n",
              "    .colab-df-convert {\n",
              "      background-color: #E8F0FE;\n",
              "      border: none;\n",
              "      border-radius: 50%;\n",
              "      cursor: pointer;\n",
              "      display: none;\n",
              "      fill: #1967D2;\n",
              "      height: 32px;\n",
              "      padding: 0 0 0 0;\n",
              "      width: 32px;\n",
              "    }\n",
              "\n",
              "    .colab-df-convert:hover {\n",
              "      background-color: #E2EBFA;\n",
              "      box-shadow: 0px 1px 2px rgba(60, 64, 67, 0.3), 0px 1px 3px 1px rgba(60, 64, 67, 0.15);\n",
              "      fill: #174EA6;\n",
              "    }\n",
              "\n",
              "    .colab-df-buttons div {\n",
              "      margin-bottom: 4px;\n",
              "    }\n",
              "\n",
              "    [theme=dark] .colab-df-convert {\n",
              "      background-color: #3B4455;\n",
              "      fill: #D2E3FC;\n",
              "    }\n",
              "\n",
              "    [theme=dark] .colab-df-convert:hover {\n",
              "      background-color: #434B5C;\n",
              "      box-shadow: 0px 1px 3px 1px rgba(0, 0, 0, 0.15);\n",
              "      filter: drop-shadow(0px 1px 2px rgba(0, 0, 0, 0.3));\n",
              "      fill: #FFFFFF;\n",
              "    }\n",
              "  </style>\n",
              "\n",
              "    <script>\n",
              "      const buttonEl =\n",
              "        document.querySelector('#df-372b4c50-2b81-445e-88c6-ba2f9a11baff button.colab-df-convert');\n",
              "      buttonEl.style.display =\n",
              "        google.colab.kernel.accessAllowed ? 'block' : 'none';\n",
              "\n",
              "      async function convertToInteractive(key) {\n",
              "        const element = document.querySelector('#df-372b4c50-2b81-445e-88c6-ba2f9a11baff');\n",
              "        const dataTable =\n",
              "          await google.colab.kernel.invokeFunction('convertToInteractive',\n",
              "                                                    [key], {});\n",
              "        if (!dataTable) return;\n",
              "\n",
              "        const docLinkHtml = 'Like what you see? Visit the ' +\n",
              "          '<a target=\"_blank\" href=https://colab.research.google.com/notebooks/data_table.ipynb>data table notebook</a>'\n",
              "          + ' to learn more about interactive tables.';\n",
              "        element.innerHTML = '';\n",
              "        dataTable['output_type'] = 'display_data';\n",
              "        await google.colab.output.renderOutput(dataTable, element);\n",
              "        const docLink = document.createElement('div');\n",
              "        docLink.innerHTML = docLinkHtml;\n",
              "        element.appendChild(docLink);\n",
              "      }\n",
              "    </script>\n",
              "  </div>\n",
              "\n",
              "\n",
              "<div id=\"df-54094337-54f9-40c4-ac3f-80944facd311\">\n",
              "  <button class=\"colab-df-quickchart\" onclick=\"quickchart('df-54094337-54f9-40c4-ac3f-80944facd311')\"\n",
              "            title=\"Suggest charts\"\n",
              "            style=\"display:none;\">\n",
              "\n",
              "<svg xmlns=\"http://www.w3.org/2000/svg\" height=\"24px\"viewBox=\"0 0 24 24\"\n",
              "     width=\"24px\">\n",
              "    <g>\n",
              "        <path d=\"M19 3H5c-1.1 0-2 .9-2 2v14c0 1.1.9 2 2 2h14c1.1 0 2-.9 2-2V5c0-1.1-.9-2-2-2zM9 17H7v-7h2v7zm4 0h-2V7h2v10zm4 0h-2v-4h2v4z\"/>\n",
              "    </g>\n",
              "</svg>\n",
              "  </button>\n",
              "\n",
              "<style>\n",
              "  .colab-df-quickchart {\n",
              "      --bg-color: #E8F0FE;\n",
              "      --fill-color: #1967D2;\n",
              "      --hover-bg-color: #E2EBFA;\n",
              "      --hover-fill-color: #174EA6;\n",
              "      --disabled-fill-color: #AAA;\n",
              "      --disabled-bg-color: #DDD;\n",
              "  }\n",
              "\n",
              "  [theme=dark] .colab-df-quickchart {\n",
              "      --bg-color: #3B4455;\n",
              "      --fill-color: #D2E3FC;\n",
              "      --hover-bg-color: #434B5C;\n",
              "      --hover-fill-color: #FFFFFF;\n",
              "      --disabled-bg-color: #3B4455;\n",
              "      --disabled-fill-color: #666;\n",
              "  }\n",
              "\n",
              "  .colab-df-quickchart {\n",
              "    background-color: var(--bg-color);\n",
              "    border: none;\n",
              "    border-radius: 50%;\n",
              "    cursor: pointer;\n",
              "    display: none;\n",
              "    fill: var(--fill-color);\n",
              "    height: 32px;\n",
              "    padding: 0;\n",
              "    width: 32px;\n",
              "  }\n",
              "\n",
              "  .colab-df-quickchart:hover {\n",
              "    background-color: var(--hover-bg-color);\n",
              "    box-shadow: 0 1px 2px rgba(60, 64, 67, 0.3), 0 1px 3px 1px rgba(60, 64, 67, 0.15);\n",
              "    fill: var(--button-hover-fill-color);\n",
              "  }\n",
              "\n",
              "  .colab-df-quickchart-complete:disabled,\n",
              "  .colab-df-quickchart-complete:disabled:hover {\n",
              "    background-color: var(--disabled-bg-color);\n",
              "    fill: var(--disabled-fill-color);\n",
              "    box-shadow: none;\n",
              "  }\n",
              "\n",
              "  .colab-df-spinner {\n",
              "    border: 2px solid var(--fill-color);\n",
              "    border-color: transparent;\n",
              "    border-bottom-color: var(--fill-color);\n",
              "    animation:\n",
              "      spin 1s steps(1) infinite;\n",
              "  }\n",
              "\n",
              "  @keyframes spin {\n",
              "    0% {\n",
              "      border-color: transparent;\n",
              "      border-bottom-color: var(--fill-color);\n",
              "      border-left-color: var(--fill-color);\n",
              "    }\n",
              "    20% {\n",
              "      border-color: transparent;\n",
              "      border-left-color: var(--fill-color);\n",
              "      border-top-color: var(--fill-color);\n",
              "    }\n",
              "    30% {\n",
              "      border-color: transparent;\n",
              "      border-left-color: var(--fill-color);\n",
              "      border-top-color: var(--fill-color);\n",
              "      border-right-color: var(--fill-color);\n",
              "    }\n",
              "    40% {\n",
              "      border-color: transparent;\n",
              "      border-right-color: var(--fill-color);\n",
              "      border-top-color: var(--fill-color);\n",
              "    }\n",
              "    60% {\n",
              "      border-color: transparent;\n",
              "      border-right-color: var(--fill-color);\n",
              "    }\n",
              "    80% {\n",
              "      border-color: transparent;\n",
              "      border-right-color: var(--fill-color);\n",
              "      border-bottom-color: var(--fill-color);\n",
              "    }\n",
              "    90% {\n",
              "      border-color: transparent;\n",
              "      border-bottom-color: var(--fill-color);\n",
              "    }\n",
              "  }\n",
              "</style>\n",
              "\n",
              "  <script>\n",
              "    async function quickchart(key) {\n",
              "      const quickchartButtonEl =\n",
              "        document.querySelector('#' + key + ' button');\n",
              "      quickchartButtonEl.disabled = true;  // To prevent multiple clicks.\n",
              "      quickchartButtonEl.classList.add('colab-df-spinner');\n",
              "      try {\n",
              "        const charts = await google.colab.kernel.invokeFunction(\n",
              "            'suggestCharts', [key], {});\n",
              "      } catch (error) {\n",
              "        console.error('Error during call to suggestCharts:', error);\n",
              "      }\n",
              "      quickchartButtonEl.classList.remove('colab-df-spinner');\n",
              "      quickchartButtonEl.classList.add('colab-df-quickchart-complete');\n",
              "    }\n",
              "    (() => {\n",
              "      let quickchartButtonEl =\n",
              "        document.querySelector('#df-54094337-54f9-40c4-ac3f-80944facd311 button');\n",
              "      quickchartButtonEl.style.display =\n",
              "        google.colab.kernel.accessAllowed ? 'block' : 'none';\n",
              "    })();\n",
              "  </script>\n",
              "</div>\n",
              "    </div>\n",
              "  </div>\n"
            ],
            "application/vnd.google.colaboratory.intrinsic+json": {
              "type": "dataframe",
              "variable_name": "test_images",
              "summary": "{\n  \"name\": \"test_images\",\n  \"rows\": 100,\n  \"fields\": [\n    {\n      \"column\": \"image\",\n      \"properties\": {\n        \"dtype\": \"string\",\n        \"num_unique_values\": 100,\n        \"samples\": [\n          \"2505056124_1276e8dbcb.jpg\",\n          \"3553476195_fb3747d7c1.jpg\",\n          \"1580671272_3e99d94305.jpg\"\n        ],\n        \"semantic_type\": \"\",\n        \"description\": \"\"\n      }\n    }\n  ]\n}"
            }
          },
          "metadata": {},
          "execution_count": 19
        }
      ],
      "source": [
        "test_images = pd.read_csv(DATA_PATH + 'test_images.csv')\n",
        "test_images.head(2)"
      ]
    },
    {
      "cell_type": "code",
      "execution_count": 20,
      "metadata": {
        "colab": {
          "base_uri": "https://localhost:8080/"
        },
        "id": "dViTW10ycNVq",
        "outputId": "7c8f7f34-f185-4f1c-99ba-44fb9562748e"
      },
      "outputs": [
        {
          "output_type": "stream",
          "name": "stdout",
          "text": [
            "<class 'pandas.core.frame.DataFrame'>\n",
            "RangeIndex: 100 entries, 0 to 99\n",
            "Data columns (total 1 columns):\n",
            " #   Column  Non-Null Count  Dtype \n",
            "---  ------  --------------  ----- \n",
            " 0   image   100 non-null    object\n",
            "dtypes: object(1)\n",
            "memory usage: 928.0+ bytes\n"
          ]
        }
      ],
      "source": [
        "test_images.info()"
      ]
    },
    {
      "cell_type": "markdown",
      "metadata": {
        "id": "xvsWc9aOvifR"
      },
      "source": [
        "<img src=\"https://emojigraph.org/media/apple/check-mark-button_2705.png\" align=left width=33, heigth=33>\n",
        "<div class=\"alert alert-success\">\n",
        " 👍 </div>"
      ]
    },
    {
      "cell_type": "markdown",
      "metadata": {
        "id": "Q6WPuRALJXXL"
      },
      "source": [
        "## Исследовательский анализ данных"
      ]
    },
    {
      "cell_type": "markdown",
      "metadata": {
        "id": "jS7MTTdtLJXI"
      },
      "source": [
        "### Анализ экспертных и краудсорсинговых оценок"
      ]
    },
    {
      "cell_type": "markdown",
      "metadata": {
        "id": "S97judxUEcVu"
      },
      "source": [
        "#### Анализ экспертных оценок"
      ]
    },
    {
      "cell_type": "markdown",
      "metadata": {
        "id": "7Hnbs4EMWmMX"
      },
      "source": [
        "Поскольку у нас есть несколько экспертов, их оценки могут варьироваться. Используя медиану, можно получить более надежное представление о том, какова \"центральная\" оценка в этой группе экспертов. Это полезно, так как есть вероятность разногласий между экспертами."
      ]
    },
    {
      "cell_type": "code",
      "execution_count": 21,
      "metadata": {
        "colab": {
          "base_uri": "https://localhost:8080/"
        },
        "id": "3squ219L8qTJ",
        "outputId": "53c6389c-00b3-4eaf-ecd6-4dba7d0aed4b"
      },
      "outputs": [
        {
          "output_type": "execute_result",
          "data": {
            "text/plain": [
              "(5822, 5)"
            ]
          },
          "metadata": {},
          "execution_count": 21
        }
      ],
      "source": [
        "expert_annotations.shape"
      ]
    },
    {
      "cell_type": "markdown",
      "metadata": {
        "id": "ZUU0IHIYGFjl"
      },
      "source": [
        "Всего 5822 экспертных оценок."
      ]
    },
    {
      "cell_type": "code",
      "execution_count": 22,
      "metadata": {
        "id": "3FT0fuCETdRP"
      },
      "outputs": [],
      "source": [
        "# Вычисление медианы\n",
        "expert_annotations['exp_median'] = (expert_annotations[['exp_1', 'exp_2', 'exp_3']]).median(axis=1)"
      ]
    },
    {
      "cell_type": "markdown",
      "metadata": {
        "id": "TXWqly2OXtLp"
      },
      "source": [
        "Приведем полученные значение центральной оценки к диапазону от 0 до 1."
      ]
    },
    {
      "cell_type": "markdown",
      "metadata": {
        "id": "lhubod7VvifT"
      },
      "source": [
        "<img src=\"https://emojigraph.org/media/apple/check-mark-button_2705.png\" align=left width=33, heigth=33>\n",
        "<div class=\"alert alert-success\">\n",
        " 👍 </div>"
      ]
    },
    {
      "cell_type": "code",
      "execution_count": 23,
      "metadata": {
        "colab": {
          "base_uri": "https://localhost:8080/",
          "height": 492
        },
        "id": "1CC3Vq5MRgYy",
        "outputId": "d73c04ff-44b2-49bc-b31b-abb4e66bb0cf"
      },
      "outputs": [
        {
          "output_type": "display_data",
          "data": {
            "text/plain": [
              "<Figure size 640x480 with 1 Axes>"
            ],
            "image/png": "[encoded data removed]"
          },
          "metadata": {}
        }
      ],
      "source": [
        "expert_annotations['exp_norm'] = (expert_annotations['exp_median'] - expert_annotations['exp_median'].min()) / (expert_annotations['exp_median'].max() - expert_annotations['exp_median'].min())\n",
        "\n",
        "# Гистограмма\n",
        "expert_annotations['exp_norm'].plot.hist()\n",
        "plt.title('Распределение центральных нормализованых оценок')\n",
        "plt.xlabel('Центральная оценка')\n",
        "plt.ylabel('Частота')\n",
        "plt.show();"
      ]
    },
    {
      "cell_type": "markdown",
      "metadata": {
        "id": "AEES2fsZvifU"
      },
      "source": [
        "<img src=\"https://emojigraph.org/media/apple/check-mark-button_2705.png\" align=left width=33, heigth=33>\n",
        "<div class=\"alert alert-success\">\n",
        " 👍 </div>"
      ]
    },
    {
      "cell_type": "markdown",
      "metadata": {
        "id": "U-vphayzaGph"
      },
      "source": [
        "Центральная оценка у большенства экспертов склоняется к тому, что текст соответствует картинке.\n"
      ]
    },
    {
      "cell_type": "code",
      "execution_count": 24,
      "metadata": {
        "colab": {
          "base_uri": "https://localhost:8080/",
          "height": 316
        },
        "id": "uHX4DVKlGL50",
        "outputId": "e6cf62ff-5427-485e-d690-929225364c46"
      },
      "outputs": [
        {
          "output_type": "execute_result",
          "data": {
            "text/plain": [
              "             exp_1        exp_2        exp_3   exp_median     exp_norm\n",
              "count  5822.000000  5822.000000  5822.000000  5822.000000  5822.000000\n",
              "mean      1.436620     1.624356     1.881999     1.624356     0.208119\n",
              "std       0.787084     0.856222     0.904087     0.856222     0.285407\n",
              "min       1.000000     1.000000     1.000000     1.000000     0.000000\n",
              "25%       1.000000     1.000000     1.000000     1.000000     0.000000\n",
              "50%       1.000000     1.000000     2.000000     1.000000     0.000000\n",
              "75%       2.000000     2.000000     2.000000     2.000000     0.333333\n",
              "max       4.000000     4.000000     4.000000     4.000000     1.000000"
            ],
            "text/html": [
              "\n",
              "  <div id=\"df-a4de9288-c7a7-4bf0-a44e-38a36eeb2856\" class=\"colab-df-container\">\n",
              "    <div>\n",
              "<style scoped>\n",
              "    .dataframe tbody tr th:only-of-type {\n",
              "        vertical-align: middle;\n",
              "    }\n",
              "\n",
              "    .dataframe tbody tr th {\n",
              "        vertical-align: top;\n",
              "    }\n",
              "\n",
              "    .dataframe thead th {\n",
              "        text-align: right;\n",
              "    }\n",
              "</style>\n",
              "<table border=\"1\" class=\"dataframe\">\n",
              "  <thead>\n",
              "    <tr style=\"text-align: right;\">\n",
              "      <th></th>\n",
              "      <th>exp_1</th>\n",
              "      <th>exp_2</th>\n",
              "      <th>exp_3</th>\n",
              "      <th>exp_median</th>\n",
              "      <th>exp_norm</th>\n",
              "    </tr>\n",
              "  </thead>\n",
              "  <tbody>\n",
              "    <tr>\n",
              "      <th>count</th>\n",
              "      <td>5822.000000</td>\n",
              "      <td>5822.000000</td>\n",
              "      <td>5822.000000</td>\n",
              "      <td>5822.000000</td>\n",
              "      <td>5822.000000</td>\n",
              "    </tr>\n",
              "    <tr>\n",
              "      <th>mean</th>\n",
              "      <td>1.436620</td>\n",
              "      <td>1.624356</td>\n",
              "      <td>1.881999</td>\n",
              "      <td>1.624356</td>\n",
              "      <td>0.208119</td>\n",
              "    </tr>\n",
              "    <tr>\n",
              "      <th>std</th>\n",
              "      <td>0.787084</td>\n",
              "      <td>0.856222</td>\n",
              "      <td>0.904087</td>\n",
              "      <td>0.856222</td>\n",
              "      <td>0.285407</td>\n",
              "    </tr>\n",
              "    <tr>\n",
              "      <th>min</th>\n",
              "      <td>1.000000</td>\n",
              "      <td>1.000000</td>\n",
              "      <td>1.000000</td>\n",
              "      <td>1.000000</td>\n",
              "      <td>0.000000</td>\n",
              "    </tr>\n",
              "    <tr>\n",
              "      <th>25%</th>\n",
              "      <td>1.000000</td>\n",
              "      <td>1.000000</td>\n",
              "      <td>1.000000</td>\n",
              "      <td>1.000000</td>\n",
              "      <td>0.000000</td>\n",
              "    </tr>\n",
              "    <tr>\n",
              "      <th>50%</th>\n",
              "      <td>1.000000</td>\n",
              "      <td>1.000000</td>\n",
              "      <td>2.000000</td>\n",
              "      <td>1.000000</td>\n",
              "      <td>0.000000</td>\n",
              "    </tr>\n",
              "    <tr>\n",
              "      <th>75%</th>\n",
              "      <td>2.000000</td>\n",
              "      <td>2.000000</td>\n",
              "      <td>2.000000</td>\n",
              "      <td>2.000000</td>\n",
              "      <td>0.333333</td>\n",
              "    </tr>\n",
              "    <tr>\n",
              "      <th>max</th>\n",
              "      <td>4.000000</td>\n",
              "      <td>4.000000</td>\n",
              "      <td>4.000000</td>\n",
              "      <td>4.000000</td>\n",
              "      <td>1.000000</td>\n",
              "    </tr>\n",
              "  </tbody>\n",
              "</table>\n",
              "</div>\n",
              "    <div class=\"colab-df-buttons\">\n",
              "\n",
              "  <div class=\"colab-df-container\">\n",
              "    <button class=\"colab-df-convert\" onclick=\"convertToInteractive('df-a4de9288-c7a7-4bf0-a44e-38a36eeb2856')\"\n",
              "            title=\"Convert this dataframe to an interactive table.\"\n",
              "            style=\"display:none;\">\n",
              "\n",
              "  <svg xmlns=\"http://www.w3.org/2000/svg\" height=\"24px\" viewBox=\"0 -960 960 960\">\n",
              "    <path d=\"M120-120v-720h720v720H120Zm60-500h600v-160H180v160Zm220 220h160v-160H400v160Zm0 220h160v-160H400v160ZM180-400h160v-160H180v160Zm440 0h160v-160H620v160ZM180-180h160v-160H180v160Zm440 0h160v-160H620v160Z\"/>\n",
              "  </svg>\n",
              "    </button>\n",
              "\n",
              "  <style>\n",
              "    .colab-df-container {\n",
              "      display:flex;\n",
              "      gap: 12px;\n",
              "    }\n",
              "\n",
              "    .colab-df-convert {\n",
              "      background-color: #E8F0FE;\n",
              "      border: none;\n",
              "      border-radius: 50%;\n",
              "      cursor: pointer;\n",
              "      display: none;\n",
              "      fill: #1967D2;\n",
              "      height: 32px;\n",
              "      padding: 0 0 0 0;\n",
              "      width: 32px;\n",
              "    }\n",
              "\n",
              "    .colab-df-convert:hover {\n",
              "      background-color: #E2EBFA;\n",
              "      box-shadow: 0px 1px 2px rgba(60, 64, 67, 0.3), 0px 1px 3px 1px rgba(60, 64, 67, 0.15);\n",
              "      fill: #174EA6;\n",
              "    }\n",
              "\n",
              "    .colab-df-buttons div {\n",
              "      margin-bottom: 4px;\n",
              "    }\n",
              "\n",
              "    [theme=dark] .colab-df-convert {\n",
              "      background-color: #3B4455;\n",
              "      fill: #D2E3FC;\n",
              "    }\n",
              "\n",
              "    [theme=dark] .colab-df-convert:hover {\n",
              "      background-color: #434B5C;\n",
              "      box-shadow: 0px 1px 3px 1px rgba(0, 0, 0, 0.15);\n",
              "      filter: drop-shadow(0px 1px 2px rgba(0, 0, 0, 0.3));\n",
              "      fill: #FFFFFF;\n",
              "    }\n",
              "  </style>\n",
              "\n",
              "    <script>\n",
              "      const buttonEl =\n",
              "        document.querySelector('#df-a4de9288-c7a7-4bf0-a44e-38a36eeb2856 button.colab-df-convert');\n",
              "      buttonEl.style.display =\n",
              "        google.colab.kernel.accessAllowed ? 'block' : 'none';\n",
              "\n",
              "      async function convertToInteractive(key) {\n",
              "        const element = document.querySelector('#df-a4de9288-c7a7-4bf0-a44e-38a36eeb2856');\n",
              "        const dataTable =\n",
              "          await google.colab.kernel.invokeFunction('convertToInteractive',\n",
              "                                                    [key], {});\n",
              "        if (!dataTable) return;\n",
              "\n",
              "        const docLinkHtml = 'Like what you see? Visit the ' +\n",
              "          '<a target=\"_blank\" href=https://colab.research.google.com/notebooks/data_table.ipynb>data table notebook</a>'\n",
              "          + ' to learn more about interactive tables.';\n",
              "        element.innerHTML = '';\n",
              "        dataTable['output_type'] = 'display_data';\n",
              "        await google.colab.output.renderOutput(dataTable, element);\n",
              "        const docLink = document.createElement('div');\n",
              "        docLink.innerHTML = docLinkHtml;\n",
              "        element.appendChild(docLink);\n",
              "      }\n",
              "    </script>\n",
              "  </div>\n",
              "\n",
              "\n",
              "<div id=\"df-e39aa7dd-61a8-4635-b7ed-e54879a48eb2\">\n",
              "  <button class=\"colab-df-quickchart\" onclick=\"quickchart('df-e39aa7dd-61a8-4635-b7ed-e54879a48eb2')\"\n",
              "            title=\"Suggest charts\"\n",
              "            style=\"display:none;\">\n",
              "\n",
              "<svg xmlns=\"http://www.w3.org/2000/svg\" height=\"24px\"viewBox=\"0 0 24 24\"\n",
              "     width=\"24px\">\n",
              "    <g>\n",
              "        <path d=\"M19 3H5c-1.1 0-2 .9-2 2v14c0 1.1.9 2 2 2h14c1.1 0 2-.9 2-2V5c0-1.1-.9-2-2-2zM9 17H7v-7h2v7zm4 0h-2V7h2v10zm4 0h-2v-4h2v4z\"/>\n",
              "    </g>\n",
              "</svg>\n",
              "  </button>\n",
              "\n",
              "<style>\n",
              "  .colab-df-quickchart {\n",
              "      --bg-color: #E8F0FE;\n",
              "      --fill-color: #1967D2;\n",
              "      --hover-bg-color: #E2EBFA;\n",
              "      --hover-fill-color: #174EA6;\n",
              "      --disabled-fill-color: #AAA;\n",
              "      --disabled-bg-color: #DDD;\n",
              "  }\n",
              "\n",
              "  [theme=dark] .colab-df-quickchart {\n",
              "      --bg-color: #3B4455;\n",
              "      --fill-color: #D2E3FC;\n",
              "      --hover-bg-color: #434B5C;\n",
              "      --hover-fill-color: #FFFFFF;\n",
              "      --disabled-bg-color: #3B4455;\n",
              "      --disabled-fill-color: #666;\n",
              "  }\n",
              "\n",
              "  .colab-df-quickchart {\n",
              "    background-color: var(--bg-color);\n",
              "    border: none;\n",
              "    border-radius: 50%;\n",
              "    cursor: pointer;\n",
              "    display: none;\n",
              "    fill: var(--fill-color);\n",
              "    height: 32px;\n",
              "    padding: 0;\n",
              "    width: 32px;\n",
              "  }\n",
              "\n",
              "  .colab-df-quickchart:hover {\n",
              "    background-color: var(--hover-bg-color);\n",
              "    box-shadow: 0 1px 2px rgba(60, 64, 67, 0.3), 0 1px 3px 1px rgba(60, 64, 67, 0.15);\n",
              "    fill: var(--button-hover-fill-color);\n",
              "  }\n",
              "\n",
              "  .colab-df-quickchart-complete:disabled,\n",
              "  .colab-df-quickchart-complete:disabled:hover {\n",
              "    background-color: var(--disabled-bg-color);\n",
              "    fill: var(--disabled-fill-color);\n",
              "    box-shadow: none;\n",
              "  }\n",
              "\n",
              "  .colab-df-spinner {\n",
              "    border: 2px solid var(--fill-color);\n",
              "    border-color: transparent;\n",
              "    border-bottom-color: var(--fill-color);\n",
              "    animation:\n",
              "      spin 1s steps(1) infinite;\n",
              "  }\n",
              "\n",
              "  @keyframes spin {\n",
              "    0% {\n",
              "      border-color: transparent;\n",
              "      border-bottom-color: var(--fill-color);\n",
              "      border-left-color: var(--fill-color);\n",
              "    }\n",
              "    20% {\n",
              "      border-color: transparent;\n",
              "      border-left-color: var(--fill-color);\n",
              "      border-top-color: var(--fill-color);\n",
              "    }\n",
              "    30% {\n",
              "      border-color: transparent;\n",
              "      border-left-color: var(--fill-color);\n",
              "      border-top-color: var(--fill-color);\n",
              "      border-right-color: var(--fill-color);\n",
              "    }\n",
              "    40% {\n",
              "      border-color: transparent;\n",
              "      border-right-color: var(--fill-color);\n",
              "      border-top-color: var(--fill-color);\n",
              "    }\n",
              "    60% {\n",
              "      border-color: transparent;\n",
              "      border-right-color: var(--fill-color);\n",
              "    }\n",
              "    80% {\n",
              "      border-color: transparent;\n",
              "      border-right-color: var(--fill-color);\n",
              "      border-bottom-color: var(--fill-color);\n",
              "    }\n",
              "    90% {\n",
              "      border-color: transparent;\n",
              "      border-bottom-color: var(--fill-color);\n",
              "    }\n",
              "  }\n",
              "</style>\n",
              "\n",
              "  <script>\n",
              "    async function quickchart(key) {\n",
              "      const quickchartButtonEl =\n",
              "        document.querySelector('#' + key + ' button');\n",
              "      quickchartButtonEl.disabled = true;  // To prevent multiple clicks.\n",
              "      quickchartButtonEl.classList.add('colab-df-spinner');\n",
              "      try {\n",
              "        const charts = await google.colab.kernel.invokeFunction(\n",
              "            'suggestCharts', [key], {});\n",
              "      } catch (error) {\n",
              "        console.error('Error during call to suggestCharts:', error);\n",
              "      }\n",
              "      quickchartButtonEl.classList.remove('colab-df-spinner');\n",
              "      quickchartButtonEl.classList.add('colab-df-quickchart-complete');\n",
              "    }\n",
              "    (() => {\n",
              "      let quickchartButtonEl =\n",
              "        document.querySelector('#df-e39aa7dd-61a8-4635-b7ed-e54879a48eb2 button');\n",
              "      quickchartButtonEl.style.display =\n",
              "        google.colab.kernel.accessAllowed ? 'block' : 'none';\n",
              "    })();\n",
              "  </script>\n",
              "</div>\n",
              "    </div>\n",
              "  </div>\n"
            ],
            "application/vnd.google.colaboratory.intrinsic+json": {
              "type": "dataframe",
              "summary": "{\n  \"name\": \"expert_annotations\",\n  \"rows\": 8,\n  \"fields\": [\n    {\n      \"column\": \"exp_1\",\n      \"properties\": {\n        \"dtype\": \"number\",\n        \"std\": 2057.82122424949,\n        \"min\": 0.787083569654684,\n        \"max\": 5822.0,\n        \"num_unique_values\": 6,\n        \"samples\": [\n          5822.0,\n          1.4366197183098592,\n          4.0\n        ],\n        \"semantic_type\": \"\",\n        \"description\": \"\"\n      }\n    },\n    {\n      \"column\": \"exp_2\",\n      \"properties\": {\n        \"dtype\": \"number\",\n        \"std\": 2057.808245108053,\n        \"min\": 0.8562217430980761,\n        \"max\": 5822.0,\n        \"num_unique_values\": 6,\n        \"samples\": [\n          5822.0,\n          1.6243558914462384,\n          4.0\n        ],\n        \"semantic_type\": \"\",\n        \"description\": \"\"\n      }\n    },\n    {\n      \"column\": \"exp_3\",\n      \"properties\": {\n        \"dtype\": \"number\",\n        \"std\": 2057.7422882746823,\n        \"min\": 0.9040873351823043,\n        \"max\": 5822.0,\n        \"num_unique_values\": 6,\n        \"samples\": [\n          5822.0,\n          1.881999312950876,\n          4.0\n        ],\n        \"semantic_type\": \"\",\n        \"description\": \"\"\n      }\n    },\n    {\n      \"column\": \"exp_median\",\n      \"properties\": {\n        \"dtype\": \"number\",\n        \"std\": 2057.808245108053,\n        \"min\": 0.8562217430980761,\n        \"max\": 5822.0,\n        \"num_unique_values\": 6,\n        \"samples\": [\n          5822.0,\n          1.6243558914462384,\n          4.0\n        ],\n        \"semantic_type\": \"\",\n        \"description\": \"\"\n      }\n    },\n    {\n      \"column\": \"exp_norm\",\n      \"properties\": {\n        \"dtype\": \"number\",\n        \"std\": 2058.2955960531517,\n        \"min\": 0.0,\n        \"max\": 5822.0,\n        \"num_unique_values\": 6,\n        \"samples\": [\n          5822.0,\n          0.20811863048207943,\n          1.0\n        ],\n        \"semantic_type\": \"\",\n        \"description\": \"\"\n      }\n    }\n  ]\n}"
            }
          },
          "metadata": {},
          "execution_count": 24
        }
      ],
      "source": [
        "expert_annotations.describe()"
      ]
    },
    {
      "cell_type": "markdown",
      "metadata": {
        "id": "j4IQVqT4E1Fe"
      },
      "source": [
        "#### Анализ краудсорсинговых оценок"
      ]
    },
    {
      "cell_type": "code",
      "execution_count": 25,
      "metadata": {
        "colab": {
          "base_uri": "https://localhost:8080/"
        },
        "id": "Iq6QfF8iEXjf",
        "outputId": "6fda64a9-5ee4-4fdf-a254-5cf84ad9e708"
      },
      "outputs": [
        {
          "output_type": "execute_result",
          "data": {
            "text/plain": [
              "(47830, 5)"
            ]
          },
          "metadata": {},
          "execution_count": 25
        }
      ],
      "source": [
        "crowd_annotations.shape"
      ]
    },
    {
      "cell_type": "markdown",
      "metadata": {
        "id": "V0AFyiWBFeSf"
      },
      "source": [
        "Всего 47830 краудсорсинговых оценок."
      ]
    },
    {
      "cell_type": "code",
      "execution_count": 26,
      "metadata": {
        "colab": {
          "base_uri": "https://localhost:8080/",
          "height": 316
        },
        "id": "UqCCpjKDFRQq",
        "outputId": "fb705556-fd6d-4324-faab-f3bfdfe54931"
      },
      "outputs": [
        {
          "output_type": "execute_result",
          "data": {
            "text/plain": [
              "          conf_rate       confirm   not_confirm\n",
              "count  47830.000000  47830.000000  47830.000000\n",
              "mean       0.068786      0.208488      2.820155\n",
              "std        0.207532      0.628898      0.656676\n",
              "min        0.000000      0.000000      0.000000\n",
              "25%        0.000000      0.000000      3.000000\n",
              "50%        0.000000      0.000000      3.000000\n",
              "75%        0.000000      0.000000      3.000000\n",
              "max        1.000000      5.000000      6.000000"
            ],
            "text/html": [
              "\n",
              "  <div id=\"df-28fbb236-03a6-45c8-8722-3232af54489e\" class=\"colab-df-container\">\n",
              "    <div>\n",
              "<style scoped>\n",
              "    .dataframe tbody tr th:only-of-type {\n",
              "        vertical-align: middle;\n",
              "    }\n",
              "\n",
              "    .dataframe tbody tr th {\n",
              "        vertical-align: top;\n",
              "    }\n",
              "\n",
              "    .dataframe thead th {\n",
              "        text-align: right;\n",
              "    }\n",
              "</style>\n",
              "<table border=\"1\" class=\"dataframe\">\n",
              "  <thead>\n",
              "    <tr style=\"text-align: right;\">\n",
              "      <th></th>\n",
              "      <th>conf_rate</th>\n",
              "      <th>confirm</th>\n",
              "      <th>not_confirm</th>\n",
              "    </tr>\n",
              "  </thead>\n",
              "  <tbody>\n",
              "    <tr>\n",
              "      <th>count</th>\n",
              "      <td>47830.000000</td>\n",
              "      <td>47830.000000</td>\n",
              "      <td>47830.000000</td>\n",
              "    </tr>\n",
              "    <tr>\n",
              "      <th>mean</th>\n",
              "      <td>0.068786</td>\n",
              "      <td>0.208488</td>\n",
              "      <td>2.820155</td>\n",
              "    </tr>\n",
              "    <tr>\n",
              "      <th>std</th>\n",
              "      <td>0.207532</td>\n",
              "      <td>0.628898</td>\n",
              "      <td>0.656676</td>\n",
              "    </tr>\n",
              "    <tr>\n",
              "      <th>min</th>\n",
              "      <td>0.000000</td>\n",
              "      <td>0.000000</td>\n",
              "      <td>0.000000</td>\n",
              "    </tr>\n",
              "    <tr>\n",
              "      <th>25%</th>\n",
              "      <td>0.000000</td>\n",
              "      <td>0.000000</td>\n",
              "      <td>3.000000</td>\n",
              "    </tr>\n",
              "    <tr>\n",
              "      <th>50%</th>\n",
              "      <td>0.000000</td>\n",
              "      <td>0.000000</td>\n",
              "      <td>3.000000</td>\n",
              "    </tr>\n",
              "    <tr>\n",
              "      <th>75%</th>\n",
              "      <td>0.000000</td>\n",
              "      <td>0.000000</td>\n",
              "      <td>3.000000</td>\n",
              "    </tr>\n",
              "    <tr>\n",
              "      <th>max</th>\n",
              "      <td>1.000000</td>\n",
              "      <td>5.000000</td>\n",
              "      <td>6.000000</td>\n",
              "    </tr>\n",
              "  </tbody>\n",
              "</table>\n",
              "</div>\n",
              "    <div class=\"colab-df-buttons\">\n",
              "\n",
              "  <div class=\"colab-df-container\">\n",
              "    <button class=\"colab-df-convert\" onclick=\"convertToInteractive('df-28fbb236-03a6-45c8-8722-3232af54489e')\"\n",
              "            title=\"Convert this dataframe to an interactive table.\"\n",
              "            style=\"display:none;\">\n",
              "\n",
              "  <svg xmlns=\"http://www.w3.org/2000/svg\" height=\"24px\" viewBox=\"0 -960 960 960\">\n",
              "    <path d=\"M120-120v-720h720v720H120Zm60-500h600v-160H180v160Zm220 220h160v-160H400v160Zm0 220h160v-160H400v160ZM180-400h160v-160H180v160Zm440 0h160v-160H620v160ZM180-180h160v-160H180v160Zm440 0h160v-160H620v160Z\"/>\n",
              "  </svg>\n",
              "    </button>\n",
              "\n",
              "  <style>\n",
              "    .colab-df-container {\n",
              "      display:flex;\n",
              "      gap: 12px;\n",
              "    }\n",
              "\n",
              "    .colab-df-convert {\n",
              "      background-color: #E8F0FE;\n",
              "      border: none;\n",
              "      border-radius: 50%;\n",
              "      cursor: pointer;\n",
              "      display: none;\n",
              "      fill: #1967D2;\n",
              "      height: 32px;\n",
              "      padding: 0 0 0 0;\n",
              "      width: 32px;\n",
              "    }\n",
              "\n",
              "    .colab-df-convert:hover {\n",
              "      background-color: #E2EBFA;\n",
              "      box-shadow: 0px 1px 2px rgba(60, 64, 67, 0.3), 0px 1px 3px 1px rgba(60, 64, 67, 0.15);\n",
              "      fill: #174EA6;\n",
              "    }\n",
              "\n",
              "    .colab-df-buttons div {\n",
              "      margin-bottom: 4px;\n",
              "    }\n",
              "\n",
              "    [theme=dark] .colab-df-convert {\n",
              "      background-color: #3B4455;\n",
              "      fill: #D2E3FC;\n",
              "    }\n",
              "\n",
              "    [theme=dark] .colab-df-convert:hover {\n",
              "      background-color: #434B5C;\n",
              "      box-shadow: 0px 1px 3px 1px rgba(0, 0, 0, 0.15);\n",
              "      filter: drop-shadow(0px 1px 2px rgba(0, 0, 0, 0.3));\n",
              "      fill: #FFFFFF;\n",
              "    }\n",
              "  </style>\n",
              "\n",
              "    <script>\n",
              "      const buttonEl =\n",
              "        document.querySelector('#df-28fbb236-03a6-45c8-8722-3232af54489e button.colab-df-convert');\n",
              "      buttonEl.style.display =\n",
              "        google.colab.kernel.accessAllowed ? 'block' : 'none';\n",
              "\n",
              "      async function convertToInteractive(key) {\n",
              "        const element = document.querySelector('#df-28fbb236-03a6-45c8-8722-3232af54489e');\n",
              "        const dataTable =\n",
              "          await google.colab.kernel.invokeFunction('convertToInteractive',\n",
              "                                                    [key], {});\n",
              "        if (!dataTable) return;\n",
              "\n",
              "        const docLinkHtml = 'Like what you see? Visit the ' +\n",
              "          '<a target=\"_blank\" href=https://colab.research.google.com/notebooks/data_table.ipynb>data table notebook</a>'\n",
              "          + ' to learn more about interactive tables.';\n",
              "        element.innerHTML = '';\n",
              "        dataTable['output_type'] = 'display_data';\n",
              "        await google.colab.output.renderOutput(dataTable, element);\n",
              "        const docLink = document.createElement('div');\n",
              "        docLink.innerHTML = docLinkHtml;\n",
              "        element.appendChild(docLink);\n",
              "      }\n",
              "    </script>\n",
              "  </div>\n",
              "\n",
              "\n",
              "<div id=\"df-a08dd7db-f39a-4e80-a70e-fa68076beef2\">\n",
              "  <button class=\"colab-df-quickchart\" onclick=\"quickchart('df-a08dd7db-f39a-4e80-a70e-fa68076beef2')\"\n",
              "            title=\"Suggest charts\"\n",
              "            style=\"display:none;\">\n",
              "\n",
              "<svg xmlns=\"http://www.w3.org/2000/svg\" height=\"24px\"viewBox=\"0 0 24 24\"\n",
              "     width=\"24px\">\n",
              "    <g>\n",
              "        <path d=\"M19 3H5c-1.1 0-2 .9-2 2v14c0 1.1.9 2 2 2h14c1.1 0 2-.9 2-2V5c0-1.1-.9-2-2-2zM9 17H7v-7h2v7zm4 0h-2V7h2v10zm4 0h-2v-4h2v4z\"/>\n",
              "    </g>\n",
              "</svg>\n",
              "  </button>\n",
              "\n",
              "<style>\n",
              "  .colab-df-quickchart {\n",
              "      --bg-color: #E8F0FE;\n",
              "      --fill-color: #1967D2;\n",
              "      --hover-bg-color: #E2EBFA;\n",
              "      --hover-fill-color: #174EA6;\n",
              "      --disabled-fill-color: #AAA;\n",
              "      --disabled-bg-color: #DDD;\n",
              "  }\n",
              "\n",
              "  [theme=dark] .colab-df-quickchart {\n",
              "      --bg-color: #3B4455;\n",
              "      --fill-color: #D2E3FC;\n",
              "      --hover-bg-color: #434B5C;\n",
              "      --hover-fill-color: #FFFFFF;\n",
              "      --disabled-bg-color: #3B4455;\n",
              "      --disabled-fill-color: #666;\n",
              "  }\n",
              "\n",
              "  .colab-df-quickchart {\n",
              "    background-color: var(--bg-color);\n",
              "    border: none;\n",
              "    border-radius: 50%;\n",
              "    cursor: pointer;\n",
              "    display: none;\n",
              "    fill: var(--fill-color);\n",
              "    height: 32px;\n",
              "    padding: 0;\n",
              "    width: 32px;\n",
              "  }\n",
              "\n",
              "  .colab-df-quickchart:hover {\n",
              "    background-color: var(--hover-bg-color);\n",
              "    box-shadow: 0 1px 2px rgba(60, 64, 67, 0.3), 0 1px 3px 1px rgba(60, 64, 67, 0.15);\n",
              "    fill: var(--button-hover-fill-color);\n",
              "  }\n",
              "\n",
              "  .colab-df-quickchart-complete:disabled,\n",
              "  .colab-df-quickchart-complete:disabled:hover {\n",
              "    background-color: var(--disabled-bg-color);\n",
              "    fill: var(--disabled-fill-color);\n",
              "    box-shadow: none;\n",
              "  }\n",
              "\n",
              "  .colab-df-spinner {\n",
              "    border: 2px solid var(--fill-color);\n",
              "    border-color: transparent;\n",
              "    border-bottom-color: var(--fill-color);\n",
              "    animation:\n",
              "      spin 1s steps(1) infinite;\n",
              "  }\n",
              "\n",
              "  @keyframes spin {\n",
              "    0% {\n",
              "      border-color: transparent;\n",
              "      border-bottom-color: var(--fill-color);\n",
              "      border-left-color: var(--fill-color);\n",
              "    }\n",
              "    20% {\n",
              "      border-color: transparent;\n",
              "      border-left-color: var(--fill-color);\n",
              "      border-top-color: var(--fill-color);\n",
              "    }\n",
              "    30% {\n",
              "      border-color: transparent;\n",
              "      border-left-color: var(--fill-color);\n",
              "      border-top-color: var(--fill-color);\n",
              "      border-right-color: var(--fill-color);\n",
              "    }\n",
              "    40% {\n",
              "      border-color: transparent;\n",
              "      border-right-color: var(--fill-color);\n",
              "      border-top-color: var(--fill-color);\n",
              "    }\n",
              "    60% {\n",
              "      border-color: transparent;\n",
              "      border-right-color: var(--fill-color);\n",
              "    }\n",
              "    80% {\n",
              "      border-color: transparent;\n",
              "      border-right-color: var(--fill-color);\n",
              "      border-bottom-color: var(--fill-color);\n",
              "    }\n",
              "    90% {\n",
              "      border-color: transparent;\n",
              "      border-bottom-color: var(--fill-color);\n",
              "    }\n",
              "  }\n",
              "</style>\n",
              "\n",
              "  <script>\n",
              "    async function quickchart(key) {\n",
              "      const quickchartButtonEl =\n",
              "        document.querySelector('#' + key + ' button');\n",
              "      quickchartButtonEl.disabled = true;  // To prevent multiple clicks.\n",
              "      quickchartButtonEl.classList.add('colab-df-spinner');\n",
              "      try {\n",
              "        const charts = await google.colab.kernel.invokeFunction(\n",
              "            'suggestCharts', [key], {});\n",
              "      } catch (error) {\n",
              "        console.error('Error during call to suggestCharts:', error);\n",
              "      }\n",
              "      quickchartButtonEl.classList.remove('colab-df-spinner');\n",
              "      quickchartButtonEl.classList.add('colab-df-quickchart-complete');\n",
              "    }\n",
              "    (() => {\n",
              "      let quickchartButtonEl =\n",
              "        document.querySelector('#df-a08dd7db-f39a-4e80-a70e-fa68076beef2 button');\n",
              "      quickchartButtonEl.style.display =\n",
              "        google.colab.kernel.accessAllowed ? 'block' : 'none';\n",
              "    })();\n",
              "  </script>\n",
              "</div>\n",
              "    </div>\n",
              "  </div>\n"
            ],
            "application/vnd.google.colaboratory.intrinsic+json": {
              "type": "dataframe",
              "summary": "{\n  \"name\": \"crowd_annotations\",\n  \"rows\": 8,\n  \"fields\": [\n    {\n      \"column\": \"conf_rate\",\n      \"properties\": {\n        \"dtype\": \"number\",\n        \"std\": 16910.394211756466,\n        \"min\": 0.0,\n        \"max\": 47830.0,\n        \"num_unique_values\": 5,\n        \"samples\": [\n          0.06878562966060352,\n          1.0,\n          0.2075317553784419\n        ],\n        \"semantic_type\": \"\",\n        \"description\": \"\"\n      }\n    },\n    {\n      \"column\": \"confirm\",\n      \"properties\": {\n        \"dtype\": \"number\",\n        \"std\": 16910.16392645188,\n        \"min\": 0.0,\n        \"max\": 47830.0,\n        \"num_unique_values\": 5,\n        \"samples\": [\n          0.20848839640393058,\n          5.0,\n          0.6288976185185395\n        ],\n        \"semantic_type\": \"\",\n        \"description\": \"\"\n      }\n    },\n    {\n      \"column\": \"not_confirm\",\n      \"properties\": {\n        \"dtype\": \"number\",\n        \"std\": 16909.525546732893,\n        \"min\": 0.0,\n        \"max\": 47830.0,\n        \"num_unique_values\": 6,\n        \"samples\": [\n          47830.0,\n          2.820154714614259,\n          6.0\n        ],\n        \"semantic_type\": \"\",\n        \"description\": \"\"\n      }\n    }\n  ]\n}"
            }
          },
          "metadata": {},
          "execution_count": 26
        }
      ],
      "source": [
        "crowd_annotations.describe()"
      ]
    },
    {
      "cell_type": "code",
      "execution_count": 27,
      "metadata": {
        "colab": {
          "base_uri": "https://localhost:8080/",
          "height": 456
        },
        "id": "LQ5Ts3LPGzWC",
        "outputId": "e5983036-c636-4554-a3c3-b9c851a23365"
      },
      "outputs": [
        {
          "output_type": "display_data",
          "data": {
            "text/plain": [
              "<Figure size 640x480 with 1 Axes>"
            ],
            "image/png": "[encoded data removed]"
          },
          "metadata": {}
        }
      ],
      "source": [
        "# Гистограмма\n",
        "crowd_annotations['conf_rate'].plot.hist()\n",
        "plt.title('Распределение доли, подтвердивших, что описание соответствует изображению')\n",
        "plt.xlabel('Доля')\n",
        "plt.ylabel('Частота')\n",
        "plt.show();"
      ]
    },
    {
      "cell_type": "markdown",
      "metadata": {
        "id": "wdzZkYFhvifV"
      },
      "source": [
        "<img src=\"https://emojigraph.org/media/apple/check-mark-button_2705.png\" align=left width=33, heigth=33>\n",
        "<div class=\"alert alert-success\">\n",
        " 👍 </div>"
      ]
    },
    {
      "cell_type": "markdown",
      "metadata": {
        "id": "Hazpz_gpF2yC"
      },
      "source": [
        "Распределение доли людей, подтвердивших, что описание соответствует изображению (conf_rate) показвает что большенство не потвердило соотвествие. Такой дисбаланс оценок окажет негативное влияние на обучение модели."
      ]
    },
    {
      "cell_type": "markdown",
      "metadata": {
        "id": "zmjMjwbtIQtm"
      },
      "source": [
        "Вывод: для дальнейшей работы над созданием модели лучше использовать датасет с экспертными оценками."
      ]
    },
    {
      "cell_type": "markdown",
      "metadata": {
        "id": "heUFjU2fI81R"
      },
      "source": [
        "Объеденим экспертные оценки и тренировочный датафреймы."
      ]
    },
    {
      "cell_type": "code",
      "execution_count": 28,
      "metadata": {
        "colab": {
          "base_uri": "https://localhost:8080/",
          "height": 198
        },
        "id": "dvorSnFiI8OF",
        "outputId": "ea37a45a-465b-45a9-9c3b-3a2b48354790"
      },
      "outputs": [
        {
          "output_type": "execute_result",
          "data": {
            "text/plain": [
              "                       image                     query_id  \\\n",
              "0  1056338697_4f7d7ce270.jpg  2549968784_39bfbe44f9.jpg#2   \n",
              "1  1262583859_653f1469a9.jpg  2549968784_39bfbe44f9.jpg#2   \n",
              "\n",
              "                                          query_text  exp_norm  \n",
              "0  A young child is wearing blue goggles and sitt...       0.0  \n",
              "1  A young child is wearing blue goggles and sitt...       0.0  "
            ],
            "text/html": [
              "\n",
              "  <div id=\"df-f177c67d-709f-4db6-a9c2-cbd7948a0eac\" class=\"colab-df-container\">\n",
              "    <div>\n",
              "<style scoped>\n",
              "    .dataframe tbody tr th:only-of-type {\n",
              "        vertical-align: middle;\n",
              "    }\n",
              "\n",
              "    .dataframe tbody tr th {\n",
              "        vertical-align: top;\n",
              "    }\n",
              "\n",
              "    .dataframe thead th {\n",
              "        text-align: right;\n",
              "    }\n",
              "</style>\n",
              "<table border=\"1\" class=\"dataframe\">\n",
              "  <thead>\n",
              "    <tr style=\"text-align: right;\">\n",
              "      <th></th>\n",
              "      <th>image</th>\n",
              "      <th>query_id</th>\n",
              "      <th>query_text</th>\n",
              "      <th>exp_norm</th>\n",
              "    </tr>\n",
              "  </thead>\n",
              "  <tbody>\n",
              "    <tr>\n",
              "      <th>0</th>\n",
              "      <td>1056338697_4f7d7ce270.jpg</td>\n",
              "      <td>2549968784_39bfbe44f9.jpg#2</td>\n",
              "      <td>A young child is wearing blue goggles and sitt...</td>\n",
              "      <td>0.0</td>\n",
              "    </tr>\n",
              "    <tr>\n",
              "      <th>1</th>\n",
              "      <td>1262583859_653f1469a9.jpg</td>\n",
              "      <td>2549968784_39bfbe44f9.jpg#2</td>\n",
              "      <td>A young child is wearing blue goggles and sitt...</td>\n",
              "      <td>0.0</td>\n",
              "    </tr>\n",
              "  </tbody>\n",
              "</table>\n",
              "</div>\n",
              "    <div class=\"colab-df-buttons\">\n",
              "\n",
              "  <div class=\"colab-df-container\">\n",
              "    <button class=\"colab-df-convert\" onclick=\"convertToInteractive('df-f177c67d-709f-4db6-a9c2-cbd7948a0eac')\"\n",
              "            title=\"Convert this dataframe to an interactive table.\"\n",
              "            style=\"display:none;\">\n",
              "\n",
              "  <svg xmlns=\"http://www.w3.org/2000/svg\" height=\"24px\" viewBox=\"0 -960 960 960\">\n",
              "    <path d=\"M120-120v-720h720v720H120Zm60-500h600v-160H180v160Zm220 220h160v-160H400v160Zm0 220h160v-160H400v160ZM180-400h160v-160H180v160Zm440 0h160v-160H620v160ZM180-180h160v-160H180v160Zm440 0h160v-160H620v160Z\"/>\n",
              "  </svg>\n",
              "    </button>\n",
              "\n",
              "  <style>\n",
              "    .colab-df-container {\n",
              "      display:flex;\n",
              "      gap: 12px;\n",
              "    }\n",
              "\n",
              "    .colab-df-convert {\n",
              "      background-color: #E8F0FE;\n",
              "      border: none;\n",
              "      border-radius: 50%;\n",
              "      cursor: pointer;\n",
              "      display: none;\n",
              "      fill: #1967D2;\n",
              "      height: 32px;\n",
              "      padding: 0 0 0 0;\n",
              "      width: 32px;\n",
              "    }\n",
              "\n",
              "    .colab-df-convert:hover {\n",
              "      background-color: #E2EBFA;\n",
              "      box-shadow: 0px 1px 2px rgba(60, 64, 67, 0.3), 0px 1px 3px 1px rgba(60, 64, 67, 0.15);\n",
              "      fill: #174EA6;\n",
              "    }\n",
              "\n",
              "    .colab-df-buttons div {\n",
              "      margin-bottom: 4px;\n",
              "    }\n",
              "\n",
              "    [theme=dark] .colab-df-convert {\n",
              "      background-color: #3B4455;\n",
              "      fill: #D2E3FC;\n",
              "    }\n",
              "\n",
              "    [theme=dark] .colab-df-convert:hover {\n",
              "      background-color: #434B5C;\n",
              "      box-shadow: 0px 1px 3px 1px rgba(0, 0, 0, 0.15);\n",
              "      filter: drop-shadow(0px 1px 2px rgba(0, 0, 0, 0.3));\n",
              "      fill: #FFFFFF;\n",
              "    }\n",
              "  </style>\n",
              "\n",
              "    <script>\n",
              "      const buttonEl =\n",
              "        document.querySelector('#df-f177c67d-709f-4db6-a9c2-cbd7948a0eac button.colab-df-convert');\n",
              "      buttonEl.style.display =\n",
              "        google.colab.kernel.accessAllowed ? 'block' : 'none';\n",
              "\n",
              "      async function convertToInteractive(key) {\n",
              "        const element = document.querySelector('#df-f177c67d-709f-4db6-a9c2-cbd7948a0eac');\n",
              "        const dataTable =\n",
              "          await google.colab.kernel.invokeFunction('convertToInteractive',\n",
              "                                                    [key], {});\n",
              "        if (!dataTable) return;\n",
              "\n",
              "        const docLinkHtml = 'Like what you see? Visit the ' +\n",
              "          '<a target=\"_blank\" href=https://colab.research.google.com/notebooks/data_table.ipynb>data table notebook</a>'\n",
              "          + ' to learn more about interactive tables.';\n",
              "        element.innerHTML = '';\n",
              "        dataTable['output_type'] = 'display_data';\n",
              "        await google.colab.output.renderOutput(dataTable, element);\n",
              "        const docLink = document.createElement('div');\n",
              "        docLink.innerHTML = docLinkHtml;\n",
              "        element.appendChild(docLink);\n",
              "      }\n",
              "    </script>\n",
              "  </div>\n",
              "\n",
              "\n",
              "<div id=\"df-793245a2-792c-48f6-a7dd-426ae3495bed\">\n",
              "  <button class=\"colab-df-quickchart\" onclick=\"quickchart('df-793245a2-792c-48f6-a7dd-426ae3495bed')\"\n",
              "            title=\"Suggest charts\"\n",
              "            style=\"display:none;\">\n",
              "\n",
              "<svg xmlns=\"http://www.w3.org/2000/svg\" height=\"24px\"viewBox=\"0 0 24 24\"\n",
              "     width=\"24px\">\n",
              "    <g>\n",
              "        <path d=\"M19 3H5c-1.1 0-2 .9-2 2v14c0 1.1.9 2 2 2h14c1.1 0 2-.9 2-2V5c0-1.1-.9-2-2-2zM9 17H7v-7h2v7zm4 0h-2V7h2v10zm4 0h-2v-4h2v4z\"/>\n",
              "    </g>\n",
              "</svg>\n",
              "  </button>\n",
              "\n",
              "<style>\n",
              "  .colab-df-quickchart {\n",
              "      --bg-color: #E8F0FE;\n",
              "      --fill-color: #1967D2;\n",
              "      --hover-bg-color: #E2EBFA;\n",
              "      --hover-fill-color: #174EA6;\n",
              "      --disabled-fill-color: #AAA;\n",
              "      --disabled-bg-color: #DDD;\n",
              "  }\n",
              "\n",
              "  [theme=dark] .colab-df-quickchart {\n",
              "      --bg-color: #3B4455;\n",
              "      --fill-color: #D2E3FC;\n",
              "      --hover-bg-color: #434B5C;\n",
              "      --hover-fill-color: #FFFFFF;\n",
              "      --disabled-bg-color: #3B4455;\n",
              "      --disabled-fill-color: #666;\n",
              "  }\n",
              "\n",
              "  .colab-df-quickchart {\n",
              "    background-color: var(--bg-color);\n",
              "    border: none;\n",
              "    border-radius: 50%;\n",
              "    cursor: pointer;\n",
              "    display: none;\n",
              "    fill: var(--fill-color);\n",
              "    height: 32px;\n",
              "    padding: 0;\n",
              "    width: 32px;\n",
              "  }\n",
              "\n",
              "  .colab-df-quickchart:hover {\n",
              "    background-color: var(--hover-bg-color);\n",
              "    box-shadow: 0 1px 2px rgba(60, 64, 67, 0.3), 0 1px 3px 1px rgba(60, 64, 67, 0.15);\n",
              "    fill: var(--button-hover-fill-color);\n",
              "  }\n",
              "\n",
              "  .colab-df-quickchart-complete:disabled,\n",
              "  .colab-df-quickchart-complete:disabled:hover {\n",
              "    background-color: var(--disabled-bg-color);\n",
              "    fill: var(--disabled-fill-color);\n",
              "    box-shadow: none;\n",
              "  }\n",
              "\n",
              "  .colab-df-spinner {\n",
              "    border: 2px solid var(--fill-color);\n",
              "    border-color: transparent;\n",
              "    border-bottom-color: var(--fill-color);\n",
              "    animation:\n",
              "      spin 1s steps(1) infinite;\n",
              "  }\n",
              "\n",
              "  @keyframes spin {\n",
              "    0% {\n",
              "      border-color: transparent;\n",
              "      border-bottom-color: var(--fill-color);\n",
              "      border-left-color: var(--fill-color);\n",
              "    }\n",
              "    20% {\n",
              "      border-color: transparent;\n",
              "      border-left-color: var(--fill-color);\n",
              "      border-top-color: var(--fill-color);\n",
              "    }\n",
              "    30% {\n",
              "      border-color: transparent;\n",
              "      border-left-color: var(--fill-color);\n",
              "      border-top-color: var(--fill-color);\n",
              "      border-right-color: var(--fill-color);\n",
              "    }\n",
              "    40% {\n",
              "      border-color: transparent;\n",
              "      border-right-color: var(--fill-color);\n",
              "      border-top-color: var(--fill-color);\n",
              "    }\n",
              "    60% {\n",
              "      border-color: transparent;\n",
              "      border-right-color: var(--fill-color);\n",
              "    }\n",
              "    80% {\n",
              "      border-color: transparent;\n",
              "      border-right-color: var(--fill-color);\n",
              "      border-bottom-color: var(--fill-color);\n",
              "    }\n",
              "    90% {\n",
              "      border-color: transparent;\n",
              "      border-bottom-color: var(--fill-color);\n",
              "    }\n",
              "  }\n",
              "</style>\n",
              "\n",
              "  <script>\n",
              "    async function quickchart(key) {\n",
              "      const quickchartButtonEl =\n",
              "        document.querySelector('#' + key + ' button');\n",
              "      quickchartButtonEl.disabled = true;  // To prevent multiple clicks.\n",
              "      quickchartButtonEl.classList.add('colab-df-spinner');\n",
              "      try {\n",
              "        const charts = await google.colab.kernel.invokeFunction(\n",
              "            'suggestCharts', [key], {});\n",
              "      } catch (error) {\n",
              "        console.error('Error during call to suggestCharts:', error);\n",
              "      }\n",
              "      quickchartButtonEl.classList.remove('colab-df-spinner');\n",
              "      quickchartButtonEl.classList.add('colab-df-quickchart-complete');\n",
              "    }\n",
              "    (() => {\n",
              "      let quickchartButtonEl =\n",
              "        document.querySelector('#df-793245a2-792c-48f6-a7dd-426ae3495bed button');\n",
              "      quickchartButtonEl.style.display =\n",
              "        google.colab.kernel.accessAllowed ? 'block' : 'none';\n",
              "    })();\n",
              "  </script>\n",
              "</div>\n",
              "    </div>\n",
              "  </div>\n"
            ],
            "application/vnd.google.colaboratory.intrinsic+json": {
              "type": "dataframe",
              "variable_name": "train_data",
              "summary": "{\n  \"name\": \"train_data\",\n  \"rows\": 5822,\n  \"fields\": [\n    {\n      \"column\": \"image\",\n      \"properties\": {\n        \"dtype\": \"category\",\n        \"num_unique_values\": 1000,\n        \"samples\": [\n          \"260828892_7925d27865.jpg\",\n          \"2892995070_39f3c9a56e.jpg\",\n          \"2208067635_39a03834ca.jpg\"\n        ],\n        \"semantic_type\": \"\",\n        \"description\": \"\"\n      }\n    },\n    {\n      \"column\": \"query_id\",\n      \"properties\": {\n        \"dtype\": \"category\",\n        \"num_unique_values\": 977,\n        \"samples\": [\n          \"300922408_05a4f9938c.jpg#2\",\n          \"2309860995_c2e2a0feeb.jpg#2\",\n          \"3500136982_bf7a85531e.jpg#2\"\n        ],\n        \"semantic_type\": \"\",\n        \"description\": \"\"\n      }\n    },\n    {\n      \"column\": \"query_text\",\n      \"properties\": {\n        \"dtype\": \"category\",\n        \"num_unique_values\": 977,\n        \"samples\": [\n          \"A man kneels in the wet sand at a beach near a dog .\",\n          \"A woman wears sunglasses and a black coat as she walks .\",\n          \"A line of rollerbladers crouch down aerodynamically\"\n        ],\n        \"semantic_type\": \"\",\n        \"description\": \"\"\n      }\n    },\n    {\n      \"column\": \"exp_norm\",\n      \"properties\": {\n        \"dtype\": \"number\",\n        \"std\": 0.2854072476993617,\n        \"min\": 0.0,\n        \"max\": 1.0,\n        \"num_unique_values\": 4,\n        \"samples\": [\n          0.3333333333333333,\n          0.6666666666666666,\n          0.0\n        ],\n        \"semantic_type\": \"\",\n        \"description\": \"\"\n      }\n    }\n  ]\n}"
            }
          },
          "metadata": {},
          "execution_count": 28
        }
      ],
      "source": [
        "train_data = train_dataset\\\n",
        ".merge(expert_annotations[['image', 'query_id', 'exp_norm']], how='left', on=['image', 'query_id'])\n",
        "train_data.head(2)"
      ]
    },
    {
      "cell_type": "markdown",
      "metadata": {
        "id": "TlHnZmx-vifW"
      },
      "source": [
        "<img src=\"https://emojigraph.org/media/apple/check-mark-button_2705.png\" align=left width=33, heigth=33>\n",
        "<div class=\"alert alert-success\">\n",
        "\n",
        "По объединению экспертных и крауд оценок все ОК, но подсвечу возможные альтернативы\n",
        "    \n",
        "--------------    \n",
        "    \n",
        "    \n",
        "В этом проекте есть несколько возможных стратегий работы с обучающими и краудсорс оценками,  вот эти стратегии с плюсами и минусами:\n",
        "   \n",
        "\n",
        "   - использовать соединение через outer, в этом случае, при корректной обработке пропусков мы можем получить более 50К размеченых пар. К плюсам данного подхода можно отнести большое количество данных. Минус - в основном это будут данные, размеченные краудсорсерами, а там качество раметки ниже.\n",
        "   - использовать только экспертные оценки. плюс - высокое качество данных (разметка имеет шкалу). Минус - данных меньше.  Поясню по поводу качества разметки на примере: если на изображении одна собака, а в описании \"две собаки бегут по берегу\", то эксперты поставять соответствие 0,6-0,7 (переводя в шкалу 0-1), а краудсорсеры поставят 0.  Но на экспертных оценках модель хотя-бы научится находить собак, а на краудсор оценках ничему не начится.\n",
        "\n",
        "   - использование соединения через left.  Данный подход очевидно проигрывает второму варианту: данных столько же, нужно дополнительно возиться с объединением, но качество разметки снижается.. Но это соответсвует предложениям авторов проекта, поэтому такой подход имеет право на жизнь\n",
        "\n",
        "   - объединение через inner. Тут все плохо - и данных ОЧЕНЬ мало (в два раза меньше, чем использовать только экспертные оценки) и качество у них \"подпорчено\". И навыков по обработке пропусков не получаем.....\n",
        "\n",
        "\n",
        "</div>"
      ]
    },
    {
      "cell_type": "code",
      "execution_count": 29,
      "metadata": {
        "colab": {
          "base_uri": "https://localhost:8080/"
        },
        "id": "FN49ikBAe_VQ",
        "outputId": "f3219e0e-37a6-4e90-bb06-17e41c1f8c73"
      },
      "outputs": [
        {
          "output_type": "stream",
          "name": "stdout",
          "text": [
            "<class 'pandas.core.frame.DataFrame'>\n",
            "RangeIndex: 5822 entries, 0 to 5821\n",
            "Data columns (total 4 columns):\n",
            " #   Column      Non-Null Count  Dtype  \n",
            "---  ------      --------------  -----  \n",
            " 0   image       5822 non-null   object \n",
            " 1   query_id    5822 non-null   object \n",
            " 2   query_text  5822 non-null   object \n",
            " 3   exp_norm    5822 non-null   float64\n",
            "dtypes: float64(1), object(3)\n",
            "memory usage: 182.1+ KB\n"
          ]
        }
      ],
      "source": [
        "train_data.info()"
      ]
    },
    {
      "cell_type": "markdown",
      "metadata": {
        "id": "hdqty_7cfE9i"
      },
      "source": [
        "Пропусков нет."
      ]
    },
    {
      "cell_type": "code",
      "execution_count": 30,
      "metadata": {
        "colab": {
          "base_uri": "https://localhost:8080/"
        },
        "id": "fpoLTQzHSS2Q",
        "outputId": "7997c798-ac9c-42f6-d036-0f4195c5ec7a"
      },
      "outputs": [
        {
          "output_type": "execute_result",
          "data": {
            "text/plain": [
              "0"
            ]
          },
          "metadata": {},
          "execution_count": 30
        }
      ],
      "source": [
        "train_data.duplicated().sum()"
      ]
    },
    {
      "cell_type": "markdown",
      "metadata": {
        "id": "oysekmx6vifW"
      },
      "source": [
        "<img src=\"https://emojigraph.org/media/apple/check-mark-button_2705.png\" align=left width=33, heigth=33>\n",
        "<div class=\"alert alert-success\">\n",
        "Отлично, этап предобработки проведен корректно, получен итоговый датфрейм признаки (пары изображение + описание) и таргет (агрегированная экспертная оценка). Можем продолжать с ним работать.</div>"
      ]
    },
    {
      "cell_type": "markdown",
      "metadata": {
        "id": "K9oPvgQnS2OP"
      },
      "source": [
        "Дублиатов нет."
      ]
    },
    {
      "cell_type": "markdown",
      "metadata": {
        "id": "NFWPUL65Isrs"
      },
      "source": [
        "## Проверка данных"
      ]
    },
    {
      "cell_type": "markdown",
      "metadata": {
        "id": "n0z_PYFBKx1O"
      },
      "source": [
        "Удалим все изображения, которые нарушают закон из обучающей выборки."
      ]
    },
    {
      "cell_type": "code",
      "execution_count": 31,
      "metadata": {
        "id": "92KeFM67KvV_"
      },
      "outputs": [],
      "source": [
        "# Список запрещённых слов для проверки\n",
        "ban_wordlist = ['girl', 'girls', 'boy', 'boys', 'child', 'children',\n",
        "                'baby', 'babies', 'young', 'teen', 'teenager', 'kid',\n",
        "                'kids', 'toddler', 'toddlers', 'minor', 'youth',\n",
        "                'junior', 'infant', 'infants'\n",
        "                ]"
      ]
    },
    {
      "cell_type": "code",
      "execution_count": 32,
      "metadata": {
        "id": "cUP6BRT_T9ol"
      },
      "outputs": [],
      "source": [
        "# Функция проверки запрещённых слов\n",
        "def delete_ban_words(string, ban_wordlist):\n",
        "    # Разделение строки\n",
        "    lst = string.split()  # Если string не строка, это может вызвать ошибку\n",
        "\n",
        "    # Проверка на наличие запрещённых слов:\n",
        "    if set(lst).intersection(ban_wordlist):\n",
        "        return np.nan # если такие слова есть\n",
        "    else:\n",
        "        return string # саму строку, если запрещённых слов нет\n"
      ]
    },
    {
      "cell_type": "code",
      "execution_count": 33,
      "metadata": {
        "id": "-jwlNr_4VPA6"
      },
      "outputs": [],
      "source": [
        "# Функция проверки содержит ли входная строка хотя бы одно из запрещённых слов\n",
        "def find_ban_text(string, ban_wordlist):\n",
        "    # Проверка наличия запрещённых слов\n",
        "    if any(word in ban_wordlist for word in string.split()):\n",
        "        return string\n",
        "    else:\n",
        "        return np.nan"
      ]
    },
    {
      "cell_type": "markdown",
      "metadata": {
        "id": "SY-LjZRqYLsa"
      },
      "source": [
        "Найдём все комментарии (или строки) из колонки 'query_text' train_dataset, которые содержат одно или несколько запрещённых слов из списка ban_wordlist"
      ]
    },
    {
      "cell_type": "code",
      "execution_count": 34,
      "metadata": {
        "colab": {
          "base_uri": "https://localhost:8080/",
          "height": 470
        },
        "id": "8enzuXbqW-ay",
        "outputId": "710a60de-395a-4658-8d05-0165958aaef8",
        "scrolled": false
      },
      "outputs": [
        {
          "output_type": "execute_result",
          "data": {
            "text/plain": [
              "0       A young child is wearing blue goggles and sitt...\n",
              "1       A young child is wearing blue goggles and sitt...\n",
              "2       A young child is wearing blue goggles and sitt...\n",
              "3       A young child is wearing blue goggles and sitt...\n",
              "4       A young child is wearing blue goggles and sitt...\n",
              "                              ...                        \n",
              "5802    A girl wearing a swimsuit top wears a sign to ...\n",
              "5803    A young girl balances on wooden pylons at the ...\n",
              "5804    A young girl balances on wooden pylons at the ...\n",
              "5814    a woman holding a small ball chasing after a s...\n",
              "5817           A man in an ampitheater talking to a boy .\n",
              "Name: query_text, Length: 1564, dtype: object"
            ],
            "text/html": [
              "<div>\n",
              "<style scoped>\n",
              "    .dataframe tbody tr th:only-of-type {\n",
              "        vertical-align: middle;\n",
              "    }\n",
              "\n",
              "    .dataframe tbody tr th {\n",
              "        vertical-align: top;\n",
              "    }\n",
              "\n",
              "    .dataframe thead th {\n",
              "        text-align: right;\n",
              "    }\n",
              "</style>\n",
              "<table border=\"1\" class=\"dataframe\">\n",
              "  <thead>\n",
              "    <tr style=\"text-align: right;\">\n",
              "      <th></th>\n",
              "      <th>query_text</th>\n",
              "    </tr>\n",
              "  </thead>\n",
              "  <tbody>\n",
              "    <tr>\n",
              "      <th>0</th>\n",
              "      <td>A young child is wearing blue goggles and sitt...</td>\n",
              "    </tr>\n",
              "    <tr>\n",
              "      <th>1</th>\n",
              "      <td>A young child is wearing blue goggles and sitt...</td>\n",
              "    </tr>\n",
              "    <tr>\n",
              "      <th>2</th>\n",
              "      <td>A young child is wearing blue goggles and sitt...</td>\n",
              "    </tr>\n",
              "    <tr>\n",
              "      <th>3</th>\n",
              "      <td>A young child is wearing blue goggles and sitt...</td>\n",
              "    </tr>\n",
              "    <tr>\n",
              "      <th>4</th>\n",
              "      <td>A young child is wearing blue goggles and sitt...</td>\n",
              "    </tr>\n",
              "    <tr>\n",
              "      <th>...</th>\n",
              "      <td>...</td>\n",
              "    </tr>\n",
              "    <tr>\n",
              "      <th>5802</th>\n",
              "      <td>A girl wearing a swimsuit top wears a sign to ...</td>\n",
              "    </tr>\n",
              "    <tr>\n",
              "      <th>5803</th>\n",
              "      <td>A young girl balances on wooden pylons at the ...</td>\n",
              "    </tr>\n",
              "    <tr>\n",
              "      <th>5804</th>\n",
              "      <td>A young girl balances on wooden pylons at the ...</td>\n",
              "    </tr>\n",
              "    <tr>\n",
              "      <th>5814</th>\n",
              "      <td>a woman holding a small ball chasing after a s...</td>\n",
              "    </tr>\n",
              "    <tr>\n",
              "      <th>5817</th>\n",
              "      <td>A man in an ampitheater talking to a boy .</td>\n",
              "    </tr>\n",
              "  </tbody>\n",
              "</table>\n",
              "<p>1564 rows × 1 columns</p>\n",
              "</div><br><label><b>dtype:</b> object</label>"
            ]
          },
          "metadata": {},
          "execution_count": 34
        }
      ],
      "source": [
        "ban_comments = train_data['query_text'].apply(lambda x: find_ban_text(x, ban_wordlist)).dropna()\n",
        "ban_comments"
      ]
    },
    {
      "cell_type": "markdown",
      "metadata": {
        "id": "pBf-D5tAYfl8"
      },
      "source": [
        "Найдено 1564 строки с запрещёнными словами."
      ]
    },
    {
      "cell_type": "code",
      "execution_count": 35,
      "metadata": {
        "colab": {
          "base_uri": "https://localhost:8080/"
        },
        "id": "RNSbDVAaYy_F",
        "outputId": "6e41f225-523b-4274-cb4b-b3790868f53a"
      },
      "outputs": [
        {
          "output_type": "stream",
          "name": "stdout",
          "text": [
            "<class 'pandas.core.frame.DataFrame'>\n",
            "Index: 4091 entries, 0 to 5820\n",
            "Data columns (total 4 columns):\n",
            " #   Column      Non-Null Count  Dtype  \n",
            "---  ------      --------------  -----  \n",
            " 0   image       4091 non-null   object \n",
            " 1   query_id    4091 non-null   object \n",
            " 2   query_text  4091 non-null   object \n",
            " 3   exp_norm    4091 non-null   float64\n",
            "dtypes: float64(1), object(3)\n",
            "memory usage: 159.8+ KB\n"
          ]
        },
        {
          "output_type": "stream",
          "name": "stderr",
          "text": [
            "<ipython-input-35-bdef13d3c16f>:5: SettingWithCopyWarning: \n",
            "A value is trying to be set on a copy of a slice from a DataFrame.\n",
            "Try using .loc[row_indexer,col_indexer] = value instead\n",
            "\n",
            "See the caveats in the documentation: https://pandas.pydata.org/pandas-docs/stable/user_guide/indexing.html#returning-a-view-versus-a-copy\n",
            "  train_data_ban['query_id'] = train_data_ban['query_id'].map(lambda x: str(x)[:-2])\n"
          ]
        }
      ],
      "source": [
        "# Оставим только строки с запрещенными комментариями\n",
        "train_data_ban = train_data[train_data['query_text'].isin(ban_comments)]\n",
        "\n",
        "# Убираем последние 2 символа из query_id\n",
        "train_data_ban['query_id'] = train_data_ban['query_id'].map(lambda x: str(x)[:-2])\n",
        "\n",
        "# Cписок запрещенных картинок, которые нужно удалить\n",
        "ban_images = train_data_ban['query_id'].unique()\n",
        "\n",
        "# Убираем из датафрейма все запрещенные изображения\n",
        "train_data_clear = train_data[train_data['image'].isin(ban_images) == False]\n",
        "\n",
        "train_data_clear.info()"
      ]
    },
    {
      "cell_type": "code",
      "source": [
        "train_data_clear.isna().sum()"
      ],
      "metadata": {
        "colab": {
          "base_uri": "https://localhost:8080/",
          "height": 226
        },
        "id": "TtpiljKzDnko",
        "outputId": "a93e16da-c4a8-4ede-87b5-5f0a8c5f59cb"
      },
      "execution_count": 36,
      "outputs": [
        {
          "output_type": "execute_result",
          "data": {
            "text/plain": [
              "image         0\n",
              "query_id      0\n",
              "query_text    0\n",
              "exp_norm      0\n",
              "dtype: int64"
            ],
            "text/html": [
              "<div>\n",
              "<style scoped>\n",
              "    .dataframe tbody tr th:only-of-type {\n",
              "        vertical-align: middle;\n",
              "    }\n",
              "\n",
              "    .dataframe tbody tr th {\n",
              "        vertical-align: top;\n",
              "    }\n",
              "\n",
              "    .dataframe thead th {\n",
              "        text-align: right;\n",
              "    }\n",
              "</style>\n",
              "<table border=\"1\" class=\"dataframe\">\n",
              "  <thead>\n",
              "    <tr style=\"text-align: right;\">\n",
              "      <th></th>\n",
              "      <th>0</th>\n",
              "    </tr>\n",
              "  </thead>\n",
              "  <tbody>\n",
              "    <tr>\n",
              "      <th>image</th>\n",
              "      <td>0</td>\n",
              "    </tr>\n",
              "    <tr>\n",
              "      <th>query_id</th>\n",
              "      <td>0</td>\n",
              "    </tr>\n",
              "    <tr>\n",
              "      <th>query_text</th>\n",
              "      <td>0</td>\n",
              "    </tr>\n",
              "    <tr>\n",
              "      <th>exp_norm</th>\n",
              "      <td>0</td>\n",
              "    </tr>\n",
              "  </tbody>\n",
              "</table>\n",
              "</div><br><label><b>dtype:</b> int64</label>"
            ]
          },
          "metadata": {},
          "execution_count": 36
        }
      ]
    },
    {
      "cell_type": "markdown",
      "metadata": {
        "id": "b-JevY9qvifX"
      },
      "source": [
        "<img src=\"https://emojigraph.org/media/apple/check-mark-button_2705.png\" align=left width=33, heigth=33>\n",
        "<div class=\"alert alert-success\">\n",
        "Все ОК, для очистки датасета от пар, содержащих фотографий с детьми применет самый оптимальный метод, связанный с устройством наших данных (описание содержит инфомрацию об изображении, для которого было написано) </div>"
      ]
    },
    {
      "cell_type": "markdown",
      "metadata": {
        "id": "LWDHos42vifY"
      },
      "source": [
        "<img src=\"https://emojigraph.org/media/apple/check-mark-button_2705.png\" align=left width=33, heigth=33>\n",
        "<div class=\"alert alert-success\">\n",
        "Здесь все ОК, векторизация изображений произведена верно. Единственное, что можно было бы улучшить: чтобы изображения не сжимались, можно векторизовать не все изображение, а вначале вырезать квадрат из центра (посмотри как это было сделано в примере на pytorch с теории курса. </div>"
      ]
    },
    {
      "cell_type": "code",
      "source": [
        "train_data_clear.head(1)"
      ],
      "metadata": {
        "colab": {
          "base_uri": "https://localhost:8080/",
          "height": 133
        },
        "id": "nqK_gi7i0P_r",
        "outputId": "53912e16-5a76-48da-b0f4-2e8e843bbe06"
      },
      "execution_count": 37,
      "outputs": [
        {
          "output_type": "execute_result",
          "data": {
            "text/plain": [
              "                       image                     query_id  \\\n",
              "0  1056338697_4f7d7ce270.jpg  2549968784_39bfbe44f9.jpg#2   \n",
              "\n",
              "                                          query_text  exp_norm  \n",
              "0  A young child is wearing blue goggles and sitt...       0.0  "
            ],
            "text/html": [
              "\n",
              "  <div id=\"df-f04f572e-eb60-4a87-8a4f-7cd1bc6dc1d7\" class=\"colab-df-container\">\n",
              "    <div>\n",
              "<style scoped>\n",
              "    .dataframe tbody tr th:only-of-type {\n",
              "        vertical-align: middle;\n",
              "    }\n",
              "\n",
              "    .dataframe tbody tr th {\n",
              "        vertical-align: top;\n",
              "    }\n",
              "\n",
              "    .dataframe thead th {\n",
              "        text-align: right;\n",
              "    }\n",
              "</style>\n",
              "<table border=\"1\" class=\"dataframe\">\n",
              "  <thead>\n",
              "    <tr style=\"text-align: right;\">\n",
              "      <th></th>\n",
              "      <th>image</th>\n",
              "      <th>query_id</th>\n",
              "      <th>query_text</th>\n",
              "      <th>exp_norm</th>\n",
              "    </tr>\n",
              "  </thead>\n",
              "  <tbody>\n",
              "    <tr>\n",
              "      <th>0</th>\n",
              "      <td>1056338697_4f7d7ce270.jpg</td>\n",
              "      <td>2549968784_39bfbe44f9.jpg#2</td>\n",
              "      <td>A young child is wearing blue goggles and sitt...</td>\n",
              "      <td>0.0</td>\n",
              "    </tr>\n",
              "  </tbody>\n",
              "</table>\n",
              "</div>\n",
              "    <div class=\"colab-df-buttons\">\n",
              "\n",
              "  <div class=\"colab-df-container\">\n",
              "    <button class=\"colab-df-convert\" onclick=\"convertToInteractive('df-f04f572e-eb60-4a87-8a4f-7cd1bc6dc1d7')\"\n",
              "            title=\"Convert this dataframe to an interactive table.\"\n",
              "            style=\"display:none;\">\n",
              "\n",
              "  <svg xmlns=\"http://www.w3.org/2000/svg\" height=\"24px\" viewBox=\"0 -960 960 960\">\n",
              "    <path d=\"M120-120v-720h720v720H120Zm60-500h600v-160H180v160Zm220 220h160v-160H400v160Zm0 220h160v-160H400v160ZM180-400h160v-160H180v160Zm440 0h160v-160H620v160ZM180-180h160v-160H180v160Zm440 0h160v-160H620v160Z\"/>\n",
              "  </svg>\n",
              "    </button>\n",
              "\n",
              "  <style>\n",
              "    .colab-df-container {\n",
              "      display:flex;\n",
              "      gap: 12px;\n",
              "    }\n",
              "\n",
              "    .colab-df-convert {\n",
              "      background-color: #E8F0FE;\n",
              "      border: none;\n",
              "      border-radius: 50%;\n",
              "      cursor: pointer;\n",
              "      display: none;\n",
              "      fill: #1967D2;\n",
              "      height: 32px;\n",
              "      padding: 0 0 0 0;\n",
              "      width: 32px;\n",
              "    }\n",
              "\n",
              "    .colab-df-convert:hover {\n",
              "      background-color: #E2EBFA;\n",
              "      box-shadow: 0px 1px 2px rgba(60, 64, 67, 0.3), 0px 1px 3px 1px rgba(60, 64, 67, 0.15);\n",
              "      fill: #174EA6;\n",
              "    }\n",
              "\n",
              "    .colab-df-buttons div {\n",
              "      margin-bottom: 4px;\n",
              "    }\n",
              "\n",
              "    [theme=dark] .colab-df-convert {\n",
              "      background-color: #3B4455;\n",
              "      fill: #D2E3FC;\n",
              "    }\n",
              "\n",
              "    [theme=dark] .colab-df-convert:hover {\n",
              "      background-color: #434B5C;\n",
              "      box-shadow: 0px 1px 3px 1px rgba(0, 0, 0, 0.15);\n",
              "      filter: drop-shadow(0px 1px 2px rgba(0, 0, 0, 0.3));\n",
              "      fill: #FFFFFF;\n",
              "    }\n",
              "  </style>\n",
              "\n",
              "    <script>\n",
              "      const buttonEl =\n",
              "        document.querySelector('#df-f04f572e-eb60-4a87-8a4f-7cd1bc6dc1d7 button.colab-df-convert');\n",
              "      buttonEl.style.display =\n",
              "        google.colab.kernel.accessAllowed ? 'block' : 'none';\n",
              "\n",
              "      async function convertToInteractive(key) {\n",
              "        const element = document.querySelector('#df-f04f572e-eb60-4a87-8a4f-7cd1bc6dc1d7');\n",
              "        const dataTable =\n",
              "          await google.colab.kernel.invokeFunction('convertToInteractive',\n",
              "                                                    [key], {});\n",
              "        if (!dataTable) return;\n",
              "\n",
              "        const docLinkHtml = 'Like what you see? Visit the ' +\n",
              "          '<a target=\"_blank\" href=https://colab.research.google.com/notebooks/data_table.ipynb>data table notebook</a>'\n",
              "          + ' to learn more about interactive tables.';\n",
              "        element.innerHTML = '';\n",
              "        dataTable['output_type'] = 'display_data';\n",
              "        await google.colab.output.renderOutput(dataTable, element);\n",
              "        const docLink = document.createElement('div');\n",
              "        docLink.innerHTML = docLinkHtml;\n",
              "        element.appendChild(docLink);\n",
              "      }\n",
              "    </script>\n",
              "  </div>\n",
              "\n",
              "    </div>\n",
              "  </div>\n"
            ],
            "application/vnd.google.colaboratory.intrinsic+json": {
              "type": "dataframe",
              "variable_name": "train_data_clear",
              "summary": "{\n  \"name\": \"train_data_clear\",\n  \"rows\": 4091,\n  \"fields\": [\n    {\n      \"column\": \"image\",\n      \"properties\": {\n        \"dtype\": \"category\",\n        \"num_unique_values\": 710,\n        \"samples\": [\n          \"2971431335_e192613db4.jpg\",\n          \"115684808_cb01227802.jpg\",\n          \"424779662_568f9606d0.jpg\"\n        ],\n        \"semantic_type\": \"\",\n        \"description\": \"\"\n      }\n    },\n    {\n      \"column\": \"query_id\",\n      \"properties\": {\n        \"dtype\": \"category\",\n        \"num_unique_values\": 939,\n        \"samples\": [\n          \"3290105461_7590f23371.jpg#2\",\n          \"3239021459_a6b71bb400.jpg#2\",\n          \"2708686056_1b8f356264.jpg#2\"\n        ],\n        \"semantic_type\": \"\",\n        \"description\": \"\"\n      }\n    },\n    {\n      \"column\": \"query_text\",\n      \"properties\": {\n        \"dtype\": \"category\",\n        \"num_unique_values\": 939,\n        \"samples\": [\n          \"A man in a rugby uniform hitting a ball in a grassy field .\",\n          \"A child sleds over a mound of snow as others watch him .\",\n          \"A woman walking into the waves .\"\n        ],\n        \"semantic_type\": \"\",\n        \"description\": \"\"\n      }\n    },\n    {\n      \"column\": \"exp_norm\",\n      \"properties\": {\n        \"dtype\": \"number\",\n        \"std\": 0.2994037503547925,\n        \"min\": 0.0,\n        \"max\": 1.0,\n        \"num_unique_values\": 4,\n        \"samples\": [\n          0.3333333333333333,\n          1.0,\n          0.0\n        ],\n        \"semantic_type\": \"\",\n        \"description\": \"\"\n      }\n    }\n  ]\n}"
            }
          },
          "metadata": {},
          "execution_count": 37
        }
      ]
    },
    {
      "cell_type": "code",
      "source": [
        "nlp = spacy.load('en_core_web_sm', disable=['parser', 'ner'])\n",
        "def lemmatize_text(df):\n",
        "    df['lem_text'] = df['query_text'].apply(lambda text: \" \".join([token.lemma_ for token in nlp(text)]))\n",
        "    return df\n",
        "\n",
        "train_lemma = lemmatize_text(train_data_clear)"
      ],
      "metadata": {
        "colab": {
          "base_uri": "https://localhost:8080/"
        },
        "id": "61QanQ7ramZF",
        "outputId": "0cefe3e3-05cb-43c9-f891-2093b19ff91d"
      },
      "execution_count": 38,
      "outputs": [
        {
          "output_type": "stream",
          "name": "stderr",
          "text": [
            "<ipython-input-38-a6000263e98e>:3: SettingWithCopyWarning: \n",
            "A value is trying to be set on a copy of a slice from a DataFrame.\n",
            "Try using .loc[row_indexer,col_indexer] = value instead\n",
            "\n",
            "See the caveats in the documentation: https://pandas.pydata.org/pandas-docs/stable/user_guide/indexing.html#returning-a-view-versus-a-copy\n",
            "  df['lem_text'] = df['query_text'].apply(lambda text: \" \".join([token.lemma_ for token in nlp(text)]))\n"
          ]
        }
      ]
    },
    {
      "cell_type": "code",
      "source": [
        "train_lemma.reset_index(drop=True, inplace=True)\n"
      ],
      "metadata": {
        "id": "qqLfZL2olODH"
      },
      "execution_count": 39,
      "outputs": []
    },
    {
      "cell_type": "code",
      "source": [
        "train_lemma.info()"
      ],
      "metadata": {
        "colab": {
          "base_uri": "https://localhost:8080/"
        },
        "id": "UV2AtVvokgQl",
        "outputId": "b1ab0d0d-01b3-4946-85ba-45f70b33b2af"
      },
      "execution_count": 40,
      "outputs": [
        {
          "output_type": "stream",
          "name": "stdout",
          "text": [
            "<class 'pandas.core.frame.DataFrame'>\n",
            "RangeIndex: 4091 entries, 0 to 4090\n",
            "Data columns (total 5 columns):\n",
            " #   Column      Non-Null Count  Dtype  \n",
            "---  ------      --------------  -----  \n",
            " 0   image       4091 non-null   object \n",
            " 1   query_id    4091 non-null   object \n",
            " 2   query_text  4091 non-null   object \n",
            " 3   exp_norm    4091 non-null   float64\n",
            " 4   lem_text    4091 non-null   object \n",
            "dtypes: float64(1), object(4)\n",
            "memory usage: 159.9+ KB\n"
          ]
        }
      ]
    },
    {
      "cell_type": "code",
      "source": [
        "train_lemma.head(1)"
      ],
      "metadata": {
        "colab": {
          "base_uri": "https://localhost:8080/",
          "height": 184
        },
        "id": "79lCx685azND",
        "outputId": "210931ea-08ca-40e5-920b-4479f10c5aea"
      },
      "execution_count": 41,
      "outputs": [
        {
          "output_type": "execute_result",
          "data": {
            "text/plain": [
              "                       image                     query_id  \\\n",
              "0  1056338697_4f7d7ce270.jpg  2549968784_39bfbe44f9.jpg#2   \n",
              "\n",
              "                                          query_text  exp_norm  \\\n",
              "0  A young child is wearing blue goggles and sitt...       0.0   \n",
              "\n",
              "                                            lem_text  \n",
              "0  a young child be wear blue goggle and sit in a...  "
            ],
            "text/html": [
              "\n",
              "  <div id=\"df-a6234858-0e22-405b-8cdb-fbacf16bb5a6\" class=\"colab-df-container\">\n",
              "    <div>\n",
              "<style scoped>\n",
              "    .dataframe tbody tr th:only-of-type {\n",
              "        vertical-align: middle;\n",
              "    }\n",
              "\n",
              "    .dataframe tbody tr th {\n",
              "        vertical-align: top;\n",
              "    }\n",
              "\n",
              "    .dataframe thead th {\n",
              "        text-align: right;\n",
              "    }\n",
              "</style>\n",
              "<table border=\"1\" class=\"dataframe\">\n",
              "  <thead>\n",
              "    <tr style=\"text-align: right;\">\n",
              "      <th></th>\n",
              "      <th>image</th>\n",
              "      <th>query_id</th>\n",
              "      <th>query_text</th>\n",
              "      <th>exp_norm</th>\n",
              "      <th>lem_text</th>\n",
              "    </tr>\n",
              "  </thead>\n",
              "  <tbody>\n",
              "    <tr>\n",
              "      <th>0</th>\n",
              "      <td>1056338697_4f7d7ce270.jpg</td>\n",
              "      <td>2549968784_39bfbe44f9.jpg#2</td>\n",
              "      <td>A young child is wearing blue goggles and sitt...</td>\n",
              "      <td>0.0</td>\n",
              "      <td>a young child be wear blue goggle and sit in a...</td>\n",
              "    </tr>\n",
              "  </tbody>\n",
              "</table>\n",
              "</div>\n",
              "    <div class=\"colab-df-buttons\">\n",
              "\n",
              "  <div class=\"colab-df-container\">\n",
              "    <button class=\"colab-df-convert\" onclick=\"convertToInteractive('df-a6234858-0e22-405b-8cdb-fbacf16bb5a6')\"\n",
              "            title=\"Convert this dataframe to an interactive table.\"\n",
              "            style=\"display:none;\">\n",
              "\n",
              "  <svg xmlns=\"http://www.w3.org/2000/svg\" height=\"24px\" viewBox=\"0 -960 960 960\">\n",
              "    <path d=\"M120-120v-720h720v720H120Zm60-500h600v-160H180v160Zm220 220h160v-160H400v160Zm0 220h160v-160H400v160ZM180-400h160v-160H180v160Zm440 0h160v-160H620v160ZM180-180h160v-160H180v160Zm440 0h160v-160H620v160Z\"/>\n",
              "  </svg>\n",
              "    </button>\n",
              "\n",
              "  <style>\n",
              "    .colab-df-container {\n",
              "      display:flex;\n",
              "      gap: 12px;\n",
              "    }\n",
              "\n",
              "    .colab-df-convert {\n",
              "      background-color: #E8F0FE;\n",
              "      border: none;\n",
              "      border-radius: 50%;\n",
              "      cursor: pointer;\n",
              "      display: none;\n",
              "      fill: #1967D2;\n",
              "      height: 32px;\n",
              "      padding: 0 0 0 0;\n",
              "      width: 32px;\n",
              "    }\n",
              "\n",
              "    .colab-df-convert:hover {\n",
              "      background-color: #E2EBFA;\n",
              "      box-shadow: 0px 1px 2px rgba(60, 64, 67, 0.3), 0px 1px 3px 1px rgba(60, 64, 67, 0.15);\n",
              "      fill: #174EA6;\n",
              "    }\n",
              "\n",
              "    .colab-df-buttons div {\n",
              "      margin-bottom: 4px;\n",
              "    }\n",
              "\n",
              "    [theme=dark] .colab-df-convert {\n",
              "      background-color: #3B4455;\n",
              "      fill: #D2E3FC;\n",
              "    }\n",
              "\n",
              "    [theme=dark] .colab-df-convert:hover {\n",
              "      background-color: #434B5C;\n",
              "      box-shadow: 0px 1px 3px 1px rgba(0, 0, 0, 0.15);\n",
              "      filter: drop-shadow(0px 1px 2px rgba(0, 0, 0, 0.3));\n",
              "      fill: #FFFFFF;\n",
              "    }\n",
              "  </style>\n",
              "\n",
              "    <script>\n",
              "      const buttonEl =\n",
              "        document.querySelector('#df-a6234858-0e22-405b-8cdb-fbacf16bb5a6 button.colab-df-convert');\n",
              "      buttonEl.style.display =\n",
              "        google.colab.kernel.accessAllowed ? 'block' : 'none';\n",
              "\n",
              "      async function convertToInteractive(key) {\n",
              "        const element = document.querySelector('#df-a6234858-0e22-405b-8cdb-fbacf16bb5a6');\n",
              "        const dataTable =\n",
              "          await google.colab.kernel.invokeFunction('convertToInteractive',\n",
              "                                                    [key], {});\n",
              "        if (!dataTable) return;\n",
              "\n",
              "        const docLinkHtml = 'Like what you see? Visit the ' +\n",
              "          '<a target=\"_blank\" href=https://colab.research.google.com/notebooks/data_table.ipynb>data table notebook</a>'\n",
              "          + ' to learn more about interactive tables.';\n",
              "        element.innerHTML = '';\n",
              "        dataTable['output_type'] = 'display_data';\n",
              "        await google.colab.output.renderOutput(dataTable, element);\n",
              "        const docLink = document.createElement('div');\n",
              "        docLink.innerHTML = docLinkHtml;\n",
              "        element.appendChild(docLink);\n",
              "      }\n",
              "    </script>\n",
              "  </div>\n",
              "\n",
              "    </div>\n",
              "  </div>\n"
            ],
            "application/vnd.google.colaboratory.intrinsic+json": {
              "type": "dataframe",
              "variable_name": "train_lemma",
              "summary": "{\n  \"name\": \"train_lemma\",\n  \"rows\": 4091,\n  \"fields\": [\n    {\n      \"column\": \"image\",\n      \"properties\": {\n        \"dtype\": \"category\",\n        \"num_unique_values\": 710,\n        \"samples\": [\n          \"2971431335_e192613db4.jpg\",\n          \"115684808_cb01227802.jpg\",\n          \"424779662_568f9606d0.jpg\"\n        ],\n        \"semantic_type\": \"\",\n        \"description\": \"\"\n      }\n    },\n    {\n      \"column\": \"query_id\",\n      \"properties\": {\n        \"dtype\": \"category\",\n        \"num_unique_values\": 939,\n        \"samples\": [\n          \"3290105461_7590f23371.jpg#2\",\n          \"3239021459_a6b71bb400.jpg#2\",\n          \"2708686056_1b8f356264.jpg#2\"\n        ],\n        \"semantic_type\": \"\",\n        \"description\": \"\"\n      }\n    },\n    {\n      \"column\": \"query_text\",\n      \"properties\": {\n        \"dtype\": \"category\",\n        \"num_unique_values\": 939,\n        \"samples\": [\n          \"A man in a rugby uniform hitting a ball in a grassy field .\",\n          \"A child sleds over a mound of snow as others watch him .\",\n          \"A woman walking into the waves .\"\n        ],\n        \"semantic_type\": \"\",\n        \"description\": \"\"\n      }\n    },\n    {\n      \"column\": \"exp_norm\",\n      \"properties\": {\n        \"dtype\": \"number\",\n        \"std\": 0.2994037503547925,\n        \"min\": 0.0,\n        \"max\": 1.0,\n        \"num_unique_values\": 4,\n        \"samples\": [\n          0.3333333333333333,\n          1.0,\n          0.0\n        ],\n        \"semantic_type\": \"\",\n        \"description\": \"\"\n      }\n    },\n    {\n      \"column\": \"lem_text\",\n      \"properties\": {\n        \"dtype\": \"category\",\n        \"num_unique_values\": 939,\n        \"samples\": [\n          \"a man in a rugby uniform hit a ball in a grassy field .\",\n          \"a child sled over a mound of snow as other watch he .\",\n          \"a woman walk into the wave .\"\n        ],\n        \"semantic_type\": \"\",\n        \"description\": \"\"\n      }\n    }\n  ]\n}"
            }
          },
          "metadata": {},
          "execution_count": 41
        }
      ]
    },
    {
      "cell_type": "markdown",
      "metadata": {
        "id": "qz4wYlV3LOH-"
      },
      "source": [
        "Разделим датафрейм на тренировочную и тестовую выборки с использованием GroupShuffleSplit. Этот подход позволяет гарантировать, что одно и то же изображение попадет либо в обучающую, либо в тестовую выборку, а не в обе. Это помогает избежать утечки данных, что особенно критично в задачах машинного обучения, связанных с изображениями и текстами."
      ]
    },
    {
      "cell_type": "code",
      "source": [
        "gss = GroupShuffleSplit(n_splits=1, train_size=0.7, random_state=10101)"
      ],
      "metadata": {
        "id": "9JseWleRaVBX"
      },
      "execution_count": 42,
      "outputs": []
    },
    {
      "cell_type": "code",
      "source": [
        "train_indices, valid_indices = next(\n",
        "    gss.split(X=train_lemma.drop(['exp_norm'], axis=1),\n",
        "              y=train_lemma['exp_norm'], groups=train_lemma['image'])\n",
        ")\n",
        "\n",
        "X_train, X_valid, y_train, y_valid = (\n",
        "    train_lemma.drop('exp_norm', axis=1).loc[train_indices],\n",
        "    train_lemma.drop('exp_norm', axis=1).loc[valid_indices],\n",
        "    train_lemma['exp_norm'].loc[train_indices],\n",
        "    train_lemma['exp_norm'].loc[valid_indices]\n",
        ")"
      ],
      "metadata": {
        "id": "aOrtiEvyabw0"
      },
      "execution_count": 43,
      "outputs": []
    },
    {
      "cell_type": "code",
      "source": [
        "print(len(X_train['image'].unique()))\n",
        "print(len(X_valid['image'].unique()))"
      ],
      "metadata": {
        "colab": {
          "base_uri": "https://localhost:8080/"
        },
        "id": "x5P0VumWafN_",
        "outputId": "48076d77-ec42-4baf-c225-999cc034113e"
      },
      "execution_count": 44,
      "outputs": [
        {
          "output_type": "stream",
          "name": "stdout",
          "text": [
            "496\n",
            "214\n"
          ]
        }
      ]
    },
    {
      "cell_type": "markdown",
      "metadata": {
        "id": "pKgoMWQYZw6Q"
      },
      "source": [
        "## Векторизация изображений"
      ]
    },
    {
      "cell_type": "markdown",
      "source": [
        "ResNet-18"
      ],
      "metadata": {
        "id": "08E3fKkPyMNf"
      }
    },
    {
      "cell_type": "code",
      "source": [
        "# загразим модель\n",
        "resnet = models.resnet18(weights='IMAGENET1K_V1')\n",
        "\n",
        "# заморозим веса\n",
        "for param in resnet.parameters():\n",
        "    param.requires_grad_(False)\n",
        "\n",
        "# используем все слои, кроме двух последних\n",
        "modules = list(resnet.children())[:-1]\n",
        "resnet = nn.Sequential(*modules)\n",
        "\n",
        "# переводим модель в режим предсказания\n",
        "resnet.eval();"
      ],
      "metadata": {
        "id": "8xv-D6Laxc0-"
      },
      "execution_count": 45,
      "outputs": []
    },
    {
      "cell_type": "code",
      "source": [
        "# приведем изображение к нужному формату\n",
        "norm = transforms.Normalize(\n",
        "    mean=[0.485, 0.456, 0.406], std=[0.229, 0.224, 0.225])\n",
        "preprocess = transforms.Compose([\n",
        "    transforms.Resize(256),\n",
        "    transforms.CenterCrop(224),\n",
        "    transforms.ToTensor(),\n",
        "    norm,\n",
        "])"
      ],
      "metadata": {
        "id": "T1bYhtLpyYhc"
      },
      "execution_count": 46,
      "outputs": []
    },
    {
      "cell_type": "markdown",
      "source": [
        "Функция img_to_vect предназначена для преобразования изображения в векторное представление с использованием предобученной нейронной сети, такой как ResNet."
      ],
      "metadata": {
        "id": "QvhJUjlh045q"
      }
    },
    {
      "cell_type": "code",
      "source": [
        "def img_to_vect(image_name, img_folder_name):\n",
        "\n",
        "    img = Image.open(DATA_PATH + img_folder_name + '/' + image_name).convert('RGB')\n",
        "    image_tensor = preprocess(img).unsqueeze(0)\n",
        "    img_vector = resnet(image_tensor).flatten().numpy()\n",
        "\n",
        "    return img_vector"
      ],
      "metadata": {
        "id": "AKUXx25OyWZp"
      },
      "execution_count": 47,
      "outputs": []
    },
    {
      "cell_type": "markdown",
      "source": [
        "Функция df_img_vectorizer выполняет векторизацию изображений, хранящихся в DataFrame, и добавляет полученные векторы как новый столбец в этот DataFrame."
      ],
      "metadata": {
        "id": "O8kVb44Y1IUO"
      }
    },
    {
      "cell_type": "code",
      "source": [
        "def df_img_vectorizer(df, img_folder_name):\n",
        "\n",
        "    df['img_vector'] = df['image'].apply(lambda x: img_to_vect(x, img_folder_name))\n",
        "\n",
        "    return df"
      ],
      "metadata": {
        "id": "67S548ra0rvj"
      },
      "execution_count": 48,
      "outputs": []
    },
    {
      "cell_type": "code",
      "source": [
        "images_df = df_img_vectorizer(images_df, 'train_images')\n",
        "images_df.head(1)"
      ],
      "metadata": {
        "colab": {
          "base_uri": "https://localhost:8080/",
          "height": 100
        },
        "id": "y_MBsUdt1n4A",
        "outputId": "824c816d-c766-44f4-b570-2b422741c50c"
      },
      "execution_count": 49,
      "outputs": [
        {
          "output_type": "execute_result",
          "data": {
            "text/plain": [
              "                       image  \\\n",
              "0  1056338697_4f7d7ce270.jpg   \n",
              "\n",
              "                                          img_vector  \n",
              "0  [0.69394046, 3.0318356, 2.9169335, 0.9518981, ...  "
            ],
            "text/html": [
              "\n",
              "  <div id=\"df-d3d99b3b-8234-48f4-b894-e7e3300ec79a\" class=\"colab-df-container\">\n",
              "    <div>\n",
              "<style scoped>\n",
              "    .dataframe tbody tr th:only-of-type {\n",
              "        vertical-align: middle;\n",
              "    }\n",
              "\n",
              "    .dataframe tbody tr th {\n",
              "        vertical-align: top;\n",
              "    }\n",
              "\n",
              "    .dataframe thead th {\n",
              "        text-align: right;\n",
              "    }\n",
              "</style>\n",
              "<table border=\"1\" class=\"dataframe\">\n",
              "  <thead>\n",
              "    <tr style=\"text-align: right;\">\n",
              "      <th></th>\n",
              "      <th>image</th>\n",
              "      <th>img_vector</th>\n",
              "    </tr>\n",
              "  </thead>\n",
              "  <tbody>\n",
              "    <tr>\n",
              "      <th>0</th>\n",
              "      <td>1056338697_4f7d7ce270.jpg</td>\n",
              "      <td>[0.69394046, 3.0318356, 2.9169335, 0.9518981, ...</td>\n",
              "    </tr>\n",
              "  </tbody>\n",
              "</table>\n",
              "</div>\n",
              "    <div class=\"colab-df-buttons\">\n",
              "\n",
              "  <div class=\"colab-df-container\">\n",
              "    <button class=\"colab-df-convert\" onclick=\"convertToInteractive('df-d3d99b3b-8234-48f4-b894-e7e3300ec79a')\"\n",
              "            title=\"Convert this dataframe to an interactive table.\"\n",
              "            style=\"display:none;\">\n",
              "\n",
              "  <svg xmlns=\"http://www.w3.org/2000/svg\" height=\"24px\" viewBox=\"0 -960 960 960\">\n",
              "    <path d=\"M120-120v-720h720v720H120Zm60-500h600v-160H180v160Zm220 220h160v-160H400v160Zm0 220h160v-160H400v160ZM180-400h160v-160H180v160Zm440 0h160v-160H620v160ZM180-180h160v-160H180v160Zm440 0h160v-160H620v160Z\"/>\n",
              "  </svg>\n",
              "    </button>\n",
              "\n",
              "  <style>\n",
              "    .colab-df-container {\n",
              "      display:flex;\n",
              "      gap: 12px;\n",
              "    }\n",
              "\n",
              "    .colab-df-convert {\n",
              "      background-color: #E8F0FE;\n",
              "      border: none;\n",
              "      border-radius: 50%;\n",
              "      cursor: pointer;\n",
              "      display: none;\n",
              "      fill: #1967D2;\n",
              "      height: 32px;\n",
              "      padding: 0 0 0 0;\n",
              "      width: 32px;\n",
              "    }\n",
              "\n",
              "    .colab-df-convert:hover {\n",
              "      background-color: #E2EBFA;\n",
              "      box-shadow: 0px 1px 2px rgba(60, 64, 67, 0.3), 0px 1px 3px 1px rgba(60, 64, 67, 0.15);\n",
              "      fill: #174EA6;\n",
              "    }\n",
              "\n",
              "    .colab-df-buttons div {\n",
              "      margin-bottom: 4px;\n",
              "    }\n",
              "\n",
              "    [theme=dark] .colab-df-convert {\n",
              "      background-color: #3B4455;\n",
              "      fill: #D2E3FC;\n",
              "    }\n",
              "\n",
              "    [theme=dark] .colab-df-convert:hover {\n",
              "      background-color: #434B5C;\n",
              "      box-shadow: 0px 1px 3px 1px rgba(0, 0, 0, 0.15);\n",
              "      filter: drop-shadow(0px 1px 2px rgba(0, 0, 0, 0.3));\n",
              "      fill: #FFFFFF;\n",
              "    }\n",
              "  </style>\n",
              "\n",
              "    <script>\n",
              "      const buttonEl =\n",
              "        document.querySelector('#df-d3d99b3b-8234-48f4-b894-e7e3300ec79a button.colab-df-convert');\n",
              "      buttonEl.style.display =\n",
              "        google.colab.kernel.accessAllowed ? 'block' : 'none';\n",
              "\n",
              "      async function convertToInteractive(key) {\n",
              "        const element = document.querySelector('#df-d3d99b3b-8234-48f4-b894-e7e3300ec79a');\n",
              "        const dataTable =\n",
              "          await google.colab.kernel.invokeFunction('convertToInteractive',\n",
              "                                                    [key], {});\n",
              "        if (!dataTable) return;\n",
              "\n",
              "        const docLinkHtml = 'Like what you see? Visit the ' +\n",
              "          '<a target=\"_blank\" href=https://colab.research.google.com/notebooks/data_table.ipynb>data table notebook</a>'\n",
              "          + ' to learn more about interactive tables.';\n",
              "        element.innerHTML = '';\n",
              "        dataTable['output_type'] = 'display_data';\n",
              "        await google.colab.output.renderOutput(dataTable, element);\n",
              "        const docLink = document.createElement('div');\n",
              "        docLink.innerHTML = docLinkHtml;\n",
              "        element.appendChild(docLink);\n",
              "      }\n",
              "    </script>\n",
              "  </div>\n",
              "\n",
              "    </div>\n",
              "  </div>\n"
            ],
            "application/vnd.google.colaboratory.intrinsic+json": {
              "type": "dataframe",
              "variable_name": "images_df",
              "summary": "{\n  \"name\": \"images_df\",\n  \"rows\": 1000,\n  \"fields\": [\n    {\n      \"column\": \"image\",\n      \"properties\": {\n        \"dtype\": \"string\",\n        \"num_unique_values\": 1000,\n        \"samples\": [\n          \"260828892_7925d27865.jpg\",\n          \"2892995070_39f3c9a56e.jpg\",\n          \"2208067635_39a03834ca.jpg\"\n        ],\n        \"semantic_type\": \"\",\n        \"description\": \"\"\n      }\n    },\n    {\n      \"column\": \"img_vector\",\n      \"properties\": {\n        \"dtype\": \"object\",\n        \"semantic_type\": \"\",\n        \"description\": \"\"\n      }\n    }\n  ]\n}"
            }
          },
          "metadata": {},
          "execution_count": 49
        }
      ]
    },
    {
      "cell_type": "markdown",
      "source": [
        "Объединим данный датафрейм с обучающей выборкой."
      ],
      "metadata": {
        "id": "JvwsJto_hti9"
      }
    },
    {
      "cell_type": "code",
      "source": [
        "X_train = X_train.merge(images_df, on='image', how='left')\n",
        "X_train.head(1)"
      ],
      "metadata": {
        "colab": {
          "base_uri": "https://localhost:8080/",
          "height": 184
        },
        "id": "bP8QSCDRhVut",
        "outputId": "0c5e2fe9-bb9d-4c83-d76f-1a7fd92fcf11"
      },
      "execution_count": 50,
      "outputs": [
        {
          "output_type": "execute_result",
          "data": {
            "text/plain": [
              "                       image                     query_id  \\\n",
              "0  1056338697_4f7d7ce270.jpg  2549968784_39bfbe44f9.jpg#2   \n",
              "\n",
              "                                          query_text  \\\n",
              "0  A young child is wearing blue goggles and sitt...   \n",
              "\n",
              "                                            lem_text  \\\n",
              "0  a young child be wear blue goggle and sit in a...   \n",
              "\n",
              "                                          img_vector  \n",
              "0  [0.69394046, 3.0318356, 2.9169335, 0.9518981, ...  "
            ],
            "text/html": [
              "\n",
              "  <div id=\"df-00fe77e7-ae74-4a7d-b2cc-dd9161717212\" class=\"colab-df-container\">\n",
              "    <div>\n",
              "<style scoped>\n",
              "    .dataframe tbody tr th:only-of-type {\n",
              "        vertical-align: middle;\n",
              "    }\n",
              "\n",
              "    .dataframe tbody tr th {\n",
              "        vertical-align: top;\n",
              "    }\n",
              "\n",
              "    .dataframe thead th {\n",
              "        text-align: right;\n",
              "    }\n",
              "</style>\n",
              "<table border=\"1\" class=\"dataframe\">\n",
              "  <thead>\n",
              "    <tr style=\"text-align: right;\">\n",
              "      <th></th>\n",
              "      <th>image</th>\n",
              "      <th>query_id</th>\n",
              "      <th>query_text</th>\n",
              "      <th>lem_text</th>\n",
              "      <th>img_vector</th>\n",
              "    </tr>\n",
              "  </thead>\n",
              "  <tbody>\n",
              "    <tr>\n",
              "      <th>0</th>\n",
              "      <td>1056338697_4f7d7ce270.jpg</td>\n",
              "      <td>2549968784_39bfbe44f9.jpg#2</td>\n",
              "      <td>A young child is wearing blue goggles and sitt...</td>\n",
              "      <td>a young child be wear blue goggle and sit in a...</td>\n",
              "      <td>[0.69394046, 3.0318356, 2.9169335, 0.9518981, ...</td>\n",
              "    </tr>\n",
              "  </tbody>\n",
              "</table>\n",
              "</div>\n",
              "    <div class=\"colab-df-buttons\">\n",
              "\n",
              "  <div class=\"colab-df-container\">\n",
              "    <button class=\"colab-df-convert\" onclick=\"convertToInteractive('df-00fe77e7-ae74-4a7d-b2cc-dd9161717212')\"\n",
              "            title=\"Convert this dataframe to an interactive table.\"\n",
              "            style=\"display:none;\">\n",
              "\n",
              "  <svg xmlns=\"http://www.w3.org/2000/svg\" height=\"24px\" viewBox=\"0 -960 960 960\">\n",
              "    <path d=\"M120-120v-720h720v720H120Zm60-500h600v-160H180v160Zm220 220h160v-160H400v160Zm0 220h160v-160H400v160ZM180-400h160v-160H180v160Zm440 0h160v-160H620v160ZM180-180h160v-160H180v160Zm440 0h160v-160H620v160Z\"/>\n",
              "  </svg>\n",
              "    </button>\n",
              "\n",
              "  <style>\n",
              "    .colab-df-container {\n",
              "      display:flex;\n",
              "      gap: 12px;\n",
              "    }\n",
              "\n",
              "    .colab-df-convert {\n",
              "      background-color: #E8F0FE;\n",
              "      border: none;\n",
              "      border-radius: 50%;\n",
              "      cursor: pointer;\n",
              "      display: none;\n",
              "      fill: #1967D2;\n",
              "      height: 32px;\n",
              "      padding: 0 0 0 0;\n",
              "      width: 32px;\n",
              "    }\n",
              "\n",
              "    .colab-df-convert:hover {\n",
              "      background-color: #E2EBFA;\n",
              "      box-shadow: 0px 1px 2px rgba(60, 64, 67, 0.3), 0px 1px 3px 1px rgba(60, 64, 67, 0.15);\n",
              "      fill: #174EA6;\n",
              "    }\n",
              "\n",
              "    .colab-df-buttons div {\n",
              "      margin-bottom: 4px;\n",
              "    }\n",
              "\n",
              "    [theme=dark] .colab-df-convert {\n",
              "      background-color: #3B4455;\n",
              "      fill: #D2E3FC;\n",
              "    }\n",
              "\n",
              "    [theme=dark] .colab-df-convert:hover {\n",
              "      background-color: #434B5C;\n",
              "      box-shadow: 0px 1px 3px 1px rgba(0, 0, 0, 0.15);\n",
              "      filter: drop-shadow(0px 1px 2px rgba(0, 0, 0, 0.3));\n",
              "      fill: #FFFFFF;\n",
              "    }\n",
              "  </style>\n",
              "\n",
              "    <script>\n",
              "      const buttonEl =\n",
              "        document.querySelector('#df-00fe77e7-ae74-4a7d-b2cc-dd9161717212 button.colab-df-convert');\n",
              "      buttonEl.style.display =\n",
              "        google.colab.kernel.accessAllowed ? 'block' : 'none';\n",
              "\n",
              "      async function convertToInteractive(key) {\n",
              "        const element = document.querySelector('#df-00fe77e7-ae74-4a7d-b2cc-dd9161717212');\n",
              "        const dataTable =\n",
              "          await google.colab.kernel.invokeFunction('convertToInteractive',\n",
              "                                                    [key], {});\n",
              "        if (!dataTable) return;\n",
              "\n",
              "        const docLinkHtml = 'Like what you see? Visit the ' +\n",
              "          '<a target=\"_blank\" href=https://colab.research.google.com/notebooks/data_table.ipynb>data table notebook</a>'\n",
              "          + ' to learn more about interactive tables.';\n",
              "        element.innerHTML = '';\n",
              "        dataTable['output_type'] = 'display_data';\n",
              "        await google.colab.output.renderOutput(dataTable, element);\n",
              "        const docLink = document.createElement('div');\n",
              "        docLink.innerHTML = docLinkHtml;\n",
              "        element.appendChild(docLink);\n",
              "      }\n",
              "    </script>\n",
              "  </div>\n",
              "\n",
              "    </div>\n",
              "  </div>\n"
            ],
            "application/vnd.google.colaboratory.intrinsic+json": {
              "type": "dataframe",
              "variable_name": "X_train",
              "summary": "{\n  \"name\": \"X_train\",\n  \"rows\": 2852,\n  \"fields\": [\n    {\n      \"column\": \"image\",\n      \"properties\": {\n        \"dtype\": \"category\",\n        \"num_unique_values\": 496,\n        \"samples\": [\n          \"3109704348_c6416244ce.jpg\",\n          \"525863257_053333e612.jpg\",\n          \"766099402_cdda6964f0.jpg\"\n        ],\n        \"semantic_type\": \"\",\n        \"description\": \"\"\n      }\n    },\n    {\n      \"column\": \"query_id\",\n      \"properties\": {\n        \"dtype\": \"category\",\n        \"num_unique_values\": 873,\n        \"samples\": [\n          \"2991994607_06f24ec7a6.jpg#2\",\n          \"3222055946_45f7293bb2.jpg#2\",\n          \"3631986552_944ea208fc.jpg#2\"\n        ],\n        \"semantic_type\": \"\",\n        \"description\": \"\"\n      }\n    },\n    {\n      \"column\": \"query_text\",\n      \"properties\": {\n        \"dtype\": \"category\",\n        \"num_unique_values\": 873,\n        \"samples\": [\n          \"people are at a costume party .\",\n          \"Basketball players in action .\",\n          \"A surfer in water and foam .\"\n        ],\n        \"semantic_type\": \"\",\n        \"description\": \"\"\n      }\n    },\n    {\n      \"column\": \"lem_text\",\n      \"properties\": {\n        \"dtype\": \"category\",\n        \"num_unique_values\": 873,\n        \"samples\": [\n          \"people be at a costume party .\",\n          \"basketball player in action .\",\n          \"a surfer in water and foam .\"\n        ],\n        \"semantic_type\": \"\",\n        \"description\": \"\"\n      }\n    },\n    {\n      \"column\": \"img_vector\",\n      \"properties\": {\n        \"dtype\": \"object\",\n        \"semantic_type\": \"\",\n        \"description\": \"\"\n      }\n    }\n  ]\n}"
            }
          },
          "metadata": {},
          "execution_count": 50
        }
      ]
    },
    {
      "cell_type": "markdown",
      "source": [
        "Объединим данный датафрейм с валидационной выборкой."
      ],
      "metadata": {
        "id": "rGCTba5eh2gg"
      }
    },
    {
      "cell_type": "code",
      "source": [
        "X_valid = X_valid.merge(images_df, on='image', how='left')\n",
        "X_valid.head(1)"
      ],
      "metadata": {
        "colab": {
          "base_uri": "https://localhost:8080/",
          "height": 184
        },
        "id": "6XPgHtObhfxb",
        "outputId": "dfe4cb47-4805-4c66-ac3a-14fe5c6d4046"
      },
      "execution_count": 51,
      "outputs": [
        {
          "output_type": "execute_result",
          "data": {
            "text/plain": [
              "                       image                     query_id  \\\n",
              "0  2621415349_ef1a7e73be.jpg  2549968784_39bfbe44f9.jpg#2   \n",
              "\n",
              "                                          query_text  \\\n",
              "0  A young child is wearing blue goggles and sitt...   \n",
              "\n",
              "                                            lem_text  \\\n",
              "0  a young child be wear blue goggle and sit in a...   \n",
              "\n",
              "                                          img_vector  \n",
              "0  [2.1992745, 1.6522413, 2.4724615, 0.96829367, ...  "
            ],
            "text/html": [
              "\n",
              "  <div id=\"df-ee0fad0f-26bf-4396-af00-c30106d012a5\" class=\"colab-df-container\">\n",
              "    <div>\n",
              "<style scoped>\n",
              "    .dataframe tbody tr th:only-of-type {\n",
              "        vertical-align: middle;\n",
              "    }\n",
              "\n",
              "    .dataframe tbody tr th {\n",
              "        vertical-align: top;\n",
              "    }\n",
              "\n",
              "    .dataframe thead th {\n",
              "        text-align: right;\n",
              "    }\n",
              "</style>\n",
              "<table border=\"1\" class=\"dataframe\">\n",
              "  <thead>\n",
              "    <tr style=\"text-align: right;\">\n",
              "      <th></th>\n",
              "      <th>image</th>\n",
              "      <th>query_id</th>\n",
              "      <th>query_text</th>\n",
              "      <th>lem_text</th>\n",
              "      <th>img_vector</th>\n",
              "    </tr>\n",
              "  </thead>\n",
              "  <tbody>\n",
              "    <tr>\n",
              "      <th>0</th>\n",
              "      <td>2621415349_ef1a7e73be.jpg</td>\n",
              "      <td>2549968784_39bfbe44f9.jpg#2</td>\n",
              "      <td>A young child is wearing blue goggles and sitt...</td>\n",
              "      <td>a young child be wear blue goggle and sit in a...</td>\n",
              "      <td>[2.1992745, 1.6522413, 2.4724615, 0.96829367, ...</td>\n",
              "    </tr>\n",
              "  </tbody>\n",
              "</table>\n",
              "</div>\n",
              "    <div class=\"colab-df-buttons\">\n",
              "\n",
              "  <div class=\"colab-df-container\">\n",
              "    <button class=\"colab-df-convert\" onclick=\"convertToInteractive('df-ee0fad0f-26bf-4396-af00-c30106d012a5')\"\n",
              "            title=\"Convert this dataframe to an interactive table.\"\n",
              "            style=\"display:none;\">\n",
              "\n",
              "  <svg xmlns=\"http://www.w3.org/2000/svg\" height=\"24px\" viewBox=\"0 -960 960 960\">\n",
              "    <path d=\"M120-120v-720h720v720H120Zm60-500h600v-160H180v160Zm220 220h160v-160H400v160Zm0 220h160v-160H400v160ZM180-400h160v-160H180v160Zm440 0h160v-160H620v160ZM180-180h160v-160H180v160Zm440 0h160v-160H620v160Z\"/>\n",
              "  </svg>\n",
              "    </button>\n",
              "\n",
              "  <style>\n",
              "    .colab-df-container {\n",
              "      display:flex;\n",
              "      gap: 12px;\n",
              "    }\n",
              "\n",
              "    .colab-df-convert {\n",
              "      background-color: #E8F0FE;\n",
              "      border: none;\n",
              "      border-radius: 50%;\n",
              "      cursor: pointer;\n",
              "      display: none;\n",
              "      fill: #1967D2;\n",
              "      height: 32px;\n",
              "      padding: 0 0 0 0;\n",
              "      width: 32px;\n",
              "    }\n",
              "\n",
              "    .colab-df-convert:hover {\n",
              "      background-color: #E2EBFA;\n",
              "      box-shadow: 0px 1px 2px rgba(60, 64, 67, 0.3), 0px 1px 3px 1px rgba(60, 64, 67, 0.15);\n",
              "      fill: #174EA6;\n",
              "    }\n",
              "\n",
              "    .colab-df-buttons div {\n",
              "      margin-bottom: 4px;\n",
              "    }\n",
              "\n",
              "    [theme=dark] .colab-df-convert {\n",
              "      background-color: #3B4455;\n",
              "      fill: #D2E3FC;\n",
              "    }\n",
              "\n",
              "    [theme=dark] .colab-df-convert:hover {\n",
              "      background-color: #434B5C;\n",
              "      box-shadow: 0px 1px 3px 1px rgba(0, 0, 0, 0.15);\n",
              "      filter: drop-shadow(0px 1px 2px rgba(0, 0, 0, 0.3));\n",
              "      fill: #FFFFFF;\n",
              "    }\n",
              "  </style>\n",
              "\n",
              "    <script>\n",
              "      const buttonEl =\n",
              "        document.querySelector('#df-ee0fad0f-26bf-4396-af00-c30106d012a5 button.colab-df-convert');\n",
              "      buttonEl.style.display =\n",
              "        google.colab.kernel.accessAllowed ? 'block' : 'none';\n",
              "\n",
              "      async function convertToInteractive(key) {\n",
              "        const element = document.querySelector('#df-ee0fad0f-26bf-4396-af00-c30106d012a5');\n",
              "        const dataTable =\n",
              "          await google.colab.kernel.invokeFunction('convertToInteractive',\n",
              "                                                    [key], {});\n",
              "        if (!dataTable) return;\n",
              "\n",
              "        const docLinkHtml = 'Like what you see? Visit the ' +\n",
              "          '<a target=\"_blank\" href=https://colab.research.google.com/notebooks/data_table.ipynb>data table notebook</a>'\n",
              "          + ' to learn more about interactive tables.';\n",
              "        element.innerHTML = '';\n",
              "        dataTable['output_type'] = 'display_data';\n",
              "        await google.colab.output.renderOutput(dataTable, element);\n",
              "        const docLink = document.createElement('div');\n",
              "        docLink.innerHTML = docLinkHtml;\n",
              "        element.appendChild(docLink);\n",
              "      }\n",
              "    </script>\n",
              "  </div>\n",
              "\n",
              "    </div>\n",
              "  </div>\n"
            ],
            "application/vnd.google.colaboratory.intrinsic+json": {
              "type": "dataframe",
              "variable_name": "X_valid",
              "summary": "{\n  \"name\": \"X_valid\",\n  \"rows\": 1239,\n  \"fields\": [\n    {\n      \"column\": \"image\",\n      \"properties\": {\n        \"dtype\": \"category\",\n        \"num_unique_values\": 214,\n        \"samples\": [\n          \"3256043809_47258e0b3e.jpg\",\n          \"3655964639_21e76383d0.jpg\",\n          \"3556598205_86c180769d.jpg\"\n        ],\n        \"semantic_type\": \"\",\n        \"description\": \"\"\n      }\n    },\n    {\n      \"column\": \"query_id\",\n      \"properties\": {\n        \"dtype\": \"string\",\n        \"num_unique_values\": 647,\n        \"samples\": [\n          \"3217187564_0ffd89dec1.jpg#2\",\n          \"2662845514_8620aaee96.jpg#2\",\n          \"3584561689_b6eb24dd70.jpg#2\"\n        ],\n        \"semantic_type\": \"\",\n        \"description\": \"\"\n      }\n    },\n    {\n      \"column\": \"query_text\",\n      \"properties\": {\n        \"dtype\": \"string\",\n        \"num_unique_values\": 647,\n        \"samples\": [\n          \"Several dogs wearing muzzles are racing on a track .\",\n          \"A martial artist breaks a brick .\",\n          \"Some teenagers are scrambling for a basketball underneath the net .\"\n        ],\n        \"semantic_type\": \"\",\n        \"description\": \"\"\n      }\n    },\n    {\n      \"column\": \"lem_text\",\n      \"properties\": {\n        \"dtype\": \"string\",\n        \"num_unique_values\": 647,\n        \"samples\": [\n          \"several dog wear muzzle be race on a track .\",\n          \"a martial artist break a brick .\",\n          \"some teenager be scramble for a basketball underneath the net .\"\n        ],\n        \"semantic_type\": \"\",\n        \"description\": \"\"\n      }\n    },\n    {\n      \"column\": \"img_vector\",\n      \"properties\": {\n        \"dtype\": \"object\",\n        \"semantic_type\": \"\",\n        \"description\": \"\"\n      }\n    }\n  ]\n}"
            }
          },
          "metadata": {},
          "execution_count": 51
        }
      ]
    },
    {
      "cell_type": "markdown",
      "metadata": {
        "id": "L9_EgzsGyxUn"
      },
      "source": [
        "В результате векторизации каждое изображение из папки train_images превращается в одномерный вектор."
      ]
    },
    {
      "cell_type": "markdown",
      "metadata": {
        "id": "yXw8LN0Yy4PI"
      },
      "source": [
        "## Векторизация текста"
      ]
    },
    {
      "cell_type": "markdown",
      "source": [
        "Векторизуем тексты с помощью TfidfVectorizer на обучающей выборки."
      ],
      "metadata": {
        "id": "xYDWL4gLiExb"
      }
    },
    {
      "cell_type": "code",
      "source": [
        "tfidf = TfidfVectorizer()\n",
        "tfidf.fit(X_train['lem_text'].drop_duplicates());"
      ],
      "metadata": {
        "id": "ETRq2S1siOa4"
      },
      "execution_count": 52,
      "outputs": []
    },
    {
      "cell_type": "code",
      "source": [
        "def text_to_vect(df):\n",
        "    text_features_array = tfidf.transform(df['lem_text']).toarray()\n",
        "    return text_features_array"
      ],
      "metadata": {
        "id": "fIIrtajiNMJ7"
      },
      "execution_count": 53,
      "outputs": []
    },
    {
      "cell_type": "markdown",
      "source": [
        "##Объединение векторов"
      ],
      "metadata": {
        "id": "JaIkA5fyn38n"
      }
    },
    {
      "cell_type": "markdown",
      "source": [
        "Функция создаёт массив объединенных векторов изображений и текстов, который можно использовать для обучений моделей."
      ],
      "metadata": {
        "id": "HMBjXPewm5dy"
      }
    },
    {
      "cell_type": "code",
      "source": [
        "def make_features(df):\n",
        "\n",
        "    # массив с векторами признаков изображений\n",
        "    img_array = np.array(df['img_vector'].values.tolist())\n",
        "\n",
        "    # массив с векторами признаков текста\n",
        "    tfidf_array = text_to_vect(df)\n",
        "\n",
        "    # объединенный массив с полным набором признаков\n",
        "    features_array = np.concatenate((tfidf_array, img_array), axis=1)\n",
        "\n",
        "    return features_array"
      ],
      "metadata": {
        "id": "CenFpIaYmzpa"
      },
      "execution_count": 54,
      "outputs": []
    },
    {
      "cell_type": "markdown",
      "source": [
        "Массив для обучения."
      ],
      "metadata": {
        "id": "RpDR01C7oHGT"
      }
    },
    {
      "cell_type": "code",
      "source": [
        "train_features = make_features(X_train)\n",
        "train_features.shape"
      ],
      "metadata": {
        "colab": {
          "base_uri": "https://localhost:8080/"
        },
        "id": "J5XOyDcKm19k",
        "outputId": "4c2eed40-1e57-4e91-a053-c9c40e444ca7"
      },
      "execution_count": 55,
      "outputs": [
        {
          "output_type": "execute_result",
          "data": {
            "text/plain": [
              "(2852, 1682)"
            ]
          },
          "metadata": {},
          "execution_count": 55
        }
      ]
    },
    {
      "cell_type": "code",
      "source": [
        "train_features"
      ],
      "metadata": {
        "colab": {
          "base_uri": "https://localhost:8080/"
        },
        "id": "us2JMVv5nxiy",
        "outputId": "8955f4ee-d895-46b7-e186-e62a9f81f87d"
      },
      "execution_count": 56,
      "outputs": [
        {
          "output_type": "execute_result",
          "data": {
            "text/plain": [
              "array([[0.        , 0.        , 0.        , ..., 0.08500693, 1.05670047,\n",
              "        0.09815712],\n",
              "       [0.        , 0.        , 0.        , ..., 1.00141025, 1.40175307,\n",
              "        0.68977416],\n",
              "       [0.        , 0.        , 0.        , ..., 2.81012344, 1.89220369,\n",
              "        1.87723505],\n",
              "       ...,\n",
              "       [0.        , 0.        , 0.        , ..., 2.88470554, 1.02299964,\n",
              "        0.71294075],\n",
              "       [0.        , 0.        , 0.        , ..., 0.85825169, 1.57140064,\n",
              "        0.17738928],\n",
              "       [0.        , 0.        , 0.        , ..., 0.7615971 , 1.08476496,\n",
              "        0.18721688]])"
            ]
          },
          "metadata": {},
          "execution_count": 56
        }
      ]
    },
    {
      "cell_type": "markdown",
      "source": [
        "Массив для валидации."
      ],
      "metadata": {
        "id": "HwTQIDKCoMQ8"
      }
    },
    {
      "cell_type": "code",
      "source": [
        "valid_features = make_features(X_valid)\n",
        "valid_features.shape"
      ],
      "metadata": {
        "colab": {
          "base_uri": "https://localhost:8080/"
        },
        "id": "Ip1kpH8ZnYUk",
        "outputId": "e71c357a-1dd9-4e00-8d97-141aa9dfb62d"
      },
      "execution_count": 57,
      "outputs": [
        {
          "output_type": "execute_result",
          "data": {
            "text/plain": [
              "(1239, 1682)"
            ]
          },
          "metadata": {},
          "execution_count": 57
        }
      ]
    },
    {
      "cell_type": "markdown",
      "metadata": {
        "id": "8YfLm4UpvifZ"
      },
      "source": [
        "<img src=\"https://emojigraph.org/media/apple/check-mark-button_2705.png\" align=left width=33, heigth=33>\n",
        "<div class=\"alert alert-success\">\n",
        " 👍 Вектора для текста получены с помощью TF-IDF. Здесь конечно есть очень тонкий момент, и в другом проекте это мог бы быть красный комментарий. Ты же помнишь, что векторайзеры мы обучаем на обучающем датасете и применяем к валидационому и тестовому. А сейчас ты сделал вектора с использованием всех частей датасета.  Но для этого проекта это должно быть допустимо, т.к. .утечка,повышающая оценку на валидации врядли что-то сильно  испортит.\n",
        "\n",
        "-----------\n",
        "    \n",
        "Что касается выбранного подхода. По моим наблюдения используя TfidfVectorizer крайне редко получается обучить толковую модель.  Я бы советовал все-таки использовать \"плотные\" вектора полученные с помощью BERT    \n",
        "\n",
        "</div>"
      ]
    },
    {
      "cell_type": "markdown",
      "metadata": {
        "id": "W8c4T8vwvifZ"
      },
      "source": [
        "<img src=\"https://upload.wikimedia.org/wikipedia/commons/thumb/8/81/Stop_sign.png/240px-Stop_sign.png\" align=left width=35, heigth=35>\n",
        "<div class=\"alert alert-danger\">\n",
        "    \n",
        "В этом разделе у тебя явная ошибка. Смотри,  утебя уже есть датафрейм с 4091 парами изображение/описание.\n",
        "\n",
        "После векторизации у тебя должны получиться матрицы размером 4091х2048 и 4091х1244.  При их объдинении никакие пропуски возникнуть не должны.\n",
        "    \n",
        "Пожалуста еще раз по шагам перепроверь все операции.  Как дополнительный совет - оставайся в матрицах numpy, не нужно повышать уровень абстракции и переходить к датафреймам.  Все методы машинного обучения отлично работают с матрицами (к тому же они лучше оптимизированы под эти задачи), а датафрейм это надстройка, для работы с разными типами данных.    \n",
        "    \n",
        "\n",
        "</div>"
      ]
    },
    {
      "cell_type": "markdown",
      "source": [
        "<div class=\"alert\" style=\"background-color:#ead7f7;color:#8737bf\">\n",
        "    <font size=\"3\"><b>Комментарий студента</b></font>\n",
        "   \n",
        "Исправила.\n",
        "\n",
        "</div>"
      ],
      "metadata": {
        "id": "S_NaaTbpoPLI"
      }
    },
    {
      "cell_type": "markdown",
      "metadata": {
        "id": "uITBjFKvt_6T"
      },
      "source": [
        "## Модели для предсказания близости двух векторов"
      ]
    },
    {
      "cell_type": "markdown",
      "metadata": {
        "id": "cEiuI4CWvifa"
      },
      "source": [
        "<img src=\"https://emojigraph.org/media/apple/check-mark-button_2705.png\" align=left width=33, heigth=33>\n",
        "<div class=\"alert alert-success\">\n",
        "Отлично, благодаря использованию GroupShuffleSplit ты исключаешь попадание одного изображения в обучающий и валидационный наборы.</div>"
      ]
    },
    {
      "cell_type": "markdown",
      "metadata": {
        "id": "diQyugE-EoPS"
      },
      "source": [
        "<img src=\"https://upload.wikimedia.org/wikipedia/commons/b/ba/Warning_sign_4.0.png\" align=left width=44, heigth=33>\n",
        "<div class=\"alert alert-warning\">\n",
        "Только давай разберемся с выборками. Финальное тестирование (визуальное) мы делаем на отложенной выборке. Поэтому выборка,которую ты сейчас отделил играет роль валидационной. Есть смысл в её названии использовать слово valid а не test</div>"
      ]
    },
    {
      "cell_type": "markdown",
      "metadata": {
        "id": "QtyJ3tP2vifa"
      },
      "source": [
        "<img src=\"https://upload.wikimedia.org/wikipedia/commons/thumb/8/81/Stop_sign.png/240px-Stop_sign.png\" align=left width=35, heigth=35>\n",
        "<div class=\"alert alert-danger\">\n",
        "Если ты внимательно посмотришь на признаки, содержащиеся в train_df, то окажется что там остался признак `exp_norm`,  который нам нужно предсказывать.\n",
        "\n",
        "\n",
        "Именно поэтому модель дерева решений дает такую невероятно крутую метрику.\n",
        "</div>"
      ]
    },
    {
      "cell_type": "markdown",
      "metadata": {
        "id": "tSAvrUhfMYtF"
      },
      "source": [
        "Для сравнения точности различных моделей в задаче регрессии, такой как предсказание оценок экспертов по изображениям и текстовым описаниям, подходящей метрикой будет средняя абсолютная ошибка (MAE - Mean Absolute Error) или среднеквадратичная ошибка (MSE - Mean Squared Error). Эти метрики хорошо работают для задач регрессии и позволяют понять, насколько предсказания модели близки к реальным значениям."
      ]
    },
    {
      "cell_type": "markdown",
      "source": [
        "<div class=\"alert\" style=\"background-color:#ead7f7;color:#8737bf\">\n",
        "    <font size=\"3\"><b>Комментарий студента</b></font>\n",
        "   \n",
        "Исправила.\n",
        "\n",
        "</div>"
      ],
      "metadata": {
        "id": "zYBzhKv0oYtB"
      }
    },
    {
      "cell_type": "markdown",
      "metadata": {
        "id": "2aOiBqJwP22D"
      },
      "source": [
        "Масштабирование признаков."
      ]
    },
    {
      "cell_type": "code",
      "execution_count": 58,
      "metadata": {
        "id": "ZYvFf6N0P4hR",
        "colab": {
          "base_uri": "https://localhost:8080/",
          "height": 140
        },
        "outputId": "3f00661c-eda5-4e7c-ec4b-28128bf52ec6"
      },
      "outputs": [
        {
          "output_type": "execute_result",
          "data": {
            "text/plain": [
              "'# Создаем экземпляр StandardScaler\\nscaler = StandardScaler()\\n\\n# Масштабирование признаков в тренировочных данных\\ntrain_df_scaled = scaler.fit_transform(X_train)\\n\\n# Масштабирование признаков в тестовых данных\\nvalid_df_scaled = scaler.transform(X_valid)\\n\\n# Если хотите, вы можете превратить обратно в DataFrame\\ntrain_df_scaled = pd.DataFrame(train_df_scaled, columns=X_train.columns)\\ntest_df_scaled = pd.DataFrame(valid_df_scaled, columns=X_valid.columns)\\n'"
            ],
            "application/vnd.google.colaboratory.intrinsic+json": {
              "type": "string"
            }
          },
          "metadata": {},
          "execution_count": 58
        }
      ],
      "source": [
        "'''# Создаем экземпляр StandardScaler\n",
        "scaler = StandardScaler()\n",
        "\n",
        "# Масштабирование признаков в тренировочных данных\n",
        "train_df_scaled = scaler.fit_transform(X_train)\n",
        "\n",
        "# Масштабирование признаков в тестовых данных\n",
        "valid_df_scaled = scaler.transform(X_valid)\n",
        "\n",
        "# Если хотите, вы можете превратить обратно в DataFrame\n",
        "train_df_scaled = pd.DataFrame(train_df_scaled, columns=X_train.columns)\n",
        "test_df_scaled = pd.DataFrame(valid_df_scaled, columns=X_valid.columns)\n",
        "'''"
      ]
    },
    {
      "cell_type": "markdown",
      "metadata": {
        "id": "XewKQHk7vifa"
      },
      "source": [
        "<img src=\"https://emojigraph.org/media/apple/check-mark-button_2705.png\" align=left width=33, heigth=33>\n",
        "<div class=\"alert alert-success\">\n",
        "Обычно перед линейной регрессией я обязательно требую масштабировать признаки, т.к. это может помочь модели лучше сходиться.  И для любого классического проекта (в том числе выпускного) это строгая рекомендаци.\n",
        "    \n",
        "Но в нашем проекте это не очень однозначно. Да, с одной стороны модель будет уделать одинаковое влияние обоим признакам, да и учиться будет быстрее.    \n",
        "\n",
        "Но есть и минусы масштабирования:\n",
        "\n",
        " - Нарушение структуры эмбеддингов – смысл и семантические связи в эмбеддингах могут быть изменены.\n",
        " - Потеря важности признаков – относительная важность признаков из разных моделей (ResNet и BERT) может быть потеряна.\n",
        "\n",
        "Рекомендация:\n",
        "\n",
        "Попробуй оба подхода (с масштабированием и без) и сравни результаты, чтобы выбрать оптимальный вариант.    \n",
        "    \n",
        "\n",
        "</div>"
      ]
    },
    {
      "cell_type": "markdown",
      "metadata": {
        "id": "VWNu6jyfvifb"
      },
      "source": [
        "<img src=\"https://upload.wikimedia.org/wikipedia/commons/b/ba/Warning_sign_4.0.png\" align=left width=44, heigth=33>\n",
        "<div class=\"alert alert-warning\">\n",
        "Мы решаем новую задачу и не знаем, наксколько хороши наши метрики и наши модели. Поэтому советую начать с бейзлайна - константной модели (можешь взять простой DummyRegressor).</div>"
      ]
    },
    {
      "cell_type": "markdown",
      "source": [
        "<div class=\"alert\" style=\"background-color:#ead7f7;color:#8737bf\">\n",
        "    <font size=\"3\"><b>Комментарий студента</b></font>\n",
        "   \n",
        "Добавила.\n",
        "\n",
        "</div>"
      ],
      "metadata": {
        "id": "ltwuzKt2ohJp"
      }
    },
    {
      "cell_type": "markdown",
      "source": [
        "### DummyRegressor"
      ],
      "metadata": {
        "id": "k39OXkqNpOpv"
      }
    },
    {
      "cell_type": "code",
      "source": [
        "# Инициализация DummyRegressor\n",
        "dummy_regressor = DummyRegressor(strategy=\"mean\")  # Предсказания будут равны среднему\n",
        "\n",
        "# Обучение модели\n",
        "dummy_regressor.fit(X_train, y_train)\n",
        "\n",
        "# Предсказания\n",
        "dummy_y_pred = dummy_regressor.predict(X_valid)\n",
        "\n",
        "# Оценка производительности\n",
        "dummy_mae = mean_absolute_error(y_valid, dummy_y_pred)\n",
        "\n",
        "print(f\"Средняя абсолютная ошибка (MAE): {dummy_mae}\")\n"
      ],
      "metadata": {
        "colab": {
          "base_uri": "https://localhost:8080/"
        },
        "id": "CX521yrspLcL",
        "outputId": "a3b31157-982a-46e0-a77f-8fdcc9885f44"
      },
      "execution_count": 59,
      "outputs": [
        {
          "output_type": "stream",
          "name": "stdout",
          "text": [
            "Средняя абсолютная ошибка (MAE): 0.24744653370417036\n"
          ]
        }
      ]
    },
    {
      "cell_type": "markdown",
      "source": [
        "Средняя абсолютная ошибка (MAE): 0.2474"
      ],
      "metadata": {
        "id": "B_SAdVe81aoz"
      }
    },
    {
      "cell_type": "markdown",
      "metadata": {
        "id": "X71-9eP7NjZ2"
      },
      "source": [
        "### Linear Regression"
      ]
    },
    {
      "cell_type": "markdown",
      "source": [
        "Без масштабирования."
      ],
      "metadata": {
        "id": "CUttoSPwqcGl"
      }
    },
    {
      "cell_type": "code",
      "execution_count": 60,
      "metadata": {
        "colab": {
          "base_uri": "https://localhost:8080/"
        },
        "id": "sX6XJVXJlOMs",
        "outputId": "558c7033-1b66-47cc-8afe-b6613a435793"
      },
      "outputs": [
        {
          "output_type": "stream",
          "name": "stdout",
          "text": [
            "MAE для Linear Regression: 0.9288435366957916\n"
          ]
        }
      ],
      "source": [
        "# Обучение линейной регрессии\n",
        "linear_model = LinearRegression()\n",
        "linear_model.fit(train_features, y_train)\n",
        "\n",
        "# Предсказания и оценка\n",
        "y_pred_linear = linear_model.predict(valid_features)\n",
        "mae_linear = mean_absolute_error(y_valid, y_pred_linear)\n",
        "print(f'MAE для Linear Regression: {mae_linear}')"
      ]
    },
    {
      "cell_type": "markdown",
      "source": [
        "MAE для Linear Regression: 0.9288"
      ],
      "metadata": {
        "id": "v3cQKAnc1PVG"
      }
    },
    {
      "cell_type": "markdown",
      "metadata": {
        "id": "6ECEIRwOvifb"
      },
      "source": [
        "<img src=\"https://emojigraph.org/media/apple/check-mark-button_2705.png\" align=left width=33, heigth=33>\n",
        "<div class=\"alert alert-success\">\n",
        " 👍 </div>"
      ]
    },
    {
      "cell_type": "markdown",
      "metadata": {
        "id": "7OU8mYuXvifb"
      },
      "source": [
        "<img src=\"https://upload.wikimedia.org/wikipedia/commons/thumb/8/81/Stop_sign.png/240px-Stop_sign.png\" align=left width=35, heigth=35>\n",
        "<div class=\"alert alert-danger\">\n",
        "\n",
        "Не стоит в этот проект добавлять кросс-валидацию. Ведь оценку моделей мы делаем по валидационной выборке. А сравнение моделей по разным \"базам\" (кросс-валидация или валидационая выборка) может привести к некорректным результатам.\n",
        "    \n",
        "    \n",
        "А для нейронок, которые обучаются очень долго и часто требуют ручной настройки применять кросс-валидациию это достаточно \"дорого\".\n",
        "</div>"
      ]
    },
    {
      "cell_type": "markdown",
      "source": [
        "<div class=\"alert\" style=\"background-color:#ead7f7;color:#8737bf\">\n",
        "    <font size=\"3\"><b>Комментарий студента</b></font>\n",
        "   \n",
        "Удалила дерево.\n",
        "\n",
        "</div>"
      ],
      "metadata": {
        "id": "9-DELfekookp"
      }
    },
    {
      "cell_type": "markdown",
      "metadata": {
        "id": "7lYMyr8sNyn_"
      },
      "source": [
        "### Полносвязная нейронная сеть без подбора"
      ]
    },
    {
      "cell_type": "code",
      "execution_count": 61,
      "metadata": {
        "colab": {
          "base_uri": "https://localhost:8080/"
        },
        "id": "YyLrhjNVSnFB",
        "outputId": "a3a05a3b-e232-4dd9-c5d0-40fd4e521329",
        "collapsed": true
      },
      "outputs": [
        {
          "output_type": "stream",
          "name": "stderr",
          "text": [
            "/usr/local/lib/python3.10/dist-packages/keras/src/layers/core/dense.py:87: UserWarning: Do not pass an `input_shape`/`input_dim` argument to a layer. When using Sequential models, prefer using an `Input(shape)` object as the first layer in the model instead.\n",
            "  super().__init__(activity_regularizer=activity_regularizer, **kwargs)\n"
          ]
        },
        {
          "output_type": "stream",
          "name": "stdout",
          "text": [
            "Epoch 1/150\n",
            "\u001b[1m90/90\u001b[0m \u001b[32m━━━━━━━━━━━━━━━━━━━━\u001b[0m\u001b[37m\u001b[0m \u001b[1m1s\u001b[0m 4ms/step - loss: 0.2531\n",
            "Epoch 2/150\n",
            "\u001b[1m90/90\u001b[0m \u001b[32m━━━━━━━━━━━━━━━━━━━━\u001b[0m\u001b[37m\u001b[0m \u001b[1m1s\u001b[0m 4ms/step - loss: 0.2331\n",
            "Epoch 3/150\n",
            "\u001b[1m90/90\u001b[0m \u001b[32m━━━━━━━━━━━━━━━━━━━━\u001b[0m\u001b[37m\u001b[0m \u001b[1m1s\u001b[0m 4ms/step - loss: 0.2402\n",
            "Epoch 4/150\n",
            "\u001b[1m90/90\u001b[0m \u001b[32m━━━━━━━━━━━━━━━━━━━━\u001b[0m\u001b[37m\u001b[0m \u001b[1m0s\u001b[0m 4ms/step - loss: 0.2334\n",
            "Epoch 5/150\n",
            "\u001b[1m90/90\u001b[0m \u001b[32m━━━━━━━━━━━━━━━━━━━━\u001b[0m\u001b[37m\u001b[0m \u001b[1m1s\u001b[0m 4ms/step - loss: 0.2363\n",
            "Epoch 6/150\n",
            "\u001b[1m90/90\u001b[0m \u001b[32m━━━━━━━━━━━━━━━━━━━━\u001b[0m\u001b[37m\u001b[0m \u001b[1m1s\u001b[0m 4ms/step - loss: 0.2333\n",
            "Epoch 7/150\n",
            "\u001b[1m90/90\u001b[0m \u001b[32m━━━━━━━━━━━━━━━━━━━━\u001b[0m\u001b[37m\u001b[0m \u001b[1m1s\u001b[0m 4ms/step - loss: 0.2419\n",
            "Epoch 8/150\n",
            "\u001b[1m90/90\u001b[0m \u001b[32m━━━━━━━━━━━━━━━━━━━━\u001b[0m\u001b[37m\u001b[0m \u001b[1m1s\u001b[0m 4ms/step - loss: 0.2335\n",
            "Epoch 9/150\n",
            "\u001b[1m90/90\u001b[0m \u001b[32m━━━━━━━━━━━━━━━━━━━━\u001b[0m\u001b[37m\u001b[0m \u001b[1m1s\u001b[0m 4ms/step - loss: 0.2438\n",
            "Epoch 10/150\n",
            "\u001b[1m90/90\u001b[0m \u001b[32m━━━━━━━━━━━━━━━━━━━━\u001b[0m\u001b[37m\u001b[0m \u001b[1m1s\u001b[0m 6ms/step - loss: 0.2312\n",
            "Epoch 11/150\n",
            "\u001b[1m90/90\u001b[0m \u001b[32m━━━━━━━━━━━━━━━━━━━━\u001b[0m\u001b[37m\u001b[0m \u001b[1m1s\u001b[0m 6ms/step - loss: 0.2394\n",
            "Epoch 12/150\n",
            "\u001b[1m90/90\u001b[0m \u001b[32m━━━━━━━━━━━━━━━━━━━━\u001b[0m\u001b[37m\u001b[0m \u001b[1m1s\u001b[0m 7ms/step - loss: 0.2309\n",
            "Epoch 13/150\n",
            "\u001b[1m90/90\u001b[0m \u001b[32m━━━━━━━━━━━━━━━━━━━━\u001b[0m\u001b[37m\u001b[0m \u001b[1m1s\u001b[0m 5ms/step - loss: 0.2400\n",
            "Epoch 14/150\n",
            "\u001b[1m90/90\u001b[0m \u001b[32m━━━━━━━━━━━━━━━━━━━━\u001b[0m\u001b[37m\u001b[0m \u001b[1m0s\u001b[0m 3ms/step - loss: 0.2330\n",
            "Epoch 15/150\n",
            "\u001b[1m90/90\u001b[0m \u001b[32m━━━━━━━━━━━━━━━━━━━━\u001b[0m\u001b[37m\u001b[0m \u001b[1m1s\u001b[0m 3ms/step - loss: 0.2279\n",
            "Epoch 16/150\n",
            "\u001b[1m90/90\u001b[0m \u001b[32m━━━━━━━━━━━━━━━━━━━━\u001b[0m\u001b[37m\u001b[0m \u001b[1m1s\u001b[0m 4ms/step - loss: 0.2337\n",
            "Epoch 17/150\n",
            "\u001b[1m90/90\u001b[0m \u001b[32m━━━━━━━━━━━━━━━━━━━━\u001b[0m\u001b[37m\u001b[0m \u001b[1m1s\u001b[0m 3ms/step - loss: 0.2298\n",
            "Epoch 18/150\n",
            "\u001b[1m90/90\u001b[0m \u001b[32m━━━━━━━━━━━━━━━━━━━━\u001b[0m\u001b[37m\u001b[0m \u001b[1m1s\u001b[0m 4ms/step - loss: 0.2322\n",
            "Epoch 19/150\n",
            "\u001b[1m90/90\u001b[0m \u001b[32m━━━━━━━━━━━━━━━━━━━━\u001b[0m\u001b[37m\u001b[0m \u001b[1m1s\u001b[0m 3ms/step - loss: 0.2330\n",
            "Epoch 20/150\n",
            "\u001b[1m90/90\u001b[0m \u001b[32m━━━━━━━━━━━━━━━━━━━━\u001b[0m\u001b[37m\u001b[0m \u001b[1m1s\u001b[0m 3ms/step - loss: 0.2267\n",
            "Epoch 21/150\n",
            "\u001b[1m90/90\u001b[0m \u001b[32m━━━━━━━━━━━━━━━━━━━━\u001b[0m\u001b[37m\u001b[0m \u001b[1m1s\u001b[0m 4ms/step - loss: 0.2343\n",
            "Epoch 22/150\n",
            "\u001b[1m90/90\u001b[0m \u001b[32m━━━━━━━━━━━━━━━━━━━━\u001b[0m\u001b[37m\u001b[0m \u001b[1m0s\u001b[0m 3ms/step - loss: 0.2311\n",
            "Epoch 23/150\n",
            "\u001b[1m90/90\u001b[0m \u001b[32m━━━━━━━━━━━━━━━━━━━━\u001b[0m\u001b[37m\u001b[0m \u001b[1m1s\u001b[0m 4ms/step - loss: 0.2304\n",
            "Epoch 24/150\n",
            "\u001b[1m90/90\u001b[0m \u001b[32m━━━━━━━━━━━━━━━━━━━━\u001b[0m\u001b[37m\u001b[0m \u001b[1m1s\u001b[0m 8ms/step - loss: 0.2286\n",
            "Epoch 25/150\n",
            "\u001b[1m90/90\u001b[0m \u001b[32m━━━━━━━━━━━━━━━━━━━━\u001b[0m\u001b[37m\u001b[0m \u001b[1m1s\u001b[0m 7ms/step - loss: 0.2416\n",
            "Epoch 26/150\n",
            "\u001b[1m90/90\u001b[0m \u001b[32m━━━━━━━━━━━━━━━━━━━━\u001b[0m\u001b[37m\u001b[0m \u001b[1m1s\u001b[0m 8ms/step - loss: 0.2446\n",
            "Epoch 27/150\n",
            "\u001b[1m90/90\u001b[0m \u001b[32m━━━━━━━━━━━━━━━━━━━━\u001b[0m\u001b[37m\u001b[0m \u001b[1m1s\u001b[0m 10ms/step - loss: 0.2430\n",
            "Epoch 28/150\n",
            "\u001b[1m90/90\u001b[0m \u001b[32m━━━━━━━━━━━━━━━━━━━━\u001b[0m\u001b[37m\u001b[0m \u001b[1m1s\u001b[0m 11ms/step - loss: 0.2361\n",
            "Epoch 29/150\n",
            "\u001b[1m90/90\u001b[0m \u001b[32m━━━━━━━━━━━━━━━━━━━━\u001b[0m\u001b[37m\u001b[0m \u001b[1m1s\u001b[0m 12ms/step - loss: 0.2438\n",
            "Epoch 30/150\n",
            "\u001b[1m90/90\u001b[0m \u001b[32m━━━━━━━━━━━━━━━━━━━━\u001b[0m\u001b[37m\u001b[0m \u001b[1m1s\u001b[0m 12ms/step - loss: 0.2347\n",
            "Epoch 31/150\n",
            "\u001b[1m90/90\u001b[0m \u001b[32m━━━━━━━━━━━━━━━━━━━━\u001b[0m\u001b[37m\u001b[0m \u001b[1m1s\u001b[0m 9ms/step - loss: 0.2313\n",
            "Epoch 32/150\n",
            "\u001b[1m90/90\u001b[0m \u001b[32m━━━━━━━━━━━━━━━━━━━━\u001b[0m\u001b[37m\u001b[0m \u001b[1m1s\u001b[0m 8ms/step - loss: 0.2433\n",
            "Epoch 33/150\n",
            "\u001b[1m90/90\u001b[0m \u001b[32m━━━━━━━━━━━━━━━━━━━━\u001b[0m\u001b[37m\u001b[0m \u001b[1m1s\u001b[0m 9ms/step - loss: 0.2325\n",
            "Epoch 34/150\n",
            "\u001b[1m90/90\u001b[0m \u001b[32m━━━━━━━━━━━━━━━━━━━━\u001b[0m\u001b[37m\u001b[0m \u001b[1m1s\u001b[0m 8ms/step - loss: 0.2280\n",
            "Epoch 35/150\n",
            "\u001b[1m90/90\u001b[0m \u001b[32m━━━━━━━━━━━━━━━━━━━━\u001b[0m\u001b[37m\u001b[0m \u001b[1m1s\u001b[0m 7ms/step - loss: 0.2445\n",
            "Epoch 36/150\n",
            "\u001b[1m90/90\u001b[0m \u001b[32m━━━━━━━━━━━━━━━━━━━━\u001b[0m\u001b[37m\u001b[0m \u001b[1m1s\u001b[0m 7ms/step - loss: 0.2329\n",
            "Epoch 37/150\n",
            "\u001b[1m90/90\u001b[0m \u001b[32m━━━━━━━━━━━━━━━━━━━━\u001b[0m\u001b[37m\u001b[0m \u001b[1m1s\u001b[0m 8ms/step - loss: 0.2392\n",
            "Epoch 38/150\n",
            "\u001b[1m90/90\u001b[0m \u001b[32m━━━━━━━━━━━━━━━━━━━━\u001b[0m\u001b[37m\u001b[0m \u001b[1m1s\u001b[0m 8ms/step - loss: 0.2372\n",
            "Epoch 39/150\n",
            "\u001b[1m90/90\u001b[0m \u001b[32m━━━━━━━━━━━━━━━━━━━━\u001b[0m\u001b[37m\u001b[0m \u001b[1m1s\u001b[0m 7ms/step - loss: 0.2315\n",
            "Epoch 40/150\n",
            "\u001b[1m90/90\u001b[0m \u001b[32m━━━━━━━━━━━━━━━━━━━━\u001b[0m\u001b[37m\u001b[0m \u001b[1m2s\u001b[0m 11ms/step - loss: 0.2413\n",
            "Epoch 41/150\n",
            "\u001b[1m90/90\u001b[0m \u001b[32m━━━━━━━━━━━━━━━━━━━━\u001b[0m\u001b[37m\u001b[0m \u001b[1m1s\u001b[0m 11ms/step - loss: 0.2376\n",
            "Epoch 42/150\n",
            "\u001b[1m90/90\u001b[0m \u001b[32m━━━━━━━━━━━━━━━━━━━━\u001b[0m\u001b[37m\u001b[0m \u001b[1m1s\u001b[0m 11ms/step - loss: 0.2420\n",
            "Epoch 43/150\n",
            "\u001b[1m90/90\u001b[0m \u001b[32m━━━━━━━━━━━━━━━━━━━━\u001b[0m\u001b[37m\u001b[0m \u001b[1m1s\u001b[0m 10ms/step - loss: 0.2345\n",
            "Epoch 44/150\n",
            "\u001b[1m90/90\u001b[0m \u001b[32m━━━━━━━━━━━━━━━━━━━━\u001b[0m\u001b[37m\u001b[0m \u001b[1m1s\u001b[0m 10ms/step - loss: 0.2299\n",
            "Epoch 45/150\n",
            "\u001b[1m90/90\u001b[0m \u001b[32m━━━━━━━━━━━━━━━━━━━━\u001b[0m\u001b[37m\u001b[0m \u001b[1m1s\u001b[0m 7ms/step - loss: 0.2424\n",
            "Epoch 46/150\n",
            "\u001b[1m90/90\u001b[0m \u001b[32m━━━━━━━━━━━━━━━━━━━━\u001b[0m\u001b[37m\u001b[0m \u001b[1m1s\u001b[0m 7ms/step - loss: 0.2477\n",
            "Epoch 47/150\n",
            "\u001b[1m90/90\u001b[0m \u001b[32m━━━━━━━━━━━━━━━━━━━━\u001b[0m\u001b[37m\u001b[0m \u001b[1m1s\u001b[0m 8ms/step - loss: 0.2375\n",
            "Epoch 48/150\n",
            "\u001b[1m90/90\u001b[0m \u001b[32m━━━━━━━━━━━━━━━━━━━━\u001b[0m\u001b[37m\u001b[0m \u001b[1m1s\u001b[0m 6ms/step - loss: 0.2385\n",
            "Epoch 49/150\n",
            "\u001b[1m90/90\u001b[0m \u001b[32m━━━━━━━━━━━━━━━━━━━━\u001b[0m\u001b[37m\u001b[0m \u001b[1m1s\u001b[0m 8ms/step - loss: 0.2311\n",
            "Epoch 50/150\n",
            "\u001b[1m90/90\u001b[0m \u001b[32m━━━━━━━━━━━━━━━━━━━━\u001b[0m\u001b[37m\u001b[0m \u001b[1m1s\u001b[0m 6ms/step - loss: 0.2282\n",
            "Epoch 51/150\n",
            "\u001b[1m90/90\u001b[0m \u001b[32m━━━━━━━━━━━━━━━━━━━━\u001b[0m\u001b[37m\u001b[0m \u001b[1m1s\u001b[0m 7ms/step - loss: 0.2191\n",
            "Epoch 52/150\n",
            "\u001b[1m90/90\u001b[0m \u001b[32m━━━━━━━━━━━━━━━━━━━━\u001b[0m\u001b[37m\u001b[0m \u001b[1m1s\u001b[0m 7ms/step - loss: 0.2247\n",
            "Epoch 53/150\n",
            "\u001b[1m90/90\u001b[0m \u001b[32m━━━━━━━━━━━━━━━━━━━━\u001b[0m\u001b[37m\u001b[0m \u001b[1m1s\u001b[0m 3ms/step - loss: 0.2290\n",
            "Epoch 54/150\n",
            "\u001b[1m90/90\u001b[0m \u001b[32m━━━━━━━━━━━━━━━━━━━━\u001b[0m\u001b[37m\u001b[0m \u001b[1m1s\u001b[0m 7ms/step - loss: 0.2325\n",
            "Epoch 55/150\n",
            "\u001b[1m90/90\u001b[0m \u001b[32m━━━━━━━━━━━━━━━━━━━━\u001b[0m\u001b[37m\u001b[0m \u001b[1m1s\u001b[0m 7ms/step - loss: 0.2230\n",
            "Epoch 56/150\n",
            "\u001b[1m90/90\u001b[0m \u001b[32m━━━━━━━━━━━━━━━━━━━━\u001b[0m\u001b[37m\u001b[0m \u001b[1m1s\u001b[0m 6ms/step - loss: 0.2346\n",
            "Epoch 57/150\n",
            "\u001b[1m90/90\u001b[0m \u001b[32m━━━━━━━━━━━━━━━━━━━━\u001b[0m\u001b[37m\u001b[0m \u001b[1m1s\u001b[0m 6ms/step - loss: 0.2247\n",
            "Epoch 58/150\n",
            "\u001b[1m90/90\u001b[0m \u001b[32m━━━━━━━━━━━━━━━━━━━━\u001b[0m\u001b[37m\u001b[0m \u001b[1m0s\u001b[0m 4ms/step - loss: 0.2291\n",
            "Epoch 59/150\n",
            "\u001b[1m90/90\u001b[0m \u001b[32m━━━━━━━━━━━━━━━━━━━━\u001b[0m\u001b[37m\u001b[0m \u001b[1m1s\u001b[0m 3ms/step - loss: 0.2243\n",
            "Epoch 60/150\n",
            "\u001b[1m90/90\u001b[0m \u001b[32m━━━━━━━━━━━━━━━━━━━━\u001b[0m\u001b[37m\u001b[0m \u001b[1m1s\u001b[0m 3ms/step - loss: 0.2273\n",
            "Epoch 61/150\n",
            "\u001b[1m90/90\u001b[0m \u001b[32m━━━━━━━━━━━━━━━━━━━━\u001b[0m\u001b[37m\u001b[0m \u001b[1m1s\u001b[0m 4ms/step - loss: 0.2427\n",
            "Epoch 62/150\n",
            "\u001b[1m90/90\u001b[0m \u001b[32m━━━━━━━━━━━━━━━━━━━━\u001b[0m\u001b[37m\u001b[0m \u001b[1m0s\u001b[0m 3ms/step - loss: 0.2404\n",
            "Epoch 63/150\n",
            "\u001b[1m90/90\u001b[0m \u001b[32m━━━━━━━━━━━━━━━━━━━━\u001b[0m\u001b[37m\u001b[0m \u001b[1m1s\u001b[0m 4ms/step - loss: 0.2325\n",
            "Epoch 64/150\n",
            "\u001b[1m90/90\u001b[0m \u001b[32m━━━━━━━━━━━━━━━━━━━━\u001b[0m\u001b[37m\u001b[0m \u001b[1m0s\u001b[0m 3ms/step - loss: 0.2253\n",
            "Epoch 65/150\n",
            "\u001b[1m90/90\u001b[0m \u001b[32m━━━━━━━━━━━━━━━━━━━━\u001b[0m\u001b[37m\u001b[0m \u001b[1m1s\u001b[0m 4ms/step - loss: 0.2319\n",
            "Epoch 66/150\n",
            "\u001b[1m90/90\u001b[0m \u001b[32m━━━━━━━━━━━━━━━━━━━━\u001b[0m\u001b[37m\u001b[0m \u001b[1m1s\u001b[0m 3ms/step - loss: 0.2490\n",
            "Epoch 67/150\n",
            "\u001b[1m90/90\u001b[0m \u001b[32m━━━━━━━━━━━━━━━━━━━━\u001b[0m\u001b[37m\u001b[0m \u001b[1m1s\u001b[0m 3ms/step - loss: 0.2331\n",
            "Epoch 68/150\n",
            "\u001b[1m90/90\u001b[0m \u001b[32m━━━━━━━━━━━━━━━━━━━━\u001b[0m\u001b[37m\u001b[0m \u001b[1m1s\u001b[0m 4ms/step - loss: 0.2328\n",
            "Epoch 69/150\n",
            "\u001b[1m90/90\u001b[0m \u001b[32m━━━━━━━━━━━━━━━━━━━━\u001b[0m\u001b[37m\u001b[0m \u001b[1m1s\u001b[0m 3ms/step - loss: 0.2237\n",
            "Epoch 70/150\n",
            "\u001b[1m90/90\u001b[0m \u001b[32m━━━━━━━━━━━━━━━━━━━━\u001b[0m\u001b[37m\u001b[0m \u001b[1m1s\u001b[0m 4ms/step - loss: 0.2348\n",
            "Epoch 71/150\n",
            "\u001b[1m90/90\u001b[0m \u001b[32m━━━━━━━━━━━━━━━━━━━━\u001b[0m\u001b[37m\u001b[0m \u001b[1m0s\u001b[0m 3ms/step - loss: 0.2389\n",
            "Epoch 72/150\n",
            "\u001b[1m90/90\u001b[0m \u001b[32m━━━━━━━━━━━━━━━━━━━━\u001b[0m\u001b[37m\u001b[0m \u001b[1m1s\u001b[0m 4ms/step - loss: 0.2420\n",
            "Epoch 73/150\n",
            "\u001b[1m90/90\u001b[0m \u001b[32m━━━━━━━━━━━━━━━━━━━━\u001b[0m\u001b[37m\u001b[0m \u001b[1m1s\u001b[0m 3ms/step - loss: 0.2326\n",
            "Epoch 74/150\n",
            "\u001b[1m90/90\u001b[0m \u001b[32m━━━━━━━━━━━━━━━━━━━━\u001b[0m\u001b[37m\u001b[0m \u001b[1m1s\u001b[0m 4ms/step - loss: 0.2309\n",
            "Epoch 75/150\n",
            "\u001b[1m90/90\u001b[0m \u001b[32m━━━━━━━━━━━━━━━━━━━━\u001b[0m\u001b[37m\u001b[0m \u001b[1m1s\u001b[0m 7ms/step - loss: 0.2411\n",
            "Epoch 76/150\n",
            "\u001b[1m90/90\u001b[0m \u001b[32m━━━━━━━━━━━━━━━━━━━━\u001b[0m\u001b[37m\u001b[0m \u001b[1m1s\u001b[0m 6ms/step - loss: 0.2322\n",
            "Epoch 77/150\n",
            "\u001b[1m90/90\u001b[0m \u001b[32m━━━━━━━━━━━━━━━━━━━━\u001b[0m\u001b[37m\u001b[0m \u001b[1m1s\u001b[0m 6ms/step - loss: 0.2343\n",
            "Epoch 78/150\n",
            "\u001b[1m90/90\u001b[0m \u001b[32m━━━━━━━━━━━━━━━━━━━━\u001b[0m\u001b[37m\u001b[0m \u001b[1m1s\u001b[0m 7ms/step - loss: 0.2492\n",
            "Epoch 79/150\n",
            "\u001b[1m90/90\u001b[0m \u001b[32m━━━━━━━━━━━━━━━━━━━━\u001b[0m\u001b[37m\u001b[0m \u001b[1m1s\u001b[0m 4ms/step - loss: 0.2392\n",
            "Epoch 80/150\n",
            "\u001b[1m90/90\u001b[0m \u001b[32m━━━━━━━━━━━━━━━━━━━━\u001b[0m\u001b[37m\u001b[0m \u001b[1m1s\u001b[0m 4ms/step - loss: 0.2342\n",
            "Epoch 81/150\n",
            "\u001b[1m90/90\u001b[0m \u001b[32m━━━━━━━━━━━━━━━━━━━━\u001b[0m\u001b[37m\u001b[0m \u001b[1m1s\u001b[0m 4ms/step - loss: 0.2273\n",
            "Epoch 82/150\n",
            "\u001b[1m90/90\u001b[0m \u001b[32m━━━━━━━━━━━━━━━━━━━━\u001b[0m\u001b[37m\u001b[0m \u001b[1m1s\u001b[0m 4ms/step - loss: 0.2289\n",
            "Epoch 83/150\n",
            "\u001b[1m90/90\u001b[0m \u001b[32m━━━━━━━━━━━━━━━━━━━━\u001b[0m\u001b[37m\u001b[0m \u001b[1m1s\u001b[0m 4ms/step - loss: 0.2300\n",
            "Epoch 84/150\n",
            "\u001b[1m90/90\u001b[0m \u001b[32m━━━━━━━━━━━━━━━━━━━━\u001b[0m\u001b[37m\u001b[0m \u001b[1m1s\u001b[0m 4ms/step - loss: 0.2300\n",
            "Epoch 85/150\n",
            "\u001b[1m90/90\u001b[0m \u001b[32m━━━━━━━━━━━━━━━━━━━━\u001b[0m\u001b[37m\u001b[0m \u001b[1m1s\u001b[0m 4ms/step - loss: 0.2271\n",
            "Epoch 86/150\n",
            "\u001b[1m90/90\u001b[0m \u001b[32m━━━━━━━━━━━━━━━━━━━━\u001b[0m\u001b[37m\u001b[0m \u001b[1m1s\u001b[0m 4ms/step - loss: 0.2432\n",
            "Epoch 87/150\n",
            "\u001b[1m90/90\u001b[0m \u001b[32m━━━━━━━━━━━━━━━━━━━━\u001b[0m\u001b[37m\u001b[0m \u001b[1m1s\u001b[0m 3ms/step - loss: 0.2382\n",
            "Epoch 88/150\n",
            "\u001b[1m90/90\u001b[0m \u001b[32m━━━━━━━━━━━━━━━━━━━━\u001b[0m\u001b[37m\u001b[0m \u001b[1m1s\u001b[0m 4ms/step - loss: 0.2383\n",
            "Epoch 89/150\n",
            "\u001b[1m90/90\u001b[0m \u001b[32m━━━━━━━━━━━━━━━━━━━━\u001b[0m\u001b[37m\u001b[0m \u001b[1m0s\u001b[0m 3ms/step - loss: 0.2396\n",
            "Epoch 90/150\n",
            "\u001b[1m90/90\u001b[0m \u001b[32m━━━━━━━━━━━━━━━━━━━━\u001b[0m\u001b[37m\u001b[0m \u001b[1m1s\u001b[0m 4ms/step - loss: 0.2469\n",
            "Epoch 91/150\n",
            "\u001b[1m90/90\u001b[0m \u001b[32m━━━━━━━━━━━━━━━━━━━━\u001b[0m\u001b[37m\u001b[0m \u001b[1m0s\u001b[0m 4ms/step - loss: 0.2377\n",
            "Epoch 92/150\n",
            "\u001b[1m90/90\u001b[0m \u001b[32m━━━━━━━━━━━━━━━━━━━━\u001b[0m\u001b[37m\u001b[0m \u001b[1m1s\u001b[0m 4ms/step - loss: 0.2379\n",
            "Epoch 93/150\n",
            "\u001b[1m90/90\u001b[0m \u001b[32m━━━━━━━━━━━━━━━━━━━━\u001b[0m\u001b[37m\u001b[0m \u001b[1m1s\u001b[0m 4ms/step - loss: 0.2267\n",
            "Epoch 94/150\n",
            "\u001b[1m90/90\u001b[0m \u001b[32m━━━━━━━━━━━━━━━━━━━━\u001b[0m\u001b[37m\u001b[0m \u001b[1m1s\u001b[0m 4ms/step - loss: 0.2300\n",
            "Epoch 95/150\n",
            "\u001b[1m90/90\u001b[0m \u001b[32m━━━━━━━━━━━━━━━━━━━━\u001b[0m\u001b[37m\u001b[0m \u001b[1m0s\u001b[0m 4ms/step - loss: 0.2337\n",
            "Epoch 96/150\n",
            "\u001b[1m90/90\u001b[0m \u001b[32m━━━━━━━━━━━━━━━━━━━━\u001b[0m\u001b[37m\u001b[0m \u001b[1m1s\u001b[0m 7ms/step - loss: 0.2384\n",
            "Epoch 97/150\n",
            "\u001b[1m90/90\u001b[0m \u001b[32m━━━━━━━━━━━━━━━━━━━━\u001b[0m\u001b[37m\u001b[0m \u001b[1m1s\u001b[0m 7ms/step - loss: 0.2388\n",
            "Epoch 98/150\n",
            "\u001b[1m90/90\u001b[0m \u001b[32m━━━━━━━━━━━━━━━━━━━━\u001b[0m\u001b[37m\u001b[0m \u001b[1m1s\u001b[0m 4ms/step - loss: 0.2460\n",
            "Epoch 99/150\n",
            "\u001b[1m90/90\u001b[0m \u001b[32m━━━━━━━━━━━━━━━━━━━━\u001b[0m\u001b[37m\u001b[0m \u001b[1m0s\u001b[0m 4ms/step - loss: 0.2397\n",
            "Epoch 100/150\n",
            "\u001b[1m90/90\u001b[0m \u001b[32m━━━━━━━━━━━━━━━━━━━━\u001b[0m\u001b[37m\u001b[0m \u001b[1m1s\u001b[0m 4ms/step - loss: 0.2321\n",
            "Epoch 101/150\n",
            "\u001b[1m90/90\u001b[0m \u001b[32m━━━━━━━━━━━━━━━━━━━━\u001b[0m\u001b[37m\u001b[0m \u001b[1m1s\u001b[0m 4ms/step - loss: 0.2186\n",
            "Epoch 102/150\n",
            "\u001b[1m90/90\u001b[0m \u001b[32m━━━━━━━━━━━━━━━━━━━━\u001b[0m\u001b[37m\u001b[0m \u001b[1m1s\u001b[0m 4ms/step - loss: 0.2387\n",
            "Epoch 103/150\n",
            "\u001b[1m90/90\u001b[0m \u001b[32m━━━━━━━━━━━━━━━━━━━━\u001b[0m\u001b[37m\u001b[0m \u001b[1m1s\u001b[0m 4ms/step - loss: 0.2408\n",
            "Epoch 104/150\n",
            "\u001b[1m90/90\u001b[0m \u001b[32m━━━━━━━━━━━━━━━━━━━━\u001b[0m\u001b[37m\u001b[0m \u001b[1m1s\u001b[0m 4ms/step - loss: 0.2307\n",
            "Epoch 105/150\n",
            "\u001b[1m90/90\u001b[0m \u001b[32m━━━━━━━━━━━━━━━━━━━━\u001b[0m\u001b[37m\u001b[0m \u001b[1m0s\u001b[0m 4ms/step - loss: 0.2268\n",
            "Epoch 106/150\n",
            "\u001b[1m90/90\u001b[0m \u001b[32m━━━━━━━━━━━━━━━━━━━━\u001b[0m\u001b[37m\u001b[0m \u001b[1m0s\u001b[0m 4ms/step - loss: 0.2415\n",
            "Epoch 107/150\n",
            "\u001b[1m90/90\u001b[0m \u001b[32m━━━━━━━━━━━━━━━━━━━━\u001b[0m\u001b[37m\u001b[0m \u001b[1m0s\u001b[0m 4ms/step - loss: 0.2332\n",
            "Epoch 108/150\n",
            "\u001b[1m90/90\u001b[0m \u001b[32m━━━━━━━━━━━━━━━━━━━━\u001b[0m\u001b[37m\u001b[0m \u001b[1m1s\u001b[0m 4ms/step - loss: 0.2414\n",
            "Epoch 109/150\n",
            "\u001b[1m90/90\u001b[0m \u001b[32m━━━━━━━━━━━━━━━━━━━━\u001b[0m\u001b[37m\u001b[0m \u001b[1m1s\u001b[0m 4ms/step - loss: 0.2452\n",
            "Epoch 110/150\n",
            "\u001b[1m90/90\u001b[0m \u001b[32m━━━━━━━━━━━━━━━━━━━━\u001b[0m\u001b[37m\u001b[0m \u001b[1m0s\u001b[0m 4ms/step - loss: 0.2273\n",
            "Epoch 111/150\n",
            "\u001b[1m90/90\u001b[0m \u001b[32m━━━━━━━━━━━━━━━━━━━━\u001b[0m\u001b[37m\u001b[0m \u001b[1m0s\u001b[0m 4ms/step - loss: 0.2421\n",
            "Epoch 112/150\n",
            "\u001b[1m90/90\u001b[0m \u001b[32m━━━━━━━━━━━━━━━━━━━━\u001b[0m\u001b[37m\u001b[0m \u001b[1m1s\u001b[0m 4ms/step - loss: 0.2248\n",
            "Epoch 113/150\n",
            "\u001b[1m90/90\u001b[0m \u001b[32m━━━━━━━━━━━━━━━━━━━━\u001b[0m\u001b[37m\u001b[0m \u001b[1m0s\u001b[0m 4ms/step - loss: 0.2392\n",
            "Epoch 114/150\n",
            "\u001b[1m90/90\u001b[0m \u001b[32m━━━━━━━━━━━━━━━━━━━━\u001b[0m\u001b[37m\u001b[0m \u001b[1m1s\u001b[0m 4ms/step - loss: 0.2400\n",
            "Epoch 115/150\n",
            "\u001b[1m90/90\u001b[0m \u001b[32m━━━━━━━━━━━━━━━━━━━━\u001b[0m\u001b[37m\u001b[0m \u001b[1m0s\u001b[0m 4ms/step - loss: 0.2340\n",
            "Epoch 116/150\n",
            "\u001b[1m90/90\u001b[0m \u001b[32m━━━━━━━━━━━━━━━━━━━━\u001b[0m\u001b[37m\u001b[0m \u001b[1m1s\u001b[0m 4ms/step - loss: 0.2363\n",
            "Epoch 117/150\n",
            "\u001b[1m90/90\u001b[0m \u001b[32m━━━━━━━━━━━━━━━━━━━━\u001b[0m\u001b[37m\u001b[0m \u001b[1m1s\u001b[0m 6ms/step - loss: 0.2299\n",
            "Epoch 118/150\n",
            "\u001b[1m90/90\u001b[0m \u001b[32m━━━━━━━━━━━━━━━━━━━━\u001b[0m\u001b[37m\u001b[0m \u001b[1m1s\u001b[0m 7ms/step - loss: 0.2399\n",
            "Epoch 119/150\n",
            "\u001b[1m90/90\u001b[0m \u001b[32m━━━━━━━━━━━━━━━━━━━━\u001b[0m\u001b[37m\u001b[0m \u001b[1m1s\u001b[0m 8ms/step - loss: 0.2281\n",
            "Epoch 120/150\n",
            "\u001b[1m90/90\u001b[0m \u001b[32m━━━━━━━━━━━━━━━━━━━━\u001b[0m\u001b[37m\u001b[0m \u001b[1m1s\u001b[0m 4ms/step - loss: 0.2356\n",
            "Epoch 121/150\n",
            "\u001b[1m90/90\u001b[0m \u001b[32m━━━━━━━━━━━━━━━━━━━━\u001b[0m\u001b[37m\u001b[0m \u001b[1m0s\u001b[0m 4ms/step - loss: 0.2429\n",
            "Epoch 122/150\n",
            "\u001b[1m90/90\u001b[0m \u001b[32m━━━━━━━━━━━━━━━━━━━━\u001b[0m\u001b[37m\u001b[0m \u001b[1m1s\u001b[0m 4ms/step - loss: 0.2367\n",
            "Epoch 123/150\n",
            "\u001b[1m90/90\u001b[0m \u001b[32m━━━━━━━━━━━━━━━━━━━━\u001b[0m\u001b[37m\u001b[0m \u001b[1m0s\u001b[0m 4ms/step - loss: 0.2349\n",
            "Epoch 124/150\n",
            "\u001b[1m90/90\u001b[0m \u001b[32m━━━━━━━━━━━━━━━━━━━━\u001b[0m\u001b[37m\u001b[0m \u001b[1m1s\u001b[0m 4ms/step - loss: 0.2372\n",
            "Epoch 125/150\n",
            "\u001b[1m90/90\u001b[0m \u001b[32m━━━━━━━━━━━━━━━━━━━━\u001b[0m\u001b[37m\u001b[0m \u001b[1m1s\u001b[0m 4ms/step - loss: 0.2340\n",
            "Epoch 126/150\n",
            "\u001b[1m90/90\u001b[0m \u001b[32m━━━━━━━━━━━━━━━━━━━━\u001b[0m\u001b[37m\u001b[0m \u001b[1m1s\u001b[0m 4ms/step - loss: 0.2374\n",
            "Epoch 127/150\n",
            "\u001b[1m90/90\u001b[0m \u001b[32m━━━━━━━━━━━━━━━━━━━━\u001b[0m\u001b[37m\u001b[0m \u001b[1m1s\u001b[0m 4ms/step - loss: 0.2348\n",
            "Epoch 128/150\n",
            "\u001b[1m90/90\u001b[0m \u001b[32m━━━━━━━━━━━━━━━━━━━━\u001b[0m\u001b[37m\u001b[0m \u001b[1m0s\u001b[0m 4ms/step - loss: 0.2329\n",
            "Epoch 129/150\n",
            "\u001b[1m90/90\u001b[0m \u001b[32m━━━━━━━━━━━━━━━━━━━━\u001b[0m\u001b[37m\u001b[0m \u001b[1m1s\u001b[0m 4ms/step - loss: 0.2515\n",
            "Epoch 130/150\n",
            "\u001b[1m90/90\u001b[0m \u001b[32m━━━━━━━━━━━━━━━━━━━━\u001b[0m\u001b[37m\u001b[0m \u001b[1m1s\u001b[0m 4ms/step - loss: 0.2313\n",
            "Epoch 131/150\n",
            "\u001b[1m90/90\u001b[0m \u001b[32m━━━━━━━━━━━━━━━━━━━━\u001b[0m\u001b[37m\u001b[0m \u001b[1m1s\u001b[0m 4ms/step - loss: 0.2429\n",
            "Epoch 132/150\n",
            "\u001b[1m90/90\u001b[0m \u001b[32m━━━━━━━━━━━━━━━━━━━━\u001b[0m\u001b[37m\u001b[0m \u001b[1m0s\u001b[0m 4ms/step - loss: 0.2409\n",
            "Epoch 133/150\n",
            "\u001b[1m90/90\u001b[0m \u001b[32m━━━━━━━━━━━━━━━━━━━━\u001b[0m\u001b[37m\u001b[0m \u001b[1m1s\u001b[0m 4ms/step - loss: 0.2396\n",
            "Epoch 134/150\n",
            "\u001b[1m90/90\u001b[0m \u001b[32m━━━━━━━━━━━━━━━━━━━━\u001b[0m\u001b[37m\u001b[0m \u001b[1m1s\u001b[0m 4ms/step - loss: 0.2278\n",
            "Epoch 135/150\n",
            "\u001b[1m90/90\u001b[0m \u001b[32m━━━━━━━━━━━━━━━━━━━━\u001b[0m\u001b[37m\u001b[0m \u001b[1m1s\u001b[0m 4ms/step - loss: 0.2324\n",
            "Epoch 136/150\n",
            "\u001b[1m90/90\u001b[0m \u001b[32m━━━━━━━━━━━━━━━━━━━━\u001b[0m\u001b[37m\u001b[0m \u001b[1m0s\u001b[0m 4ms/step - loss: 0.2296\n",
            "Epoch 137/150\n",
            "\u001b[1m90/90\u001b[0m \u001b[32m━━━━━━━━━━━━━━━━━━━━\u001b[0m\u001b[37m\u001b[0m \u001b[1m1s\u001b[0m 4ms/step - loss: 0.2351\n",
            "Epoch 138/150\n",
            "\u001b[1m90/90\u001b[0m \u001b[32m━━━━━━━━━━━━━━━━━━━━\u001b[0m\u001b[37m\u001b[0m \u001b[1m1s\u001b[0m 7ms/step - loss: 0.2307\n",
            "Epoch 139/150\n",
            "\u001b[1m90/90\u001b[0m \u001b[32m━━━━━━━━━━━━━━━━━━━━\u001b[0m\u001b[37m\u001b[0m \u001b[1m1s\u001b[0m 7ms/step - loss: 0.2490\n",
            "Epoch 140/150\n",
            "\u001b[1m90/90\u001b[0m \u001b[32m━━━━━━━━━━━━━━━━━━━━\u001b[0m\u001b[37m\u001b[0m \u001b[1m1s\u001b[0m 4ms/step - loss: 0.2286\n",
            "Epoch 141/150\n",
            "\u001b[1m90/90\u001b[0m \u001b[32m━━━━━━━━━━━━━━━━━━━━\u001b[0m\u001b[37m\u001b[0m \u001b[1m1s\u001b[0m 4ms/step - loss: 0.2404\n",
            "Epoch 142/150\n",
            "\u001b[1m90/90\u001b[0m \u001b[32m━━━━━━━━━━━━━━━━━━━━\u001b[0m\u001b[37m\u001b[0m \u001b[1m1s\u001b[0m 4ms/step - loss: 0.2295\n",
            "Epoch 143/150\n",
            "\u001b[1m90/90\u001b[0m \u001b[32m━━━━━━━━━━━━━━━━━━━━\u001b[0m\u001b[37m\u001b[0m \u001b[1m0s\u001b[0m 4ms/step - loss: 0.2376\n",
            "Epoch 144/150\n",
            "\u001b[1m90/90\u001b[0m \u001b[32m━━━━━━━━━━━━━━━━━━━━\u001b[0m\u001b[37m\u001b[0m \u001b[1m0s\u001b[0m 4ms/step - loss: 0.2340\n",
            "Epoch 145/150\n",
            "\u001b[1m90/90\u001b[0m \u001b[32m━━━━━━━━━━━━━━━━━━━━\u001b[0m\u001b[37m\u001b[0m \u001b[1m1s\u001b[0m 4ms/step - loss: 0.2373\n",
            "Epoch 146/150\n",
            "\u001b[1m90/90\u001b[0m \u001b[32m━━━━━━━━━━━━━━━━━━━━\u001b[0m\u001b[37m\u001b[0m \u001b[1m0s\u001b[0m 4ms/step - loss: 0.2391\n",
            "Epoch 147/150\n",
            "\u001b[1m90/90\u001b[0m \u001b[32m━━━━━━━━━━━━━━━━━━━━\u001b[0m\u001b[37m\u001b[0m \u001b[1m1s\u001b[0m 4ms/step - loss: 0.2339\n",
            "Epoch 148/150\n",
            "\u001b[1m90/90\u001b[0m \u001b[32m━━━━━━━━━━━━━━━━━━━━\u001b[0m\u001b[37m\u001b[0m \u001b[1m0s\u001b[0m 4ms/step - loss: 0.2339\n",
            "Epoch 149/150\n",
            "\u001b[1m90/90\u001b[0m \u001b[32m━━━━━━━━━━━━━━━━━━━━\u001b[0m\u001b[37m\u001b[0m \u001b[1m1s\u001b[0m 4ms/step - loss: 0.2334\n",
            "Epoch 150/150\n",
            "\u001b[1m90/90\u001b[0m \u001b[32m━━━━━━━━━━━━━━━━━━━━\u001b[0m\u001b[37m\u001b[0m \u001b[1m1s\u001b[0m 4ms/step - loss: 0.2360\n",
            "\u001b[1m39/39\u001b[0m \u001b[32m━━━━━━━━━━━━━━━━━━━━\u001b[0m\u001b[37m\u001b[0m \u001b[1m0s\u001b[0m 3ms/step\n",
            "MAE для Neural Network без подбора: 0.21764864189454805\n"
          ]
        }
      ],
      "source": [
        "# Создание модели нейронной сети\n",
        "def create_nn_model(input_dim):\n",
        "    model = Sequential()\n",
        "    model.add(Dense(128, activation='relu', input_dim=input_dim))\n",
        "    model.add(Dense(64, activation='relu'))\n",
        "    model.add(Dense(1, activation='sigmoid'))\n",
        "    model.compile(optimizer='adam', loss='mean_absolute_error')\n",
        "    return model\n",
        "\n",
        "# Обучение модели\n",
        "nn_model = create_nn_model(train_features.shape[1])\n",
        "nn_model.fit(train_features, y_train, epochs=150, batch_size=32, verbose=1)\n",
        "\n",
        "# Предсказания и оценка\n",
        "y_pred_nn = nn_model.predict(valid_features)\n",
        "mae_nn = mean_absolute_error(y_valid, y_pred_nn)\n",
        "print(f'MAE для Neural Network без подбора: {mae_nn}')"
      ]
    },
    {
      "cell_type": "markdown",
      "source": [
        "MAE для Neural Network без подбора: 0.2176"
      ],
      "metadata": {
        "id": "UaU6gL6q1DqQ"
      }
    },
    {
      "cell_type": "markdown",
      "source": [
        "### Нейронная сеть с подбором"
      ],
      "metadata": {
        "id": "I8aa6WQE00oP"
      }
    },
    {
      "cell_type": "code",
      "source": [
        "best_metric = 0.99 #значение начальной метрики должно быть установлено так, чтобы оно превышало все возможные значения MAE, которые вы можете получить.\n",
        "\n",
        "for i in range(50, 151, 100):\n",
        "    for j in range(20, 51, 30):\n",
        "        for k in range(5, 11, 5):\n",
        "\n",
        "            units_4 = [i, j, k, 1]\n",
        "            input_dim = train_features.shape[1]\n",
        "\n",
        "            dense_model = keras.models.Sequential()\n",
        "            dense_model.add(keras.layers.Dense(units=units_4[0], input_dim=input_dim, activation='relu'))\n",
        "            dense_model.add(Dense(units=units_4[1], input_dim=units_4[0], activation='relu'))\n",
        "            dense_model.add(Dense(units=units_4[2], input_dim=units_4[1], activation='relu'))\n",
        "            dense_model.add(Dense(units=units_4[3], input_dim=units_4[2], activation='sigmoid'))\n",
        "\n",
        "            dense_model.compile(loss='mean_absolute_error', optimizer='Adam', metrics=['mean_absolute_error'])\n",
        "\n",
        "            dense_model.fit(train_features, y_train, epochs=100,validation_data=(valid_features, y_valid))\n",
        "\n",
        "            metric = mean_absolute_error(y_valid, dense_model.predict(valid_features))\n",
        "\n",
        "            if metric < best_metric:\n",
        "                best_metric = metric\n",
        "                best_units = [i, j, k]\n",
        "                best_dense_model = dense_model\n",
        "\n",
        "print(f'Лучшие параметры для Neural Network с подбором: {best_units}')\n",
        "print(f'MAE для Neural Network с подбором: {best_metric}')\n"
      ],
      "metadata": {
        "colab": {
          "base_uri": "https://localhost:8080/"
        },
        "collapsed": true,
        "id": "mM8hASsBvUoo",
        "outputId": "537a02a2-01b4-45ec-a94f-87caed416334"
      },
      "execution_count": 62,
      "outputs": [
        {
          "output_type": "stream",
          "name": "stdout",
          "text": [
            "Epoch 1/100\n"
          ]
        },
        {
          "output_type": "stream",
          "name": "stderr",
          "text": [
            "/usr/local/lib/python3.10/dist-packages/keras/src/layers/core/dense.py:87: UserWarning: Do not pass an `input_shape`/`input_dim` argument to a layer. When using Sequential models, prefer using an `Input(shape)` object as the first layer in the model instead.\n",
            "  super().__init__(activity_regularizer=activity_regularizer, **kwargs)\n"
          ]
        },
        {
          "output_type": "stream",
          "name": "stdout",
          "text": [
            "\u001b[1m90/90\u001b[0m \u001b[32m━━━━━━━━━━━━━━━━━━━━\u001b[0m\u001b[37m\u001b[0m \u001b[1m2s\u001b[0m 6ms/step - loss: 0.2575 - mean_absolute_error: 0.2575 - val_loss: 0.2188 - val_mean_absolute_error: 0.2188\n",
            "Epoch 2/100\n",
            "\u001b[1m90/90\u001b[0m \u001b[32m━━━━━━━━━━━━━━━━━━━━\u001b[0m\u001b[37m\u001b[0m \u001b[1m0s\u001b[0m 3ms/step - loss: 0.2343 - mean_absolute_error: 0.2343 - val_loss: 0.2152 - val_mean_absolute_error: 0.2152\n",
            "Epoch 3/100\n",
            "\u001b[1m90/90\u001b[0m \u001b[32m━━━━━━━━━━━━━━━━━━━━\u001b[0m\u001b[37m\u001b[0m \u001b[1m1s\u001b[0m 3ms/step - loss: 0.2165 - mean_absolute_error: 0.2165 - val_loss: 0.2044 - val_mean_absolute_error: 0.2044\n",
            "Epoch 4/100\n",
            "\u001b[1m90/90\u001b[0m \u001b[32m━━━━━━━━━━━━━━━━━━━━\u001b[0m\u001b[37m\u001b[0m \u001b[1m2s\u001b[0m 15ms/step - loss: 0.2142 - mean_absolute_error: 0.2142 - val_loss: 0.2023 - val_mean_absolute_error: 0.2023\n",
            "Epoch 5/100\n",
            "\u001b[1m90/90\u001b[0m \u001b[32m━━━━━━━━━━━━━━━━━━━━\u001b[0m\u001b[37m\u001b[0m \u001b[1m1s\u001b[0m 16ms/step - loss: 0.2013 - mean_absolute_error: 0.2013 - val_loss: 0.2009 - val_mean_absolute_error: 0.2009\n",
            "Epoch 6/100\n",
            "\u001b[1m90/90\u001b[0m \u001b[32m━━━━━━━━━━━━━━━━━━━━\u001b[0m\u001b[37m\u001b[0m \u001b[1m1s\u001b[0m 13ms/step - loss: 0.1939 - mean_absolute_error: 0.1939 - val_loss: 0.2039 - val_mean_absolute_error: 0.2039\n",
            "Epoch 7/100\n",
            "\u001b[1m90/90\u001b[0m \u001b[32m━━━━━━━━━━━━━━━━━━━━\u001b[0m\u001b[37m\u001b[0m \u001b[1m1s\u001b[0m 9ms/step - loss: 0.2011 - mean_absolute_error: 0.2011 - val_loss: 0.1980 - val_mean_absolute_error: 0.1980\n",
            "Epoch 8/100\n",
            "\u001b[1m90/90\u001b[0m \u001b[32m━━━━━━━━━━━━━━━━━━━━\u001b[0m\u001b[37m\u001b[0m \u001b[1m1s\u001b[0m 4ms/step - loss: 0.1890 - mean_absolute_error: 0.1890 - val_loss: 0.1953 - val_mean_absolute_error: 0.1953\n",
            "Epoch 9/100\n",
            "\u001b[1m90/90\u001b[0m \u001b[32m━━━━━━━━━━━━━━━━━━━━\u001b[0m\u001b[37m\u001b[0m \u001b[1m1s\u001b[0m 3ms/step - loss: 0.1918 - mean_absolute_error: 0.1918 - val_loss: 0.1957 - val_mean_absolute_error: 0.1957\n",
            "Epoch 10/100\n",
            "\u001b[1m90/90\u001b[0m \u001b[32m━━━━━━━━━━━━━━━━━━━━\u001b[0m\u001b[37m\u001b[0m \u001b[1m1s\u001b[0m 4ms/step - loss: 0.1917 - mean_absolute_error: 0.1917 - val_loss: 0.1982 - val_mean_absolute_error: 0.1982\n",
            "Epoch 11/100\n",
            "\u001b[1m90/90\u001b[0m \u001b[32m━━━━━━━━━━━━━━━━━━━━\u001b[0m\u001b[37m\u001b[0m \u001b[1m1s\u001b[0m 4ms/step - loss: 0.1904 - mean_absolute_error: 0.1904 - val_loss: 0.1936 - val_mean_absolute_error: 0.1936\n",
            "Epoch 12/100\n",
            "\u001b[1m90/90\u001b[0m \u001b[32m━━━━━━━━━━━━━━━━━━━━\u001b[0m\u001b[37m\u001b[0m \u001b[1m1s\u001b[0m 3ms/step - loss: 0.1912 - mean_absolute_error: 0.1912 - val_loss: 0.1958 - val_mean_absolute_error: 0.1958\n",
            "Epoch 13/100\n",
            "\u001b[1m90/90\u001b[0m \u001b[32m━━━━━━━━━━━━━━━━━━━━\u001b[0m\u001b[37m\u001b[0m \u001b[1m1s\u001b[0m 4ms/step - loss: 0.1829 - mean_absolute_error: 0.1829 - val_loss: 0.1912 - val_mean_absolute_error: 0.1912\n",
            "Epoch 14/100\n",
            "\u001b[1m90/90\u001b[0m \u001b[32m━━━━━━━━━━━━━━━━━━━━\u001b[0m\u001b[37m\u001b[0m \u001b[1m1s\u001b[0m 3ms/step - loss: 0.1927 - mean_absolute_error: 0.1927 - val_loss: 0.1954 - val_mean_absolute_error: 0.1954\n",
            "Epoch 15/100\n",
            "\u001b[1m90/90\u001b[0m \u001b[32m━━━━━━━━━━━━━━━━━━━━\u001b[0m\u001b[37m\u001b[0m \u001b[1m0s\u001b[0m 4ms/step - loss: 0.1767 - mean_absolute_error: 0.1767 - val_loss: 0.1953 - val_mean_absolute_error: 0.1953\n",
            "Epoch 16/100\n",
            "\u001b[1m90/90\u001b[0m \u001b[32m━━━━━━━━━━━━━━━━━━━━\u001b[0m\u001b[37m\u001b[0m \u001b[1m0s\u001b[0m 4ms/step - loss: 0.1752 - mean_absolute_error: 0.1752 - val_loss: 0.1948 - val_mean_absolute_error: 0.1948\n",
            "Epoch 17/100\n",
            "\u001b[1m90/90\u001b[0m \u001b[32m━━━━━━━━━━━━━━━━━━━━\u001b[0m\u001b[37m\u001b[0m \u001b[1m0s\u001b[0m 4ms/step - loss: 0.1841 - mean_absolute_error: 0.1841 - val_loss: 0.1948 - val_mean_absolute_error: 0.1948\n",
            "Epoch 18/100\n",
            "\u001b[1m90/90\u001b[0m \u001b[32m━━━━━━━━━━━━━━━━━━━━\u001b[0m\u001b[37m\u001b[0m \u001b[1m0s\u001b[0m 4ms/step - loss: 0.1743 - mean_absolute_error: 0.1743 - val_loss: 0.1917 - val_mean_absolute_error: 0.1917\n",
            "Epoch 19/100\n",
            "\u001b[1m90/90\u001b[0m \u001b[32m━━━━━━━━━━━━━━━━━━━━\u001b[0m\u001b[37m\u001b[0m \u001b[1m1s\u001b[0m 3ms/step - loss: 0.1675 - mean_absolute_error: 0.1675 - val_loss: 0.1888 - val_mean_absolute_error: 0.1888\n",
            "Epoch 20/100\n",
            "\u001b[1m90/90\u001b[0m \u001b[32m━━━━━━━━━━━━━━━━━━━━\u001b[0m\u001b[37m\u001b[0m \u001b[1m1s\u001b[0m 3ms/step - loss: 0.1744 - mean_absolute_error: 0.1744 - val_loss: 0.1897 - val_mean_absolute_error: 0.1897\n",
            "Epoch 21/100\n",
            "\u001b[1m90/90\u001b[0m \u001b[32m━━━━━━━━━━━━━━━━━━━━\u001b[0m\u001b[37m\u001b[0m \u001b[1m1s\u001b[0m 3ms/step - loss: 0.1751 - mean_absolute_error: 0.1751 - val_loss: 0.1930 - val_mean_absolute_error: 0.1930\n",
            "Epoch 22/100\n",
            "\u001b[1m90/90\u001b[0m \u001b[32m━━━━━━━━━━━━━━━━━━━━\u001b[0m\u001b[37m\u001b[0m \u001b[1m1s\u001b[0m 3ms/step - loss: 0.1639 - mean_absolute_error: 0.1639 - val_loss: 0.2066 - val_mean_absolute_error: 0.2066\n",
            "Epoch 23/100\n",
            "\u001b[1m90/90\u001b[0m \u001b[32m━━━━━━━━━━━━━━━━━━━━\u001b[0m\u001b[37m\u001b[0m \u001b[1m0s\u001b[0m 4ms/step - loss: 0.1825 - mean_absolute_error: 0.1825 - val_loss: 0.1930 - val_mean_absolute_error: 0.1930\n",
            "Epoch 24/100\n",
            "\u001b[1m90/90\u001b[0m \u001b[32m━━━━━━━━━━━━━━━━━━━━\u001b[0m\u001b[37m\u001b[0m \u001b[1m1s\u001b[0m 4ms/step - loss: 0.1600 - mean_absolute_error: 0.1600 - val_loss: 0.1897 - val_mean_absolute_error: 0.1897\n",
            "Epoch 25/100\n",
            "\u001b[1m90/90\u001b[0m \u001b[32m━━━━━━━━━━━━━━━━━━━━\u001b[0m\u001b[37m\u001b[0m \u001b[1m0s\u001b[0m 4ms/step - loss: 0.1699 - mean_absolute_error: 0.1699 - val_loss: 0.1899 - val_mean_absolute_error: 0.1899\n",
            "Epoch 26/100\n",
            "\u001b[1m90/90\u001b[0m \u001b[32m━━━━━━━━━━━━━━━━━━━━\u001b[0m\u001b[37m\u001b[0m \u001b[1m1s\u001b[0m 6ms/step - loss: 0.1668 - mean_absolute_error: 0.1668 - val_loss: 0.1887 - val_mean_absolute_error: 0.1887\n",
            "Epoch 27/100\n",
            "\u001b[1m90/90\u001b[0m \u001b[32m━━━━━━━━━━━━━━━━━━━━\u001b[0m\u001b[37m\u001b[0m \u001b[1m1s\u001b[0m 5ms/step - loss: 0.1580 - mean_absolute_error: 0.1580 - val_loss: 0.1907 - val_mean_absolute_error: 0.1907\n",
            "Epoch 28/100\n",
            "\u001b[1m90/90\u001b[0m \u001b[32m━━━━━━━━━━━━━━━━━━━━\u001b[0m\u001b[37m\u001b[0m \u001b[1m1s\u001b[0m 6ms/step - loss: 0.1603 - mean_absolute_error: 0.1603 - val_loss: 0.1990 - val_mean_absolute_error: 0.1990\n",
            "Epoch 29/100\n",
            "\u001b[1m90/90\u001b[0m \u001b[32m━━━━━━━━━━━━━━━━━━━━\u001b[0m\u001b[37m\u001b[0m \u001b[1m1s\u001b[0m 7ms/step - loss: 0.1665 - mean_absolute_error: 0.1665 - val_loss: 0.1935 - val_mean_absolute_error: 0.1935\n",
            "Epoch 30/100\n",
            "\u001b[1m90/90\u001b[0m \u001b[32m━━━━━━━━━━━━━━━━━━━━\u001b[0m\u001b[37m\u001b[0m \u001b[1m1s\u001b[0m 7ms/step - loss: 0.1643 - mean_absolute_error: 0.1643 - val_loss: 0.1889 - val_mean_absolute_error: 0.1889\n",
            "Epoch 31/100\n",
            "\u001b[1m90/90\u001b[0m \u001b[32m━━━━━━━━━━━━━━━━━━━━\u001b[0m\u001b[37m\u001b[0m \u001b[1m1s\u001b[0m 7ms/step - loss: 0.1571 - mean_absolute_error: 0.1571 - val_loss: 0.1970 - val_mean_absolute_error: 0.1970\n",
            "Epoch 32/100\n",
            "\u001b[1m90/90\u001b[0m \u001b[32m━━━━━━━━━━━━━━━━━━━━\u001b[0m\u001b[37m\u001b[0m \u001b[1m1s\u001b[0m 6ms/step - loss: 0.1465 - mean_absolute_error: 0.1465 - val_loss: 0.2067 - val_mean_absolute_error: 0.2067\n",
            "Epoch 33/100\n",
            "\u001b[1m90/90\u001b[0m \u001b[32m━━━━━━━━━━━━━━━━━━━━\u001b[0m\u001b[37m\u001b[0m \u001b[1m1s\u001b[0m 7ms/step - loss: 0.1591 - mean_absolute_error: 0.1591 - val_loss: 0.1943 - val_mean_absolute_error: 0.1943\n",
            "Epoch 34/100\n",
            "\u001b[1m90/90\u001b[0m \u001b[32m━━━━━━━━━━━━━━━━━━━━\u001b[0m\u001b[37m\u001b[0m \u001b[1m0s\u001b[0m 3ms/step - loss: 0.1581 - mean_absolute_error: 0.1581 - val_loss: 0.2042 - val_mean_absolute_error: 0.2042\n",
            "Epoch 35/100\n",
            "\u001b[1m90/90\u001b[0m \u001b[32m━━━━━━━━━━━━━━━━━━━━\u001b[0m\u001b[37m\u001b[0m \u001b[1m1s\u001b[0m 4ms/step - loss: 0.1569 - mean_absolute_error: 0.1569 - val_loss: 0.1983 - val_mean_absolute_error: 0.1983\n",
            "Epoch 36/100\n",
            "\u001b[1m90/90\u001b[0m \u001b[32m━━━━━━━━━━━━━━━━━━━━\u001b[0m\u001b[37m\u001b[0m \u001b[1m1s\u001b[0m 4ms/step - loss: 0.1587 - mean_absolute_error: 0.1587 - val_loss: 0.2058 - val_mean_absolute_error: 0.2058\n",
            "Epoch 37/100\n",
            "\u001b[1m90/90\u001b[0m \u001b[32m━━━━━━━━━━━━━━━━━━━━\u001b[0m\u001b[37m\u001b[0m \u001b[1m0s\u001b[0m 4ms/step - loss: 0.1508 - mean_absolute_error: 0.1508 - val_loss: 0.1900 - val_mean_absolute_error: 0.1900\n",
            "Epoch 38/100\n",
            "\u001b[1m90/90\u001b[0m \u001b[32m━━━━━━━━━━━━━━━━━━━━\u001b[0m\u001b[37m\u001b[0m \u001b[1m0s\u001b[0m 4ms/step - loss: 0.1511 - mean_absolute_error: 0.1511 - val_loss: 0.2094 - val_mean_absolute_error: 0.2094\n",
            "Epoch 39/100\n",
            "\u001b[1m90/90\u001b[0m \u001b[32m━━━━━━━━━━━━━━━━━━━━\u001b[0m\u001b[37m\u001b[0m \u001b[1m0s\u001b[0m 4ms/step - loss: 0.1577 - mean_absolute_error: 0.1577 - val_loss: 0.1945 - val_mean_absolute_error: 0.1945\n",
            "Epoch 40/100\n",
            "\u001b[1m90/90\u001b[0m \u001b[32m━━━━━━━━━━━━━━━━━━━━\u001b[0m\u001b[37m\u001b[0m \u001b[1m1s\u001b[0m 4ms/step - loss: 0.1522 - mean_absolute_error: 0.1522 - val_loss: 0.1914 - val_mean_absolute_error: 0.1914\n",
            "Epoch 41/100\n",
            "\u001b[1m90/90\u001b[0m \u001b[32m━━━━━━━━━━━━━━━━━━━━\u001b[0m\u001b[37m\u001b[0m \u001b[1m0s\u001b[0m 4ms/step - loss: 0.1380 - mean_absolute_error: 0.1380 - val_loss: 0.1905 - val_mean_absolute_error: 0.1905\n",
            "Epoch 42/100\n",
            "\u001b[1m90/90\u001b[0m \u001b[32m━━━━━━━━━━━━━━━━━━━━\u001b[0m\u001b[37m\u001b[0m \u001b[1m0s\u001b[0m 3ms/step - loss: 0.1516 - mean_absolute_error: 0.1516 - val_loss: 0.1915 - val_mean_absolute_error: 0.1915\n",
            "Epoch 43/100\n",
            "\u001b[1m90/90\u001b[0m \u001b[32m━━━━━━━━━━━━━━━━━━━━\u001b[0m\u001b[37m\u001b[0m \u001b[1m1s\u001b[0m 3ms/step - loss: 0.1482 - mean_absolute_error: 0.1482 - val_loss: 0.1957 - val_mean_absolute_error: 0.1957\n",
            "Epoch 44/100\n",
            "\u001b[1m90/90\u001b[0m \u001b[32m━━━━━━━━━━━━━━━━━━━━\u001b[0m\u001b[37m\u001b[0m \u001b[1m1s\u001b[0m 4ms/step - loss: 0.1504 - mean_absolute_error: 0.1504 - val_loss: 0.1984 - val_mean_absolute_error: 0.1984\n",
            "Epoch 45/100\n",
            "\u001b[1m90/90\u001b[0m \u001b[32m━━━━━━━━━━━━━━━━━━━━\u001b[0m\u001b[37m\u001b[0m \u001b[1m0s\u001b[0m 3ms/step - loss: 0.1398 - mean_absolute_error: 0.1398 - val_loss: 0.1935 - val_mean_absolute_error: 0.1935\n",
            "Epoch 46/100\n",
            "\u001b[1m90/90\u001b[0m \u001b[32m━━━━━━━━━━━━━━━━━━━━\u001b[0m\u001b[37m\u001b[0m \u001b[1m0s\u001b[0m 4ms/step - loss: 0.1465 - mean_absolute_error: 0.1465 - val_loss: 0.1931 - val_mean_absolute_error: 0.1931\n",
            "Epoch 47/100\n",
            "\u001b[1m90/90\u001b[0m \u001b[32m━━━━━━━━━━━━━━━━━━━━\u001b[0m\u001b[37m\u001b[0m \u001b[1m1s\u001b[0m 4ms/step - loss: 0.1407 - mean_absolute_error: 0.1407 - val_loss: 0.1933 - val_mean_absolute_error: 0.1933\n",
            "Epoch 48/100\n",
            "\u001b[1m90/90\u001b[0m \u001b[32m━━━━━━━━━━━━━━━━━━━━\u001b[0m\u001b[37m\u001b[0m \u001b[1m0s\u001b[0m 4ms/step - loss: 0.1500 - mean_absolute_error: 0.1500 - val_loss: 0.2018 - val_mean_absolute_error: 0.2018\n",
            "Epoch 49/100\n",
            "\u001b[1m90/90\u001b[0m \u001b[32m━━━━━━━━━━━━━━━━━━━━\u001b[0m\u001b[37m\u001b[0m \u001b[1m0s\u001b[0m 4ms/step - loss: 0.1480 - mean_absolute_error: 0.1480 - val_loss: 0.1981 - val_mean_absolute_error: 0.1981\n",
            "Epoch 50/100\n",
            "\u001b[1m90/90\u001b[0m \u001b[32m━━━━━━━━━━━━━━━━━━━━\u001b[0m\u001b[37m\u001b[0m \u001b[1m0s\u001b[0m 4ms/step - loss: 0.1473 - mean_absolute_error: 0.1473 - val_loss: 0.1963 - val_mean_absolute_error: 0.1963\n",
            "Epoch 51/100\n",
            "\u001b[1m90/90\u001b[0m \u001b[32m━━━━━━━━━━━━━━━━━━━━\u001b[0m\u001b[37m\u001b[0m \u001b[1m1s\u001b[0m 6ms/step - loss: 0.1454 - mean_absolute_error: 0.1454 - val_loss: 0.1912 - val_mean_absolute_error: 0.1912\n",
            "Epoch 52/100\n",
            "\u001b[1m90/90\u001b[0m \u001b[32m━━━━━━━━━━━━━━━━━━━━\u001b[0m\u001b[37m\u001b[0m \u001b[1m1s\u001b[0m 7ms/step - loss: 0.1457 - mean_absolute_error: 0.1457 - val_loss: 0.1927 - val_mean_absolute_error: 0.1927\n",
            "Epoch 53/100\n",
            "\u001b[1m90/90\u001b[0m \u001b[32m━━━━━━━━━━━━━━━━━━━━\u001b[0m\u001b[37m\u001b[0m \u001b[1m1s\u001b[0m 6ms/step - loss: 0.1316 - mean_absolute_error: 0.1316 - val_loss: 0.1930 - val_mean_absolute_error: 0.1930\n",
            "Epoch 54/100\n",
            "\u001b[1m90/90\u001b[0m \u001b[32m━━━━━━━━━━━━━━━━━━━━\u001b[0m\u001b[37m\u001b[0m \u001b[1m1s\u001b[0m 6ms/step - loss: 0.1398 - mean_absolute_error: 0.1398 - val_loss: 0.1909 - val_mean_absolute_error: 0.1909\n",
            "Epoch 55/100\n",
            "\u001b[1m90/90\u001b[0m \u001b[32m━━━━━━━━━━━━━━━━━━━━\u001b[0m\u001b[37m\u001b[0m \u001b[1m0s\u001b[0m 4ms/step - loss: 0.1417 - mean_absolute_error: 0.1417 - val_loss: 0.1971 - val_mean_absolute_error: 0.1971\n",
            "Epoch 56/100\n",
            "\u001b[1m90/90\u001b[0m \u001b[32m━━━━━━━━━━━━━━━━━━━━\u001b[0m\u001b[37m\u001b[0m \u001b[1m1s\u001b[0m 4ms/step - loss: 0.1504 - mean_absolute_error: 0.1504 - val_loss: 0.2021 - val_mean_absolute_error: 0.2021\n",
            "Epoch 57/100\n",
            "\u001b[1m90/90\u001b[0m \u001b[32m━━━━━━━━━━━━━━━━━━━━\u001b[0m\u001b[37m\u001b[0m \u001b[1m1s\u001b[0m 4ms/step - loss: 0.1379 - mean_absolute_error: 0.1379 - val_loss: 0.1887 - val_mean_absolute_error: 0.1887\n",
            "Epoch 58/100\n",
            "\u001b[1m90/90\u001b[0m \u001b[32m━━━━━━━━━━━━━━━━━━━━\u001b[0m\u001b[37m\u001b[0m \u001b[1m0s\u001b[0m 4ms/step - loss: 0.1301 - mean_absolute_error: 0.1301 - val_loss: 0.1998 - val_mean_absolute_error: 0.1998\n",
            "Epoch 59/100\n",
            "\u001b[1m90/90\u001b[0m \u001b[32m━━━━━━━━━━━━━━━━━━━━\u001b[0m\u001b[37m\u001b[0m \u001b[1m1s\u001b[0m 4ms/step - loss: 0.1304 - mean_absolute_error: 0.1304 - val_loss: 0.1894 - val_mean_absolute_error: 0.1894\n",
            "Epoch 60/100\n",
            "\u001b[1m90/90\u001b[0m \u001b[32m━━━━━━━━━━━━━━━━━━━━\u001b[0m\u001b[37m\u001b[0m \u001b[1m0s\u001b[0m 4ms/step - loss: 0.1410 - mean_absolute_error: 0.1410 - val_loss: 0.1934 - val_mean_absolute_error: 0.1934\n",
            "Epoch 61/100\n",
            "\u001b[1m90/90\u001b[0m \u001b[32m━━━━━━━━━━━━━━━━━━━━\u001b[0m\u001b[37m\u001b[0m \u001b[1m0s\u001b[0m 4ms/step - loss: 0.1368 - mean_absolute_error: 0.1368 - val_loss: 0.1993 - val_mean_absolute_error: 0.1993\n",
            "Epoch 62/100\n",
            "\u001b[1m90/90\u001b[0m \u001b[32m━━━━━━━━━━━━━━━━━━━━\u001b[0m\u001b[37m\u001b[0m \u001b[1m0s\u001b[0m 4ms/step - loss: 0.1354 - mean_absolute_error: 0.1354 - val_loss: 0.1986 - val_mean_absolute_error: 0.1986\n",
            "Epoch 63/100\n",
            "\u001b[1m90/90\u001b[0m \u001b[32m━━━━━━━━━━━━━━━━━━━━\u001b[0m\u001b[37m\u001b[0m \u001b[1m1s\u001b[0m 4ms/step - loss: 0.1398 - mean_absolute_error: 0.1398 - val_loss: 0.1909 - val_mean_absolute_error: 0.1909\n",
            "Epoch 64/100\n",
            "\u001b[1m90/90\u001b[0m \u001b[32m━━━━━━━━━━━━━━━━━━━━\u001b[0m\u001b[37m\u001b[0m \u001b[1m0s\u001b[0m 4ms/step - loss: 0.1342 - mean_absolute_error: 0.1342 - val_loss: 0.1965 - val_mean_absolute_error: 0.1965\n",
            "Epoch 65/100\n",
            "\u001b[1m90/90\u001b[0m \u001b[32m━━━━━━━━━━━━━━━━━━━━\u001b[0m\u001b[37m\u001b[0m \u001b[1m1s\u001b[0m 4ms/step - loss: 0.1366 - mean_absolute_error: 0.1366 - val_loss: 0.1999 - val_mean_absolute_error: 0.1999\n",
            "Epoch 66/100\n",
            "\u001b[1m90/90\u001b[0m \u001b[32m━━━━━━━━━━━━━━━━━━━━\u001b[0m\u001b[37m\u001b[0m \u001b[1m0s\u001b[0m 4ms/step - loss: 0.1372 - mean_absolute_error: 0.1372 - val_loss: 0.1936 - val_mean_absolute_error: 0.1936\n",
            "Epoch 67/100\n",
            "\u001b[1m90/90\u001b[0m \u001b[32m━━━━━━━━━━━━━━━━━━━━\u001b[0m\u001b[37m\u001b[0m \u001b[1m0s\u001b[0m 4ms/step - loss: 0.1297 - mean_absolute_error: 0.1297 - val_loss: 0.1921 - val_mean_absolute_error: 0.1921\n",
            "Epoch 68/100\n",
            "\u001b[1m90/90\u001b[0m \u001b[32m━━━━━━━━━━━━━━━━━━━━\u001b[0m\u001b[37m\u001b[0m \u001b[1m1s\u001b[0m 4ms/step - loss: 0.1294 - mean_absolute_error: 0.1294 - val_loss: 0.2022 - val_mean_absolute_error: 0.2022\n",
            "Epoch 69/100\n",
            "\u001b[1m90/90\u001b[0m \u001b[32m━━━━━━━━━━━━━━━━━━━━\u001b[0m\u001b[37m\u001b[0m \u001b[1m0s\u001b[0m 4ms/step - loss: 0.1344 - mean_absolute_error: 0.1344 - val_loss: 0.1894 - val_mean_absolute_error: 0.1894\n",
            "Epoch 70/100\n",
            "\u001b[1m90/90\u001b[0m \u001b[32m━━━━━━━━━━━━━━━━━━━━\u001b[0m\u001b[37m\u001b[0m \u001b[1m1s\u001b[0m 4ms/step - loss: 0.1349 - mean_absolute_error: 0.1349 - val_loss: 0.1946 - val_mean_absolute_error: 0.1946\n",
            "Epoch 71/100\n",
            "\u001b[1m90/90\u001b[0m \u001b[32m━━━━━━━━━━━━━━━━━━━━\u001b[0m\u001b[37m\u001b[0m \u001b[1m1s\u001b[0m 4ms/step - loss: 0.1378 - mean_absolute_error: 0.1378 - val_loss: 0.2005 - val_mean_absolute_error: 0.2005\n",
            "Epoch 72/100\n",
            "\u001b[1m90/90\u001b[0m \u001b[32m━━━━━━━━━━━━━━━━━━━━\u001b[0m\u001b[37m\u001b[0m \u001b[1m0s\u001b[0m 3ms/step - loss: 0.1303 - mean_absolute_error: 0.1303 - val_loss: 0.1887 - val_mean_absolute_error: 0.1887\n",
            "Epoch 73/100\n",
            "\u001b[1m90/90\u001b[0m \u001b[32m━━━━━━━━━━━━━━━━━━━━\u001b[0m\u001b[37m\u001b[0m \u001b[1m1s\u001b[0m 4ms/step - loss: 0.1396 - mean_absolute_error: 0.1396 - val_loss: 0.1963 - val_mean_absolute_error: 0.1963\n",
            "Epoch 74/100\n",
            "\u001b[1m90/90\u001b[0m \u001b[32m━━━━━━━━━━━━━━━━━━━━\u001b[0m\u001b[37m\u001b[0m \u001b[1m0s\u001b[0m 4ms/step - loss: 0.1356 - mean_absolute_error: 0.1356 - val_loss: 0.1997 - val_mean_absolute_error: 0.1997\n",
            "Epoch 75/100\n",
            "\u001b[1m90/90\u001b[0m \u001b[32m━━━━━━━━━━━━━━━━━━━━\u001b[0m\u001b[37m\u001b[0m \u001b[1m0s\u001b[0m 4ms/step - loss: 0.1231 - mean_absolute_error: 0.1231 - val_loss: 0.1978 - val_mean_absolute_error: 0.1978\n",
            "Epoch 76/100\n",
            "\u001b[1m90/90\u001b[0m \u001b[32m━━━━━━━━━━━━━━━━━━━━\u001b[0m\u001b[37m\u001b[0m \u001b[1m1s\u001b[0m 7ms/step - loss: 0.1374 - mean_absolute_error: 0.1374 - val_loss: 0.1920 - val_mean_absolute_error: 0.1920\n",
            "Epoch 77/100\n",
            "\u001b[1m90/90\u001b[0m \u001b[32m━━━━━━━━━━━━━━━━━━━━\u001b[0m\u001b[37m\u001b[0m \u001b[1m1s\u001b[0m 7ms/step - loss: 0.1271 - mean_absolute_error: 0.1271 - val_loss: 0.1922 - val_mean_absolute_error: 0.1922\n",
            "Epoch 78/100\n",
            "\u001b[1m90/90\u001b[0m \u001b[32m━━━━━━━━━━━━━━━━━━━━\u001b[0m\u001b[37m\u001b[0m \u001b[1m1s\u001b[0m 6ms/step - loss: 0.1372 - mean_absolute_error: 0.1372 - val_loss: 0.1958 - val_mean_absolute_error: 0.1958\n",
            "Epoch 79/100\n",
            "\u001b[1m90/90\u001b[0m \u001b[32m━━━━━━━━━━━━━━━━━━━━\u001b[0m\u001b[37m\u001b[0m \u001b[1m1s\u001b[0m 6ms/step - loss: 0.1300 - mean_absolute_error: 0.1300 - val_loss: 0.1975 - val_mean_absolute_error: 0.1975\n",
            "Epoch 80/100\n",
            "\u001b[1m90/90\u001b[0m \u001b[32m━━━━━━━━━━━━━━━━━━━━\u001b[0m\u001b[37m\u001b[0m \u001b[1m0s\u001b[0m 4ms/step - loss: 0.1277 - mean_absolute_error: 0.1277 - val_loss: 0.1904 - val_mean_absolute_error: 0.1904\n",
            "Epoch 81/100\n",
            "\u001b[1m90/90\u001b[0m \u001b[32m━━━━━━━━━━━━━━━━━━━━\u001b[0m\u001b[37m\u001b[0m \u001b[1m1s\u001b[0m 3ms/step - loss: 0.1336 - mean_absolute_error: 0.1336 - val_loss: 0.1996 - val_mean_absolute_error: 0.1996\n",
            "Epoch 82/100\n",
            "\u001b[1m90/90\u001b[0m \u001b[32m━━━━━━━━━━━━━━━━━━━━\u001b[0m\u001b[37m\u001b[0m \u001b[1m1s\u001b[0m 3ms/step - loss: 0.1365 - mean_absolute_error: 0.1365 - val_loss: 0.1929 - val_mean_absolute_error: 0.1929\n",
            "Epoch 83/100\n",
            "\u001b[1m90/90\u001b[0m \u001b[32m━━━━━━━━━━━━━━━━━━━━\u001b[0m\u001b[37m\u001b[0m \u001b[1m0s\u001b[0m 4ms/step - loss: 0.1266 - mean_absolute_error: 0.1266 - val_loss: 0.1890 - val_mean_absolute_error: 0.1890\n",
            "Epoch 84/100\n",
            "\u001b[1m90/90\u001b[0m \u001b[32m━━━━━━━━━━━━━━━━━━━━\u001b[0m\u001b[37m\u001b[0m \u001b[1m1s\u001b[0m 4ms/step - loss: 0.1314 - mean_absolute_error: 0.1314 - val_loss: 0.1946 - val_mean_absolute_error: 0.1946\n",
            "Epoch 85/100\n",
            "\u001b[1m90/90\u001b[0m \u001b[32m━━━━━━━━━━━━━━━━━━━━\u001b[0m\u001b[37m\u001b[0m \u001b[1m1s\u001b[0m 4ms/step - loss: 0.1216 - mean_absolute_error: 0.1216 - val_loss: 0.1936 - val_mean_absolute_error: 0.1936\n",
            "Epoch 86/100\n",
            "\u001b[1m90/90\u001b[0m \u001b[32m━━━━━━━━━━━━━━━━━━━━\u001b[0m\u001b[37m\u001b[0m \u001b[1m0s\u001b[0m 4ms/step - loss: 0.1207 - mean_absolute_error: 0.1207 - val_loss: 0.1955 - val_mean_absolute_error: 0.1955\n",
            "Epoch 87/100\n",
            "\u001b[1m90/90\u001b[0m \u001b[32m━━━━━━━━━━━━━━━━━━━━\u001b[0m\u001b[37m\u001b[0m \u001b[1m0s\u001b[0m 3ms/step - loss: 0.1297 - mean_absolute_error: 0.1297 - val_loss: 0.1926 - val_mean_absolute_error: 0.1926\n",
            "Epoch 88/100\n",
            "\u001b[1m90/90\u001b[0m \u001b[32m━━━━━━━━━━━━━━━━━━━━\u001b[0m\u001b[37m\u001b[0m \u001b[1m0s\u001b[0m 3ms/step - loss: 0.1393 - mean_absolute_error: 0.1393 - val_loss: 0.2045 - val_mean_absolute_error: 0.2045\n",
            "Epoch 89/100\n",
            "\u001b[1m90/90\u001b[0m \u001b[32m━━━━━━━━━━━━━━━━━━━━\u001b[0m\u001b[37m\u001b[0m \u001b[1m0s\u001b[0m 4ms/step - loss: 0.1366 - mean_absolute_error: 0.1366 - val_loss: 0.1915 - val_mean_absolute_error: 0.1915\n",
            "Epoch 90/100\n",
            "\u001b[1m90/90\u001b[0m \u001b[32m━━━━━━━━━━━━━━━━━━━━\u001b[0m\u001b[37m\u001b[0m \u001b[1m1s\u001b[0m 4ms/step - loss: 0.1578 - mean_absolute_error: 0.1578 - val_loss: 0.1977 - val_mean_absolute_error: 0.1977\n",
            "Epoch 91/100\n",
            "\u001b[1m90/90\u001b[0m \u001b[32m━━━━━━━━━━━━━━━━━━━━\u001b[0m\u001b[37m\u001b[0m \u001b[1m1s\u001b[0m 3ms/step - loss: 0.1165 - mean_absolute_error: 0.1165 - val_loss: 0.1963 - val_mean_absolute_error: 0.1963\n",
            "Epoch 92/100\n",
            "\u001b[1m90/90\u001b[0m \u001b[32m━━━━━━━━━━━━━━━━━━━━\u001b[0m\u001b[37m\u001b[0m \u001b[1m1s\u001b[0m 4ms/step - loss: 0.1238 - mean_absolute_error: 0.1238 - val_loss: 0.1967 - val_mean_absolute_error: 0.1967\n",
            "Epoch 93/100\n",
            "\u001b[1m90/90\u001b[0m \u001b[32m━━━━━━━━━━━━━━━━━━━━\u001b[0m\u001b[37m\u001b[0m \u001b[1m0s\u001b[0m 4ms/step - loss: 0.1261 - mean_absolute_error: 0.1261 - val_loss: 0.1936 - val_mean_absolute_error: 0.1936\n",
            "Epoch 94/100\n",
            "\u001b[1m90/90\u001b[0m \u001b[32m━━━━━━━━━━━━━━━━━━━━\u001b[0m\u001b[37m\u001b[0m \u001b[1m0s\u001b[0m 4ms/step - loss: 0.1210 - mean_absolute_error: 0.1210 - val_loss: 0.1985 - val_mean_absolute_error: 0.1985\n",
            "Epoch 95/100\n",
            "\u001b[1m90/90\u001b[0m \u001b[32m━━━━━━━━━━━━━━━━━━━━\u001b[0m\u001b[37m\u001b[0m \u001b[1m0s\u001b[0m 4ms/step - loss: 0.1220 - mean_absolute_error: 0.1220 - val_loss: 0.1928 - val_mean_absolute_error: 0.1928\n",
            "Epoch 96/100\n",
            "\u001b[1m90/90\u001b[0m \u001b[32m━━━━━━━━━━━━━━━━━━━━\u001b[0m\u001b[37m\u001b[0m \u001b[1m1s\u001b[0m 4ms/step - loss: 0.1179 - mean_absolute_error: 0.1179 - val_loss: 0.1966 - val_mean_absolute_error: 0.1966\n",
            "Epoch 97/100\n",
            "\u001b[1m90/90\u001b[0m \u001b[32m━━━━━━━━━━━━━━━━━━━━\u001b[0m\u001b[37m\u001b[0m \u001b[1m1s\u001b[0m 3ms/step - loss: 0.1191 - mean_absolute_error: 0.1191 - val_loss: 0.2051 - val_mean_absolute_error: 0.2051\n",
            "Epoch 98/100\n",
            "\u001b[1m90/90\u001b[0m \u001b[32m━━━━━━━━━━━━━━━━━━━━\u001b[0m\u001b[37m\u001b[0m \u001b[1m1s\u001b[0m 4ms/step - loss: 0.1255 - mean_absolute_error: 0.1255 - val_loss: 0.1936 - val_mean_absolute_error: 0.1936\n",
            "Epoch 99/100\n",
            "\u001b[1m90/90\u001b[0m \u001b[32m━━━━━━━━━━━━━━━━━━━━\u001b[0m\u001b[37m\u001b[0m \u001b[1m1s\u001b[0m 4ms/step - loss: 0.1246 - mean_absolute_error: 0.1246 - val_loss: 0.1977 - val_mean_absolute_error: 0.1977\n",
            "Epoch 100/100\n",
            "\u001b[1m90/90\u001b[0m \u001b[32m━━━━━━━━━━━━━━━━━━━━\u001b[0m\u001b[37m\u001b[0m \u001b[1m1s\u001b[0m 6ms/step - loss: 0.1179 - mean_absolute_error: 0.1179 - val_loss: 0.1996 - val_mean_absolute_error: 0.1996\n",
            "\u001b[1m39/39\u001b[0m \u001b[32m━━━━━━━━━━━━━━━━━━━━\u001b[0m\u001b[37m\u001b[0m \u001b[1m0s\u001b[0m 4ms/step\n",
            "Epoch 1/100\n"
          ]
        },
        {
          "output_type": "stream",
          "name": "stderr",
          "text": [
            "/usr/local/lib/python3.10/dist-packages/keras/src/layers/core/dense.py:87: UserWarning: Do not pass an `input_shape`/`input_dim` argument to a layer. When using Sequential models, prefer using an `Input(shape)` object as the first layer in the model instead.\n",
            "  super().__init__(activity_regularizer=activity_regularizer, **kwargs)\n"
          ]
        },
        {
          "output_type": "stream",
          "name": "stdout",
          "text": [
            "\u001b[1m90/90\u001b[0m \u001b[32m━━━━━━━━━━━━━━━━━━━━\u001b[0m\u001b[37m\u001b[0m \u001b[1m2s\u001b[0m 5ms/step - loss: 0.2362 - mean_absolute_error: 0.2362 - val_loss: 0.2168 - val_mean_absolute_error: 0.2168\n",
            "Epoch 2/100\n",
            "\u001b[1m90/90\u001b[0m \u001b[32m━━━━━━━━━━━━━━━━━━━━\u001b[0m\u001b[37m\u001b[0m \u001b[1m0s\u001b[0m 3ms/step - loss: 0.2152 - mean_absolute_error: 0.2152 - val_loss: 0.2015 - val_mean_absolute_error: 0.2015\n",
            "Epoch 3/100\n",
            "\u001b[1m90/90\u001b[0m \u001b[32m━━━━━━━━━━━━━━━━━━━━\u001b[0m\u001b[37m\u001b[0m \u001b[1m0s\u001b[0m 4ms/step - loss: 0.2075 - mean_absolute_error: 0.2075 - val_loss: 0.1993 - val_mean_absolute_error: 0.1993\n",
            "Epoch 4/100\n",
            "\u001b[1m90/90\u001b[0m \u001b[32m━━━━━━━━━━━━━━━━━━━━\u001b[0m\u001b[37m\u001b[0m \u001b[1m0s\u001b[0m 3ms/step - loss: 0.1981 - mean_absolute_error: 0.1981 - val_loss: 0.2023 - val_mean_absolute_error: 0.2023\n",
            "Epoch 5/100\n",
            "\u001b[1m90/90\u001b[0m \u001b[32m━━━━━━━━━━━━━━━━━━━━\u001b[0m\u001b[37m\u001b[0m \u001b[1m0s\u001b[0m 3ms/step - loss: 0.1996 - mean_absolute_error: 0.1996 - val_loss: 0.1983 - val_mean_absolute_error: 0.1983\n",
            "Epoch 6/100\n",
            "\u001b[1m90/90\u001b[0m \u001b[32m━━━━━━━━━━━━━━━━━━━━\u001b[0m\u001b[37m\u001b[0m \u001b[1m0s\u001b[0m 4ms/step - loss: 0.2000 - mean_absolute_error: 0.2000 - val_loss: 0.1956 - val_mean_absolute_error: 0.1956\n",
            "Epoch 7/100\n",
            "\u001b[1m90/90\u001b[0m \u001b[32m━━━━━━━━━━━━━━━━━━━━\u001b[0m\u001b[37m\u001b[0m \u001b[1m0s\u001b[0m 3ms/step - loss: 0.1971 - mean_absolute_error: 0.1971 - val_loss: 0.1968 - val_mean_absolute_error: 0.1968\n",
            "Epoch 8/100\n",
            "\u001b[1m90/90\u001b[0m \u001b[32m━━━━━━━━━━━━━━━━━━━━\u001b[0m\u001b[37m\u001b[0m \u001b[1m1s\u001b[0m 4ms/step - loss: 0.1856 - mean_absolute_error: 0.1856 - val_loss: 0.1943 - val_mean_absolute_error: 0.1943\n",
            "Epoch 9/100\n",
            "\u001b[1m90/90\u001b[0m \u001b[32m━━━━━━━━━━━━━━━━━━━━\u001b[0m\u001b[37m\u001b[0m \u001b[1m0s\u001b[0m 3ms/step - loss: 0.1822 - mean_absolute_error: 0.1822 - val_loss: 0.1935 - val_mean_absolute_error: 0.1935\n",
            "Epoch 10/100\n",
            "\u001b[1m90/90\u001b[0m \u001b[32m━━━━━━━━━━━━━━━━━━━━\u001b[0m\u001b[37m\u001b[0m \u001b[1m1s\u001b[0m 4ms/step - loss: 0.1906 - mean_absolute_error: 0.1906 - val_loss: 0.1942 - val_mean_absolute_error: 0.1942\n",
            "Epoch 11/100\n",
            "\u001b[1m90/90\u001b[0m \u001b[32m━━━━━━━━━━━━━━━━━━━━\u001b[0m\u001b[37m\u001b[0m \u001b[1m0s\u001b[0m 3ms/step - loss: 0.1859 - mean_absolute_error: 0.1859 - val_loss: 0.1892 - val_mean_absolute_error: 0.1892\n",
            "Epoch 12/100\n",
            "\u001b[1m90/90\u001b[0m \u001b[32m━━━━━━━━━━━━━━━━━━━━\u001b[0m\u001b[37m\u001b[0m \u001b[1m1s\u001b[0m 4ms/step - loss: 0.1722 - mean_absolute_error: 0.1722 - val_loss: 0.1911 - val_mean_absolute_error: 0.1911\n",
            "Epoch 13/100\n",
            "\u001b[1m90/90\u001b[0m \u001b[32m━━━━━━━━━━━━━━━━━━━━\u001b[0m\u001b[37m\u001b[0m \u001b[1m1s\u001b[0m 4ms/step - loss: 0.1835 - mean_absolute_error: 0.1835 - val_loss: 0.1954 - val_mean_absolute_error: 0.1954\n",
            "Epoch 14/100\n",
            "\u001b[1m90/90\u001b[0m \u001b[32m━━━━━━━━━━━━━━━━━━━━\u001b[0m\u001b[37m\u001b[0m \u001b[1m0s\u001b[0m 4ms/step - loss: 0.1770 - mean_absolute_error: 0.1770 - val_loss: 0.1916 - val_mean_absolute_error: 0.1916\n",
            "Epoch 15/100\n",
            "\u001b[1m90/90\u001b[0m \u001b[32m━━━━━━━━━━━━━━━━━━━━\u001b[0m\u001b[37m\u001b[0m \u001b[1m1s\u001b[0m 3ms/step - loss: 0.1640 - mean_absolute_error: 0.1640 - val_loss: 0.1926 - val_mean_absolute_error: 0.1926\n",
            "Epoch 16/100\n",
            "\u001b[1m90/90\u001b[0m \u001b[32m━━━━━━━━━━━━━━━━━━━━\u001b[0m\u001b[37m\u001b[0m \u001b[1m1s\u001b[0m 4ms/step - loss: 0.1915 - mean_absolute_error: 0.1915 - val_loss: 0.1894 - val_mean_absolute_error: 0.1894\n",
            "Epoch 17/100\n",
            "\u001b[1m90/90\u001b[0m \u001b[32m━━━━━━━━━━━━━━━━━━━━\u001b[0m\u001b[37m\u001b[0m \u001b[1m0s\u001b[0m 4ms/step - loss: 0.1613 - mean_absolute_error: 0.1613 - val_loss: 0.1868 - val_mean_absolute_error: 0.1868\n",
            "Epoch 18/100\n",
            "\u001b[1m90/90\u001b[0m \u001b[32m━━━━━━━━━━━━━━━━━━━━\u001b[0m\u001b[37m\u001b[0m \u001b[1m0s\u001b[0m 4ms/step - loss: 0.1676 - mean_absolute_error: 0.1676 - val_loss: 0.1883 - val_mean_absolute_error: 0.1883\n",
            "Epoch 19/100\n",
            "\u001b[1m90/90\u001b[0m \u001b[32m━━━━━━━━━━━━━━━━━━━━\u001b[0m\u001b[37m\u001b[0m \u001b[1m0s\u001b[0m 4ms/step - loss: 0.1608 - mean_absolute_error: 0.1608 - val_loss: 0.1861 - val_mean_absolute_error: 0.1861\n",
            "Epoch 20/100\n",
            "\u001b[1m90/90\u001b[0m \u001b[32m━━━━━━━━━━━━━━━━━━━━\u001b[0m\u001b[37m\u001b[0m \u001b[1m1s\u001b[0m 4ms/step - loss: 0.1588 - mean_absolute_error: 0.1588 - val_loss: 0.1978 - val_mean_absolute_error: 0.1978\n",
            "Epoch 21/100\n",
            "\u001b[1m90/90\u001b[0m \u001b[32m━━━━━━━━━━━━━━━━━━━━\u001b[0m\u001b[37m\u001b[0m \u001b[1m1s\u001b[0m 4ms/step - loss: 0.1635 - mean_absolute_error: 0.1635 - val_loss: 0.1805 - val_mean_absolute_error: 0.1805\n",
            "Epoch 22/100\n",
            "\u001b[1m90/90\u001b[0m \u001b[32m━━━━━━━━━━━━━━━━━━━━\u001b[0m\u001b[37m\u001b[0m \u001b[1m1s\u001b[0m 6ms/step - loss: 0.1628 - mean_absolute_error: 0.1628 - val_loss: 0.1908 - val_mean_absolute_error: 0.1908\n",
            "Epoch 23/100\n",
            "\u001b[1m90/90\u001b[0m \u001b[32m━━━━━━━━━━━━━━━━━━━━\u001b[0m\u001b[37m\u001b[0m \u001b[1m1s\u001b[0m 6ms/step - loss: 0.1545 - mean_absolute_error: 0.1545 - val_loss: 0.1810 - val_mean_absolute_error: 0.1810\n",
            "Epoch 24/100\n",
            "\u001b[1m90/90\u001b[0m \u001b[32m━━━━━━━━━━━━━━━━━━━━\u001b[0m\u001b[37m\u001b[0m \u001b[1m1s\u001b[0m 6ms/step - loss: 0.1541 - mean_absolute_error: 0.1541 - val_loss: 0.1788 - val_mean_absolute_error: 0.1788\n",
            "Epoch 25/100\n",
            "\u001b[1m90/90\u001b[0m \u001b[32m━━━━━━━━━━━━━━━━━━━━\u001b[0m\u001b[37m\u001b[0m \u001b[1m1s\u001b[0m 7ms/step - loss: 0.1531 - mean_absolute_error: 0.1531 - val_loss: 0.1872 - val_mean_absolute_error: 0.1872\n",
            "Epoch 26/100\n",
            "\u001b[1m90/90\u001b[0m \u001b[32m━━━━━━━━━━━━━━━━━━━━\u001b[0m\u001b[37m\u001b[0m \u001b[1m1s\u001b[0m 6ms/step - loss: 0.1529 - mean_absolute_error: 0.1529 - val_loss: 0.1789 - val_mean_absolute_error: 0.1789\n",
            "Epoch 27/100\n",
            "\u001b[1m90/90\u001b[0m \u001b[32m━━━━━━━━━━━━━━━━━━━━\u001b[0m\u001b[37m\u001b[0m \u001b[1m0s\u001b[0m 4ms/step - loss: 0.1515 - mean_absolute_error: 0.1515 - val_loss: 0.1808 - val_mean_absolute_error: 0.1808\n",
            "Epoch 28/100\n",
            "\u001b[1m90/90\u001b[0m \u001b[32m━━━━━━━━━━━━━━━━━━━━\u001b[0m\u001b[37m\u001b[0m \u001b[1m1s\u001b[0m 4ms/step - loss: 0.1468 - mean_absolute_error: 0.1468 - val_loss: 0.1757 - val_mean_absolute_error: 0.1757\n",
            "Epoch 29/100\n",
            "\u001b[1m90/90\u001b[0m \u001b[32m━━━━━━━━━━━━━━━━━━━━\u001b[0m\u001b[37m\u001b[0m \u001b[1m1s\u001b[0m 4ms/step - loss: 0.1444 - mean_absolute_error: 0.1444 - val_loss: 0.1890 - val_mean_absolute_error: 0.1890\n",
            "Epoch 30/100\n",
            "\u001b[1m90/90\u001b[0m \u001b[32m━━━━━━━━━━━━━━━━━━━━\u001b[0m\u001b[37m\u001b[0m \u001b[1m0s\u001b[0m 4ms/step - loss: 0.1477 - mean_absolute_error: 0.1477 - val_loss: 0.1887 - val_mean_absolute_error: 0.1887\n",
            "Epoch 31/100\n",
            "\u001b[1m90/90\u001b[0m \u001b[32m━━━━━━━━━━━━━━━━━━━━\u001b[0m\u001b[37m\u001b[0m \u001b[1m0s\u001b[0m 4ms/step - loss: 0.1563 - mean_absolute_error: 0.1563 - val_loss: 0.1792 - val_mean_absolute_error: 0.1792\n",
            "Epoch 32/100\n",
            "\u001b[1m90/90\u001b[0m \u001b[32m━━━━━━━━━━━━━━━━━━━━\u001b[0m\u001b[37m\u001b[0m \u001b[1m1s\u001b[0m 4ms/step - loss: 0.1481 - mean_absolute_error: 0.1481 - val_loss: 0.1802 - val_mean_absolute_error: 0.1802\n",
            "Epoch 33/100\n",
            "\u001b[1m90/90\u001b[0m \u001b[32m━━━━━━━━━━━━━━━━━━━━\u001b[0m\u001b[37m\u001b[0m \u001b[1m0s\u001b[0m 3ms/step - loss: 0.1452 - mean_absolute_error: 0.1452 - val_loss: 0.1791 - val_mean_absolute_error: 0.1791\n",
            "Epoch 34/100\n",
            "\u001b[1m90/90\u001b[0m \u001b[32m━━━━━━━━━━━━━━━━━━━━\u001b[0m\u001b[37m\u001b[0m \u001b[1m0s\u001b[0m 4ms/step - loss: 0.1384 - mean_absolute_error: 0.1384 - val_loss: 0.1802 - val_mean_absolute_error: 0.1802\n",
            "Epoch 35/100\n",
            "\u001b[1m90/90\u001b[0m \u001b[32m━━━━━━━━━━━━━━━━━━━━\u001b[0m\u001b[37m\u001b[0m \u001b[1m1s\u001b[0m 3ms/step - loss: 0.1450 - mean_absolute_error: 0.1450 - val_loss: 0.1816 - val_mean_absolute_error: 0.1816\n",
            "Epoch 36/100\n",
            "\u001b[1m90/90\u001b[0m \u001b[32m━━━━━━━━━━━━━━━━━━━━\u001b[0m\u001b[37m\u001b[0m \u001b[1m0s\u001b[0m 4ms/step - loss: 0.1448 - mean_absolute_error: 0.1448 - val_loss: 0.1840 - val_mean_absolute_error: 0.1840\n",
            "Epoch 37/100\n",
            "\u001b[1m90/90\u001b[0m \u001b[32m━━━━━━━━━━━━━━━━━━━━\u001b[0m\u001b[37m\u001b[0m \u001b[1m1s\u001b[0m 4ms/step - loss: 0.1468 - mean_absolute_error: 0.1468 - val_loss: 0.1921 - val_mean_absolute_error: 0.1921\n",
            "Epoch 38/100\n",
            "\u001b[1m90/90\u001b[0m \u001b[32m━━━━━━━━━━━━━━━━━━━━\u001b[0m\u001b[37m\u001b[0m \u001b[1m1s\u001b[0m 4ms/step - loss: 0.1464 - mean_absolute_error: 0.1464 - val_loss: 0.1770 - val_mean_absolute_error: 0.1770\n",
            "Epoch 39/100\n",
            "\u001b[1m90/90\u001b[0m \u001b[32m━━━━━━━━━━━━━━━━━━━━\u001b[0m\u001b[37m\u001b[0m \u001b[1m1s\u001b[0m 4ms/step - loss: 0.1407 - mean_absolute_error: 0.1407 - val_loss: 0.1804 - val_mean_absolute_error: 0.1804\n",
            "Epoch 40/100\n",
            "\u001b[1m90/90\u001b[0m \u001b[32m━━━━━━━━━━━━━━━━━━━━\u001b[0m\u001b[37m\u001b[0m \u001b[1m0s\u001b[0m 4ms/step - loss: 0.1369 - mean_absolute_error: 0.1369 - val_loss: 0.1838 - val_mean_absolute_error: 0.1838\n",
            "Epoch 41/100\n",
            "\u001b[1m90/90\u001b[0m \u001b[32m━━━━━━━━━━━━━━━━━━━━\u001b[0m\u001b[37m\u001b[0m \u001b[1m1s\u001b[0m 4ms/step - loss: 0.1422 - mean_absolute_error: 0.1422 - val_loss: 0.1815 - val_mean_absolute_error: 0.1815\n",
            "Epoch 42/100\n",
            "\u001b[1m90/90\u001b[0m \u001b[32m━━━━━━━━━━━━━━━━━━━━\u001b[0m\u001b[37m\u001b[0m \u001b[1m0s\u001b[0m 4ms/step - loss: 0.1386 - mean_absolute_error: 0.1386 - val_loss: 0.1806 - val_mean_absolute_error: 0.1806\n",
            "Epoch 43/100\n",
            "\u001b[1m90/90\u001b[0m \u001b[32m━━━━━━━━━━━━━━━━━━━━\u001b[0m\u001b[37m\u001b[0m \u001b[1m1s\u001b[0m 3ms/step - loss: 0.1305 - mean_absolute_error: 0.1305 - val_loss: 0.1821 - val_mean_absolute_error: 0.1821\n",
            "Epoch 44/100\n",
            "\u001b[1m90/90\u001b[0m \u001b[32m━━━━━━━━━━━━━━━━━━━━\u001b[0m\u001b[37m\u001b[0m \u001b[1m1s\u001b[0m 4ms/step - loss: 0.1405 - mean_absolute_error: 0.1405 - val_loss: 0.1805 - val_mean_absolute_error: 0.1805\n",
            "Epoch 45/100\n",
            "\u001b[1m90/90\u001b[0m \u001b[32m━━━━━━━━━━━━━━━━━━━━\u001b[0m\u001b[37m\u001b[0m \u001b[1m1s\u001b[0m 4ms/step - loss: 0.1451 - mean_absolute_error: 0.1451 - val_loss: 0.1758 - val_mean_absolute_error: 0.1758\n",
            "Epoch 46/100\n",
            "\u001b[1m90/90\u001b[0m \u001b[32m━━━━━━━━━━━━━━━━━━━━\u001b[0m\u001b[37m\u001b[0m \u001b[1m0s\u001b[0m 4ms/step - loss: 0.1348 - mean_absolute_error: 0.1348 - val_loss: 0.1768 - val_mean_absolute_error: 0.1768\n",
            "Epoch 47/100\n",
            "\u001b[1m90/90\u001b[0m \u001b[32m━━━━━━━━━━━━━━━━━━━━\u001b[0m\u001b[37m\u001b[0m \u001b[1m1s\u001b[0m 5ms/step - loss: 0.1395 - mean_absolute_error: 0.1395 - val_loss: 0.1821 - val_mean_absolute_error: 0.1821\n",
            "Epoch 48/100\n",
            "\u001b[1m90/90\u001b[0m \u001b[32m━━━━━━━━━━━━━━━━━━━━\u001b[0m\u001b[37m\u001b[0m \u001b[1m1s\u001b[0m 5ms/step - loss: 0.1338 - mean_absolute_error: 0.1338 - val_loss: 0.1790 - val_mean_absolute_error: 0.1790\n",
            "Epoch 49/100\n",
            "\u001b[1m90/90\u001b[0m \u001b[32m━━━━━━━━━━━━━━━━━━━━\u001b[0m\u001b[37m\u001b[0m \u001b[1m1s\u001b[0m 6ms/step - loss: 0.1326 - mean_absolute_error: 0.1326 - val_loss: 0.1776 - val_mean_absolute_error: 0.1776\n",
            "Epoch 50/100\n",
            "\u001b[1m90/90\u001b[0m \u001b[32m━━━━━━━━━━━━━━━━━━━━\u001b[0m\u001b[37m\u001b[0m \u001b[1m1s\u001b[0m 6ms/step - loss: 0.1460 - mean_absolute_error: 0.1460 - val_loss: 0.1804 - val_mean_absolute_error: 0.1804\n",
            "Epoch 51/100\n",
            "\u001b[1m90/90\u001b[0m \u001b[32m━━━━━━━━━━━━━━━━━━━━\u001b[0m\u001b[37m\u001b[0m \u001b[1m1s\u001b[0m 6ms/step - loss: 0.1307 - mean_absolute_error: 0.1307 - val_loss: 0.1768 - val_mean_absolute_error: 0.1768\n",
            "Epoch 52/100\n",
            "\u001b[1m90/90\u001b[0m \u001b[32m━━━━━━━━━━━━━━━━━━━━\u001b[0m\u001b[37m\u001b[0m \u001b[1m1s\u001b[0m 6ms/step - loss: 0.1279 - mean_absolute_error: 0.1279 - val_loss: 0.1859 - val_mean_absolute_error: 0.1859\n",
            "Epoch 53/100\n",
            "\u001b[1m90/90\u001b[0m \u001b[32m━━━━━━━━━━━━━━━━━━━━\u001b[0m\u001b[37m\u001b[0m \u001b[1m0s\u001b[0m 4ms/step - loss: 0.1340 - mean_absolute_error: 0.1340 - val_loss: 0.1780 - val_mean_absolute_error: 0.1780\n",
            "Epoch 54/100\n",
            "\u001b[1m90/90\u001b[0m \u001b[32m━━━━━━━━━━━━━━━━━━━━\u001b[0m\u001b[37m\u001b[0m \u001b[1m1s\u001b[0m 3ms/step - loss: 0.1227 - mean_absolute_error: 0.1227 - val_loss: 0.1835 - val_mean_absolute_error: 0.1835\n",
            "Epoch 55/100\n",
            "\u001b[1m90/90\u001b[0m \u001b[32m━━━━━━━━━━━━━━━━━━━━\u001b[0m\u001b[37m\u001b[0m \u001b[1m1s\u001b[0m 4ms/step - loss: 0.1387 - mean_absolute_error: 0.1387 - val_loss: 0.1805 - val_mean_absolute_error: 0.1805\n",
            "Epoch 56/100\n",
            "\u001b[1m90/90\u001b[0m \u001b[32m━━━━━━━━━━━━━━━━━━━━\u001b[0m\u001b[37m\u001b[0m \u001b[1m1s\u001b[0m 4ms/step - loss: 0.1572 - mean_absolute_error: 0.1572 - val_loss: 0.1818 - val_mean_absolute_error: 0.1818\n",
            "Epoch 57/100\n",
            "\u001b[1m90/90\u001b[0m \u001b[32m━━━━━━━━━━━━━━━━━━━━\u001b[0m\u001b[37m\u001b[0m \u001b[1m0s\u001b[0m 4ms/step - loss: 0.1219 - mean_absolute_error: 0.1219 - val_loss: 0.1807 - val_mean_absolute_error: 0.1807\n",
            "Epoch 58/100\n",
            "\u001b[1m90/90\u001b[0m \u001b[32m━━━━━━━━━━━━━━━━━━━━\u001b[0m\u001b[37m\u001b[0m \u001b[1m1s\u001b[0m 4ms/step - loss: 0.1261 - mean_absolute_error: 0.1261 - val_loss: 0.1803 - val_mean_absolute_error: 0.1803\n",
            "Epoch 59/100\n",
            "\u001b[1m90/90\u001b[0m \u001b[32m━━━━━━━━━━━━━━━━━━━━\u001b[0m\u001b[37m\u001b[0m \u001b[1m0s\u001b[0m 4ms/step - loss: 0.1348 - mean_absolute_error: 0.1348 - val_loss: 0.1768 - val_mean_absolute_error: 0.1768\n",
            "Epoch 60/100\n",
            "\u001b[1m90/90\u001b[0m \u001b[32m━━━━━━━━━━━━━━━━━━━━\u001b[0m\u001b[37m\u001b[0m \u001b[1m0s\u001b[0m 3ms/step - loss: 0.1246 - mean_absolute_error: 0.1246 - val_loss: 0.1838 - val_mean_absolute_error: 0.1838\n",
            "Epoch 61/100\n",
            "\u001b[1m90/90\u001b[0m \u001b[32m━━━━━━━━━━━━━━━━━━━━\u001b[0m\u001b[37m\u001b[0m \u001b[1m1s\u001b[0m 4ms/step - loss: 0.1276 - mean_absolute_error: 0.1276 - val_loss: 0.1838 - val_mean_absolute_error: 0.1838\n",
            "Epoch 62/100\n",
            "\u001b[1m90/90\u001b[0m \u001b[32m━━━━━━━━━━━━━━━━━━━━\u001b[0m\u001b[37m\u001b[0m \u001b[1m0s\u001b[0m 3ms/step - loss: 0.1239 - mean_absolute_error: 0.1239 - val_loss: 0.1964 - val_mean_absolute_error: 0.1964\n",
            "Epoch 63/100\n",
            "\u001b[1m90/90\u001b[0m \u001b[32m━━━━━━━━━━━━━━━━━━━━\u001b[0m\u001b[37m\u001b[0m \u001b[1m1s\u001b[0m 5ms/step - loss: 0.1231 - mean_absolute_error: 0.1231 - val_loss: 0.1813 - val_mean_absolute_error: 0.1813\n",
            "Epoch 64/100\n",
            "\u001b[1m90/90\u001b[0m \u001b[32m━━━━━━━━━━━━━━━━━━━━\u001b[0m\u001b[37m\u001b[0m \u001b[1m1s\u001b[0m 3ms/step - loss: 0.1271 - mean_absolute_error: 0.1271 - val_loss: 0.1833 - val_mean_absolute_error: 0.1833\n",
            "Epoch 65/100\n",
            "\u001b[1m90/90\u001b[0m \u001b[32m━━━━━━━━━━━━━━━━━━━━\u001b[0m\u001b[37m\u001b[0m \u001b[1m0s\u001b[0m 4ms/step - loss: 0.1328 - mean_absolute_error: 0.1328 - val_loss: 0.1816 - val_mean_absolute_error: 0.1816\n",
            "Epoch 66/100\n",
            "\u001b[1m90/90\u001b[0m \u001b[32m━━━━━━━━━━━━━━━━━━━━\u001b[0m\u001b[37m\u001b[0m \u001b[1m1s\u001b[0m 3ms/step - loss: 0.1178 - mean_absolute_error: 0.1178 - val_loss: 0.1782 - val_mean_absolute_error: 0.1782\n",
            "Epoch 67/100\n",
            "\u001b[1m90/90\u001b[0m \u001b[32m━━━━━━━━━━━━━━━━━━━━\u001b[0m\u001b[37m\u001b[0m \u001b[1m1s\u001b[0m 4ms/step - loss: 0.1302 - mean_absolute_error: 0.1302 - val_loss: 0.1898 - val_mean_absolute_error: 0.1898\n",
            "Epoch 68/100\n",
            "\u001b[1m90/90\u001b[0m \u001b[32m━━━━━━━━━━━━━━━━━━━━\u001b[0m\u001b[37m\u001b[0m \u001b[1m0s\u001b[0m 3ms/step - loss: 0.1173 - mean_absolute_error: 0.1173 - val_loss: 0.2078 - val_mean_absolute_error: 0.2078\n",
            "Epoch 69/100\n",
            "\u001b[1m90/90\u001b[0m \u001b[32m━━━━━━━━━━━━━━━━━━━━\u001b[0m\u001b[37m\u001b[0m \u001b[1m1s\u001b[0m 3ms/step - loss: 0.1284 - mean_absolute_error: 0.1284 - val_loss: 0.1884 - val_mean_absolute_error: 0.1884\n",
            "Epoch 70/100\n",
            "\u001b[1m90/90\u001b[0m \u001b[32m━━━━━━━━━━━━━━━━━━━━\u001b[0m\u001b[37m\u001b[0m \u001b[1m0s\u001b[0m 3ms/step - loss: 0.1223 - mean_absolute_error: 0.1223 - val_loss: 0.1837 - val_mean_absolute_error: 0.1837\n",
            "Epoch 71/100\n",
            "\u001b[1m90/90\u001b[0m \u001b[32m━━━━━━━━━━━━━━━━━━━━\u001b[0m\u001b[37m\u001b[0m \u001b[1m0s\u001b[0m 4ms/step - loss: 0.1267 - mean_absolute_error: 0.1267 - val_loss: 0.1812 - val_mean_absolute_error: 0.1812\n",
            "Epoch 72/100\n",
            "\u001b[1m90/90\u001b[0m \u001b[32m━━━━━━━━━━━━━━━━━━━━\u001b[0m\u001b[37m\u001b[0m \u001b[1m1s\u001b[0m 5ms/step - loss: 0.1300 - mean_absolute_error: 0.1300 - val_loss: 0.1854 - val_mean_absolute_error: 0.1854\n",
            "Epoch 73/100\n",
            "\u001b[1m90/90\u001b[0m \u001b[32m━━━━━━━━━━━━━━━━━━━━\u001b[0m\u001b[37m\u001b[0m \u001b[1m1s\u001b[0m 6ms/step - loss: 0.1262 - mean_absolute_error: 0.1262 - val_loss: 0.1803 - val_mean_absolute_error: 0.1803\n",
            "Epoch 74/100\n",
            "\u001b[1m90/90\u001b[0m \u001b[32m━━━━━━━━━━━━━━━━━━━━\u001b[0m\u001b[37m\u001b[0m \u001b[1m1s\u001b[0m 5ms/step - loss: 0.1207 - mean_absolute_error: 0.1207 - val_loss: 0.1831 - val_mean_absolute_error: 0.1831\n",
            "Epoch 75/100\n",
            "\u001b[1m90/90\u001b[0m \u001b[32m━━━━━━━━━━━━━━━━━━━━\u001b[0m\u001b[37m\u001b[0m \u001b[1m1s\u001b[0m 6ms/step - loss: 0.1261 - mean_absolute_error: 0.1261 - val_loss: 0.1757 - val_mean_absolute_error: 0.1757\n",
            "Epoch 76/100\n",
            "\u001b[1m90/90\u001b[0m \u001b[32m━━━━━━━━━━━━━━━━━━━━\u001b[0m\u001b[37m\u001b[0m \u001b[1m1s\u001b[0m 6ms/step - loss: 0.1215 - mean_absolute_error: 0.1215 - val_loss: 0.1916 - val_mean_absolute_error: 0.1916\n",
            "Epoch 77/100\n",
            "\u001b[1m90/90\u001b[0m \u001b[32m━━━━━━━━━━━━━━━━━━━━\u001b[0m\u001b[37m\u001b[0m \u001b[1m1s\u001b[0m 6ms/step - loss: 0.1340 - mean_absolute_error: 0.1340 - val_loss: 0.1874 - val_mean_absolute_error: 0.1874\n",
            "Epoch 78/100\n",
            "\u001b[1m90/90\u001b[0m \u001b[32m━━━━━━━━━━━━━━━━━━━━\u001b[0m\u001b[37m\u001b[0m \u001b[1m1s\u001b[0m 5ms/step - loss: 0.1254 - mean_absolute_error: 0.1254 - val_loss: 0.1763 - val_mean_absolute_error: 0.1763\n",
            "Epoch 79/100\n",
            "\u001b[1m90/90\u001b[0m \u001b[32m━━━━━━━━━━━━━━━━━━━━\u001b[0m\u001b[37m\u001b[0m \u001b[1m0s\u001b[0m 4ms/step - loss: 0.1225 - mean_absolute_error: 0.1225 - val_loss: 0.1809 - val_mean_absolute_error: 0.1809\n",
            "Epoch 80/100\n",
            "\u001b[1m90/90\u001b[0m \u001b[32m━━━━━━━━━━━━━━━━━━━━\u001b[0m\u001b[37m\u001b[0m \u001b[1m1s\u001b[0m 3ms/step - loss: 0.1180 - mean_absolute_error: 0.1180 - val_loss: 0.1850 - val_mean_absolute_error: 0.1850\n",
            "Epoch 81/100\n",
            "\u001b[1m90/90\u001b[0m \u001b[32m━━━━━━━━━━━━━━━━━━━━\u001b[0m\u001b[37m\u001b[0m \u001b[1m1s\u001b[0m 4ms/step - loss: 0.1227 - mean_absolute_error: 0.1227 - val_loss: 0.1803 - val_mean_absolute_error: 0.1803\n",
            "Epoch 82/100\n",
            "\u001b[1m90/90\u001b[0m \u001b[32m━━━━━━━━━━━━━━━━━━━━\u001b[0m\u001b[37m\u001b[0m \u001b[1m1s\u001b[0m 4ms/step - loss: 0.1189 - mean_absolute_error: 0.1189 - val_loss: 0.1741 - val_mean_absolute_error: 0.1741\n",
            "Epoch 83/100\n",
            "\u001b[1m90/90\u001b[0m \u001b[32m━━━━━━━━━━━━━━━━━━━━\u001b[0m\u001b[37m\u001b[0m \u001b[1m1s\u001b[0m 4ms/step - loss: 0.1143 - mean_absolute_error: 0.1143 - val_loss: 0.1829 - val_mean_absolute_error: 0.1829\n",
            "Epoch 84/100\n",
            "\u001b[1m90/90\u001b[0m \u001b[32m━━━━━━━━━━━━━━━━━━━━\u001b[0m\u001b[37m\u001b[0m \u001b[1m1s\u001b[0m 3ms/step - loss: 0.1162 - mean_absolute_error: 0.1162 - val_loss: 0.1797 - val_mean_absolute_error: 0.1797\n",
            "Epoch 85/100\n",
            "\u001b[1m90/90\u001b[0m \u001b[32m━━━━━━━━━━━━━━━━━━━━\u001b[0m\u001b[37m\u001b[0m \u001b[1m0s\u001b[0m 4ms/step - loss: 0.1134 - mean_absolute_error: 0.1134 - val_loss: 0.1825 - val_mean_absolute_error: 0.1825\n",
            "Epoch 86/100\n",
            "\u001b[1m90/90\u001b[0m \u001b[32m━━━━━━━━━━━━━━━━━━━━\u001b[0m\u001b[37m\u001b[0m \u001b[1m0s\u001b[0m 4ms/step - loss: 0.1181 - mean_absolute_error: 0.1181 - val_loss: 0.2036 - val_mean_absolute_error: 0.2036\n",
            "Epoch 87/100\n",
            "\u001b[1m90/90\u001b[0m \u001b[32m━━━━━━━━━━━━━━━━━━━━\u001b[0m\u001b[37m\u001b[0m \u001b[1m1s\u001b[0m 4ms/step - loss: 0.1394 - mean_absolute_error: 0.1394 - val_loss: 0.1737 - val_mean_absolute_error: 0.1737\n",
            "Epoch 88/100\n",
            "\u001b[1m90/90\u001b[0m \u001b[32m━━━━━━━━━━━━━━━━━━━━\u001b[0m\u001b[37m\u001b[0m \u001b[1m0s\u001b[0m 3ms/step - loss: 0.1191 - mean_absolute_error: 0.1191 - val_loss: 0.1802 - val_mean_absolute_error: 0.1802\n",
            "Epoch 89/100\n",
            "\u001b[1m90/90\u001b[0m \u001b[32m━━━━━━━━━━━━━━━━━━━━\u001b[0m\u001b[37m\u001b[0m \u001b[1m0s\u001b[0m 4ms/step - loss: 0.1149 - mean_absolute_error: 0.1149 - val_loss: 0.1799 - val_mean_absolute_error: 0.1799\n",
            "Epoch 90/100\n",
            "\u001b[1m90/90\u001b[0m \u001b[32m━━━━━━━━━━━━━━━━━━━━\u001b[0m\u001b[37m\u001b[0m \u001b[1m0s\u001b[0m 4ms/step - loss: 0.1146 - mean_absolute_error: 0.1146 - val_loss: 0.1828 - val_mean_absolute_error: 0.1828\n",
            "Epoch 91/100\n",
            "\u001b[1m90/90\u001b[0m \u001b[32m━━━━━━━━━━━━━━━━━━━━\u001b[0m\u001b[37m\u001b[0m \u001b[1m0s\u001b[0m 3ms/step - loss: 0.1233 - mean_absolute_error: 0.1233 - val_loss: 0.1821 - val_mean_absolute_error: 0.1821\n",
            "Epoch 92/100\n",
            "\u001b[1m90/90\u001b[0m \u001b[32m━━━━━━━━━━━━━━━━━━━━\u001b[0m\u001b[37m\u001b[0m \u001b[1m1s\u001b[0m 4ms/step - loss: 0.1079 - mean_absolute_error: 0.1079 - val_loss: 0.1877 - val_mean_absolute_error: 0.1877\n",
            "Epoch 93/100\n",
            "\u001b[1m90/90\u001b[0m \u001b[32m━━━━━━━━━━━━━━━━━━━━\u001b[0m\u001b[37m\u001b[0m \u001b[1m1s\u001b[0m 3ms/step - loss: 0.1179 - mean_absolute_error: 0.1179 - val_loss: 0.1901 - val_mean_absolute_error: 0.1901\n",
            "Epoch 94/100\n",
            "\u001b[1m90/90\u001b[0m \u001b[32m━━━━━━━━━━━━━━━━━━━━\u001b[0m\u001b[37m\u001b[0m \u001b[1m0s\u001b[0m 3ms/step - loss: 0.1117 - mean_absolute_error: 0.1117 - val_loss: 0.1856 - val_mean_absolute_error: 0.1856\n",
            "Epoch 95/100\n",
            "\u001b[1m90/90\u001b[0m \u001b[32m━━━━━━━━━━━━━━━━━━━━\u001b[0m\u001b[37m\u001b[0m \u001b[1m0s\u001b[0m 3ms/step - loss: 0.1141 - mean_absolute_error: 0.1141 - val_loss: 0.1775 - val_mean_absolute_error: 0.1775\n",
            "Epoch 96/100\n",
            "\u001b[1m90/90\u001b[0m \u001b[32m━━━━━━━━━━━━━━━━━━━━\u001b[0m\u001b[37m\u001b[0m \u001b[1m0s\u001b[0m 4ms/step - loss: 0.1300 - mean_absolute_error: 0.1300 - val_loss: 0.1779 - val_mean_absolute_error: 0.1779\n",
            "Epoch 97/100\n",
            "\u001b[1m90/90\u001b[0m \u001b[32m━━━━━━━━━━━━━━━━━━━━\u001b[0m\u001b[37m\u001b[0m \u001b[1m1s\u001b[0m 3ms/step - loss: 0.1105 - mean_absolute_error: 0.1105 - val_loss: 0.1769 - val_mean_absolute_error: 0.1769\n",
            "Epoch 98/100\n",
            "\u001b[1m90/90\u001b[0m \u001b[32m━━━━━━━━━━━━━━━━━━━━\u001b[0m\u001b[37m\u001b[0m \u001b[1m1s\u001b[0m 3ms/step - loss: 0.1135 - mean_absolute_error: 0.1135 - val_loss: 0.1869 - val_mean_absolute_error: 0.1869\n",
            "Epoch 99/100\n",
            "\u001b[1m90/90\u001b[0m \u001b[32m━━━━━━━━━━━━━━━━━━━━\u001b[0m\u001b[37m\u001b[0m \u001b[1m0s\u001b[0m 5ms/step - loss: 0.1083 - mean_absolute_error: 0.1083 - val_loss: 0.1805 - val_mean_absolute_error: 0.1805\n",
            "Epoch 100/100\n",
            "\u001b[1m90/90\u001b[0m \u001b[32m━━━━━━━━━━━━━━━━━━━━\u001b[0m\u001b[37m\u001b[0m \u001b[1m1s\u001b[0m 6ms/step - loss: 0.1152 - mean_absolute_error: 0.1152 - val_loss: 0.1911 - val_mean_absolute_error: 0.1911\n",
            "\u001b[1m39/39\u001b[0m \u001b[32m━━━━━━━━━━━━━━━━━━━━\u001b[0m\u001b[37m\u001b[0m \u001b[1m0s\u001b[0m 4ms/step\n",
            "Epoch 1/100\n"
          ]
        },
        {
          "output_type": "stream",
          "name": "stderr",
          "text": [
            "/usr/local/lib/python3.10/dist-packages/keras/src/layers/core/dense.py:87: UserWarning: Do not pass an `input_shape`/`input_dim` argument to a layer. When using Sequential models, prefer using an `Input(shape)` object as the first layer in the model instead.\n",
            "  super().__init__(activity_regularizer=activity_regularizer, **kwargs)\n"
          ]
        },
        {
          "output_type": "stream",
          "name": "stdout",
          "text": [
            "\u001b[1m90/90\u001b[0m \u001b[32m━━━━━━━━━━━━━━━━━━━━\u001b[0m\u001b[37m\u001b[0m \u001b[1m2s\u001b[0m 5ms/step - loss: 0.2453 - mean_absolute_error: 0.2453 - val_loss: 0.2360 - val_mean_absolute_error: 0.2360\n",
            "Epoch 2/100\n",
            "\u001b[1m90/90\u001b[0m \u001b[32m━━━━━━━━━━━━━━━━━━━━\u001b[0m\u001b[37m\u001b[0m \u001b[1m0s\u001b[0m 3ms/step - loss: 0.2149 - mean_absolute_error: 0.2149 - val_loss: 0.2163 - val_mean_absolute_error: 0.2163\n",
            "Epoch 3/100\n",
            "\u001b[1m90/90\u001b[0m \u001b[32m━━━━━━━━━━━━━━━━━━━━\u001b[0m\u001b[37m\u001b[0m \u001b[1m1s\u001b[0m 4ms/step - loss: 0.2030 - mean_absolute_error: 0.2030 - val_loss: 0.2015 - val_mean_absolute_error: 0.2015\n",
            "Epoch 4/100\n",
            "\u001b[1m90/90\u001b[0m \u001b[32m━━━━━━━━━━━━━━━━━━━━\u001b[0m\u001b[37m\u001b[0m \u001b[1m1s\u001b[0m 4ms/step - loss: 0.2009 - mean_absolute_error: 0.2009 - val_loss: 0.2050 - val_mean_absolute_error: 0.2050\n",
            "Epoch 5/100\n",
            "\u001b[1m90/90\u001b[0m \u001b[32m━━━━━━━━━━━━━━━━━━━━\u001b[0m\u001b[37m\u001b[0m \u001b[1m0s\u001b[0m 4ms/step - loss: 0.1979 - mean_absolute_error: 0.1979 - val_loss: 0.2004 - val_mean_absolute_error: 0.2004\n",
            "Epoch 6/100\n",
            "\u001b[1m90/90\u001b[0m \u001b[32m━━━━━━━━━━━━━━━━━━━━\u001b[0m\u001b[37m\u001b[0m \u001b[1m0s\u001b[0m 3ms/step - loss: 0.2029 - mean_absolute_error: 0.2029 - val_loss: 0.1952 - val_mean_absolute_error: 0.1952\n",
            "Epoch 7/100\n",
            "\u001b[1m90/90\u001b[0m \u001b[32m━━━━━━━━━━━━━━━━━━━━\u001b[0m\u001b[37m\u001b[0m \u001b[1m1s\u001b[0m 4ms/step - loss: 0.1870 - mean_absolute_error: 0.1870 - val_loss: 0.1945 - val_mean_absolute_error: 0.1945\n",
            "Epoch 8/100\n",
            "\u001b[1m90/90\u001b[0m \u001b[32m━━━━━━━━━━━━━━━━━━━━\u001b[0m\u001b[37m\u001b[0m \u001b[1m0s\u001b[0m 3ms/step - loss: 0.1902 - mean_absolute_error: 0.1902 - val_loss: 0.1991 - val_mean_absolute_error: 0.1991\n",
            "Epoch 9/100\n",
            "\u001b[1m90/90\u001b[0m \u001b[32m━━━━━━━━━━━━━━━━━━━━\u001b[0m\u001b[37m\u001b[0m \u001b[1m0s\u001b[0m 3ms/step - loss: 0.1910 - mean_absolute_error: 0.1910 - val_loss: 0.2017 - val_mean_absolute_error: 0.2017\n",
            "Epoch 10/100\n",
            "\u001b[1m90/90\u001b[0m \u001b[32m━━━━━━━━━━━━━━━━━━━━\u001b[0m\u001b[37m\u001b[0m \u001b[1m1s\u001b[0m 3ms/step - loss: 0.1878 - mean_absolute_error: 0.1878 - val_loss: 0.1982 - val_mean_absolute_error: 0.1982\n",
            "Epoch 11/100\n",
            "\u001b[1m90/90\u001b[0m \u001b[32m━━━━━━━━━━━━━━━━━━━━\u001b[0m\u001b[37m\u001b[0m \u001b[1m1s\u001b[0m 4ms/step - loss: 0.1861 - mean_absolute_error: 0.1861 - val_loss: 0.1996 - val_mean_absolute_error: 0.1996\n",
            "Epoch 12/100\n",
            "\u001b[1m90/90\u001b[0m \u001b[32m━━━━━━━━━━━━━━━━━━━━\u001b[0m\u001b[37m\u001b[0m \u001b[1m1s\u001b[0m 3ms/step - loss: 0.1894 - mean_absolute_error: 0.1894 - val_loss: 0.1948 - val_mean_absolute_error: 0.1948\n",
            "Epoch 13/100\n",
            "\u001b[1m90/90\u001b[0m \u001b[32m━━━━━━━━━━━━━━━━━━━━\u001b[0m\u001b[37m\u001b[0m \u001b[1m0s\u001b[0m 4ms/step - loss: 0.1894 - mean_absolute_error: 0.1894 - val_loss: 0.1900 - val_mean_absolute_error: 0.1900\n",
            "Epoch 14/100\n",
            "\u001b[1m90/90\u001b[0m \u001b[32m━━━━━━━━━━━━━━━━━━━━\u001b[0m\u001b[37m\u001b[0m \u001b[1m1s\u001b[0m 4ms/step - loss: 0.1825 - mean_absolute_error: 0.1825 - val_loss: 0.1890 - val_mean_absolute_error: 0.1890\n",
            "Epoch 15/100\n",
            "\u001b[1m90/90\u001b[0m \u001b[32m━━━━━━━━━━━━━━━━━━━━\u001b[0m\u001b[37m\u001b[0m \u001b[1m0s\u001b[0m 4ms/step - loss: 0.1769 - mean_absolute_error: 0.1769 - val_loss: 0.1895 - val_mean_absolute_error: 0.1895\n",
            "Epoch 16/100\n",
            "\u001b[1m90/90\u001b[0m \u001b[32m━━━━━━━━━━━━━━━━━━━━\u001b[0m\u001b[37m\u001b[0m \u001b[1m1s\u001b[0m 3ms/step - loss: 0.1828 - mean_absolute_error: 0.1828 - val_loss: 0.1869 - val_mean_absolute_error: 0.1869\n",
            "Epoch 17/100\n",
            "\u001b[1m90/90\u001b[0m \u001b[32m━━━━━━━━━━━━━━━━━━━━\u001b[0m\u001b[37m\u001b[0m \u001b[1m1s\u001b[0m 3ms/step - loss: 0.1706 - mean_absolute_error: 0.1706 - val_loss: 0.1886 - val_mean_absolute_error: 0.1886\n",
            "Epoch 18/100\n",
            "\u001b[1m90/90\u001b[0m \u001b[32m━━━━━━━━━━━━━━━━━━━━\u001b[0m\u001b[37m\u001b[0m \u001b[1m1s\u001b[0m 3ms/step - loss: 0.1775 - mean_absolute_error: 0.1775 - val_loss: 0.1858 - val_mean_absolute_error: 0.1858\n",
            "Epoch 19/100\n",
            "\u001b[1m90/90\u001b[0m \u001b[32m━━━━━━━━━━━━━━━━━━━━\u001b[0m\u001b[37m\u001b[0m \u001b[1m1s\u001b[0m 4ms/step - loss: 0.1745 - mean_absolute_error: 0.1745 - val_loss: 0.1892 - val_mean_absolute_error: 0.1892\n",
            "Epoch 20/100\n",
            "\u001b[1m90/90\u001b[0m \u001b[32m━━━━━━━━━━━━━━━━━━━━\u001b[0m\u001b[37m\u001b[0m \u001b[1m1s\u001b[0m 6ms/step - loss: 0.1768 - mean_absolute_error: 0.1768 - val_loss: 0.1877 - val_mean_absolute_error: 0.1877\n",
            "Epoch 21/100\n",
            "\u001b[1m90/90\u001b[0m \u001b[32m━━━━━━━━━━━━━━━━━━━━\u001b[0m\u001b[37m\u001b[0m \u001b[1m1s\u001b[0m 6ms/step - loss: 0.1669 - mean_absolute_error: 0.1669 - val_loss: 0.1853 - val_mean_absolute_error: 0.1853\n",
            "Epoch 22/100\n",
            "\u001b[1m90/90\u001b[0m \u001b[32m━━━━━━━━━━━━━━━━━━━━\u001b[0m\u001b[37m\u001b[0m \u001b[1m1s\u001b[0m 7ms/step - loss: 0.1619 - mean_absolute_error: 0.1619 - val_loss: 0.1856 - val_mean_absolute_error: 0.1856\n",
            "Epoch 23/100\n",
            "\u001b[1m90/90\u001b[0m \u001b[32m━━━━━━━━━━━━━━━━━━━━\u001b[0m\u001b[37m\u001b[0m \u001b[1m1s\u001b[0m 4ms/step - loss: 0.1550 - mean_absolute_error: 0.1550 - val_loss: 0.1879 - val_mean_absolute_error: 0.1879\n",
            "Epoch 24/100\n",
            "\u001b[1m90/90\u001b[0m \u001b[32m━━━━━━━━━━━━━━━━━━━━\u001b[0m\u001b[37m\u001b[0m \u001b[1m1s\u001b[0m 4ms/step - loss: 0.1601 - mean_absolute_error: 0.1601 - val_loss: 0.1879 - val_mean_absolute_error: 0.1879\n",
            "Epoch 25/100\n",
            "\u001b[1m90/90\u001b[0m \u001b[32m━━━━━━━━━━━━━━━━━━━━\u001b[0m\u001b[37m\u001b[0m \u001b[1m0s\u001b[0m 3ms/step - loss: 0.1598 - mean_absolute_error: 0.1598 - val_loss: 0.1899 - val_mean_absolute_error: 0.1899\n",
            "Epoch 26/100\n",
            "\u001b[1m90/90\u001b[0m \u001b[32m━━━━━━━━━━━━━━━━━━━━\u001b[0m\u001b[37m\u001b[0m \u001b[1m1s\u001b[0m 4ms/step - loss: 0.1624 - mean_absolute_error: 0.1624 - val_loss: 0.1873 - val_mean_absolute_error: 0.1873\n",
            "Epoch 27/100\n",
            "\u001b[1m90/90\u001b[0m \u001b[32m━━━━━━━━━━━━━━━━━━━━\u001b[0m\u001b[37m\u001b[0m \u001b[1m0s\u001b[0m 4ms/step - loss: 0.1589 - mean_absolute_error: 0.1589 - val_loss: 0.1876 - val_mean_absolute_error: 0.1876\n",
            "Epoch 28/100\n",
            "\u001b[1m90/90\u001b[0m \u001b[32m━━━━━━━━━━━━━━━━━━━━\u001b[0m\u001b[37m\u001b[0m \u001b[1m1s\u001b[0m 4ms/step - loss: 0.1580 - mean_absolute_error: 0.1580 - val_loss: 0.1931 - val_mean_absolute_error: 0.1931\n",
            "Epoch 29/100\n",
            "\u001b[1m90/90\u001b[0m \u001b[32m━━━━━━━━━━━━━━━━━━━━\u001b[0m\u001b[37m\u001b[0m \u001b[1m0s\u001b[0m 4ms/step - loss: 0.1627 - mean_absolute_error: 0.1627 - val_loss: 0.1932 - val_mean_absolute_error: 0.1932\n",
            "Epoch 30/100\n",
            "\u001b[1m90/90\u001b[0m \u001b[32m━━━━━━━━━━━━━━━━━━━━\u001b[0m\u001b[37m\u001b[0m \u001b[1m0s\u001b[0m 5ms/step - loss: 0.1563 - mean_absolute_error: 0.1563 - val_loss: 0.1920 - val_mean_absolute_error: 0.1920\n",
            "Epoch 31/100\n",
            "\u001b[1m90/90\u001b[0m \u001b[32m━━━━━━━━━━━━━━━━━━━━\u001b[0m\u001b[37m\u001b[0m \u001b[1m0s\u001b[0m 4ms/step - loss: 0.1648 - mean_absolute_error: 0.1648 - val_loss: 0.1981 - val_mean_absolute_error: 0.1981\n",
            "Epoch 32/100\n",
            "\u001b[1m90/90\u001b[0m \u001b[32m━━━━━━━━━━━━━━━━━━━━\u001b[0m\u001b[37m\u001b[0m \u001b[1m1s\u001b[0m 4ms/step - loss: 0.1548 - mean_absolute_error: 0.1548 - val_loss: 0.1967 - val_mean_absolute_error: 0.1967\n",
            "Epoch 33/100\n",
            "\u001b[1m90/90\u001b[0m \u001b[32m━━━━━━━━━━━━━━━━━━━━\u001b[0m\u001b[37m\u001b[0m \u001b[1m0s\u001b[0m 3ms/step - loss: 0.1494 - mean_absolute_error: 0.1494 - val_loss: 0.1938 - val_mean_absolute_error: 0.1938\n",
            "Epoch 34/100\n",
            "\u001b[1m90/90\u001b[0m \u001b[32m━━━━━━━━━━━━━━━━━━━━\u001b[0m\u001b[37m\u001b[0m \u001b[1m1s\u001b[0m 3ms/step - loss: 0.1475 - mean_absolute_error: 0.1475 - val_loss: 0.2021 - val_mean_absolute_error: 0.2021\n",
            "Epoch 35/100\n",
            "\u001b[1m90/90\u001b[0m \u001b[32m━━━━━━━━━━━━━━━━━━━━\u001b[0m\u001b[37m\u001b[0m \u001b[1m0s\u001b[0m 4ms/step - loss: 0.1458 - mean_absolute_error: 0.1458 - val_loss: 0.1886 - val_mean_absolute_error: 0.1886\n",
            "Epoch 36/100\n",
            "\u001b[1m90/90\u001b[0m \u001b[32m━━━━━━━━━━━━━━━━━━━━\u001b[0m\u001b[37m\u001b[0m \u001b[1m0s\u001b[0m 3ms/step - loss: 0.1436 - mean_absolute_error: 0.1436 - val_loss: 0.1992 - val_mean_absolute_error: 0.1992\n",
            "Epoch 37/100\n",
            "\u001b[1m90/90\u001b[0m \u001b[32m━━━━━━━━━━━━━━━━━━━━\u001b[0m\u001b[37m\u001b[0m \u001b[1m1s\u001b[0m 3ms/step - loss: 0.1481 - mean_absolute_error: 0.1481 - val_loss: 0.2079 - val_mean_absolute_error: 0.2079\n",
            "Epoch 38/100\n",
            "\u001b[1m90/90\u001b[0m \u001b[32m━━━━━━━━━━━━━━━━━━━━\u001b[0m\u001b[37m\u001b[0m \u001b[1m0s\u001b[0m 4ms/step - loss: 0.1428 - mean_absolute_error: 0.1428 - val_loss: 0.1930 - val_mean_absolute_error: 0.1930\n",
            "Epoch 39/100\n",
            "\u001b[1m90/90\u001b[0m \u001b[32m━━━━━━━━━━━━━━━━━━━━\u001b[0m\u001b[37m\u001b[0m \u001b[1m1s\u001b[0m 3ms/step - loss: 0.1408 - mean_absolute_error: 0.1408 - val_loss: 0.2039 - val_mean_absolute_error: 0.2039\n",
            "Epoch 40/100\n",
            "\u001b[1m90/90\u001b[0m \u001b[32m━━━━━━━━━━━━━━━━━━━━\u001b[0m\u001b[37m\u001b[0m \u001b[1m0s\u001b[0m 4ms/step - loss: 0.2199 - mean_absolute_error: 0.2199 - val_loss: 0.2176 - val_mean_absolute_error: 0.2176\n",
            "Epoch 41/100\n",
            "\u001b[1m90/90\u001b[0m \u001b[32m━━━━━━━━━━━━━━━━━━━━\u001b[0m\u001b[37m\u001b[0m \u001b[1m0s\u001b[0m 3ms/step - loss: 0.2363 - mean_absolute_error: 0.2363 - val_loss: 0.2176 - val_mean_absolute_error: 0.2176\n",
            "Epoch 42/100\n",
            "\u001b[1m90/90\u001b[0m \u001b[32m━━━━━━━━━━━━━━━━━━━━\u001b[0m\u001b[37m\u001b[0m \u001b[1m0s\u001b[0m 4ms/step - loss: 0.2379 - mean_absolute_error: 0.2379 - val_loss: 0.2176 - val_mean_absolute_error: 0.2176\n",
            "Epoch 43/100\n",
            "\u001b[1m90/90\u001b[0m \u001b[32m━━━━━━━━━━━━━━━━━━━━\u001b[0m\u001b[37m\u001b[0m \u001b[1m1s\u001b[0m 3ms/step - loss: 0.2391 - mean_absolute_error: 0.2391 - val_loss: 0.2176 - val_mean_absolute_error: 0.2176\n",
            "Epoch 44/100\n",
            "\u001b[1m90/90\u001b[0m \u001b[32m━━━━━━━━━━━━━━━━━━━━\u001b[0m\u001b[37m\u001b[0m \u001b[1m0s\u001b[0m 3ms/step - loss: 0.2256 - mean_absolute_error: 0.2256 - val_loss: 0.2176 - val_mean_absolute_error: 0.2176\n",
            "Epoch 45/100\n",
            "\u001b[1m90/90\u001b[0m \u001b[32m━━━━━━━━━━━━━━━━━━━━\u001b[0m\u001b[37m\u001b[0m \u001b[1m1s\u001b[0m 6ms/step - loss: 0.2310 - mean_absolute_error: 0.2310 - val_loss: 0.2176 - val_mean_absolute_error: 0.2176\n",
            "Epoch 46/100\n",
            "\u001b[1m90/90\u001b[0m \u001b[32m━━━━━━━━━━━━━━━━━━━━\u001b[0m\u001b[37m\u001b[0m \u001b[1m1s\u001b[0m 6ms/step - loss: 0.2344 - mean_absolute_error: 0.2344 - val_loss: 0.2176 - val_mean_absolute_error: 0.2176\n",
            "Epoch 47/100\n",
            "\u001b[1m90/90\u001b[0m \u001b[32m━━━━━━━━━━━━━━━━━━━━\u001b[0m\u001b[37m\u001b[0m \u001b[1m1s\u001b[0m 7ms/step - loss: 0.2317 - mean_absolute_error: 0.2317 - val_loss: 0.2176 - val_mean_absolute_error: 0.2176\n",
            "Epoch 48/100\n",
            "\u001b[1m90/90\u001b[0m \u001b[32m━━━━━━━━━━━━━━━━━━━━\u001b[0m\u001b[37m\u001b[0m \u001b[1m1s\u001b[0m 3ms/step - loss: 0.2285 - mean_absolute_error: 0.2285 - val_loss: 0.2176 - val_mean_absolute_error: 0.2176\n",
            "Epoch 49/100\n",
            "\u001b[1m90/90\u001b[0m \u001b[32m━━━━━━━━━━━━━━━━━━━━\u001b[0m\u001b[37m\u001b[0m \u001b[1m1s\u001b[0m 4ms/step - loss: 0.2312 - mean_absolute_error: 0.2312 - val_loss: 0.2176 - val_mean_absolute_error: 0.2176\n",
            "Epoch 50/100\n",
            "\u001b[1m90/90\u001b[0m \u001b[32m━━━━━━━━━━━━━━━━━━━━\u001b[0m\u001b[37m\u001b[0m \u001b[1m0s\u001b[0m 4ms/step - loss: 0.2436 - mean_absolute_error: 0.2436 - val_loss: 0.2176 - val_mean_absolute_error: 0.2176\n",
            "Epoch 51/100\n",
            "\u001b[1m90/90\u001b[0m \u001b[32m━━━━━━━━━━━━━━━━━━━━\u001b[0m\u001b[37m\u001b[0m \u001b[1m1s\u001b[0m 5ms/step - loss: 0.2310 - mean_absolute_error: 0.2310 - val_loss: 0.2176 - val_mean_absolute_error: 0.2176\n",
            "Epoch 52/100\n",
            "\u001b[1m90/90\u001b[0m \u001b[32m━━━━━━━━━━━━━━━━━━━━\u001b[0m\u001b[37m\u001b[0m \u001b[1m1s\u001b[0m 4ms/step - loss: 0.2368 - mean_absolute_error: 0.2368 - val_loss: 0.2176 - val_mean_absolute_error: 0.2176\n",
            "Epoch 53/100\n",
            "\u001b[1m90/90\u001b[0m \u001b[32m━━━━━━━━━━━━━━━━━━━━\u001b[0m\u001b[37m\u001b[0m \u001b[1m1s\u001b[0m 4ms/step - loss: 0.2409 - mean_absolute_error: 0.2409 - val_loss: 0.2176 - val_mean_absolute_error: 0.2176\n",
            "Epoch 54/100\n",
            "\u001b[1m90/90\u001b[0m \u001b[32m━━━━━━━━━━━━━━━━━━━━\u001b[0m\u001b[37m\u001b[0m \u001b[1m1s\u001b[0m 4ms/step - loss: 0.2323 - mean_absolute_error: 0.2323 - val_loss: 0.2176 - val_mean_absolute_error: 0.2176\n",
            "Epoch 55/100\n",
            "\u001b[1m90/90\u001b[0m \u001b[32m━━━━━━━━━━━━━━━━━━━━\u001b[0m\u001b[37m\u001b[0m \u001b[1m1s\u001b[0m 4ms/step - loss: 0.2469 - mean_absolute_error: 0.2469 - val_loss: 0.2176 - val_mean_absolute_error: 0.2176\n",
            "Epoch 56/100\n",
            "\u001b[1m90/90\u001b[0m \u001b[32m━━━━━━━━━━━━━━━━━━━━\u001b[0m\u001b[37m\u001b[0m \u001b[1m0s\u001b[0m 4ms/step - loss: 0.2430 - mean_absolute_error: 0.2430 - val_loss: 0.2176 - val_mean_absolute_error: 0.2176\n",
            "Epoch 57/100\n",
            "\u001b[1m90/90\u001b[0m \u001b[32m━━━━━━━━━━━━━━━━━━━━\u001b[0m\u001b[37m\u001b[0m \u001b[1m1s\u001b[0m 4ms/step - loss: 0.2233 - mean_absolute_error: 0.2233 - val_loss: 0.2176 - val_mean_absolute_error: 0.2176\n",
            "Epoch 58/100\n",
            "\u001b[1m90/90\u001b[0m \u001b[32m━━━━━━━━━━━━━━━━━━━━\u001b[0m\u001b[37m\u001b[0m \u001b[1m0s\u001b[0m 4ms/step - loss: 0.2402 - mean_absolute_error: 0.2402 - val_loss: 0.2176 - val_mean_absolute_error: 0.2176\n",
            "Epoch 59/100\n",
            "\u001b[1m90/90\u001b[0m \u001b[32m━━━━━━━━━━━━━━━━━━━━\u001b[0m\u001b[37m\u001b[0m \u001b[1m1s\u001b[0m 3ms/step - loss: 0.2364 - mean_absolute_error: 0.2364 - val_loss: 0.2176 - val_mean_absolute_error: 0.2176\n",
            "Epoch 60/100\n",
            "\u001b[1m90/90\u001b[0m \u001b[32m━━━━━━━━━━━━━━━━━━━━\u001b[0m\u001b[37m\u001b[0m \u001b[1m1s\u001b[0m 4ms/step - loss: 0.2363 - mean_absolute_error: 0.2363 - val_loss: 0.2176 - val_mean_absolute_error: 0.2176\n",
            "Epoch 61/100\n",
            "\u001b[1m90/90\u001b[0m \u001b[32m━━━━━━━━━━━━━━━━━━━━\u001b[0m\u001b[37m\u001b[0m \u001b[1m0s\u001b[0m 3ms/step - loss: 0.2303 - mean_absolute_error: 0.2303 - val_loss: 0.2176 - val_mean_absolute_error: 0.2176\n",
            "Epoch 62/100\n",
            "\u001b[1m90/90\u001b[0m \u001b[32m━━━━━━━━━━━━━━━━━━━━\u001b[0m\u001b[37m\u001b[0m \u001b[1m0s\u001b[0m 3ms/step - loss: 0.2305 - mean_absolute_error: 0.2305 - val_loss: 0.2176 - val_mean_absolute_error: 0.2176\n",
            "Epoch 63/100\n",
            "\u001b[1m90/90\u001b[0m \u001b[32m━━━━━━━━━━━━━━━━━━━━\u001b[0m\u001b[37m\u001b[0m \u001b[1m0s\u001b[0m 4ms/step - loss: 0.2445 - mean_absolute_error: 0.2445 - val_loss: 0.2176 - val_mean_absolute_error: 0.2176\n",
            "Epoch 64/100\n",
            "\u001b[1m90/90\u001b[0m \u001b[32m━━━━━━━━━━━━━━━━━━━━\u001b[0m\u001b[37m\u001b[0m \u001b[1m1s\u001b[0m 3ms/step - loss: 0.2309 - mean_absolute_error: 0.2309 - val_loss: 0.2176 - val_mean_absolute_error: 0.2176\n",
            "Epoch 65/100\n",
            "\u001b[1m90/90\u001b[0m \u001b[32m━━━━━━━━━━━━━━━━━━━━\u001b[0m\u001b[37m\u001b[0m \u001b[1m0s\u001b[0m 4ms/step - loss: 0.2373 - mean_absolute_error: 0.2373 - val_loss: 0.2176 - val_mean_absolute_error: 0.2176\n",
            "Epoch 66/100\n",
            "\u001b[1m90/90\u001b[0m \u001b[32m━━━━━━━━━━━━━━━━━━━━\u001b[0m\u001b[37m\u001b[0m \u001b[1m1s\u001b[0m 4ms/step - loss: 0.2397 - mean_absolute_error: 0.2397 - val_loss: 0.2176 - val_mean_absolute_error: 0.2176\n",
            "Epoch 67/100\n",
            "\u001b[1m90/90\u001b[0m \u001b[32m━━━━━━━━━━━━━━━━━━━━\u001b[0m\u001b[37m\u001b[0m \u001b[1m1s\u001b[0m 6ms/step - loss: 0.2316 - mean_absolute_error: 0.2316 - val_loss: 0.2176 - val_mean_absolute_error: 0.2176\n",
            "Epoch 68/100\n",
            "\u001b[1m90/90\u001b[0m \u001b[32m━━━━━━━━━━━━━━━━━━━━\u001b[0m\u001b[37m\u001b[0m \u001b[1m1s\u001b[0m 6ms/step - loss: 0.2423 - mean_absolute_error: 0.2423 - val_loss: 0.2176 - val_mean_absolute_error: 0.2176\n",
            "Epoch 69/100\n",
            "\u001b[1m90/90\u001b[0m \u001b[32m━━━━━━━━━━━━━━━━━━━━\u001b[0m\u001b[37m\u001b[0m \u001b[1m1s\u001b[0m 5ms/step - loss: 0.2263 - mean_absolute_error: 0.2263 - val_loss: 0.2176 - val_mean_absolute_error: 0.2176\n",
            "Epoch 70/100\n",
            "\u001b[1m90/90\u001b[0m \u001b[32m━━━━━━━━━━━━━━━━━━━━\u001b[0m\u001b[37m\u001b[0m \u001b[1m1s\u001b[0m 7ms/step - loss: 0.2304 - mean_absolute_error: 0.2304 - val_loss: 0.2176 - val_mean_absolute_error: 0.2176\n",
            "Epoch 71/100\n",
            "\u001b[1m90/90\u001b[0m \u001b[32m━━━━━━━━━━━━━━━━━━━━\u001b[0m\u001b[37m\u001b[0m \u001b[1m1s\u001b[0m 6ms/step - loss: 0.2246 - mean_absolute_error: 0.2246 - val_loss: 0.2176 - val_mean_absolute_error: 0.2176\n",
            "Epoch 72/100\n",
            "\u001b[1m90/90\u001b[0m \u001b[32m━━━━━━━━━━━━━━━━━━━━\u001b[0m\u001b[37m\u001b[0m \u001b[1m1s\u001b[0m 6ms/step - loss: 0.2316 - mean_absolute_error: 0.2316 - val_loss: 0.2176 - val_mean_absolute_error: 0.2176\n",
            "Epoch 73/100\n",
            "\u001b[1m90/90\u001b[0m \u001b[32m━━━━━━━━━━━━━━━━━━━━\u001b[0m\u001b[37m\u001b[0m \u001b[1m1s\u001b[0m 6ms/step - loss: 0.2304 - mean_absolute_error: 0.2304 - val_loss: 0.2176 - val_mean_absolute_error: 0.2176\n",
            "Epoch 74/100\n",
            "\u001b[1m90/90\u001b[0m \u001b[32m━━━━━━━━━━━━━━━━━━━━\u001b[0m\u001b[37m\u001b[0m \u001b[1m0s\u001b[0m 4ms/step - loss: 0.2351 - mean_absolute_error: 0.2351 - val_loss: 0.2176 - val_mean_absolute_error: 0.2176\n",
            "Epoch 75/100\n",
            "\u001b[1m90/90\u001b[0m \u001b[32m━━━━━━━━━━━━━━━━━━━━\u001b[0m\u001b[37m\u001b[0m \u001b[1m1s\u001b[0m 4ms/step - loss: 0.2294 - mean_absolute_error: 0.2294 - val_loss: 0.2176 - val_mean_absolute_error: 0.2176\n",
            "Epoch 76/100\n",
            "\u001b[1m90/90\u001b[0m \u001b[32m━━━━━━━━━━━━━━━━━━━━\u001b[0m\u001b[37m\u001b[0m \u001b[1m1s\u001b[0m 4ms/step - loss: 0.2276 - mean_absolute_error: 0.2276 - val_loss: 0.2176 - val_mean_absolute_error: 0.2176\n",
            "Epoch 77/100\n",
            "\u001b[1m90/90\u001b[0m \u001b[32m━━━━━━━━━━━━━━━━━━━━\u001b[0m\u001b[37m\u001b[0m \u001b[1m1s\u001b[0m 3ms/step - loss: 0.2373 - mean_absolute_error: 0.2373 - val_loss: 0.2176 - val_mean_absolute_error: 0.2176\n",
            "Epoch 78/100\n",
            "\u001b[1m90/90\u001b[0m \u001b[32m━━━━━━━━━━━━━━━━━━━━\u001b[0m\u001b[37m\u001b[0m \u001b[1m0s\u001b[0m 3ms/step - loss: 0.2290 - mean_absolute_error: 0.2290 - val_loss: 0.2176 - val_mean_absolute_error: 0.2176\n",
            "Epoch 79/100\n",
            "\u001b[1m90/90\u001b[0m \u001b[32m━━━━━━━━━━━━━━━━━━━━\u001b[0m\u001b[37m\u001b[0m \u001b[1m0s\u001b[0m 4ms/step - loss: 0.2316 - mean_absolute_error: 0.2316 - val_loss: 0.2176 - val_mean_absolute_error: 0.2176\n",
            "Epoch 80/100\n",
            "\u001b[1m90/90\u001b[0m \u001b[32m━━━━━━━━━━━━━━━━━━━━\u001b[0m\u001b[37m\u001b[0m \u001b[1m1s\u001b[0m 3ms/step - loss: 0.2356 - mean_absolute_error: 0.2356 - val_loss: 0.2176 - val_mean_absolute_error: 0.2176\n",
            "Epoch 81/100\n",
            "\u001b[1m90/90\u001b[0m \u001b[32m━━━━━━━━━━━━━━━━━━━━\u001b[0m\u001b[37m\u001b[0m \u001b[1m1s\u001b[0m 4ms/step - loss: 0.2401 - mean_absolute_error: 0.2401 - val_loss: 0.2176 - val_mean_absolute_error: 0.2176\n",
            "Epoch 82/100\n",
            "\u001b[1m90/90\u001b[0m \u001b[32m━━━━━━━━━━━━━━━━━━━━\u001b[0m\u001b[37m\u001b[0m \u001b[1m1s\u001b[0m 3ms/step - loss: 0.2300 - mean_absolute_error: 0.2300 - val_loss: 0.2176 - val_mean_absolute_error: 0.2176\n",
            "Epoch 83/100\n",
            "\u001b[1m90/90\u001b[0m \u001b[32m━━━━━━━━━━━━━━━━━━━━\u001b[0m\u001b[37m\u001b[0m \u001b[1m1s\u001b[0m 4ms/step - loss: 0.2310 - mean_absolute_error: 0.2310 - val_loss: 0.2176 - val_mean_absolute_error: 0.2176\n",
            "Epoch 84/100\n",
            "\u001b[1m90/90\u001b[0m \u001b[32m━━━━━━━━━━━━━━━━━━━━\u001b[0m\u001b[37m\u001b[0m \u001b[1m0s\u001b[0m 3ms/step - loss: 0.2271 - mean_absolute_error: 0.2271 - val_loss: 0.2176 - val_mean_absolute_error: 0.2176\n",
            "Epoch 85/100\n",
            "\u001b[1m90/90\u001b[0m \u001b[32m━━━━━━━━━━━━━━━━━━━━\u001b[0m\u001b[37m\u001b[0m \u001b[1m0s\u001b[0m 4ms/step - loss: 0.2414 - mean_absolute_error: 0.2414 - val_loss: 0.2176 - val_mean_absolute_error: 0.2176\n",
            "Epoch 86/100\n",
            "\u001b[1m90/90\u001b[0m \u001b[32m━━━━━━━━━━━━━━━━━━━━\u001b[0m\u001b[37m\u001b[0m \u001b[1m1s\u001b[0m 3ms/step - loss: 0.2316 - mean_absolute_error: 0.2316 - val_loss: 0.2176 - val_mean_absolute_error: 0.2176\n",
            "Epoch 87/100\n",
            "\u001b[1m90/90\u001b[0m \u001b[32m━━━━━━━━━━━━━━━━━━━━\u001b[0m\u001b[37m\u001b[0m \u001b[1m1s\u001b[0m 3ms/step - loss: 0.2313 - mean_absolute_error: 0.2313 - val_loss: 0.2176 - val_mean_absolute_error: 0.2176\n",
            "Epoch 88/100\n",
            "\u001b[1m90/90\u001b[0m \u001b[32m━━━━━━━━━━━━━━━━━━━━\u001b[0m\u001b[37m\u001b[0m \u001b[1m0s\u001b[0m 3ms/step - loss: 0.2374 - mean_absolute_error: 0.2374 - val_loss: 0.2176 - val_mean_absolute_error: 0.2176\n",
            "Epoch 89/100\n",
            "\u001b[1m90/90\u001b[0m \u001b[32m━━━━━━━━━━━━━━━━━━━━\u001b[0m\u001b[37m\u001b[0m \u001b[1m0s\u001b[0m 4ms/step - loss: 0.2311 - mean_absolute_error: 0.2311 - val_loss: 0.2176 - val_mean_absolute_error: 0.2176\n",
            "Epoch 90/100\n",
            "\u001b[1m90/90\u001b[0m \u001b[32m━━━━━━━━━━━━━━━━━━━━\u001b[0m\u001b[37m\u001b[0m \u001b[1m0s\u001b[0m 4ms/step - loss: 0.2313 - mean_absolute_error: 0.2313 - val_loss: 0.2176 - val_mean_absolute_error: 0.2176\n",
            "Epoch 91/100\n",
            "\u001b[1m90/90\u001b[0m \u001b[32m━━━━━━━━━━━━━━━━━━━━\u001b[0m\u001b[37m\u001b[0m \u001b[1m0s\u001b[0m 3ms/step - loss: 0.2360 - mean_absolute_error: 0.2360 - val_loss: 0.2176 - val_mean_absolute_error: 0.2176\n",
            "Epoch 92/100\n",
            "\u001b[1m90/90\u001b[0m \u001b[32m━━━━━━━━━━━━━━━━━━━━\u001b[0m\u001b[37m\u001b[0m \u001b[1m0s\u001b[0m 4ms/step - loss: 0.2283 - mean_absolute_error: 0.2283 - val_loss: 0.2176 - val_mean_absolute_error: 0.2176\n",
            "Epoch 93/100\n",
            "\u001b[1m90/90\u001b[0m \u001b[32m━━━━━━━━━━━━━━━━━━━━\u001b[0m\u001b[37m\u001b[0m \u001b[1m0s\u001b[0m 4ms/step - loss: 0.2382 - mean_absolute_error: 0.2382 - val_loss: 0.2176 - val_mean_absolute_error: 0.2176\n",
            "Epoch 94/100\n",
            "\u001b[1m90/90\u001b[0m \u001b[32m━━━━━━━━━━━━━━━━━━━━\u001b[0m\u001b[37m\u001b[0m \u001b[1m1s\u001b[0m 6ms/step - loss: 0.2338 - mean_absolute_error: 0.2338 - val_loss: 0.2176 - val_mean_absolute_error: 0.2176\n",
            "Epoch 95/100\n",
            "\u001b[1m90/90\u001b[0m \u001b[32m━━━━━━━━━━━━━━━━━━━━\u001b[0m\u001b[37m\u001b[0m \u001b[1m1s\u001b[0m 6ms/step - loss: 0.2442 - mean_absolute_error: 0.2442 - val_loss: 0.2176 - val_mean_absolute_error: 0.2176\n",
            "Epoch 96/100\n",
            "\u001b[1m90/90\u001b[0m \u001b[32m━━━━━━━━━━━━━━━━━━━━\u001b[0m\u001b[37m\u001b[0m \u001b[1m1s\u001b[0m 6ms/step - loss: 0.2271 - mean_absolute_error: 0.2271 - val_loss: 0.2176 - val_mean_absolute_error: 0.2176\n",
            "Epoch 97/100\n",
            "\u001b[1m90/90\u001b[0m \u001b[32m━━━━━━━━━━━━━━━━━━━━\u001b[0m\u001b[37m\u001b[0m \u001b[1m1s\u001b[0m 6ms/step - loss: 0.2384 - mean_absolute_error: 0.2384 - val_loss: 0.2176 - val_mean_absolute_error: 0.2176\n",
            "Epoch 98/100\n",
            "\u001b[1m90/90\u001b[0m \u001b[32m━━━━━━━━━━━━━━━━━━━━\u001b[0m\u001b[37m\u001b[0m \u001b[1m1s\u001b[0m 6ms/step - loss: 0.2429 - mean_absolute_error: 0.2429 - val_loss: 0.2176 - val_mean_absolute_error: 0.2176\n",
            "Epoch 99/100\n",
            "\u001b[1m90/90\u001b[0m \u001b[32m━━━━━━━━━━━━━━━━━━━━\u001b[0m\u001b[37m\u001b[0m \u001b[1m1s\u001b[0m 6ms/step - loss: 0.2299 - mean_absolute_error: 0.2299 - val_loss: 0.2176 - val_mean_absolute_error: 0.2176\n",
            "Epoch 100/100\n",
            "\u001b[1m90/90\u001b[0m \u001b[32m━━━━━━━━━━━━━━━━━━━━\u001b[0m\u001b[37m\u001b[0m \u001b[1m0s\u001b[0m 4ms/step - loss: 0.2390 - mean_absolute_error: 0.2390 - val_loss: 0.2176 - val_mean_absolute_error: 0.2176\n",
            "\u001b[1m39/39\u001b[0m \u001b[32m━━━━━━━━━━━━━━━━━━━━\u001b[0m\u001b[37m\u001b[0m \u001b[1m0s\u001b[0m 3ms/step\n",
            "Epoch 1/100\n"
          ]
        },
        {
          "output_type": "stream",
          "name": "stderr",
          "text": [
            "/usr/local/lib/python3.10/dist-packages/keras/src/layers/core/dense.py:87: UserWarning: Do not pass an `input_shape`/`input_dim` argument to a layer. When using Sequential models, prefer using an `Input(shape)` object as the first layer in the model instead.\n",
            "  super().__init__(activity_regularizer=activity_regularizer, **kwargs)\n"
          ]
        },
        {
          "output_type": "stream",
          "name": "stdout",
          "text": [
            "\u001b[1m90/90\u001b[0m \u001b[32m━━━━━━━━━━━━━━━━━━━━\u001b[0m\u001b[37m\u001b[0m \u001b[1m2s\u001b[0m 5ms/step - loss: 0.2525 - mean_absolute_error: 0.2525 - val_loss: 0.2172 - val_mean_absolute_error: 0.2172\n",
            "Epoch 2/100\n",
            "\u001b[1m90/90\u001b[0m \u001b[32m━━━━━━━━━━━━━━━━━━━━\u001b[0m\u001b[37m\u001b[0m \u001b[1m0s\u001b[0m 3ms/step - loss: 0.2274 - mean_absolute_error: 0.2274 - val_loss: 0.2036 - val_mean_absolute_error: 0.2036\n",
            "Epoch 3/100\n",
            "\u001b[1m90/90\u001b[0m \u001b[32m━━━━━━━━━━━━━━━━━━━━\u001b[0m\u001b[37m\u001b[0m \u001b[1m1s\u001b[0m 3ms/step - loss: 0.1965 - mean_absolute_error: 0.1965 - val_loss: 0.2043 - val_mean_absolute_error: 0.2043\n",
            "Epoch 4/100\n",
            "\u001b[1m90/90\u001b[0m \u001b[32m━━━━━━━━━━━━━━━━━━━━\u001b[0m\u001b[37m\u001b[0m \u001b[1m1s\u001b[0m 3ms/step - loss: 0.2035 - mean_absolute_error: 0.2035 - val_loss: 0.2038 - val_mean_absolute_error: 0.2038\n",
            "Epoch 5/100\n",
            "\u001b[1m90/90\u001b[0m \u001b[32m━━━━━━━━━━━━━━━━━━━━\u001b[0m\u001b[37m\u001b[0m \u001b[1m1s\u001b[0m 4ms/step - loss: 0.2023 - mean_absolute_error: 0.2023 - val_loss: 0.1987 - val_mean_absolute_error: 0.1987\n",
            "Epoch 6/100\n",
            "\u001b[1m90/90\u001b[0m \u001b[32m━━━━━━━━━━━━━━━━━━━━\u001b[0m\u001b[37m\u001b[0m \u001b[1m0s\u001b[0m 4ms/step - loss: 0.1982 - mean_absolute_error: 0.1982 - val_loss: 0.1980 - val_mean_absolute_error: 0.1980\n",
            "Epoch 7/100\n",
            "\u001b[1m90/90\u001b[0m \u001b[32m━━━━━━━━━━━━━━━━━━━━\u001b[0m\u001b[37m\u001b[0m \u001b[1m1s\u001b[0m 3ms/step - loss: 0.1917 - mean_absolute_error: 0.1917 - val_loss: 0.1934 - val_mean_absolute_error: 0.1934\n",
            "Epoch 8/100\n",
            "\u001b[1m90/90\u001b[0m \u001b[32m━━━━━━━━━━━━━━━━━━━━\u001b[0m\u001b[37m\u001b[0m \u001b[1m0s\u001b[0m 4ms/step - loss: 0.1986 - mean_absolute_error: 0.1986 - val_loss: 0.1943 - val_mean_absolute_error: 0.1943\n",
            "Epoch 9/100\n",
            "\u001b[1m90/90\u001b[0m \u001b[32m━━━━━━━━━━━━━━━━━━━━\u001b[0m\u001b[37m\u001b[0m \u001b[1m1s\u001b[0m 4ms/step - loss: 0.1822 - mean_absolute_error: 0.1822 - val_loss: 0.1974 - val_mean_absolute_error: 0.1974\n",
            "Epoch 10/100\n",
            "\u001b[1m90/90\u001b[0m \u001b[32m━━━━━━━━━━━━━━━━━━━━\u001b[0m\u001b[37m\u001b[0m \u001b[1m0s\u001b[0m 4ms/step - loss: 0.1796 - mean_absolute_error: 0.1796 - val_loss: 0.1949 - val_mean_absolute_error: 0.1949\n",
            "Epoch 11/100\n",
            "\u001b[1m90/90\u001b[0m \u001b[32m━━━━━━━━━━━━━━━━━━━━\u001b[0m\u001b[37m\u001b[0m \u001b[1m0s\u001b[0m 4ms/step - loss: 0.1751 - mean_absolute_error: 0.1751 - val_loss: 0.1932 - val_mean_absolute_error: 0.1932\n",
            "Epoch 12/100\n",
            "\u001b[1m90/90\u001b[0m \u001b[32m━━━━━━━━━━━━━━━━━━━━\u001b[0m\u001b[37m\u001b[0m \u001b[1m0s\u001b[0m 3ms/step - loss: 0.1788 - mean_absolute_error: 0.1788 - val_loss: 0.1894 - val_mean_absolute_error: 0.1894\n",
            "Epoch 13/100\n",
            "\u001b[1m90/90\u001b[0m \u001b[32m━━━━━━━━━━━━━━━━━━━━\u001b[0m\u001b[37m\u001b[0m \u001b[1m0s\u001b[0m 4ms/step - loss: 0.1752 - mean_absolute_error: 0.1752 - val_loss: 0.1916 - val_mean_absolute_error: 0.1916\n",
            "Epoch 14/100\n",
            "\u001b[1m90/90\u001b[0m \u001b[32m━━━━━━━━━━━━━━━━━━━━\u001b[0m\u001b[37m\u001b[0m \u001b[1m0s\u001b[0m 4ms/step - loss: 0.1741 - mean_absolute_error: 0.1741 - val_loss: 0.1912 - val_mean_absolute_error: 0.1912\n",
            "Epoch 15/100\n",
            "\u001b[1m90/90\u001b[0m \u001b[32m━━━━━━━━━━━━━━━━━━━━\u001b[0m\u001b[37m\u001b[0m \u001b[1m0s\u001b[0m 3ms/step - loss: 0.1670 - mean_absolute_error: 0.1670 - val_loss: 0.1887 - val_mean_absolute_error: 0.1887\n",
            "Epoch 16/100\n",
            "\u001b[1m90/90\u001b[0m \u001b[32m━━━━━━━━━━━━━━━━━━━━\u001b[0m\u001b[37m\u001b[0m \u001b[1m0s\u001b[0m 4ms/step - loss: 0.1637 - mean_absolute_error: 0.1637 - val_loss: 0.2006 - val_mean_absolute_error: 0.2006\n",
            "Epoch 17/100\n",
            "\u001b[1m90/90\u001b[0m \u001b[32m━━━━━━━━━━━━━━━━━━━━\u001b[0m\u001b[37m\u001b[0m \u001b[1m0s\u001b[0m 3ms/step - loss: 0.1652 - mean_absolute_error: 0.1652 - val_loss: 0.1883 - val_mean_absolute_error: 0.1883\n",
            "Epoch 18/100\n",
            "\u001b[1m90/90\u001b[0m \u001b[32m━━━━━━━━━━━━━━━━━━━━\u001b[0m\u001b[37m\u001b[0m \u001b[1m1s\u001b[0m 6ms/step - loss: 0.1693 - mean_absolute_error: 0.1693 - val_loss: 0.1871 - val_mean_absolute_error: 0.1871\n",
            "Epoch 19/100\n",
            "\u001b[1m90/90\u001b[0m \u001b[32m━━━━━━━━━━━━━━━━━━━━\u001b[0m\u001b[37m\u001b[0m \u001b[1m1s\u001b[0m 5ms/step - loss: 0.1563 - mean_absolute_error: 0.1563 - val_loss: 0.1922 - val_mean_absolute_error: 0.1922\n",
            "Epoch 20/100\n",
            "\u001b[1m90/90\u001b[0m \u001b[32m━━━━━━━━━━━━━━━━━━━━\u001b[0m\u001b[37m\u001b[0m \u001b[1m1s\u001b[0m 7ms/step - loss: 0.1510 - mean_absolute_error: 0.1510 - val_loss: 0.2032 - val_mean_absolute_error: 0.2032\n",
            "Epoch 21/100\n",
            "\u001b[1m90/90\u001b[0m \u001b[32m━━━━━━━━━━━━━━━━━━━━\u001b[0m\u001b[37m\u001b[0m \u001b[1m1s\u001b[0m 6ms/step - loss: 0.1588 - mean_absolute_error: 0.1588 - val_loss: 0.1861 - val_mean_absolute_error: 0.1861\n",
            "Epoch 22/100\n",
            "\u001b[1m90/90\u001b[0m \u001b[32m━━━━━━━━━━━━━━━━━━━━\u001b[0m\u001b[37m\u001b[0m \u001b[1m1s\u001b[0m 8ms/step - loss: 0.1563 - mean_absolute_error: 0.1563 - val_loss: 0.1887 - val_mean_absolute_error: 0.1887\n",
            "Epoch 23/100\n",
            "\u001b[1m90/90\u001b[0m \u001b[32m━━━━━━━━━━━━━━━━━━━━\u001b[0m\u001b[37m\u001b[0m \u001b[1m1s\u001b[0m 3ms/step - loss: 0.1568 - mean_absolute_error: 0.1568 - val_loss: 0.1906 - val_mean_absolute_error: 0.1906\n",
            "Epoch 24/100\n",
            "\u001b[1m90/90\u001b[0m \u001b[32m━━━━━━━━━━━━━━━━━━━━\u001b[0m\u001b[37m\u001b[0m \u001b[1m1s\u001b[0m 4ms/step - loss: 0.1530 - mean_absolute_error: 0.1530 - val_loss: 0.1912 - val_mean_absolute_error: 0.1912\n",
            "Epoch 25/100\n",
            "\u001b[1m90/90\u001b[0m \u001b[32m━━━━━━━━━━━━━━━━━━━━\u001b[0m\u001b[37m\u001b[0m \u001b[1m1s\u001b[0m 4ms/step - loss: 0.1551 - mean_absolute_error: 0.1551 - val_loss: 0.1847 - val_mean_absolute_error: 0.1847\n",
            "Epoch 26/100\n",
            "\u001b[1m90/90\u001b[0m \u001b[32m━━━━━━━━━━━━━━━━━━━━\u001b[0m\u001b[37m\u001b[0m \u001b[1m1s\u001b[0m 3ms/step - loss: 0.1521 - mean_absolute_error: 0.1521 - val_loss: 0.1893 - val_mean_absolute_error: 0.1893\n",
            "Epoch 27/100\n",
            "\u001b[1m90/90\u001b[0m \u001b[32m━━━━━━━━━━━━━━━━━━━━\u001b[0m\u001b[37m\u001b[0m \u001b[1m0s\u001b[0m 4ms/step - loss: 0.1545 - mean_absolute_error: 0.1545 - val_loss: 0.1853 - val_mean_absolute_error: 0.1853\n",
            "Epoch 28/100\n",
            "\u001b[1m90/90\u001b[0m \u001b[32m━━━━━━━━━━━━━━━━━━━━\u001b[0m\u001b[37m\u001b[0m \u001b[1m1s\u001b[0m 4ms/step - loss: 0.1538 - mean_absolute_error: 0.1538 - val_loss: 0.1859 - val_mean_absolute_error: 0.1859\n",
            "Epoch 29/100\n",
            "\u001b[1m90/90\u001b[0m \u001b[32m━━━━━━━━━━━━━━━━━━━━\u001b[0m\u001b[37m\u001b[0m \u001b[1m0s\u001b[0m 4ms/step - loss: 0.1509 - mean_absolute_error: 0.1509 - val_loss: 0.1943 - val_mean_absolute_error: 0.1943\n",
            "Epoch 30/100\n",
            "\u001b[1m90/90\u001b[0m \u001b[32m━━━━━━━━━━━━━━━━━━━━\u001b[0m\u001b[37m\u001b[0m \u001b[1m0s\u001b[0m 4ms/step - loss: 0.1538 - mean_absolute_error: 0.1538 - val_loss: 0.1891 - val_mean_absolute_error: 0.1891\n",
            "Epoch 31/100\n",
            "\u001b[1m90/90\u001b[0m \u001b[32m━━━━━━━━━━━━━━━━━━━━\u001b[0m\u001b[37m\u001b[0m \u001b[1m0s\u001b[0m 4ms/step - loss: 0.1448 - mean_absolute_error: 0.1448 - val_loss: 0.1921 - val_mean_absolute_error: 0.1921\n",
            "Epoch 32/100\n",
            "\u001b[1m90/90\u001b[0m \u001b[32m━━━━━━━━━━━━━━━━━━━━\u001b[0m\u001b[37m\u001b[0m \u001b[1m0s\u001b[0m 4ms/step - loss: 0.1505 - mean_absolute_error: 0.1505 - val_loss: 0.1839 - val_mean_absolute_error: 0.1839\n",
            "Epoch 33/100\n",
            "\u001b[1m90/90\u001b[0m \u001b[32m━━━━━━━━━━━━━━━━━━━━\u001b[0m\u001b[37m\u001b[0m \u001b[1m0s\u001b[0m 4ms/step - loss: 0.1467 - mean_absolute_error: 0.1467 - val_loss: 0.1893 - val_mean_absolute_error: 0.1893\n",
            "Epoch 34/100\n",
            "\u001b[1m90/90\u001b[0m \u001b[32m━━━━━━━━━━━━━━━━━━━━\u001b[0m\u001b[37m\u001b[0m \u001b[1m0s\u001b[0m 4ms/step - loss: 0.1429 - mean_absolute_error: 0.1429 - val_loss: 0.1829 - val_mean_absolute_error: 0.1829\n",
            "Epoch 35/100\n",
            "\u001b[1m90/90\u001b[0m \u001b[32m━━━━━━━━━━━━━━━━━━━━\u001b[0m\u001b[37m\u001b[0m \u001b[1m0s\u001b[0m 4ms/step - loss: 0.1443 - mean_absolute_error: 0.1443 - val_loss: 0.2034 - val_mean_absolute_error: 0.2034\n",
            "Epoch 36/100\n",
            "\u001b[1m90/90\u001b[0m \u001b[32m━━━━━━━━━━━━━━━━━━━━\u001b[0m\u001b[37m\u001b[0m \u001b[1m1s\u001b[0m 4ms/step - loss: 0.1413 - mean_absolute_error: 0.1413 - val_loss: 0.1838 - val_mean_absolute_error: 0.1838\n",
            "Epoch 37/100\n",
            "\u001b[1m90/90\u001b[0m \u001b[32m━━━━━━━━━━━━━━━━━━━━\u001b[0m\u001b[37m\u001b[0m \u001b[1m0s\u001b[0m 4ms/step - loss: 0.1434 - mean_absolute_error: 0.1434 - val_loss: 0.1806 - val_mean_absolute_error: 0.1806\n",
            "Epoch 38/100\n",
            "\u001b[1m90/90\u001b[0m \u001b[32m━━━━━━━━━━━━━━━━━━━━\u001b[0m\u001b[37m\u001b[0m \u001b[1m0s\u001b[0m 4ms/step - loss: 0.1489 - mean_absolute_error: 0.1489 - val_loss: 0.1920 - val_mean_absolute_error: 0.1920\n",
            "Epoch 39/100\n",
            "\u001b[1m90/90\u001b[0m \u001b[32m━━━━━━━━━━━━━━━━━━━━\u001b[0m\u001b[37m\u001b[0m \u001b[1m0s\u001b[0m 4ms/step - loss: 0.1466 - mean_absolute_error: 0.1466 - val_loss: 0.1836 - val_mean_absolute_error: 0.1836\n",
            "Epoch 40/100\n",
            "\u001b[1m90/90\u001b[0m \u001b[32m━━━━━━━━━━━━━━━━━━━━\u001b[0m\u001b[37m\u001b[0m \u001b[1m0s\u001b[0m 4ms/step - loss: 0.1410 - mean_absolute_error: 0.1410 - val_loss: 0.1845 - val_mean_absolute_error: 0.1845\n",
            "Epoch 41/100\n",
            "\u001b[1m90/90\u001b[0m \u001b[32m━━━━━━━━━━━━━━━━━━━━\u001b[0m\u001b[37m\u001b[0m \u001b[1m1s\u001b[0m 3ms/step - loss: 0.1313 - mean_absolute_error: 0.1313 - val_loss: 0.1891 - val_mean_absolute_error: 0.1891\n",
            "Epoch 42/100\n",
            "\u001b[1m90/90\u001b[0m \u001b[32m━━━━━━━━━━━━━━━━━━━━\u001b[0m\u001b[37m\u001b[0m \u001b[1m1s\u001b[0m 4ms/step - loss: 0.1411 - mean_absolute_error: 0.1411 - val_loss: 0.2223 - val_mean_absolute_error: 0.2223\n",
            "Epoch 43/100\n",
            "\u001b[1m90/90\u001b[0m \u001b[32m━━━━━━━━━━━━━━━━━━━━\u001b[0m\u001b[37m\u001b[0m \u001b[1m0s\u001b[0m 4ms/step - loss: 0.1465 - mean_absolute_error: 0.1465 - val_loss: 0.1845 - val_mean_absolute_error: 0.1845\n",
            "Epoch 44/100\n",
            "\u001b[1m90/90\u001b[0m \u001b[32m━━━━━━━━━━━━━━━━━━━━\u001b[0m\u001b[37m\u001b[0m \u001b[1m1s\u001b[0m 6ms/step - loss: 0.1387 - mean_absolute_error: 0.1387 - val_loss: 0.1923 - val_mean_absolute_error: 0.1923\n",
            "Epoch 45/100\n",
            "\u001b[1m90/90\u001b[0m \u001b[32m━━━━━━━━━━━━━━━━━━━━\u001b[0m\u001b[37m\u001b[0m \u001b[1m1s\u001b[0m 6ms/step - loss: 0.1364 - mean_absolute_error: 0.1364 - val_loss: 0.1960 - val_mean_absolute_error: 0.1960\n",
            "Epoch 46/100\n",
            "\u001b[1m90/90\u001b[0m \u001b[32m━━━━━━━━━━━━━━━━━━━━\u001b[0m\u001b[37m\u001b[0m \u001b[1m1s\u001b[0m 6ms/step - loss: 0.1299 - mean_absolute_error: 0.1299 - val_loss: 0.1819 - val_mean_absolute_error: 0.1819\n",
            "Epoch 47/100\n",
            "\u001b[1m90/90\u001b[0m \u001b[32m━━━━━━━━━━━━━━━━━━━━\u001b[0m\u001b[37m\u001b[0m \u001b[1m1s\u001b[0m 6ms/step - loss: 0.1420 - mean_absolute_error: 0.1420 - val_loss: 0.1937 - val_mean_absolute_error: 0.1937\n",
            "Epoch 48/100\n",
            "\u001b[1m90/90\u001b[0m \u001b[32m━━━━━━━━━━━━━━━━━━━━\u001b[0m\u001b[37m\u001b[0m \u001b[1m1s\u001b[0m 6ms/step - loss: 0.1361 - mean_absolute_error: 0.1361 - val_loss: 0.1808 - val_mean_absolute_error: 0.1808\n",
            "Epoch 49/100\n",
            "\u001b[1m90/90\u001b[0m \u001b[32m━━━━━━━━━━━━━━━━━━━━\u001b[0m\u001b[37m\u001b[0m \u001b[1m1s\u001b[0m 3ms/step - loss: 0.1296 - mean_absolute_error: 0.1296 - val_loss: 0.1846 - val_mean_absolute_error: 0.1846\n",
            "Epoch 50/100\n",
            "\u001b[1m90/90\u001b[0m \u001b[32m━━━━━━━━━━━━━━━━━━━━\u001b[0m\u001b[37m\u001b[0m \u001b[1m1s\u001b[0m 4ms/step - loss: 0.1608 - mean_absolute_error: 0.1608 - val_loss: 0.1841 - val_mean_absolute_error: 0.1841\n",
            "Epoch 51/100\n",
            "\u001b[1m90/90\u001b[0m \u001b[32m━━━━━━━━━━━━━━━━━━━━\u001b[0m\u001b[37m\u001b[0m \u001b[1m1s\u001b[0m 4ms/step - loss: 0.1310 - mean_absolute_error: 0.1310 - val_loss: 0.1834 - val_mean_absolute_error: 0.1834\n",
            "Epoch 52/100\n",
            "\u001b[1m90/90\u001b[0m \u001b[32m━━━━━━━━━━━━━━━━━━━━\u001b[0m\u001b[37m\u001b[0m \u001b[1m1s\u001b[0m 4ms/step - loss: 0.1306 - mean_absolute_error: 0.1306 - val_loss: 0.1870 - val_mean_absolute_error: 0.1870\n",
            "Epoch 53/100\n",
            "\u001b[1m90/90\u001b[0m \u001b[32m━━━━━━━━━━━━━━━━━━━━\u001b[0m\u001b[37m\u001b[0m \u001b[1m1s\u001b[0m 4ms/step - loss: 0.1483 - mean_absolute_error: 0.1483 - val_loss: 0.1959 - val_mean_absolute_error: 0.1959\n",
            "Epoch 54/100\n",
            "\u001b[1m90/90\u001b[0m \u001b[32m━━━━━━━━━━━━━━━━━━━━\u001b[0m\u001b[37m\u001b[0m \u001b[1m0s\u001b[0m 4ms/step - loss: 0.1329 - mean_absolute_error: 0.1329 - val_loss: 0.1821 - val_mean_absolute_error: 0.1821\n",
            "Epoch 55/100\n",
            "\u001b[1m90/90\u001b[0m \u001b[32m━━━━━━━━━━━━━━━━━━━━\u001b[0m\u001b[37m\u001b[0m \u001b[1m0s\u001b[0m 4ms/step - loss: 0.1358 - mean_absolute_error: 0.1358 - val_loss: 0.1843 - val_mean_absolute_error: 0.1843\n",
            "Epoch 56/100\n",
            "\u001b[1m90/90\u001b[0m \u001b[32m━━━━━━━━━━━━━━━━━━━━\u001b[0m\u001b[37m\u001b[0m \u001b[1m1s\u001b[0m 4ms/step - loss: 0.1292 - mean_absolute_error: 0.1292 - val_loss: 0.1820 - val_mean_absolute_error: 0.1820\n",
            "Epoch 57/100\n",
            "\u001b[1m90/90\u001b[0m \u001b[32m━━━━━━━━━━━━━━━━━━━━\u001b[0m\u001b[37m\u001b[0m \u001b[1m1s\u001b[0m 4ms/step - loss: 0.1320 - mean_absolute_error: 0.1320 - val_loss: 0.1838 - val_mean_absolute_error: 0.1838\n",
            "Epoch 58/100\n",
            "\u001b[1m90/90\u001b[0m \u001b[32m━━━━━━━━━━━━━━━━━━━━\u001b[0m\u001b[37m\u001b[0m \u001b[1m0s\u001b[0m 4ms/step - loss: 0.1334 - mean_absolute_error: 0.1334 - val_loss: 0.1823 - val_mean_absolute_error: 0.1823\n",
            "Epoch 59/100\n",
            "\u001b[1m90/90\u001b[0m \u001b[32m━━━━━━━━━━━━━━━━━━━━\u001b[0m\u001b[37m\u001b[0m \u001b[1m0s\u001b[0m 4ms/step - loss: 0.1312 - mean_absolute_error: 0.1312 - val_loss: 0.1860 - val_mean_absolute_error: 0.1860\n",
            "Epoch 60/100\n",
            "\u001b[1m90/90\u001b[0m \u001b[32m━━━━━━━━━━━━━━━━━━━━\u001b[0m\u001b[37m\u001b[0m \u001b[1m1s\u001b[0m 4ms/step - loss: 0.1261 - mean_absolute_error: 0.1261 - val_loss: 0.1831 - val_mean_absolute_error: 0.1831\n",
            "Epoch 61/100\n",
            "\u001b[1m90/90\u001b[0m \u001b[32m━━━━━━━━━━━━━━━━━━━━\u001b[0m\u001b[37m\u001b[0m \u001b[1m0s\u001b[0m 3ms/step - loss: 0.1364 - mean_absolute_error: 0.1364 - val_loss: 0.1848 - val_mean_absolute_error: 0.1848\n",
            "Epoch 62/100\n",
            "\u001b[1m90/90\u001b[0m \u001b[32m━━━━━━━━━━━━━━━━━━━━\u001b[0m\u001b[37m\u001b[0m \u001b[1m0s\u001b[0m 3ms/step - loss: 0.1317 - mean_absolute_error: 0.1317 - val_loss: 0.2098 - val_mean_absolute_error: 0.2098\n",
            "Epoch 63/100\n",
            "\u001b[1m90/90\u001b[0m \u001b[32m━━━━━━━━━━━━━━━━━━━━\u001b[0m\u001b[37m\u001b[0m \u001b[1m1s\u001b[0m 4ms/step - loss: 0.1355 - mean_absolute_error: 0.1355 - val_loss: 0.1883 - val_mean_absolute_error: 0.1883\n",
            "Epoch 64/100\n",
            "\u001b[1m90/90\u001b[0m \u001b[32m━━━━━━━━━━━━━━━━━━━━\u001b[0m\u001b[37m\u001b[0m \u001b[1m1s\u001b[0m 3ms/step - loss: 0.1252 - mean_absolute_error: 0.1252 - val_loss: 0.1835 - val_mean_absolute_error: 0.1835\n",
            "Epoch 65/100\n",
            "\u001b[1m90/90\u001b[0m \u001b[32m━━━━━━━━━━━━━━━━━━━━\u001b[0m\u001b[37m\u001b[0m \u001b[1m1s\u001b[0m 3ms/step - loss: 0.1283 - mean_absolute_error: 0.1283 - val_loss: 0.1875 - val_mean_absolute_error: 0.1875\n",
            "Epoch 66/100\n",
            "\u001b[1m90/90\u001b[0m \u001b[32m━━━━━━━━━━━━━━━━━━━━\u001b[0m\u001b[37m\u001b[0m \u001b[1m0s\u001b[0m 3ms/step - loss: 0.1331 - mean_absolute_error: 0.1331 - val_loss: 0.1803 - val_mean_absolute_error: 0.1803\n",
            "Epoch 67/100\n",
            "\u001b[1m90/90\u001b[0m \u001b[32m━━━━━━━━━━━━━━━━━━━━\u001b[0m\u001b[37m\u001b[0m \u001b[1m0s\u001b[0m 4ms/step - loss: 0.1240 - mean_absolute_error: 0.1240 - val_loss: 0.1833 - val_mean_absolute_error: 0.1833\n",
            "Epoch 68/100\n",
            "\u001b[1m90/90\u001b[0m \u001b[32m━━━━━━━━━━━━━━━━━━━━\u001b[0m\u001b[37m\u001b[0m \u001b[1m0s\u001b[0m 3ms/step - loss: 0.1278 - mean_absolute_error: 0.1278 - val_loss: 0.1758 - val_mean_absolute_error: 0.1758\n",
            "Epoch 69/100\n",
            "\u001b[1m90/90\u001b[0m \u001b[32m━━━━━━━━━━━━━━━━━━━━\u001b[0m\u001b[37m\u001b[0m \u001b[1m1s\u001b[0m 6ms/step - loss: 0.1342 - mean_absolute_error: 0.1342 - val_loss: 0.1907 - val_mean_absolute_error: 0.1907\n",
            "Epoch 70/100\n",
            "\u001b[1m90/90\u001b[0m \u001b[32m━━━━━━━━━━━━━━━━━━━━\u001b[0m\u001b[37m\u001b[0m \u001b[1m1s\u001b[0m 6ms/step - loss: 0.1278 - mean_absolute_error: 0.1278 - val_loss: 0.1982 - val_mean_absolute_error: 0.1982\n",
            "Epoch 71/100\n",
            "\u001b[1m90/90\u001b[0m \u001b[32m━━━━━━━━━━━━━━━━━━━━\u001b[0m\u001b[37m\u001b[0m \u001b[1m1s\u001b[0m 7ms/step - loss: 0.1255 - mean_absolute_error: 0.1255 - val_loss: 0.1823 - val_mean_absolute_error: 0.1823\n",
            "Epoch 72/100\n",
            "\u001b[1m90/90\u001b[0m \u001b[32m━━━━━━━━━━━━━━━━━━━━\u001b[0m\u001b[37m\u001b[0m \u001b[1m1s\u001b[0m 4ms/step - loss: 0.1242 - mean_absolute_error: 0.1242 - val_loss: 0.1831 - val_mean_absolute_error: 0.1831\n",
            "Epoch 73/100\n",
            "\u001b[1m90/90\u001b[0m \u001b[32m━━━━━━━━━━━━━━━━━━━━\u001b[0m\u001b[37m\u001b[0m \u001b[1m0s\u001b[0m 4ms/step - loss: 0.1270 - mean_absolute_error: 0.1270 - val_loss: 0.1824 - val_mean_absolute_error: 0.1824\n",
            "Epoch 74/100\n",
            "\u001b[1m90/90\u001b[0m \u001b[32m━━━━━━━━━━━━━━━━━━━━\u001b[0m\u001b[37m\u001b[0m \u001b[1m1s\u001b[0m 3ms/step - loss: 0.1237 - mean_absolute_error: 0.1237 - val_loss: 0.1837 - val_mean_absolute_error: 0.1837\n",
            "Epoch 75/100\n",
            "\u001b[1m90/90\u001b[0m \u001b[32m━━━━━━━━━━━━━━━━━━━━\u001b[0m\u001b[37m\u001b[0m \u001b[1m1s\u001b[0m 4ms/step - loss: 0.1242 - mean_absolute_error: 0.1242 - val_loss: 0.1929 - val_mean_absolute_error: 0.1929\n",
            "Epoch 76/100\n",
            "\u001b[1m90/90\u001b[0m \u001b[32m━━━━━━━━━━━━━━━━━━━━\u001b[0m\u001b[37m\u001b[0m \u001b[1m0s\u001b[0m 3ms/step - loss: 0.1278 - mean_absolute_error: 0.1278 - val_loss: 0.1777 - val_mean_absolute_error: 0.1777\n",
            "Epoch 77/100\n",
            "\u001b[1m90/90\u001b[0m \u001b[32m━━━━━━━━━━━━━━━━━━━━\u001b[0m\u001b[37m\u001b[0m \u001b[1m0s\u001b[0m 4ms/step - loss: 0.1217 - mean_absolute_error: 0.1217 - val_loss: 0.1839 - val_mean_absolute_error: 0.1839\n",
            "Epoch 78/100\n",
            "\u001b[1m90/90\u001b[0m \u001b[32m━━━━━━━━━━━━━━━━━━━━\u001b[0m\u001b[37m\u001b[0m \u001b[1m1s\u001b[0m 3ms/step - loss: 0.1210 - mean_absolute_error: 0.1210 - val_loss: 0.1850 - val_mean_absolute_error: 0.1850\n",
            "Epoch 79/100\n",
            "\u001b[1m90/90\u001b[0m \u001b[32m━━━━━━━━━━━━━━━━━━━━\u001b[0m\u001b[37m\u001b[0m \u001b[1m0s\u001b[0m 4ms/step - loss: 0.1250 - mean_absolute_error: 0.1250 - val_loss: 0.1857 - val_mean_absolute_error: 0.1857\n",
            "Epoch 80/100\n",
            "\u001b[1m90/90\u001b[0m \u001b[32m━━━━━━━━━━━━━━━━━━━━\u001b[0m\u001b[37m\u001b[0m \u001b[1m0s\u001b[0m 4ms/step - loss: 0.1192 - mean_absolute_error: 0.1192 - val_loss: 0.1782 - val_mean_absolute_error: 0.1782\n",
            "Epoch 81/100\n",
            "\u001b[1m90/90\u001b[0m \u001b[32m━━━━━━━━━━━━━━━━━━━━\u001b[0m\u001b[37m\u001b[0m \u001b[1m0s\u001b[0m 3ms/step - loss: 0.1180 - mean_absolute_error: 0.1180 - val_loss: 0.1868 - val_mean_absolute_error: 0.1868\n",
            "Epoch 82/100\n",
            "\u001b[1m90/90\u001b[0m \u001b[32m━━━━━━━━━━━━━━━━━━━━\u001b[0m\u001b[37m\u001b[0m \u001b[1m0s\u001b[0m 3ms/step - loss: 0.1246 - mean_absolute_error: 0.1246 - val_loss: 0.1925 - val_mean_absolute_error: 0.1925\n",
            "Epoch 83/100\n",
            "\u001b[1m90/90\u001b[0m \u001b[32m━━━━━━━━━━━━━━━━━━━━\u001b[0m\u001b[37m\u001b[0m \u001b[1m1s\u001b[0m 3ms/step - loss: 0.1190 - mean_absolute_error: 0.1190 - val_loss: 0.1885 - val_mean_absolute_error: 0.1885\n",
            "Epoch 84/100\n",
            "\u001b[1m90/90\u001b[0m \u001b[32m━━━━━━━━━━━━━━━━━━━━\u001b[0m\u001b[37m\u001b[0m \u001b[1m0s\u001b[0m 3ms/step - loss: 0.1166 - mean_absolute_error: 0.1166 - val_loss: 0.1882 - val_mean_absolute_error: 0.1882\n",
            "Epoch 85/100\n",
            "\u001b[1m90/90\u001b[0m \u001b[32m━━━━━━━━━━━━━━━━━━━━\u001b[0m\u001b[37m\u001b[0m \u001b[1m1s\u001b[0m 4ms/step - loss: 0.1191 - mean_absolute_error: 0.1191 - val_loss: 0.1844 - val_mean_absolute_error: 0.1844\n",
            "Epoch 86/100\n",
            "\u001b[1m90/90\u001b[0m \u001b[32m━━━━━━━━━━━━━━━━━━━━\u001b[0m\u001b[37m\u001b[0m \u001b[1m0s\u001b[0m 3ms/step - loss: 0.1320 - mean_absolute_error: 0.1320 - val_loss: 0.1886 - val_mean_absolute_error: 0.1886\n",
            "Epoch 87/100\n",
            "\u001b[1m90/90\u001b[0m \u001b[32m━━━━━━━━━━━━━━━━━━━━\u001b[0m\u001b[37m\u001b[0m \u001b[1m1s\u001b[0m 3ms/step - loss: 0.1166 - mean_absolute_error: 0.1166 - val_loss: 0.1915 - val_mean_absolute_error: 0.1915\n",
            "Epoch 88/100\n",
            "\u001b[1m90/90\u001b[0m \u001b[32m━━━━━━━━━━━━━━━━━━━━\u001b[0m\u001b[37m\u001b[0m \u001b[1m1s\u001b[0m 4ms/step - loss: 0.1256 - mean_absolute_error: 0.1256 - val_loss: 0.1886 - val_mean_absolute_error: 0.1886\n",
            "Epoch 89/100\n",
            "\u001b[1m90/90\u001b[0m \u001b[32m━━━━━━━━━━━━━━━━━━━━\u001b[0m\u001b[37m\u001b[0m \u001b[1m0s\u001b[0m 3ms/step - loss: 0.1237 - mean_absolute_error: 0.1237 - val_loss: 0.1848 - val_mean_absolute_error: 0.1848\n",
            "Epoch 90/100\n",
            "\u001b[1m90/90\u001b[0m \u001b[32m━━━━━━━━━━━━━━━━━━━━\u001b[0m\u001b[37m\u001b[0m \u001b[1m0s\u001b[0m 3ms/step - loss: 0.1470 - mean_absolute_error: 0.1470 - val_loss: 0.1878 - val_mean_absolute_error: 0.1878\n",
            "Epoch 91/100\n",
            "\u001b[1m90/90\u001b[0m \u001b[32m━━━━━━━━━━━━━━━━━━━━\u001b[0m\u001b[37m\u001b[0m \u001b[1m1s\u001b[0m 3ms/step - loss: 0.1208 - mean_absolute_error: 0.1208 - val_loss: 0.1889 - val_mean_absolute_error: 0.1889\n",
            "Epoch 92/100\n",
            "\u001b[1m90/90\u001b[0m \u001b[32m━━━━━━━━━━━━━━━━━━━━\u001b[0m\u001b[37m\u001b[0m \u001b[1m1s\u001b[0m 4ms/step - loss: 0.1270 - mean_absolute_error: 0.1270 - val_loss: 0.1872 - val_mean_absolute_error: 0.1872\n",
            "Epoch 93/100\n",
            "\u001b[1m90/90\u001b[0m \u001b[32m━━━━━━━━━━━━━━━━━━━━\u001b[0m\u001b[37m\u001b[0m \u001b[1m1s\u001b[0m 6ms/step - loss: 0.1085 - mean_absolute_error: 0.1085 - val_loss: 0.1955 - val_mean_absolute_error: 0.1955\n",
            "Epoch 94/100\n",
            "\u001b[1m90/90\u001b[0m \u001b[32m━━━━━━━━━━━━━━━━━━━━\u001b[0m\u001b[37m\u001b[0m \u001b[1m0s\u001b[0m 5ms/step - loss: 0.1204 - mean_absolute_error: 0.1204 - val_loss: 0.1808 - val_mean_absolute_error: 0.1808\n",
            "Epoch 95/100\n",
            "\u001b[1m90/90\u001b[0m \u001b[32m━━━━━━━━━━━━━━━━━━━━\u001b[0m\u001b[37m\u001b[0m \u001b[1m1s\u001b[0m 6ms/step - loss: 0.1167 - mean_absolute_error: 0.1167 - val_loss: 0.1869 - val_mean_absolute_error: 0.1869\n",
            "Epoch 96/100\n",
            "\u001b[1m90/90\u001b[0m \u001b[32m━━━━━━━━━━━━━━━━━━━━\u001b[0m\u001b[37m\u001b[0m \u001b[1m1s\u001b[0m 6ms/step - loss: 0.1144 - mean_absolute_error: 0.1144 - val_loss: 0.1931 - val_mean_absolute_error: 0.1931\n",
            "Epoch 97/100\n",
            "\u001b[1m90/90\u001b[0m \u001b[32m━━━━━━━━━━━━━━━━━━━━\u001b[0m\u001b[37m\u001b[0m \u001b[1m1s\u001b[0m 3ms/step - loss: 0.1144 - mean_absolute_error: 0.1144 - val_loss: 0.1873 - val_mean_absolute_error: 0.1873\n",
            "Epoch 98/100\n",
            "\u001b[1m90/90\u001b[0m \u001b[32m━━━━━━━━━━━━━━━━━━━━\u001b[0m\u001b[37m\u001b[0m \u001b[1m1s\u001b[0m 4ms/step - loss: 0.1181 - mean_absolute_error: 0.1181 - val_loss: 0.1928 - val_mean_absolute_error: 0.1928\n",
            "Epoch 99/100\n",
            "\u001b[1m90/90\u001b[0m \u001b[32m━━━━━━━━━━━━━━━━━━━━\u001b[0m\u001b[37m\u001b[0m \u001b[1m0s\u001b[0m 4ms/step - loss: 0.1247 - mean_absolute_error: 0.1247 - val_loss: 0.1959 - val_mean_absolute_error: 0.1959\n",
            "Epoch 100/100\n",
            "\u001b[1m90/90\u001b[0m \u001b[32m━━━━━━━━━━━━━━━━━━━━\u001b[0m\u001b[37m\u001b[0m \u001b[1m1s\u001b[0m 4ms/step - loss: 0.1240 - mean_absolute_error: 0.1240 - val_loss: 0.1870 - val_mean_absolute_error: 0.1870\n",
            "\u001b[1m39/39\u001b[0m \u001b[32m━━━━━━━━━━━━━━━━━━━━\u001b[0m\u001b[37m\u001b[0m \u001b[1m0s\u001b[0m 3ms/step\n",
            "Epoch 1/100\n"
          ]
        },
        {
          "output_type": "stream",
          "name": "stderr",
          "text": [
            "/usr/local/lib/python3.10/dist-packages/keras/src/layers/core/dense.py:87: UserWarning: Do not pass an `input_shape`/`input_dim` argument to a layer. When using Sequential models, prefer using an `Input(shape)` object as the first layer in the model instead.\n",
            "  super().__init__(activity_regularizer=activity_regularizer, **kwargs)\n"
          ]
        },
        {
          "output_type": "stream",
          "name": "stdout",
          "text": [
            "\u001b[1m90/90\u001b[0m \u001b[32m━━━━━━━━━━━━━━━━━━━━\u001b[0m\u001b[37m\u001b[0m \u001b[1m2s\u001b[0m 7ms/step - loss: 0.2508 - mean_absolute_error: 0.2508 - val_loss: 0.2177 - val_mean_absolute_error: 0.2177\n",
            "Epoch 2/100\n",
            "\u001b[1m90/90\u001b[0m \u001b[32m━━━━━━━━━━━━━━━━━━━━\u001b[0m\u001b[37m\u001b[0m \u001b[1m1s\u001b[0m 5ms/step - loss: 0.2389 - mean_absolute_error: 0.2389 - val_loss: 0.2177 - val_mean_absolute_error: 0.2177\n",
            "Epoch 3/100\n",
            "\u001b[1m90/90\u001b[0m \u001b[32m━━━━━━━━━━━━━━━━━━━━\u001b[0m\u001b[37m\u001b[0m \u001b[1m1s\u001b[0m 5ms/step - loss: 0.2294 - mean_absolute_error: 0.2294 - val_loss: 0.2176 - val_mean_absolute_error: 0.2176\n",
            "Epoch 4/100\n",
            "\u001b[1m90/90\u001b[0m \u001b[32m━━━━━━━━━━━━━━━━━━━━\u001b[0m\u001b[37m\u001b[0m \u001b[1m1s\u001b[0m 5ms/step - loss: 0.2269 - mean_absolute_error: 0.2269 - val_loss: 0.2176 - val_mean_absolute_error: 0.2176\n",
            "Epoch 5/100\n",
            "\u001b[1m90/90\u001b[0m \u001b[32m━━━━━━━━━━━━━━━━━━━━\u001b[0m\u001b[37m\u001b[0m \u001b[1m1s\u001b[0m 6ms/step - loss: 0.2451 - mean_absolute_error: 0.2451 - val_loss: 0.2176 - val_mean_absolute_error: 0.2176\n",
            "Epoch 6/100\n",
            "\u001b[1m90/90\u001b[0m \u001b[32m━━━━━━━━━━━━━━━━━━━━\u001b[0m\u001b[37m\u001b[0m \u001b[1m1s\u001b[0m 5ms/step - loss: 0.2361 - mean_absolute_error: 0.2361 - val_loss: 0.2176 - val_mean_absolute_error: 0.2176\n",
            "Epoch 7/100\n",
            "\u001b[1m90/90\u001b[0m \u001b[32m━━━━━━━━━━━━━━━━━━━━\u001b[0m\u001b[37m\u001b[0m \u001b[1m0s\u001b[0m 5ms/step - loss: 0.2402 - mean_absolute_error: 0.2402 - val_loss: 0.2176 - val_mean_absolute_error: 0.2176\n",
            "Epoch 8/100\n",
            "\u001b[1m90/90\u001b[0m \u001b[32m━━━━━━━━━━━━━━━━━━━━\u001b[0m\u001b[37m\u001b[0m \u001b[1m1s\u001b[0m 6ms/step - loss: 0.2354 - mean_absolute_error: 0.2354 - val_loss: 0.2176 - val_mean_absolute_error: 0.2176\n",
            "Epoch 9/100\n",
            "\u001b[1m90/90\u001b[0m \u001b[32m━━━━━━━━━━━━━━━━━━━━\u001b[0m\u001b[37m\u001b[0m \u001b[1m1s\u001b[0m 9ms/step - loss: 0.2280 - mean_absolute_error: 0.2280 - val_loss: 0.2176 - val_mean_absolute_error: 0.2176\n",
            "Epoch 10/100\n",
            "\u001b[1m90/90\u001b[0m \u001b[32m━━━━━━━━━━━━━━━━━━━━\u001b[0m\u001b[37m\u001b[0m \u001b[1m1s\u001b[0m 10ms/step - loss: 0.2372 - mean_absolute_error: 0.2372 - val_loss: 0.2176 - val_mean_absolute_error: 0.2176\n",
            "Epoch 11/100\n",
            "\u001b[1m90/90\u001b[0m \u001b[32m━━━━━━━━━━━━━━━━━━━━\u001b[0m\u001b[37m\u001b[0m \u001b[1m1s\u001b[0m 6ms/step - loss: 0.2405 - mean_absolute_error: 0.2405 - val_loss: 0.2176 - val_mean_absolute_error: 0.2176\n",
            "Epoch 12/100\n",
            "\u001b[1m90/90\u001b[0m \u001b[32m━━━━━━━━━━━━━━━━━━━━\u001b[0m\u001b[37m\u001b[0m \u001b[1m1s\u001b[0m 5ms/step - loss: 0.2323 - mean_absolute_error: 0.2323 - val_loss: 0.2176 - val_mean_absolute_error: 0.2176\n",
            "Epoch 13/100\n",
            "\u001b[1m90/90\u001b[0m \u001b[32m━━━━━━━━━━━━━━━━━━━━\u001b[0m\u001b[37m\u001b[0m \u001b[1m0s\u001b[0m 5ms/step - loss: 0.2357 - mean_absolute_error: 0.2357 - val_loss: 0.2176 - val_mean_absolute_error: 0.2176\n",
            "Epoch 14/100\n",
            "\u001b[1m90/90\u001b[0m \u001b[32m━━━━━━━━━━━━━━━━━━━━\u001b[0m\u001b[37m\u001b[0m \u001b[1m1s\u001b[0m 5ms/step - loss: 0.2381 - mean_absolute_error: 0.2381 - val_loss: 0.2176 - val_mean_absolute_error: 0.2176\n",
            "Epoch 15/100\n",
            "\u001b[1m90/90\u001b[0m \u001b[32m━━━━━━━━━━━━━━━━━━━━\u001b[0m\u001b[37m\u001b[0m \u001b[1m1s\u001b[0m 5ms/step - loss: 0.2397 - mean_absolute_error: 0.2397 - val_loss: 0.2176 - val_mean_absolute_error: 0.2176\n",
            "Epoch 16/100\n",
            "\u001b[1m90/90\u001b[0m \u001b[32m━━━━━━━━━━━━━━━━━━━━\u001b[0m\u001b[37m\u001b[0m \u001b[1m1s\u001b[0m 5ms/step - loss: 0.2402 - mean_absolute_error: 0.2402 - val_loss: 0.2176 - val_mean_absolute_error: 0.2176\n",
            "Epoch 17/100\n",
            "\u001b[1m90/90\u001b[0m \u001b[32m━━━━━━━━━━━━━━━━━━━━\u001b[0m\u001b[37m\u001b[0m \u001b[1m1s\u001b[0m 6ms/step - loss: 0.2399 - mean_absolute_error: 0.2399 - val_loss: 0.2176 - val_mean_absolute_error: 0.2176\n",
            "Epoch 18/100\n",
            "\u001b[1m90/90\u001b[0m \u001b[32m━━━━━━━━━━━━━━━━━━━━\u001b[0m\u001b[37m\u001b[0m \u001b[1m1s\u001b[0m 5ms/step - loss: 0.2282 - mean_absolute_error: 0.2282 - val_loss: 0.2176 - val_mean_absolute_error: 0.2176\n",
            "Epoch 19/100\n",
            "\u001b[1m90/90\u001b[0m \u001b[32m━━━━━━━━━━━━━━━━━━━━\u001b[0m\u001b[37m\u001b[0m \u001b[1m1s\u001b[0m 5ms/step - loss: 0.2318 - mean_absolute_error: 0.2318 - val_loss: 0.2176 - val_mean_absolute_error: 0.2176\n",
            "Epoch 20/100\n",
            "\u001b[1m90/90\u001b[0m \u001b[32m━━━━━━━━━━━━━━━━━━━━\u001b[0m\u001b[37m\u001b[0m \u001b[1m1s\u001b[0m 5ms/step - loss: 0.2265 - mean_absolute_error: 0.2265 - val_loss: 0.2176 - val_mean_absolute_error: 0.2176\n",
            "Epoch 21/100\n",
            "\u001b[1m90/90\u001b[0m \u001b[32m━━━━━━━━━━━━━━━━━━━━\u001b[0m\u001b[37m\u001b[0m \u001b[1m1s\u001b[0m 5ms/step - loss: 0.2349 - mean_absolute_error: 0.2349 - val_loss: 0.2176 - val_mean_absolute_error: 0.2176\n",
            "Epoch 22/100\n",
            "\u001b[1m90/90\u001b[0m \u001b[32m━━━━━━━━━━━━━━━━━━━━\u001b[0m\u001b[37m\u001b[0m \u001b[1m1s\u001b[0m 6ms/step - loss: 0.2415 - mean_absolute_error: 0.2415 - val_loss: 0.2176 - val_mean_absolute_error: 0.2176\n",
            "Epoch 23/100\n",
            "\u001b[1m90/90\u001b[0m \u001b[32m━━━━━━━━━━━━━━━━━━━━\u001b[0m\u001b[37m\u001b[0m \u001b[1m0s\u001b[0m 5ms/step - loss: 0.2377 - mean_absolute_error: 0.2377 - val_loss: 0.2176 - val_mean_absolute_error: 0.2176\n",
            "Epoch 24/100\n",
            "\u001b[1m90/90\u001b[0m \u001b[32m━━━━━━━━━━━━━━━━━━━━\u001b[0m\u001b[37m\u001b[0m \u001b[1m1s\u001b[0m 5ms/step - loss: 0.2342 - mean_absolute_error: 0.2342 - val_loss: 0.2176 - val_mean_absolute_error: 0.2176\n",
            "Epoch 25/100\n",
            "\u001b[1m90/90\u001b[0m \u001b[32m━━━━━━━━━━━━━━━━━━━━\u001b[0m\u001b[37m\u001b[0m \u001b[1m0s\u001b[0m 5ms/step - loss: 0.2321 - mean_absolute_error: 0.2321 - val_loss: 0.2176 - val_mean_absolute_error: 0.2176\n",
            "Epoch 26/100\n",
            "\u001b[1m90/90\u001b[0m \u001b[32m━━━━━━━━━━━━━━━━━━━━\u001b[0m\u001b[37m\u001b[0m \u001b[1m1s\u001b[0m 5ms/step - loss: 0.2358 - mean_absolute_error: 0.2358 - val_loss: 0.2176 - val_mean_absolute_error: 0.2176\n",
            "Epoch 27/100\n",
            "\u001b[1m90/90\u001b[0m \u001b[32m━━━━━━━━━━━━━━━━━━━━\u001b[0m\u001b[37m\u001b[0m \u001b[1m0s\u001b[0m 5ms/step - loss: 0.2344 - mean_absolute_error: 0.2344 - val_loss: 0.2176 - val_mean_absolute_error: 0.2176\n",
            "Epoch 28/100\n",
            "\u001b[1m90/90\u001b[0m \u001b[32m━━━━━━━━━━━━━━━━━━━━\u001b[0m\u001b[37m\u001b[0m \u001b[1m1s\u001b[0m 6ms/step - loss: 0.2415 - mean_absolute_error: 0.2415 - val_loss: 0.2176 - val_mean_absolute_error: 0.2176\n",
            "Epoch 29/100\n",
            "\u001b[1m90/90\u001b[0m \u001b[32m━━━━━━━━━━━━━━━━━━━━\u001b[0m\u001b[37m\u001b[0m \u001b[1m1s\u001b[0m 9ms/step - loss: 0.2310 - mean_absolute_error: 0.2310 - val_loss: 0.2146 - val_mean_absolute_error: 0.2146\n",
            "Epoch 30/100\n",
            "\u001b[1m90/90\u001b[0m \u001b[32m━━━━━━━━━━━━━━━━━━━━\u001b[0m\u001b[37m\u001b[0m \u001b[1m1s\u001b[0m 10ms/step - loss: 0.2164 - mean_absolute_error: 0.2164 - val_loss: 0.2058 - val_mean_absolute_error: 0.2058\n",
            "Epoch 31/100\n",
            "\u001b[1m90/90\u001b[0m \u001b[32m━━━━━━━━━━━━━━━━━━━━\u001b[0m\u001b[37m\u001b[0m \u001b[1m1s\u001b[0m 7ms/step - loss: 0.1971 - mean_absolute_error: 0.1971 - val_loss: 0.1961 - val_mean_absolute_error: 0.1961\n",
            "Epoch 32/100\n",
            "\u001b[1m90/90\u001b[0m \u001b[32m━━━━━━━━━━━━━━━━━━━━\u001b[0m\u001b[37m\u001b[0m \u001b[1m1s\u001b[0m 6ms/step - loss: 0.1925 - mean_absolute_error: 0.1925 - val_loss: 0.1977 - val_mean_absolute_error: 0.1977\n",
            "Epoch 33/100\n",
            "\u001b[1m90/90\u001b[0m \u001b[32m━━━━━━━━━━━━━━━━━━━━\u001b[0m\u001b[37m\u001b[0m \u001b[1m1s\u001b[0m 5ms/step - loss: 0.1994 - mean_absolute_error: 0.1994 - val_loss: 0.1981 - val_mean_absolute_error: 0.1981\n",
            "Epoch 34/100\n",
            "\u001b[1m90/90\u001b[0m \u001b[32m━━━━━━━━━━━━━━━━━━━━\u001b[0m\u001b[37m\u001b[0m \u001b[1m1s\u001b[0m 6ms/step - loss: 0.1926 - mean_absolute_error: 0.1926 - val_loss: 0.1964 - val_mean_absolute_error: 0.1964\n",
            "Epoch 35/100\n",
            "\u001b[1m90/90\u001b[0m \u001b[32m━━━━━━━━━━━━━━━━━━━━\u001b[0m\u001b[37m\u001b[0m \u001b[1m1s\u001b[0m 6ms/step - loss: 0.1911 - mean_absolute_error: 0.1911 - val_loss: 0.1922 - val_mean_absolute_error: 0.1922\n",
            "Epoch 36/100\n",
            "\u001b[1m90/90\u001b[0m \u001b[32m━━━━━━━━━━━━━━━━━━━━\u001b[0m\u001b[37m\u001b[0m \u001b[1m1s\u001b[0m 5ms/step - loss: 0.1900 - mean_absolute_error: 0.1900 - val_loss: 0.1936 - val_mean_absolute_error: 0.1936\n",
            "Epoch 37/100\n",
            "\u001b[1m90/90\u001b[0m \u001b[32m━━━━━━━━━━━━━━━━━━━━\u001b[0m\u001b[37m\u001b[0m \u001b[1m1s\u001b[0m 6ms/step - loss: 0.1914 - mean_absolute_error: 0.1914 - val_loss: 0.1946 - val_mean_absolute_error: 0.1946\n",
            "Epoch 38/100\n",
            "\u001b[1m90/90\u001b[0m \u001b[32m━━━━━━━━━━━━━━━━━━━━\u001b[0m\u001b[37m\u001b[0m \u001b[1m0s\u001b[0m 5ms/step - loss: 0.1766 - mean_absolute_error: 0.1766 - val_loss: 0.1933 - val_mean_absolute_error: 0.1933\n",
            "Epoch 39/100\n",
            "\u001b[1m90/90\u001b[0m \u001b[32m━━━━━━━━━━━━━━━━━━━━\u001b[0m\u001b[37m\u001b[0m \u001b[1m1s\u001b[0m 5ms/step - loss: 0.1814 - mean_absolute_error: 0.1814 - val_loss: 0.1866 - val_mean_absolute_error: 0.1866\n",
            "Epoch 40/100\n",
            "\u001b[1m90/90\u001b[0m \u001b[32m━━━━━━━━━━━━━━━━━━━━\u001b[0m\u001b[37m\u001b[0m \u001b[1m1s\u001b[0m 5ms/step - loss: 0.1828 - mean_absolute_error: 0.1828 - val_loss: 0.1894 - val_mean_absolute_error: 0.1894\n",
            "Epoch 41/100\n",
            "\u001b[1m90/90\u001b[0m \u001b[32m━━━━━━━━━━━━━━━━━━━━\u001b[0m\u001b[37m\u001b[0m \u001b[1m1s\u001b[0m 5ms/step - loss: 0.1799 - mean_absolute_error: 0.1799 - val_loss: 0.1990 - val_mean_absolute_error: 0.1990\n",
            "Epoch 42/100\n",
            "\u001b[1m90/90\u001b[0m \u001b[32m━━━━━━━━━━━━━━━━━━━━\u001b[0m\u001b[37m\u001b[0m \u001b[1m1s\u001b[0m 6ms/step - loss: 0.1821 - mean_absolute_error: 0.1821 - val_loss: 0.1972 - val_mean_absolute_error: 0.1972\n",
            "Epoch 43/100\n",
            "\u001b[1m90/90\u001b[0m \u001b[32m━━━━━━━━━━━━━━━━━━━━\u001b[0m\u001b[37m\u001b[0m \u001b[1m0s\u001b[0m 5ms/step - loss: 0.1787 - mean_absolute_error: 0.1787 - val_loss: 0.1843 - val_mean_absolute_error: 0.1843\n",
            "Epoch 44/100\n",
            "\u001b[1m90/90\u001b[0m \u001b[32m━━━━━━━━━━━━━━━━━━━━\u001b[0m\u001b[37m\u001b[0m \u001b[1m1s\u001b[0m 5ms/step - loss: 0.1622 - mean_absolute_error: 0.1622 - val_loss: 0.1868 - val_mean_absolute_error: 0.1868\n",
            "Epoch 45/100\n",
            "\u001b[1m90/90\u001b[0m \u001b[32m━━━━━━━━━━━━━━━━━━━━\u001b[0m\u001b[37m\u001b[0m \u001b[1m0s\u001b[0m 5ms/step - loss: 0.1718 - mean_absolute_error: 0.1718 - val_loss: 0.1818 - val_mean_absolute_error: 0.1818\n",
            "Epoch 46/100\n",
            "\u001b[1m90/90\u001b[0m \u001b[32m━━━━━━━━━━━━━━━━━━━━\u001b[0m\u001b[37m\u001b[0m \u001b[1m1s\u001b[0m 5ms/step - loss: 0.1665 - mean_absolute_error: 0.1665 - val_loss: 0.1853 - val_mean_absolute_error: 0.1853\n",
            "Epoch 47/100\n",
            "\u001b[1m90/90\u001b[0m \u001b[32m━━━━━━━━━━━━━━━━━━━━\u001b[0m\u001b[37m\u001b[0m \u001b[1m1s\u001b[0m 5ms/step - loss: 0.1698 - mean_absolute_error: 0.1698 - val_loss: 0.1844 - val_mean_absolute_error: 0.1844\n",
            "Epoch 48/100\n",
            "\u001b[1m90/90\u001b[0m \u001b[32m━━━━━━━━━━━━━━━━━━━━\u001b[0m\u001b[37m\u001b[0m \u001b[1m1s\u001b[0m 10ms/step - loss: 0.1745 - mean_absolute_error: 0.1745 - val_loss: 0.1878 - val_mean_absolute_error: 0.1878\n",
            "Epoch 49/100\n",
            "\u001b[1m90/90\u001b[0m \u001b[32m━━━━━━━━━━━━━━━━━━━━\u001b[0m\u001b[37m\u001b[0m \u001b[1m1s\u001b[0m 10ms/step - loss: 0.1756 - mean_absolute_error: 0.1756 - val_loss: 0.1877 - val_mean_absolute_error: 0.1877\n",
            "Epoch 50/100\n",
            "\u001b[1m90/90\u001b[0m \u001b[32m━━━━━━━━━━━━━━━━━━━━\u001b[0m\u001b[37m\u001b[0m \u001b[1m1s\u001b[0m 9ms/step - loss: 0.1698 - mean_absolute_error: 0.1698 - val_loss: 0.1819 - val_mean_absolute_error: 0.1819\n",
            "Epoch 51/100\n",
            "\u001b[1m90/90\u001b[0m \u001b[32m━━━━━━━━━━━━━━━━━━━━\u001b[0m\u001b[37m\u001b[0m \u001b[1m1s\u001b[0m 10ms/step - loss: 0.1637 - mean_absolute_error: 0.1637 - val_loss: 0.1866 - val_mean_absolute_error: 0.1866\n",
            "Epoch 52/100\n",
            "\u001b[1m90/90\u001b[0m \u001b[32m━━━━━━━━━━━━━━━━━━━━\u001b[0m\u001b[37m\u001b[0m \u001b[1m1s\u001b[0m 5ms/step - loss: 0.1700 - mean_absolute_error: 0.1700 - val_loss: 0.1825 - val_mean_absolute_error: 0.1825\n",
            "Epoch 53/100\n",
            "\u001b[1m90/90\u001b[0m \u001b[32m━━━━━━━━━━━━━━━━━━━━\u001b[0m\u001b[37m\u001b[0m \u001b[1m1s\u001b[0m 5ms/step - loss: 0.1641 - mean_absolute_error: 0.1641 - val_loss: 0.1820 - val_mean_absolute_error: 0.1820\n",
            "Epoch 54/100\n",
            "\u001b[1m90/90\u001b[0m \u001b[32m━━━━━━━━━━━━━━━━━━━━\u001b[0m\u001b[37m\u001b[0m \u001b[1m1s\u001b[0m 5ms/step - loss: 0.1551 - mean_absolute_error: 0.1551 - val_loss: 0.1827 - val_mean_absolute_error: 0.1827\n",
            "Epoch 55/100\n",
            "\u001b[1m90/90\u001b[0m \u001b[32m━━━━━━━━━━━━━━━━━━━━\u001b[0m\u001b[37m\u001b[0m \u001b[1m1s\u001b[0m 6ms/step - loss: 0.1591 - mean_absolute_error: 0.1591 - val_loss: 0.1801 - val_mean_absolute_error: 0.1801\n",
            "Epoch 56/100\n",
            "\u001b[1m90/90\u001b[0m \u001b[32m━━━━━━━━━━━━━━━━━━━━\u001b[0m\u001b[37m\u001b[0m \u001b[1m0s\u001b[0m 5ms/step - loss: 0.1684 - mean_absolute_error: 0.1684 - val_loss: 0.1984 - val_mean_absolute_error: 0.1984\n",
            "Epoch 57/100\n",
            "\u001b[1m90/90\u001b[0m \u001b[32m━━━━━━━━━━━━━━━━━━━━\u001b[0m\u001b[37m\u001b[0m \u001b[1m1s\u001b[0m 6ms/step - loss: 0.1615 - mean_absolute_error: 0.1615 - val_loss: 0.1885 - val_mean_absolute_error: 0.1885\n",
            "Epoch 58/100\n",
            "\u001b[1m90/90\u001b[0m \u001b[32m━━━━━━━━━━━━━━━━━━━━\u001b[0m\u001b[37m\u001b[0m \u001b[1m1s\u001b[0m 5ms/step - loss: 0.1535 - mean_absolute_error: 0.1535 - val_loss: 0.1819 - val_mean_absolute_error: 0.1819\n",
            "Epoch 59/100\n",
            "\u001b[1m90/90\u001b[0m \u001b[32m━━━━━━━━━━━━━━━━━━━━\u001b[0m\u001b[37m\u001b[0m \u001b[1m1s\u001b[0m 5ms/step - loss: 0.1595 - mean_absolute_error: 0.1595 - val_loss: 0.1838 - val_mean_absolute_error: 0.1838\n",
            "Epoch 60/100\n",
            "\u001b[1m90/90\u001b[0m \u001b[32m━━━━━━━━━━━━━━━━━━━━\u001b[0m\u001b[37m\u001b[0m \u001b[1m1s\u001b[0m 5ms/step - loss: 0.1585 - mean_absolute_error: 0.1585 - val_loss: 0.1825 - val_mean_absolute_error: 0.1825\n",
            "Epoch 61/100\n",
            "\u001b[1m90/90\u001b[0m \u001b[32m━━━━━━━━━━━━━━━━━━━━\u001b[0m\u001b[37m\u001b[0m \u001b[1m1s\u001b[0m 5ms/step - loss: 0.1597 - mean_absolute_error: 0.1597 - val_loss: 0.1833 - val_mean_absolute_error: 0.1833\n",
            "Epoch 62/100\n",
            "\u001b[1m90/90\u001b[0m \u001b[32m━━━━━━━━━━━━━━━━━━━━\u001b[0m\u001b[37m\u001b[0m \u001b[1m1s\u001b[0m 6ms/step - loss: 0.1564 - mean_absolute_error: 0.1564 - val_loss: 0.1829 - val_mean_absolute_error: 0.1829\n",
            "Epoch 63/100\n",
            "\u001b[1m90/90\u001b[0m \u001b[32m━━━━━━━━━━━━━━━━━━━━\u001b[0m\u001b[37m\u001b[0m \u001b[1m1s\u001b[0m 5ms/step - loss: 0.1528 - mean_absolute_error: 0.1528 - val_loss: 0.1836 - val_mean_absolute_error: 0.1836\n",
            "Epoch 64/100\n",
            "\u001b[1m90/90\u001b[0m \u001b[32m━━━━━━━━━━━━━━━━━━━━\u001b[0m\u001b[37m\u001b[0m \u001b[1m1s\u001b[0m 6ms/step - loss: 0.1581 - mean_absolute_error: 0.1581 - val_loss: 0.1871 - val_mean_absolute_error: 0.1871\n",
            "Epoch 65/100\n",
            "\u001b[1m90/90\u001b[0m \u001b[32m━━━━━━━━━━━━━━━━━━━━\u001b[0m\u001b[37m\u001b[0m \u001b[1m1s\u001b[0m 5ms/step - loss: 0.1542 - mean_absolute_error: 0.1542 - val_loss: 0.1837 - val_mean_absolute_error: 0.1837\n",
            "Epoch 66/100\n",
            "\u001b[1m90/90\u001b[0m \u001b[32m━━━━━━━━━━━━━━━━━━━━\u001b[0m\u001b[37m\u001b[0m \u001b[1m1s\u001b[0m 6ms/step - loss: 0.1472 - mean_absolute_error: 0.1472 - val_loss: 0.1889 - val_mean_absolute_error: 0.1889\n",
            "Epoch 67/100\n",
            "\u001b[1m90/90\u001b[0m \u001b[32m━━━━━━━━━━━━━━━━━━━━\u001b[0m\u001b[37m\u001b[0m \u001b[1m1s\u001b[0m 5ms/step - loss: 0.1526 - mean_absolute_error: 0.1526 - val_loss: 0.1955 - val_mean_absolute_error: 0.1955\n",
            "Epoch 68/100\n",
            "\u001b[1m90/90\u001b[0m \u001b[32m━━━━━━━━━━━━━━━━━━━━\u001b[0m\u001b[37m\u001b[0m \u001b[1m1s\u001b[0m 8ms/step - loss: 0.1500 - mean_absolute_error: 0.1500 - val_loss: 0.1874 - val_mean_absolute_error: 0.1874\n",
            "Epoch 69/100\n",
            "\u001b[1m90/90\u001b[0m \u001b[32m━━━━━━━━━━━━━━━━━━━━\u001b[0m\u001b[37m\u001b[0m \u001b[1m1s\u001b[0m 9ms/step - loss: 0.1582 - mean_absolute_error: 0.1582 - val_loss: 0.1830 - val_mean_absolute_error: 0.1830\n",
            "Epoch 70/100\n",
            "\u001b[1m90/90\u001b[0m \u001b[32m━━━━━━━━━━━━━━━━━━━━\u001b[0m\u001b[37m\u001b[0m \u001b[1m1s\u001b[0m 10ms/step - loss: 0.1472 - mean_absolute_error: 0.1472 - val_loss: 0.1867 - val_mean_absolute_error: 0.1867\n",
            "Epoch 71/100\n",
            "\u001b[1m90/90\u001b[0m \u001b[32m━━━━━━━━━━━━━━━━━━━━\u001b[0m\u001b[37m\u001b[0m \u001b[1m1s\u001b[0m 6ms/step - loss: 0.1470 - mean_absolute_error: 0.1470 - val_loss: 0.1860 - val_mean_absolute_error: 0.1860\n",
            "Epoch 72/100\n",
            "\u001b[1m90/90\u001b[0m \u001b[32m━━━━━━━━━━━━━━━━━━━━\u001b[0m\u001b[37m\u001b[0m \u001b[1m1s\u001b[0m 5ms/step - loss: 0.1468 - mean_absolute_error: 0.1468 - val_loss: 0.1839 - val_mean_absolute_error: 0.1839\n",
            "Epoch 73/100\n",
            "\u001b[1m90/90\u001b[0m \u001b[32m━━━━━━━━━━━━━━━━━━━━\u001b[0m\u001b[37m\u001b[0m \u001b[1m1s\u001b[0m 5ms/step - loss: 0.1441 - mean_absolute_error: 0.1441 - val_loss: 0.1837 - val_mean_absolute_error: 0.1837\n",
            "Epoch 74/100\n",
            "\u001b[1m90/90\u001b[0m \u001b[32m━━━━━━━━━━━━━━━━━━━━\u001b[0m\u001b[37m\u001b[0m \u001b[1m1s\u001b[0m 6ms/step - loss: 0.1410 - mean_absolute_error: 0.1410 - val_loss: 0.1885 - val_mean_absolute_error: 0.1885\n",
            "Epoch 75/100\n",
            "\u001b[1m90/90\u001b[0m \u001b[32m━━━━━━━━━━━━━━━━━━━━\u001b[0m\u001b[37m\u001b[0m \u001b[1m1s\u001b[0m 5ms/step - loss: 0.1473 - mean_absolute_error: 0.1473 - val_loss: 0.1827 - val_mean_absolute_error: 0.1827\n",
            "Epoch 76/100\n",
            "\u001b[1m90/90\u001b[0m \u001b[32m━━━━━━━━━━━━━━━━━━━━\u001b[0m\u001b[37m\u001b[0m \u001b[1m1s\u001b[0m 5ms/step - loss: 0.1455 - mean_absolute_error: 0.1455 - val_loss: 0.1933 - val_mean_absolute_error: 0.1933\n",
            "Epoch 77/100\n",
            "\u001b[1m90/90\u001b[0m \u001b[32m━━━━━━━━━━━━━━━━━━━━\u001b[0m\u001b[37m\u001b[0m \u001b[1m1s\u001b[0m 5ms/step - loss: 0.1533 - mean_absolute_error: 0.1533 - val_loss: 0.1831 - val_mean_absolute_error: 0.1831\n",
            "Epoch 78/100\n",
            "\u001b[1m90/90\u001b[0m \u001b[32m━━━━━━━━━━━━━━━━━━━━\u001b[0m\u001b[37m\u001b[0m \u001b[1m1s\u001b[0m 5ms/step - loss: 0.1442 - mean_absolute_error: 0.1442 - val_loss: 0.1801 - val_mean_absolute_error: 0.1801\n",
            "Epoch 79/100\n",
            "\u001b[1m90/90\u001b[0m \u001b[32m━━━━━━━━━━━━━━━━━━━━\u001b[0m\u001b[37m\u001b[0m \u001b[1m1s\u001b[0m 7ms/step - loss: 0.1397 - mean_absolute_error: 0.1397 - val_loss: 0.1861 - val_mean_absolute_error: 0.1861\n",
            "Epoch 80/100\n",
            "\u001b[1m90/90\u001b[0m \u001b[32m━━━━━━━━━━━━━━━━━━━━\u001b[0m\u001b[37m\u001b[0m \u001b[1m1s\u001b[0m 5ms/step - loss: 0.1362 - mean_absolute_error: 0.1362 - val_loss: 0.1832 - val_mean_absolute_error: 0.1832\n",
            "Epoch 81/100\n",
            "\u001b[1m90/90\u001b[0m \u001b[32m━━━━━━━━━━━━━━━━━━━━\u001b[0m\u001b[37m\u001b[0m \u001b[1m1s\u001b[0m 6ms/step - loss: 0.1350 - mean_absolute_error: 0.1350 - val_loss: 0.1869 - val_mean_absolute_error: 0.1869\n",
            "Epoch 82/100\n",
            "\u001b[1m90/90\u001b[0m \u001b[32m━━━━━━━━━━━━━━━━━━━━\u001b[0m\u001b[37m\u001b[0m \u001b[1m1s\u001b[0m 5ms/step - loss: 0.1451 - mean_absolute_error: 0.1451 - val_loss: 0.1850 - val_mean_absolute_error: 0.1850\n",
            "Epoch 83/100\n",
            "\u001b[1m90/90\u001b[0m \u001b[32m━━━━━━━━━━━━━━━━━━━━\u001b[0m\u001b[37m\u001b[0m \u001b[1m1s\u001b[0m 5ms/step - loss: 0.1385 - mean_absolute_error: 0.1385 - val_loss: 0.1848 - val_mean_absolute_error: 0.1848\n",
            "Epoch 84/100\n",
            "\u001b[1m90/90\u001b[0m \u001b[32m━━━━━━━━━━━━━━━━━━━━\u001b[0m\u001b[37m\u001b[0m \u001b[1m1s\u001b[0m 5ms/step - loss: 0.1491 - mean_absolute_error: 0.1491 - val_loss: 0.1824 - val_mean_absolute_error: 0.1824\n",
            "Epoch 85/100\n",
            "\u001b[1m90/90\u001b[0m \u001b[32m━━━━━━━━━━━━━━━━━━━━\u001b[0m\u001b[37m\u001b[0m \u001b[1m1s\u001b[0m 5ms/step - loss: 0.1429 - mean_absolute_error: 0.1429 - val_loss: 0.1809 - val_mean_absolute_error: 0.1809\n",
            "Epoch 86/100\n",
            "\u001b[1m90/90\u001b[0m \u001b[32m━━━━━━━━━━━━━━━━━━━━\u001b[0m\u001b[37m\u001b[0m \u001b[1m0s\u001b[0m 5ms/step - loss: 0.1440 - mean_absolute_error: 0.1440 - val_loss: 0.1820 - val_mean_absolute_error: 0.1820\n",
            "Epoch 87/100\n",
            "\u001b[1m90/90\u001b[0m \u001b[32m━━━━━━━━━━━━━━━━━━━━\u001b[0m\u001b[37m\u001b[0m \u001b[1m1s\u001b[0m 8ms/step - loss: 0.1365 - mean_absolute_error: 0.1365 - val_loss: 0.1872 - val_mean_absolute_error: 0.1872\n",
            "Epoch 88/100\n",
            "\u001b[1m90/90\u001b[0m \u001b[32m━━━━━━━━━━━━━━━━━━━━\u001b[0m\u001b[37m\u001b[0m \u001b[1m1s\u001b[0m 10ms/step - loss: 0.1320 - mean_absolute_error: 0.1320 - val_loss: 0.1817 - val_mean_absolute_error: 0.1817\n",
            "Epoch 89/100\n",
            "\u001b[1m90/90\u001b[0m \u001b[32m━━━━━━━━━━━━━━━━━━━━\u001b[0m\u001b[37m\u001b[0m \u001b[1m1s\u001b[0m 10ms/step - loss: 0.1349 - mean_absolute_error: 0.1349 - val_loss: 0.1850 - val_mean_absolute_error: 0.1850\n",
            "Epoch 90/100\n",
            "\u001b[1m90/90\u001b[0m \u001b[32m━━━━━━━━━━━━━━━━━━━━\u001b[0m\u001b[37m\u001b[0m \u001b[1m1s\u001b[0m 5ms/step - loss: 0.1404 - mean_absolute_error: 0.1404 - val_loss: 0.1995 - val_mean_absolute_error: 0.1995\n",
            "Epoch 91/100\n",
            "\u001b[1m90/90\u001b[0m \u001b[32m━━━━━━━━━━━━━━━━━━━━\u001b[0m\u001b[37m\u001b[0m \u001b[1m1s\u001b[0m 5ms/step - loss: 0.1389 - mean_absolute_error: 0.1389 - val_loss: 0.1873 - val_mean_absolute_error: 0.1873\n",
            "Epoch 92/100\n",
            "\u001b[1m90/90\u001b[0m \u001b[32m━━━━━━━━━━━━━━━━━━━━\u001b[0m\u001b[37m\u001b[0m \u001b[1m1s\u001b[0m 5ms/step - loss: 0.1414 - mean_absolute_error: 0.1414 - val_loss: 0.1825 - val_mean_absolute_error: 0.1825\n",
            "Epoch 93/100\n",
            "\u001b[1m90/90\u001b[0m \u001b[32m━━━━━━━━━━━━━━━━━━━━\u001b[0m\u001b[37m\u001b[0m \u001b[1m1s\u001b[0m 5ms/step - loss: 0.1365 - mean_absolute_error: 0.1365 - val_loss: 0.1856 - val_mean_absolute_error: 0.1856\n",
            "Epoch 94/100\n",
            "\u001b[1m90/90\u001b[0m \u001b[32m━━━━━━━━━━━━━━━━━━━━\u001b[0m\u001b[37m\u001b[0m \u001b[1m1s\u001b[0m 5ms/step - loss: 0.1595 - mean_absolute_error: 0.1595 - val_loss: 0.1833 - val_mean_absolute_error: 0.1833\n",
            "Epoch 95/100\n",
            "\u001b[1m90/90\u001b[0m \u001b[32m━━━━━━━━━━━━━━━━━━━━\u001b[0m\u001b[37m\u001b[0m \u001b[1m1s\u001b[0m 5ms/step - loss: 0.1438 - mean_absolute_error: 0.1438 - val_loss: 0.1818 - val_mean_absolute_error: 0.1818\n",
            "Epoch 96/100\n",
            "\u001b[1m90/90\u001b[0m \u001b[32m━━━━━━━━━━━━━━━━━━━━\u001b[0m\u001b[37m\u001b[0m \u001b[1m1s\u001b[0m 5ms/step - loss: 0.1403 - mean_absolute_error: 0.1403 - val_loss: 0.1811 - val_mean_absolute_error: 0.1811\n",
            "Epoch 97/100\n",
            "\u001b[1m90/90\u001b[0m \u001b[32m━━━━━━━━━━━━━━━━━━━━\u001b[0m\u001b[37m\u001b[0m \u001b[1m1s\u001b[0m 5ms/step - loss: 0.1408 - mean_absolute_error: 0.1408 - val_loss: 0.1954 - val_mean_absolute_error: 0.1954\n",
            "Epoch 98/100\n",
            "\u001b[1m90/90\u001b[0m \u001b[32m━━━━━━━━━━━━━━━━━━━━\u001b[0m\u001b[37m\u001b[0m \u001b[1m1s\u001b[0m 6ms/step - loss: 0.1441 - mean_absolute_error: 0.1441 - val_loss: 0.1952 - val_mean_absolute_error: 0.1952\n",
            "Epoch 99/100\n",
            "\u001b[1m90/90\u001b[0m \u001b[32m━━━━━━━━━━━━━━━━━━━━\u001b[0m\u001b[37m\u001b[0m \u001b[1m1s\u001b[0m 5ms/step - loss: 0.1514 - mean_absolute_error: 0.1514 - val_loss: 0.1811 - val_mean_absolute_error: 0.1811\n",
            "Epoch 100/100\n",
            "\u001b[1m90/90\u001b[0m \u001b[32m━━━━━━━━━━━━━━━━━━━━\u001b[0m\u001b[37m\u001b[0m \u001b[1m1s\u001b[0m 5ms/step - loss: 0.1398 - mean_absolute_error: 0.1398 - val_loss: 0.1792 - val_mean_absolute_error: 0.1792\n",
            "\u001b[1m39/39\u001b[0m \u001b[32m━━━━━━━━━━━━━━━━━━━━\u001b[0m\u001b[37m\u001b[0m \u001b[1m0s\u001b[0m 3ms/step\n",
            "Epoch 1/100\n"
          ]
        },
        {
          "output_type": "stream",
          "name": "stderr",
          "text": [
            "/usr/local/lib/python3.10/dist-packages/keras/src/layers/core/dense.py:87: UserWarning: Do not pass an `input_shape`/`input_dim` argument to a layer. When using Sequential models, prefer using an `Input(shape)` object as the first layer in the model instead.\n",
            "  super().__init__(activity_regularizer=activity_regularizer, **kwargs)\n"
          ]
        },
        {
          "output_type": "stream",
          "name": "stdout",
          "text": [
            "\u001b[1m90/90\u001b[0m \u001b[32m━━━━━━━━━━━━━━━━━━━━\u001b[0m\u001b[37m\u001b[0m \u001b[1m2s\u001b[0m 7ms/step - loss: 0.2447 - mean_absolute_error: 0.2447 - val_loss: 0.2177 - val_mean_absolute_error: 0.2177\n",
            "Epoch 2/100\n",
            "\u001b[1m90/90\u001b[0m \u001b[32m━━━━━━━━━━━━━━━━━━━━\u001b[0m\u001b[37m\u001b[0m \u001b[1m1s\u001b[0m 5ms/step - loss: 0.2368 - mean_absolute_error: 0.2368 - val_loss: 0.2177 - val_mean_absolute_error: 0.2177\n",
            "Epoch 3/100\n",
            "\u001b[1m90/90\u001b[0m \u001b[32m━━━━━━━━━━━━━━━━━━━━\u001b[0m\u001b[37m\u001b[0m \u001b[1m1s\u001b[0m 6ms/step - loss: 0.2288 - mean_absolute_error: 0.2288 - val_loss: 0.2176 - val_mean_absolute_error: 0.2176\n",
            "Epoch 4/100\n",
            "\u001b[1m90/90\u001b[0m \u001b[32m━━━━━━━━━━━━━━━━━━━━\u001b[0m\u001b[37m\u001b[0m \u001b[1m1s\u001b[0m 9ms/step - loss: 0.2396 - mean_absolute_error: 0.2396 - val_loss: 0.2176 - val_mean_absolute_error: 0.2176\n",
            "Epoch 5/100\n",
            "\u001b[1m90/90\u001b[0m \u001b[32m━━━━━━━━━━━━━━━━━━━━\u001b[0m\u001b[37m\u001b[0m \u001b[1m1s\u001b[0m 10ms/step - loss: 0.2361 - mean_absolute_error: 0.2361 - val_loss: 0.2176 - val_mean_absolute_error: 0.2176\n",
            "Epoch 6/100\n",
            "\u001b[1m90/90\u001b[0m \u001b[32m━━━━━━━━━━━━━━━━━━━━\u001b[0m\u001b[37m\u001b[0m \u001b[1m1s\u001b[0m 9ms/step - loss: 0.2245 - mean_absolute_error: 0.2245 - val_loss: 0.2176 - val_mean_absolute_error: 0.2176\n",
            "Epoch 7/100\n",
            "\u001b[1m90/90\u001b[0m \u001b[32m━━━━━━━━━━━━━━━━━━━━\u001b[0m\u001b[37m\u001b[0m \u001b[1m1s\u001b[0m 5ms/step - loss: 0.2317 - mean_absolute_error: 0.2317 - val_loss: 0.2176 - val_mean_absolute_error: 0.2176\n",
            "Epoch 8/100\n",
            "\u001b[1m90/90\u001b[0m \u001b[32m━━━━━━━━━━━━━━━━━━━━\u001b[0m\u001b[37m\u001b[0m \u001b[1m1s\u001b[0m 6ms/step - loss: 0.2253 - mean_absolute_error: 0.2253 - val_loss: 0.2176 - val_mean_absolute_error: 0.2176\n",
            "Epoch 9/100\n",
            "\u001b[1m90/90\u001b[0m \u001b[32m━━━━━━━━━━━━━━━━━━━━\u001b[0m\u001b[37m\u001b[0m \u001b[1m1s\u001b[0m 5ms/step - loss: 0.2369 - mean_absolute_error: 0.2369 - val_loss: 0.2176 - val_mean_absolute_error: 0.2176\n",
            "Epoch 10/100\n",
            "\u001b[1m90/90\u001b[0m \u001b[32m━━━━━━━━━━━━━━━━━━━━\u001b[0m\u001b[37m\u001b[0m \u001b[1m1s\u001b[0m 5ms/step - loss: 0.2347 - mean_absolute_error: 0.2347 - val_loss: 0.2176 - val_mean_absolute_error: 0.2176\n",
            "Epoch 11/100\n",
            "\u001b[1m90/90\u001b[0m \u001b[32m━━━━━━━━━━━━━━━━━━━━\u001b[0m\u001b[37m\u001b[0m \u001b[1m1s\u001b[0m 6ms/step - loss: 0.2276 - mean_absolute_error: 0.2276 - val_loss: 0.2176 - val_mean_absolute_error: 0.2176\n",
            "Epoch 12/100\n",
            "\u001b[1m90/90\u001b[0m \u001b[32m━━━━━━━━━━━━━━━━━━━━\u001b[0m\u001b[37m\u001b[0m \u001b[1m0s\u001b[0m 5ms/step - loss: 0.2421 - mean_absolute_error: 0.2421 - val_loss: 0.2176 - val_mean_absolute_error: 0.2176\n",
            "Epoch 13/100\n",
            "\u001b[1m90/90\u001b[0m \u001b[32m━━━━━━━━━━━━━━━━━━━━\u001b[0m\u001b[37m\u001b[0m \u001b[1m1s\u001b[0m 6ms/step - loss: 0.2374 - mean_absolute_error: 0.2374 - val_loss: 0.2176 - val_mean_absolute_error: 0.2176\n",
            "Epoch 14/100\n",
            "\u001b[1m90/90\u001b[0m \u001b[32m━━━━━━━━━━━━━━━━━━━━\u001b[0m\u001b[37m\u001b[0m \u001b[1m1s\u001b[0m 5ms/step - loss: 0.2261 - mean_absolute_error: 0.2261 - val_loss: 0.2176 - val_mean_absolute_error: 0.2176\n",
            "Epoch 15/100\n",
            "\u001b[1m90/90\u001b[0m \u001b[32m━━━━━━━━━━━━━━━━━━━━\u001b[0m\u001b[37m\u001b[0m \u001b[1m1s\u001b[0m 5ms/step - loss: 0.2322 - mean_absolute_error: 0.2322 - val_loss: 0.2176 - val_mean_absolute_error: 0.2176\n",
            "Epoch 16/100\n",
            "\u001b[1m90/90\u001b[0m \u001b[32m━━━━━━━━━━━━━━━━━━━━\u001b[0m\u001b[37m\u001b[0m \u001b[1m1s\u001b[0m 5ms/step - loss: 0.2239 - mean_absolute_error: 0.2239 - val_loss: 0.2176 - val_mean_absolute_error: 0.2176\n",
            "Epoch 17/100\n",
            "\u001b[1m90/90\u001b[0m \u001b[32m━━━━━━━━━━━━━━━━━━━━\u001b[0m\u001b[37m\u001b[0m \u001b[1m1s\u001b[0m 5ms/step - loss: 0.2381 - mean_absolute_error: 0.2381 - val_loss: 0.2176 - val_mean_absolute_error: 0.2176\n",
            "Epoch 18/100\n",
            "\u001b[1m90/90\u001b[0m \u001b[32m━━━━━━━━━━━━━━━━━━━━\u001b[0m\u001b[37m\u001b[0m \u001b[1m1s\u001b[0m 5ms/step - loss: 0.2377 - mean_absolute_error: 0.2377 - val_loss: 0.2176 - val_mean_absolute_error: 0.2176\n",
            "Epoch 19/100\n",
            "\u001b[1m90/90\u001b[0m \u001b[32m━━━━━━━━━━━━━━━━━━━━\u001b[0m\u001b[37m\u001b[0m \u001b[1m1s\u001b[0m 5ms/step - loss: 0.2385 - mean_absolute_error: 0.2385 - val_loss: 0.2176 - val_mean_absolute_error: 0.2176\n",
            "Epoch 20/100\n",
            "\u001b[1m90/90\u001b[0m \u001b[32m━━━━━━━━━━━━━━━━━━━━\u001b[0m\u001b[37m\u001b[0m \u001b[1m1s\u001b[0m 6ms/step - loss: 0.2261 - mean_absolute_error: 0.2261 - val_loss: 0.2176 - val_mean_absolute_error: 0.2176\n",
            "Epoch 21/100\n",
            "\u001b[1m90/90\u001b[0m \u001b[32m━━━━━━━━━━━━━━━━━━━━\u001b[0m\u001b[37m\u001b[0m \u001b[1m1s\u001b[0m 6ms/step - loss: 0.2314 - mean_absolute_error: 0.2314 - val_loss: 0.2176 - val_mean_absolute_error: 0.2176\n",
            "Epoch 22/100\n",
            "\u001b[1m90/90\u001b[0m \u001b[32m━━━━━━━━━━━━━━━━━━━━\u001b[0m\u001b[37m\u001b[0m \u001b[1m0s\u001b[0m 5ms/step - loss: 0.2276 - mean_absolute_error: 0.2276 - val_loss: 0.2176 - val_mean_absolute_error: 0.2176\n",
            "Epoch 23/100\n",
            "\u001b[1m90/90\u001b[0m \u001b[32m━━━━━━━━━━━━━━━━━━━━\u001b[0m\u001b[37m\u001b[0m \u001b[1m1s\u001b[0m 5ms/step - loss: 0.2409 - mean_absolute_error: 0.2409 - val_loss: 0.2176 - val_mean_absolute_error: 0.2176\n",
            "Epoch 24/100\n",
            "\u001b[1m90/90\u001b[0m \u001b[32m━━━━━━━━━━━━━━━━━━━━\u001b[0m\u001b[37m\u001b[0m \u001b[1m1s\u001b[0m 9ms/step - loss: 0.2401 - mean_absolute_error: 0.2401 - val_loss: 0.2176 - val_mean_absolute_error: 0.2176\n",
            "Epoch 25/100\n",
            "\u001b[1m90/90\u001b[0m \u001b[32m━━━━━━━━━━━━━━━━━━━━\u001b[0m\u001b[37m\u001b[0m \u001b[1m1s\u001b[0m 9ms/step - loss: 0.2325 - mean_absolute_error: 0.2325 - val_loss: 0.2176 - val_mean_absolute_error: 0.2176\n",
            "Epoch 26/100\n",
            "\u001b[1m90/90\u001b[0m \u001b[32m━━━━━━━━━━━━━━━━━━━━\u001b[0m\u001b[37m\u001b[0m \u001b[1m1s\u001b[0m 10ms/step - loss: 0.2449 - mean_absolute_error: 0.2449 - val_loss: 0.2176 - val_mean_absolute_error: 0.2176\n",
            "Epoch 27/100\n",
            "\u001b[1m90/90\u001b[0m \u001b[32m━━━━━━━━━━━━━━━━━━━━\u001b[0m\u001b[37m\u001b[0m \u001b[1m1s\u001b[0m 10ms/step - loss: 0.2345 - mean_absolute_error: 0.2345 - val_loss: 0.2176 - val_mean_absolute_error: 0.2176\n",
            "Epoch 28/100\n",
            "\u001b[1m90/90\u001b[0m \u001b[32m━━━━━━━━━━━━━━━━━━━━\u001b[0m\u001b[37m\u001b[0m \u001b[1m1s\u001b[0m 5ms/step - loss: 0.2315 - mean_absolute_error: 0.2315 - val_loss: 0.2176 - val_mean_absolute_error: 0.2176\n",
            "Epoch 29/100\n",
            "\u001b[1m90/90\u001b[0m \u001b[32m━━━━━━━━━━━━━━━━━━━━\u001b[0m\u001b[37m\u001b[0m \u001b[1m1s\u001b[0m 5ms/step - loss: 0.2256 - mean_absolute_error: 0.2256 - val_loss: 0.2176 - val_mean_absolute_error: 0.2176\n",
            "Epoch 30/100\n",
            "\u001b[1m90/90\u001b[0m \u001b[32m━━━━━━━━━━━━━━━━━━━━\u001b[0m\u001b[37m\u001b[0m \u001b[1m0s\u001b[0m 5ms/step - loss: 0.2330 - mean_absolute_error: 0.2330 - val_loss: 0.2176 - val_mean_absolute_error: 0.2176\n",
            "Epoch 31/100\n",
            "\u001b[1m90/90\u001b[0m \u001b[32m━━━━━━━━━━━━━━━━━━━━\u001b[0m\u001b[37m\u001b[0m \u001b[1m1s\u001b[0m 5ms/step - loss: 0.2252 - mean_absolute_error: 0.2252 - val_loss: 0.2176 - val_mean_absolute_error: 0.2176\n",
            "Epoch 32/100\n",
            "\u001b[1m90/90\u001b[0m \u001b[32m━━━━━━━━━━━━━━━━━━━━\u001b[0m\u001b[37m\u001b[0m \u001b[1m1s\u001b[0m 5ms/step - loss: 0.2412 - mean_absolute_error: 0.2412 - val_loss: 0.2176 - val_mean_absolute_error: 0.2176\n",
            "Epoch 33/100\n",
            "\u001b[1m90/90\u001b[0m \u001b[32m━━━━━━━━━━━━━━━━━━━━\u001b[0m\u001b[37m\u001b[0m \u001b[1m0s\u001b[0m 5ms/step - loss: 0.2296 - mean_absolute_error: 0.2296 - val_loss: 0.2176 - val_mean_absolute_error: 0.2176\n",
            "Epoch 34/100\n",
            "\u001b[1m90/90\u001b[0m \u001b[32m━━━━━━━━━━━━━━━━━━━━\u001b[0m\u001b[37m\u001b[0m \u001b[1m0s\u001b[0m 5ms/step - loss: 0.2383 - mean_absolute_error: 0.2383 - val_loss: 0.2176 - val_mean_absolute_error: 0.2176\n",
            "Epoch 35/100\n",
            "\u001b[1m90/90\u001b[0m \u001b[32m━━━━━━━━━━━━━━━━━━━━\u001b[0m\u001b[37m\u001b[0m \u001b[1m1s\u001b[0m 5ms/step - loss: 0.2303 - mean_absolute_error: 0.2303 - val_loss: 0.2176 - val_mean_absolute_error: 0.2176\n",
            "Epoch 36/100\n",
            "\u001b[1m90/90\u001b[0m \u001b[32m━━━━━━━━━━━━━━━━━━━━\u001b[0m\u001b[37m\u001b[0m \u001b[1m1s\u001b[0m 5ms/step - loss: 0.2311 - mean_absolute_error: 0.2311 - val_loss: 0.2176 - val_mean_absolute_error: 0.2176\n",
            "Epoch 37/100\n",
            "\u001b[1m90/90\u001b[0m \u001b[32m━━━━━━━━━━━━━━━━━━━━\u001b[0m\u001b[37m\u001b[0m \u001b[1m0s\u001b[0m 5ms/step - loss: 0.2357 - mean_absolute_error: 0.2357 - val_loss: 0.2176 - val_mean_absolute_error: 0.2176\n",
            "Epoch 38/100\n",
            "\u001b[1m90/90\u001b[0m \u001b[32m━━━━━━━━━━━━━━━━━━━━\u001b[0m\u001b[37m\u001b[0m \u001b[1m1s\u001b[0m 6ms/step - loss: 0.2320 - mean_absolute_error: 0.2320 - val_loss: 0.2176 - val_mean_absolute_error: 0.2176\n",
            "Epoch 39/100\n",
            "\u001b[1m90/90\u001b[0m \u001b[32m━━━━━━━━━━━━━━━━━━━━\u001b[0m\u001b[37m\u001b[0m \u001b[1m1s\u001b[0m 5ms/step - loss: 0.2312 - mean_absolute_error: 0.2312 - val_loss: 0.2176 - val_mean_absolute_error: 0.2176\n",
            "Epoch 40/100\n",
            "\u001b[1m90/90\u001b[0m \u001b[32m━━━━━━━━━━━━━━━━━━━━\u001b[0m\u001b[37m\u001b[0m \u001b[1m1s\u001b[0m 5ms/step - loss: 0.2400 - mean_absolute_error: 0.2400 - val_loss: 0.2176 - val_mean_absolute_error: 0.2176\n",
            "Epoch 41/100\n",
            "\u001b[1m90/90\u001b[0m \u001b[32m━━━━━━━━━━━━━━━━━━━━\u001b[0m\u001b[37m\u001b[0m \u001b[1m1s\u001b[0m 5ms/step - loss: 0.2377 - mean_absolute_error: 0.2377 - val_loss: 0.2176 - val_mean_absolute_error: 0.2176\n",
            "Epoch 42/100\n",
            "\u001b[1m90/90\u001b[0m \u001b[32m━━━━━━━━━━━━━━━━━━━━\u001b[0m\u001b[37m\u001b[0m \u001b[1m1s\u001b[0m 6ms/step - loss: 0.2425 - mean_absolute_error: 0.2425 - val_loss: 0.2176 - val_mean_absolute_error: 0.2176\n",
            "Epoch 43/100\n",
            "\u001b[1m90/90\u001b[0m \u001b[32m━━━━━━━━━━━━━━━━━━━━\u001b[0m\u001b[37m\u001b[0m \u001b[1m1s\u001b[0m 5ms/step - loss: 0.2399 - mean_absolute_error: 0.2399 - val_loss: 0.2176 - val_mean_absolute_error: 0.2176\n",
            "Epoch 44/100\n",
            "\u001b[1m90/90\u001b[0m \u001b[32m━━━━━━━━━━━━━━━━━━━━\u001b[0m\u001b[37m\u001b[0m \u001b[1m1s\u001b[0m 7ms/step - loss: 0.2430 - mean_absolute_error: 0.2430 - val_loss: 0.2176 - val_mean_absolute_error: 0.2176\n",
            "Epoch 45/100\n",
            "\u001b[1m90/90\u001b[0m \u001b[32m━━━━━━━━━━━━━━━━━━━━\u001b[0m\u001b[37m\u001b[0m \u001b[1m1s\u001b[0m 9ms/step - loss: 0.2295 - mean_absolute_error: 0.2295 - val_loss: 0.2176 - val_mean_absolute_error: 0.2176\n",
            "Epoch 46/100\n",
            "\u001b[1m90/90\u001b[0m \u001b[32m━━━━━━━━━━━━━━━━━━━━\u001b[0m\u001b[37m\u001b[0m \u001b[1m1s\u001b[0m 9ms/step - loss: 0.2387 - mean_absolute_error: 0.2387 - val_loss: 0.2176 - val_mean_absolute_error: 0.2176\n",
            "Epoch 47/100\n",
            "\u001b[1m90/90\u001b[0m \u001b[32m━━━━━━━━━━━━━━━━━━━━\u001b[0m\u001b[37m\u001b[0m \u001b[1m1s\u001b[0m 5ms/step - loss: 0.2351 - mean_absolute_error: 0.2351 - val_loss: 0.2176 - val_mean_absolute_error: 0.2176\n",
            "Epoch 48/100\n",
            "\u001b[1m90/90\u001b[0m \u001b[32m━━━━━━━━━━━━━━━━━━━━\u001b[0m\u001b[37m\u001b[0m \u001b[1m1s\u001b[0m 6ms/step - loss: 0.2322 - mean_absolute_error: 0.2322 - val_loss: 0.2176 - val_mean_absolute_error: 0.2176\n",
            "Epoch 49/100\n",
            "\u001b[1m90/90\u001b[0m \u001b[32m━━━━━━━━━━━━━━━━━━━━\u001b[0m\u001b[37m\u001b[0m \u001b[1m1s\u001b[0m 5ms/step - loss: 0.2342 - mean_absolute_error: 0.2342 - val_loss: 0.2176 - val_mean_absolute_error: 0.2176\n",
            "Epoch 50/100\n",
            "\u001b[1m90/90\u001b[0m \u001b[32m━━━━━━━━━━━━━━━━━━━━\u001b[0m\u001b[37m\u001b[0m \u001b[1m1s\u001b[0m 6ms/step - loss: 0.2398 - mean_absolute_error: 0.2398 - val_loss: 0.2176 - val_mean_absolute_error: 0.2176\n",
            "Epoch 51/100\n",
            "\u001b[1m90/90\u001b[0m \u001b[32m━━━━━━━━━━━━━━━━━━━━\u001b[0m\u001b[37m\u001b[0m \u001b[1m1s\u001b[0m 6ms/step - loss: 0.2413 - mean_absolute_error: 0.2413 - val_loss: 0.2176 - val_mean_absolute_error: 0.2176\n",
            "Epoch 52/100\n",
            "\u001b[1m90/90\u001b[0m \u001b[32m━━━━━━━━━━━━━━━━━━━━\u001b[0m\u001b[37m\u001b[0m \u001b[1m1s\u001b[0m 5ms/step - loss: 0.2439 - mean_absolute_error: 0.2439 - val_loss: 0.2176 - val_mean_absolute_error: 0.2176\n",
            "Epoch 53/100\n",
            "\u001b[1m90/90\u001b[0m \u001b[32m━━━━━━━━━━━━━━━━━━━━\u001b[0m\u001b[37m\u001b[0m \u001b[1m1s\u001b[0m 6ms/step - loss: 0.2320 - mean_absolute_error: 0.2320 - val_loss: 0.2176 - val_mean_absolute_error: 0.2176\n",
            "Epoch 54/100\n",
            "\u001b[1m90/90\u001b[0m \u001b[32m━━━━━━━━━━━━━━━━━━━━\u001b[0m\u001b[37m\u001b[0m \u001b[1m1s\u001b[0m 5ms/step - loss: 0.2319 - mean_absolute_error: 0.2319 - val_loss: 0.2176 - val_mean_absolute_error: 0.2176\n",
            "Epoch 55/100\n",
            "\u001b[1m90/90\u001b[0m \u001b[32m━━━━━━━━━━━━━━━━━━━━\u001b[0m\u001b[37m\u001b[0m \u001b[1m1s\u001b[0m 5ms/step - loss: 0.2391 - mean_absolute_error: 0.2391 - val_loss: 0.2176 - val_mean_absolute_error: 0.2176\n",
            "Epoch 56/100\n",
            "\u001b[1m90/90\u001b[0m \u001b[32m━━━━━━━━━━━━━━━━━━━━\u001b[0m\u001b[37m\u001b[0m \u001b[1m1s\u001b[0m 5ms/step - loss: 0.2402 - mean_absolute_error: 0.2402 - val_loss: 0.2176 - val_mean_absolute_error: 0.2176\n",
            "Epoch 57/100\n",
            "\u001b[1m90/90\u001b[0m \u001b[32m━━━━━━━━━━━━━━━━━━━━\u001b[0m\u001b[37m\u001b[0m \u001b[1m1s\u001b[0m 6ms/step - loss: 0.2241 - mean_absolute_error: 0.2241 - val_loss: 0.2176 - val_mean_absolute_error: 0.2176\n",
            "Epoch 58/100\n",
            "\u001b[1m90/90\u001b[0m \u001b[32m━━━━━━━━━━━━━━━━━━━━\u001b[0m\u001b[37m\u001b[0m \u001b[1m0s\u001b[0m 5ms/step - loss: 0.2198 - mean_absolute_error: 0.2198 - val_loss: 0.2176 - val_mean_absolute_error: 0.2176\n",
            "Epoch 59/100\n",
            "\u001b[1m90/90\u001b[0m \u001b[32m━━━━━━━━━━━━━━━━━━━━\u001b[0m\u001b[37m\u001b[0m \u001b[1m1s\u001b[0m 5ms/step - loss: 0.2362 - mean_absolute_error: 0.2362 - val_loss: 0.2176 - val_mean_absolute_error: 0.2176\n",
            "Epoch 60/100\n",
            "\u001b[1m90/90\u001b[0m \u001b[32m━━━━━━━━━━━━━━━━━━━━\u001b[0m\u001b[37m\u001b[0m \u001b[1m1s\u001b[0m 5ms/step - loss: 0.2367 - mean_absolute_error: 0.2367 - val_loss: 0.2176 - val_mean_absolute_error: 0.2176\n",
            "Epoch 61/100\n",
            "\u001b[1m90/90\u001b[0m \u001b[32m━━━━━━━━━━━━━━━━━━━━\u001b[0m\u001b[37m\u001b[0m \u001b[1m0s\u001b[0m 5ms/step - loss: 0.2271 - mean_absolute_error: 0.2271 - val_loss: 0.2176 - val_mean_absolute_error: 0.2176\n",
            "Epoch 62/100\n",
            "\u001b[1m90/90\u001b[0m \u001b[32m━━━━━━━━━━━━━━━━━━━━\u001b[0m\u001b[37m\u001b[0m \u001b[1m1s\u001b[0m 5ms/step - loss: 0.2346 - mean_absolute_error: 0.2346 - val_loss: 0.2176 - val_mean_absolute_error: 0.2176\n",
            "Epoch 63/100\n",
            "\u001b[1m90/90\u001b[0m \u001b[32m━━━━━━━━━━━━━━━━━━━━\u001b[0m\u001b[37m\u001b[0m \u001b[1m1s\u001b[0m 6ms/step - loss: 0.2270 - mean_absolute_error: 0.2270 - val_loss: 0.2176 - val_mean_absolute_error: 0.2176\n",
            "Epoch 64/100\n",
            "\u001b[1m90/90\u001b[0m \u001b[32m━━━━━━━━━━━━━━━━━━━━\u001b[0m\u001b[37m\u001b[0m \u001b[1m1s\u001b[0m 10ms/step - loss: 0.2364 - mean_absolute_error: 0.2364 - val_loss: 0.2176 - val_mean_absolute_error: 0.2176\n",
            "Epoch 65/100\n",
            "\u001b[1m90/90\u001b[0m \u001b[32m━━━━━━━━━━━━━━━━━━━━\u001b[0m\u001b[37m\u001b[0m \u001b[1m1s\u001b[0m 10ms/step - loss: 0.2294 - mean_absolute_error: 0.2294 - val_loss: 0.2176 - val_mean_absolute_error: 0.2176\n",
            "Epoch 66/100\n",
            "\u001b[1m90/90\u001b[0m \u001b[32m━━━━━━━━━━━━━━━━━━━━\u001b[0m\u001b[37m\u001b[0m \u001b[1m1s\u001b[0m 10ms/step - loss: 0.2480 - mean_absolute_error: 0.2480 - val_loss: 0.2176 - val_mean_absolute_error: 0.2176\n",
            "Epoch 67/100\n",
            "\u001b[1m90/90\u001b[0m \u001b[32m━━━━━━━━━━━━━━━━━━━━\u001b[0m\u001b[37m\u001b[0m \u001b[1m0s\u001b[0m 5ms/step - loss: 0.2425 - mean_absolute_error: 0.2425 - val_loss: 0.2176 - val_mean_absolute_error: 0.2176\n",
            "Epoch 68/100\n",
            "\u001b[1m90/90\u001b[0m \u001b[32m━━━━━━━━━━━━━━━━━━━━\u001b[0m\u001b[37m\u001b[0m \u001b[1m1s\u001b[0m 5ms/step - loss: 0.2281 - mean_absolute_error: 0.2281 - val_loss: 0.2176 - val_mean_absolute_error: 0.2176\n",
            "Epoch 69/100\n",
            "\u001b[1m90/90\u001b[0m \u001b[32m━━━━━━━━━━━━━━━━━━━━\u001b[0m\u001b[37m\u001b[0m \u001b[1m1s\u001b[0m 6ms/step - loss: 0.2346 - mean_absolute_error: 0.2346 - val_loss: 0.2176 - val_mean_absolute_error: 0.2176\n",
            "Epoch 70/100\n",
            "\u001b[1m90/90\u001b[0m \u001b[32m━━━━━━━━━━━━━━━━━━━━\u001b[0m\u001b[37m\u001b[0m \u001b[1m1s\u001b[0m 5ms/step - loss: 0.2358 - mean_absolute_error: 0.2358 - val_loss: 0.2176 - val_mean_absolute_error: 0.2176\n",
            "Epoch 71/100\n",
            "\u001b[1m90/90\u001b[0m \u001b[32m━━━━━━━━━━━━━━━━━━━━\u001b[0m\u001b[37m\u001b[0m \u001b[1m1s\u001b[0m 5ms/step - loss: 0.2391 - mean_absolute_error: 0.2391 - val_loss: 0.2176 - val_mean_absolute_error: 0.2176\n",
            "Epoch 72/100\n",
            "\u001b[1m90/90\u001b[0m \u001b[32m━━━━━━━━━━━━━━━━━━━━\u001b[0m\u001b[37m\u001b[0m \u001b[1m1s\u001b[0m 5ms/step - loss: 0.2380 - mean_absolute_error: 0.2380 - val_loss: 0.2176 - val_mean_absolute_error: 0.2176\n",
            "Epoch 73/100\n",
            "\u001b[1m90/90\u001b[0m \u001b[32m━━━━━━━━━━━━━━━━━━━━\u001b[0m\u001b[37m\u001b[0m \u001b[1m1s\u001b[0m 5ms/step - loss: 0.2401 - mean_absolute_error: 0.2401 - val_loss: 0.2176 - val_mean_absolute_error: 0.2176\n",
            "Epoch 74/100\n",
            "\u001b[1m90/90\u001b[0m \u001b[32m━━━━━━━━━━━━━━━━━━━━\u001b[0m\u001b[37m\u001b[0m \u001b[1m1s\u001b[0m 6ms/step - loss: 0.2393 - mean_absolute_error: 0.2393 - val_loss: 0.2176 - val_mean_absolute_error: 0.2176\n",
            "Epoch 75/100\n",
            "\u001b[1m90/90\u001b[0m \u001b[32m━━━━━━━━━━━━━━━━━━━━\u001b[0m\u001b[37m\u001b[0m \u001b[1m1s\u001b[0m 5ms/step - loss: 0.2227 - mean_absolute_error: 0.2227 - val_loss: 0.2176 - val_mean_absolute_error: 0.2176\n",
            "Epoch 76/100\n",
            "\u001b[1m90/90\u001b[0m \u001b[32m━━━━━━━━━━━━━━━━━━━━\u001b[0m\u001b[37m\u001b[0m \u001b[1m1s\u001b[0m 11ms/step - loss: 0.2260 - mean_absolute_error: 0.2260 - val_loss: 0.2176 - val_mean_absolute_error: 0.2176\n",
            "Epoch 77/100\n",
            "\u001b[1m90/90\u001b[0m \u001b[32m━━━━━━━━━━━━━━━━━━━━\u001b[0m\u001b[37m\u001b[0m \u001b[1m1s\u001b[0m 6ms/step - loss: 0.2289 - mean_absolute_error: 0.2289 - val_loss: 0.2176 - val_mean_absolute_error: 0.2176\n",
            "Epoch 78/100\n",
            "\u001b[1m90/90\u001b[0m \u001b[32m━━━━━━━━━━━━━━━━━━━━\u001b[0m\u001b[37m\u001b[0m \u001b[1m1s\u001b[0m 5ms/step - loss: 0.2320 - mean_absolute_error: 0.2320 - val_loss: 0.2176 - val_mean_absolute_error: 0.2176\n",
            "Epoch 79/100\n",
            "\u001b[1m90/90\u001b[0m \u001b[32m━━━━━━━━━━━━━━━━━━━━\u001b[0m\u001b[37m\u001b[0m \u001b[1m1s\u001b[0m 5ms/step - loss: 0.2299 - mean_absolute_error: 0.2299 - val_loss: 0.2176 - val_mean_absolute_error: 0.2176\n",
            "Epoch 80/100\n",
            "\u001b[1m90/90\u001b[0m \u001b[32m━━━━━━━━━━━━━━━━━━━━\u001b[0m\u001b[37m\u001b[0m \u001b[1m1s\u001b[0m 5ms/step - loss: 0.2433 - mean_absolute_error: 0.2433 - val_loss: 0.2176 - val_mean_absolute_error: 0.2176\n",
            "Epoch 81/100\n",
            "\u001b[1m90/90\u001b[0m \u001b[32m━━━━━━━━━━━━━━━━━━━━\u001b[0m\u001b[37m\u001b[0m \u001b[1m1s\u001b[0m 5ms/step - loss: 0.2292 - mean_absolute_error: 0.2292 - val_loss: 0.2176 - val_mean_absolute_error: 0.2176\n",
            "Epoch 82/100\n",
            "\u001b[1m90/90\u001b[0m \u001b[32m━━━━━━━━━━━━━━━━━━━━\u001b[0m\u001b[37m\u001b[0m \u001b[1m1s\u001b[0m 6ms/step - loss: 0.2447 - mean_absolute_error: 0.2447 - val_loss: 0.2176 - val_mean_absolute_error: 0.2176\n",
            "Epoch 83/100\n",
            "\u001b[1m90/90\u001b[0m \u001b[32m━━━━━━━━━━━━━━━━━━━━\u001b[0m\u001b[37m\u001b[0m \u001b[1m1s\u001b[0m 9ms/step - loss: 0.2293 - mean_absolute_error: 0.2293 - val_loss: 0.2176 - val_mean_absolute_error: 0.2176\n",
            "Epoch 84/100\n",
            "\u001b[1m90/90\u001b[0m \u001b[32m━━━━━━━━━━━━━━━━━━━━\u001b[0m\u001b[37m\u001b[0m \u001b[1m1s\u001b[0m 11ms/step - loss: 0.2380 - mean_absolute_error: 0.2380 - val_loss: 0.2176 - val_mean_absolute_error: 0.2176\n",
            "Epoch 85/100\n",
            "\u001b[1m90/90\u001b[0m \u001b[32m━━━━━━━━━━━━━━━━━━━━\u001b[0m\u001b[37m\u001b[0m \u001b[1m1s\u001b[0m 10ms/step - loss: 0.2284 - mean_absolute_error: 0.2284 - val_loss: 0.2176 - val_mean_absolute_error: 0.2176\n",
            "Epoch 86/100\n",
            "\u001b[1m90/90\u001b[0m \u001b[32m━━━━━━━━━━━━━━━━━━━━\u001b[0m\u001b[37m\u001b[0m \u001b[1m1s\u001b[0m 10ms/step - loss: 0.2302 - mean_absolute_error: 0.2302 - val_loss: 0.2176 - val_mean_absolute_error: 0.2176\n",
            "Epoch 87/100\n",
            "\u001b[1m90/90\u001b[0m \u001b[32m━━━━━━━━━━━━━━━━━━━━\u001b[0m\u001b[37m\u001b[0m \u001b[1m1s\u001b[0m 9ms/step - loss: 0.2335 - mean_absolute_error: 0.2335 - val_loss: 0.2176 - val_mean_absolute_error: 0.2176\n",
            "Epoch 88/100\n",
            "\u001b[1m90/90\u001b[0m \u001b[32m━━━━━━━━━━━━━━━━━━━━\u001b[0m\u001b[37m\u001b[0m \u001b[1m1s\u001b[0m 6ms/step - loss: 0.2455 - mean_absolute_error: 0.2455 - val_loss: 0.2176 - val_mean_absolute_error: 0.2176\n",
            "Epoch 89/100\n",
            "\u001b[1m90/90\u001b[0m \u001b[32m━━━━━━━━━━━━━━━━━━━━\u001b[0m\u001b[37m\u001b[0m \u001b[1m1s\u001b[0m 5ms/step - loss: 0.2360 - mean_absolute_error: 0.2360 - val_loss: 0.2176 - val_mean_absolute_error: 0.2176\n",
            "Epoch 90/100\n",
            "\u001b[1m90/90\u001b[0m \u001b[32m━━━━━━━━━━━━━━━━━━━━\u001b[0m\u001b[37m\u001b[0m \u001b[1m1s\u001b[0m 6ms/step - loss: 0.2508 - mean_absolute_error: 0.2508 - val_loss: 0.2176 - val_mean_absolute_error: 0.2176\n",
            "Epoch 91/100\n",
            "\u001b[1m90/90\u001b[0m \u001b[32m━━━━━━━━━━━━━━━━━━━━\u001b[0m\u001b[37m\u001b[0m \u001b[1m1s\u001b[0m 6ms/step - loss: 0.2405 - mean_absolute_error: 0.2405 - val_loss: 0.2176 - val_mean_absolute_error: 0.2176\n",
            "Epoch 92/100\n",
            "\u001b[1m90/90\u001b[0m \u001b[32m━━━━━━━━━━━━━━━━━━━━\u001b[0m\u001b[37m\u001b[0m \u001b[1m1s\u001b[0m 6ms/step - loss: 0.2271 - mean_absolute_error: 0.2271 - val_loss: 0.2176 - val_mean_absolute_error: 0.2176\n",
            "Epoch 93/100\n",
            "\u001b[1m90/90\u001b[0m \u001b[32m━━━━━━━━━━━━━━━━━━━━\u001b[0m\u001b[37m\u001b[0m \u001b[1m1s\u001b[0m 6ms/step - loss: 0.2268 - mean_absolute_error: 0.2268 - val_loss: 0.2176 - val_mean_absolute_error: 0.2176\n",
            "Epoch 94/100\n",
            "\u001b[1m90/90\u001b[0m \u001b[32m━━━━━━━━━━━━━━━━━━━━\u001b[0m\u001b[37m\u001b[0m \u001b[1m1s\u001b[0m 6ms/step - loss: 0.2378 - mean_absolute_error: 0.2378 - val_loss: 0.2176 - val_mean_absolute_error: 0.2176\n",
            "Epoch 95/100\n",
            "\u001b[1m90/90\u001b[0m \u001b[32m━━━━━━━━━━━━━━━━━━━━\u001b[0m\u001b[37m\u001b[0m \u001b[1m1s\u001b[0m 6ms/step - loss: 0.2259 - mean_absolute_error: 0.2259 - val_loss: 0.2176 - val_mean_absolute_error: 0.2176\n",
            "Epoch 96/100\n",
            "\u001b[1m90/90\u001b[0m \u001b[32m━━━━━━━━━━━━━━━━━━━━\u001b[0m\u001b[37m\u001b[0m \u001b[1m1s\u001b[0m 5ms/step - loss: 0.2428 - mean_absolute_error: 0.2428 - val_loss: 0.2176 - val_mean_absolute_error: 0.2176\n",
            "Epoch 97/100\n",
            "\u001b[1m90/90\u001b[0m \u001b[32m━━━━━━━━━━━━━━━━━━━━\u001b[0m\u001b[37m\u001b[0m \u001b[1m1s\u001b[0m 6ms/step - loss: 0.2313 - mean_absolute_error: 0.2313 - val_loss: 0.2176 - val_mean_absolute_error: 0.2176\n",
            "Epoch 98/100\n",
            "\u001b[1m90/90\u001b[0m \u001b[32m━━━━━━━━━━━━━━━━━━━━\u001b[0m\u001b[37m\u001b[0m \u001b[1m1s\u001b[0m 6ms/step - loss: 0.2382 - mean_absolute_error: 0.2382 - val_loss: 0.2176 - val_mean_absolute_error: 0.2176\n",
            "Epoch 99/100\n",
            "\u001b[1m90/90\u001b[0m \u001b[32m━━━━━━━━━━━━━━━━━━━━\u001b[0m\u001b[37m\u001b[0m \u001b[1m1s\u001b[0m 5ms/step - loss: 0.2345 - mean_absolute_error: 0.2345 - val_loss: 0.2176 - val_mean_absolute_error: 0.2176\n",
            "Epoch 100/100\n",
            "\u001b[1m90/90\u001b[0m \u001b[32m━━━━━━━━━━━━━━━━━━━━\u001b[0m\u001b[37m\u001b[0m \u001b[1m1s\u001b[0m 6ms/step - loss: 0.2313 - mean_absolute_error: 0.2313 - val_loss: 0.2176 - val_mean_absolute_error: 0.2176\n",
            "\u001b[1m39/39\u001b[0m \u001b[32m━━━━━━━━━━━━━━━━━━━━\u001b[0m\u001b[37m\u001b[0m \u001b[1m0s\u001b[0m 3ms/step\n",
            "Epoch 1/100\n"
          ]
        },
        {
          "output_type": "stream",
          "name": "stderr",
          "text": [
            "/usr/local/lib/python3.10/dist-packages/keras/src/layers/core/dense.py:87: UserWarning: Do not pass an `input_shape`/`input_dim` argument to a layer. When using Sequential models, prefer using an `Input(shape)` object as the first layer in the model instead.\n",
            "  super().__init__(activity_regularizer=activity_regularizer, **kwargs)\n"
          ]
        },
        {
          "output_type": "stream",
          "name": "stdout",
          "text": [
            "\u001b[1m90/90\u001b[0m \u001b[32m━━━━━━━━━━━━━━━━━━━━\u001b[0m\u001b[37m\u001b[0m \u001b[1m3s\u001b[0m 13ms/step - loss: 0.2403 - mean_absolute_error: 0.2403 - val_loss: 0.2063 - val_mean_absolute_error: 0.2063\n",
            "Epoch 2/100\n",
            "\u001b[1m90/90\u001b[0m \u001b[32m━━━━━━━━━━━━━━━━━━━━\u001b[0m\u001b[37m\u001b[0m \u001b[1m1s\u001b[0m 11ms/step - loss: 0.2032 - mean_absolute_error: 0.2032 - val_loss: 0.2035 - val_mean_absolute_error: 0.2035\n",
            "Epoch 3/100\n",
            "\u001b[1m90/90\u001b[0m \u001b[32m━━━━━━━━━━━━━━━━━━━━\u001b[0m\u001b[37m\u001b[0m \u001b[1m1s\u001b[0m 6ms/step - loss: 0.2037 - mean_absolute_error: 0.2037 - val_loss: 0.2025 - val_mean_absolute_error: 0.2025\n",
            "Epoch 4/100\n",
            "\u001b[1m90/90\u001b[0m \u001b[32m━━━━━━━━━━━━━━━━━━━━\u001b[0m\u001b[37m\u001b[0m \u001b[1m1s\u001b[0m 5ms/step - loss: 0.2022 - mean_absolute_error: 0.2022 - val_loss: 0.1981 - val_mean_absolute_error: 0.1981\n",
            "Epoch 5/100\n",
            "\u001b[1m90/90\u001b[0m \u001b[32m━━━━━━━━━━━━━━━━━━━━\u001b[0m\u001b[37m\u001b[0m \u001b[1m1s\u001b[0m 5ms/step - loss: 0.1973 - mean_absolute_error: 0.1973 - val_loss: 0.1962 - val_mean_absolute_error: 0.1962\n",
            "Epoch 6/100\n",
            "\u001b[1m90/90\u001b[0m \u001b[32m━━━━━━━━━━━━━━━━━━━━\u001b[0m\u001b[37m\u001b[0m \u001b[1m1s\u001b[0m 6ms/step - loss: 0.1917 - mean_absolute_error: 0.1917 - val_loss: 0.1958 - val_mean_absolute_error: 0.1958\n",
            "Epoch 7/100\n",
            "\u001b[1m90/90\u001b[0m \u001b[32m━━━━━━━━━━━━━━━━━━━━\u001b[0m\u001b[37m\u001b[0m \u001b[1m1s\u001b[0m 5ms/step - loss: 0.1962 - mean_absolute_error: 0.1962 - val_loss: 0.2144 - val_mean_absolute_error: 0.2144\n",
            "Epoch 8/100\n",
            "\u001b[1m90/90\u001b[0m \u001b[32m━━━━━━━━━━━━━━━━━━━━\u001b[0m\u001b[37m\u001b[0m \u001b[1m1s\u001b[0m 6ms/step - loss: 0.1874 - mean_absolute_error: 0.1874 - val_loss: 0.2029 - val_mean_absolute_error: 0.2029\n",
            "Epoch 9/100\n",
            "\u001b[1m90/90\u001b[0m \u001b[32m━━━━━━━━━━━━━━━━━━━━\u001b[0m\u001b[37m\u001b[0m \u001b[1m1s\u001b[0m 5ms/step - loss: 0.1849 - mean_absolute_error: 0.1849 - val_loss: 0.1920 - val_mean_absolute_error: 0.1920\n",
            "Epoch 10/100\n",
            "\u001b[1m90/90\u001b[0m \u001b[32m━━━━━━━━━━━━━━━━━━━━\u001b[0m\u001b[37m\u001b[0m \u001b[1m1s\u001b[0m 5ms/step - loss: 0.1820 - mean_absolute_error: 0.1820 - val_loss: 0.1948 - val_mean_absolute_error: 0.1948\n",
            "Epoch 11/100\n",
            "\u001b[1m90/90\u001b[0m \u001b[32m━━━━━━━━━━━━━━━━━━━━\u001b[0m\u001b[37m\u001b[0m \u001b[1m1s\u001b[0m 5ms/step - loss: 0.1807 - mean_absolute_error: 0.1807 - val_loss: 0.1865 - val_mean_absolute_error: 0.1865\n",
            "Epoch 12/100\n",
            "\u001b[1m90/90\u001b[0m \u001b[32m━━━━━━━━━━━━━━━━━━━━\u001b[0m\u001b[37m\u001b[0m \u001b[1m1s\u001b[0m 5ms/step - loss: 0.1794 - mean_absolute_error: 0.1794 - val_loss: 0.1891 - val_mean_absolute_error: 0.1891\n",
            "Epoch 13/100\n",
            "\u001b[1m90/90\u001b[0m \u001b[32m━━━━━━━━━━━━━━━━━━━━\u001b[0m\u001b[37m\u001b[0m \u001b[1m1s\u001b[0m 5ms/step - loss: 0.1739 - mean_absolute_error: 0.1739 - val_loss: 0.1908 - val_mean_absolute_error: 0.1908\n",
            "Epoch 14/100\n",
            "\u001b[1m90/90\u001b[0m \u001b[32m━━━━━━━━━━━━━━━━━━━━\u001b[0m\u001b[37m\u001b[0m \u001b[1m1s\u001b[0m 5ms/step - loss: 0.1761 - mean_absolute_error: 0.1761 - val_loss: 0.1877 - val_mean_absolute_error: 0.1877\n",
            "Epoch 15/100\n",
            "\u001b[1m90/90\u001b[0m \u001b[32m━━━━━━━━━━━━━━━━━━━━\u001b[0m\u001b[37m\u001b[0m \u001b[1m1s\u001b[0m 5ms/step - loss: 0.1683 - mean_absolute_error: 0.1683 - val_loss: 0.1960 - val_mean_absolute_error: 0.1960\n",
            "Epoch 16/100\n",
            "\u001b[1m90/90\u001b[0m \u001b[32m━━━━━━━━━━━━━━━━━━━━\u001b[0m\u001b[37m\u001b[0m \u001b[1m1s\u001b[0m 6ms/step - loss: 0.1673 - mean_absolute_error: 0.1673 - val_loss: 0.1872 - val_mean_absolute_error: 0.1872\n",
            "Epoch 17/100\n",
            "\u001b[1m90/90\u001b[0m \u001b[32m━━━━━━━━━━━━━━━━━━━━\u001b[0m\u001b[37m\u001b[0m \u001b[1m1s\u001b[0m 5ms/step - loss: 0.1570 - mean_absolute_error: 0.1570 - val_loss: 0.1903 - val_mean_absolute_error: 0.1903\n",
            "Epoch 18/100\n",
            "\u001b[1m90/90\u001b[0m \u001b[32m━━━━━━━━━━━━━━━━━━━━\u001b[0m\u001b[37m\u001b[0m \u001b[1m0s\u001b[0m 5ms/step - loss: 0.1670 - mean_absolute_error: 0.1670 - val_loss: 0.1907 - val_mean_absolute_error: 0.1907\n",
            "Epoch 19/100\n",
            "\u001b[1m90/90\u001b[0m \u001b[32m━━━━━━━━━━━━━━━━━━━━\u001b[0m\u001b[37m\u001b[0m \u001b[1m1s\u001b[0m 5ms/step - loss: 0.1595 - mean_absolute_error: 0.1595 - val_loss: 0.1888 - val_mean_absolute_error: 0.1888\n",
            "Epoch 20/100\n",
            "\u001b[1m90/90\u001b[0m \u001b[32m━━━━━━━━━━━━━━━━━━━━\u001b[0m\u001b[37m\u001b[0m \u001b[1m1s\u001b[0m 10ms/step - loss: 0.1638 - mean_absolute_error: 0.1638 - val_loss: 0.1840 - val_mean_absolute_error: 0.1840\n",
            "Epoch 21/100\n",
            "\u001b[1m90/90\u001b[0m \u001b[32m━━━━━━━━━━━━━━━━━━━━\u001b[0m\u001b[37m\u001b[0m \u001b[1m1s\u001b[0m 9ms/step - loss: 0.1615 - mean_absolute_error: 0.1615 - val_loss: 0.1997 - val_mean_absolute_error: 0.1997\n",
            "Epoch 22/100\n",
            "\u001b[1m90/90\u001b[0m \u001b[32m━━━━━━━━━━━━━━━━━━━━\u001b[0m\u001b[37m\u001b[0m \u001b[1m1s\u001b[0m 7ms/step - loss: 0.1512 - mean_absolute_error: 0.1512 - val_loss: 0.1878 - val_mean_absolute_error: 0.1878\n",
            "Epoch 23/100\n",
            "\u001b[1m90/90\u001b[0m \u001b[32m━━━━━━━━━━━━━━━━━━━━\u001b[0m\u001b[37m\u001b[0m \u001b[1m1s\u001b[0m 5ms/step - loss: 0.1520 - mean_absolute_error: 0.1520 - val_loss: 0.1858 - val_mean_absolute_error: 0.1858\n",
            "Epoch 24/100\n",
            "\u001b[1m90/90\u001b[0m \u001b[32m━━━━━━━━━━━━━━━━━━━━\u001b[0m\u001b[37m\u001b[0m \u001b[1m1s\u001b[0m 5ms/step - loss: 0.1449 - mean_absolute_error: 0.1449 - val_loss: 0.1943 - val_mean_absolute_error: 0.1943\n",
            "Epoch 25/100\n",
            "\u001b[1m90/90\u001b[0m \u001b[32m━━━━━━━━━━━━━━━━━━━━\u001b[0m\u001b[37m\u001b[0m \u001b[1m1s\u001b[0m 5ms/step - loss: 0.1543 - mean_absolute_error: 0.1543 - val_loss: 0.1874 - val_mean_absolute_error: 0.1874\n",
            "Epoch 26/100\n",
            "\u001b[1m90/90\u001b[0m \u001b[32m━━━━━━━━━━━━━━━━━━━━\u001b[0m\u001b[37m\u001b[0m \u001b[1m1s\u001b[0m 6ms/step - loss: 0.1597 - mean_absolute_error: 0.1597 - val_loss: 0.1857 - val_mean_absolute_error: 0.1857\n",
            "Epoch 27/100\n",
            "\u001b[1m90/90\u001b[0m \u001b[32m━━━━━━━━━━━━━━━━━━━━\u001b[0m\u001b[37m\u001b[0m \u001b[1m1s\u001b[0m 6ms/step - loss: 0.1595 - mean_absolute_error: 0.1595 - val_loss: 0.1964 - val_mean_absolute_error: 0.1964\n",
            "Epoch 28/100\n",
            "\u001b[1m90/90\u001b[0m \u001b[32m━━━━━━━━━━━━━━━━━━━━\u001b[0m\u001b[37m\u001b[0m \u001b[1m1s\u001b[0m 6ms/step - loss: 0.1556 - mean_absolute_error: 0.1556 - val_loss: 0.1859 - val_mean_absolute_error: 0.1859\n",
            "Epoch 29/100\n",
            "\u001b[1m90/90\u001b[0m \u001b[32m━━━━━━━━━━━━━━━━━━━━\u001b[0m\u001b[37m\u001b[0m \u001b[1m1s\u001b[0m 5ms/step - loss: 0.1497 - mean_absolute_error: 0.1497 - val_loss: 0.1857 - val_mean_absolute_error: 0.1857\n",
            "Epoch 30/100\n",
            "\u001b[1m90/90\u001b[0m \u001b[32m━━━━━━━━━━━━━━━━━━━━\u001b[0m\u001b[37m\u001b[0m \u001b[1m1s\u001b[0m 5ms/step - loss: 0.1615 - mean_absolute_error: 0.1615 - val_loss: 0.2039 - val_mean_absolute_error: 0.2039\n",
            "Epoch 31/100\n",
            "\u001b[1m90/90\u001b[0m \u001b[32m━━━━━━━━━━━━━━━━━━━━\u001b[0m\u001b[37m\u001b[0m \u001b[1m1s\u001b[0m 7ms/step - loss: 0.1595 - mean_absolute_error: 0.1595 - val_loss: 0.1954 - val_mean_absolute_error: 0.1954\n",
            "Epoch 32/100\n",
            "\u001b[1m90/90\u001b[0m \u001b[32m━━━━━━━━━━━━━━━━━━━━\u001b[0m\u001b[37m\u001b[0m \u001b[1m0s\u001b[0m 5ms/step - loss: 0.1579 - mean_absolute_error: 0.1579 - val_loss: 0.1913 - val_mean_absolute_error: 0.1913\n",
            "Epoch 33/100\n",
            "\u001b[1m90/90\u001b[0m \u001b[32m━━━━━━━━━━━━━━━━━━━━\u001b[0m\u001b[37m\u001b[0m \u001b[1m1s\u001b[0m 6ms/step - loss: 0.1410 - mean_absolute_error: 0.1410 - val_loss: 0.1851 - val_mean_absolute_error: 0.1851\n",
            "Epoch 34/100\n",
            "\u001b[1m90/90\u001b[0m \u001b[32m━━━━━━━━━━━━━━━━━━━━\u001b[0m\u001b[37m\u001b[0m \u001b[1m1s\u001b[0m 6ms/step - loss: 0.1421 - mean_absolute_error: 0.1421 - val_loss: 0.1960 - val_mean_absolute_error: 0.1960\n",
            "Epoch 35/100\n",
            "\u001b[1m90/90\u001b[0m \u001b[32m━━━━━━━━━━━━━━━━━━━━\u001b[0m\u001b[37m\u001b[0m \u001b[1m0s\u001b[0m 5ms/step - loss: 0.1432 - mean_absolute_error: 0.1432 - val_loss: 0.2138 - val_mean_absolute_error: 0.2138\n",
            "Epoch 36/100\n",
            "\u001b[1m90/90\u001b[0m \u001b[32m━━━━━━━━━━━━━━━━━━━━\u001b[0m\u001b[37m\u001b[0m \u001b[1m1s\u001b[0m 6ms/step - loss: 0.1900 - mean_absolute_error: 0.1900 - val_loss: 0.1870 - val_mean_absolute_error: 0.1870\n",
            "Epoch 37/100\n",
            "\u001b[1m90/90\u001b[0m \u001b[32m━━━━━━━━━━━━━━━━━━━━\u001b[0m\u001b[37m\u001b[0m \u001b[1m1s\u001b[0m 6ms/step - loss: 0.1446 - mean_absolute_error: 0.1446 - val_loss: 0.1843 - val_mean_absolute_error: 0.1843\n",
            "Epoch 38/100\n",
            "\u001b[1m90/90\u001b[0m \u001b[32m━━━━━━━━━━━━━━━━━━━━\u001b[0m\u001b[37m\u001b[0m \u001b[1m1s\u001b[0m 9ms/step - loss: 0.1578 - mean_absolute_error: 0.1578 - val_loss: 0.1862 - val_mean_absolute_error: 0.1862\n",
            "Epoch 39/100\n",
            "\u001b[1m90/90\u001b[0m \u001b[32m━━━━━━━━━━━━━━━━━━━━\u001b[0m\u001b[37m\u001b[0m \u001b[1m1s\u001b[0m 9ms/step - loss: 0.1513 - mean_absolute_error: 0.1513 - val_loss: 0.2038 - val_mean_absolute_error: 0.2038\n",
            "Epoch 40/100\n",
            "\u001b[1m90/90\u001b[0m \u001b[32m━━━━━━━━━━━━━━━━━━━━\u001b[0m\u001b[37m\u001b[0m \u001b[1m1s\u001b[0m 7ms/step - loss: 0.1613 - mean_absolute_error: 0.1613 - val_loss: 0.1858 - val_mean_absolute_error: 0.1858\n",
            "Epoch 41/100\n",
            "\u001b[1m90/90\u001b[0m \u001b[32m━━━━━━━━━━━━━━━━━━━━\u001b[0m\u001b[37m\u001b[0m \u001b[1m1s\u001b[0m 6ms/step - loss: 0.1456 - mean_absolute_error: 0.1456 - val_loss: 0.1849 - val_mean_absolute_error: 0.1849\n",
            "Epoch 42/100\n",
            "\u001b[1m90/90\u001b[0m \u001b[32m━━━━━━━━━━━━━━━━━━━━\u001b[0m\u001b[37m\u001b[0m \u001b[1m1s\u001b[0m 5ms/step - loss: 0.1343 - mean_absolute_error: 0.1343 - val_loss: 0.1833 - val_mean_absolute_error: 0.1833\n",
            "Epoch 43/100\n",
            "\u001b[1m90/90\u001b[0m \u001b[32m━━━━━━━━━━━━━━━━━━━━\u001b[0m\u001b[37m\u001b[0m \u001b[1m1s\u001b[0m 5ms/step - loss: 0.1303 - mean_absolute_error: 0.1303 - val_loss: 0.1856 - val_mean_absolute_error: 0.1856\n",
            "Epoch 44/100\n",
            "\u001b[1m90/90\u001b[0m \u001b[32m━━━━━━━━━━━━━━━━━━━━\u001b[0m\u001b[37m\u001b[0m \u001b[1m1s\u001b[0m 6ms/step - loss: 0.1350 - mean_absolute_error: 0.1350 - val_loss: 0.1834 - val_mean_absolute_error: 0.1834\n",
            "Epoch 45/100\n",
            "\u001b[1m90/90\u001b[0m \u001b[32m━━━━━━━━━━━━━━━━━━━━\u001b[0m\u001b[37m\u001b[0m \u001b[1m1s\u001b[0m 6ms/step - loss: 0.1422 - mean_absolute_error: 0.1422 - val_loss: 0.1892 - val_mean_absolute_error: 0.1892\n",
            "Epoch 46/100\n",
            "\u001b[1m90/90\u001b[0m \u001b[32m━━━━━━━━━━━━━━━━━━━━\u001b[0m\u001b[37m\u001b[0m \u001b[1m1s\u001b[0m 6ms/step - loss: 0.1394 - mean_absolute_error: 0.1394 - val_loss: 0.1840 - val_mean_absolute_error: 0.1840\n",
            "Epoch 47/100\n",
            "\u001b[1m90/90\u001b[0m \u001b[32m━━━━━━━━━━━━━━━━━━━━\u001b[0m\u001b[37m\u001b[0m \u001b[1m1s\u001b[0m 6ms/step - loss: 0.1290 - mean_absolute_error: 0.1290 - val_loss: 0.1961 - val_mean_absolute_error: 0.1961\n",
            "Epoch 48/100\n",
            "\u001b[1m90/90\u001b[0m \u001b[32m━━━━━━━━━━━━━━━━━━━━\u001b[0m\u001b[37m\u001b[0m \u001b[1m1s\u001b[0m 5ms/step - loss: 0.1317 - mean_absolute_error: 0.1317 - val_loss: 0.1840 - val_mean_absolute_error: 0.1840\n",
            "Epoch 49/100\n",
            "\u001b[1m90/90\u001b[0m \u001b[32m━━━━━━━━━━━━━━━━━━━━\u001b[0m\u001b[37m\u001b[0m \u001b[1m1s\u001b[0m 6ms/step - loss: 0.1284 - mean_absolute_error: 0.1284 - val_loss: 0.1893 - val_mean_absolute_error: 0.1893\n",
            "Epoch 50/100\n",
            "\u001b[1m90/90\u001b[0m \u001b[32m━━━━━━━━━━━━━━━━━━━━\u001b[0m\u001b[37m\u001b[0m \u001b[1m1s\u001b[0m 6ms/step - loss: 0.1343 - mean_absolute_error: 0.1343 - val_loss: 0.1872 - val_mean_absolute_error: 0.1872\n",
            "Epoch 51/100\n",
            "\u001b[1m90/90\u001b[0m \u001b[32m━━━━━━━━━━━━━━━━━━━━\u001b[0m\u001b[37m\u001b[0m \u001b[1m1s\u001b[0m 5ms/step - loss: 0.1301 - mean_absolute_error: 0.1301 - val_loss: 0.1866 - val_mean_absolute_error: 0.1866\n",
            "Epoch 52/100\n",
            "\u001b[1m90/90\u001b[0m \u001b[32m━━━━━━━━━━━━━━━━━━━━\u001b[0m\u001b[37m\u001b[0m \u001b[1m0s\u001b[0m 5ms/step - loss: 0.1312 - mean_absolute_error: 0.1312 - val_loss: 0.1842 - val_mean_absolute_error: 0.1842\n",
            "Epoch 53/100\n",
            "\u001b[1m90/90\u001b[0m \u001b[32m━━━━━━━━━━━━━━━━━━━━\u001b[0m\u001b[37m\u001b[0m \u001b[1m1s\u001b[0m 5ms/step - loss: 0.1348 - mean_absolute_error: 0.1348 - val_loss: 0.1780 - val_mean_absolute_error: 0.1780\n",
            "Epoch 54/100\n",
            "\u001b[1m90/90\u001b[0m \u001b[32m━━━━━━━━━━━━━━━━━━━━\u001b[0m\u001b[37m\u001b[0m \u001b[1m1s\u001b[0m 5ms/step - loss: 0.1229 - mean_absolute_error: 0.1229 - val_loss: 0.1872 - val_mean_absolute_error: 0.1872\n",
            "Epoch 55/100\n",
            "\u001b[1m90/90\u001b[0m \u001b[32m━━━━━━━━━━━━━━━━━━━━\u001b[0m\u001b[37m\u001b[0m \u001b[1m1s\u001b[0m 5ms/step - loss: 0.1253 - mean_absolute_error: 0.1253 - val_loss: 0.1866 - val_mean_absolute_error: 0.1866\n",
            "Epoch 56/100\n",
            "\u001b[1m90/90\u001b[0m \u001b[32m━━━━━━━━━━━━━━━━━━━━\u001b[0m\u001b[37m\u001b[0m \u001b[1m1s\u001b[0m 9ms/step - loss: 0.1294 - mean_absolute_error: 0.1294 - val_loss: 0.1844 - val_mean_absolute_error: 0.1844\n",
            "Epoch 57/100\n",
            "\u001b[1m90/90\u001b[0m \u001b[32m━━━━━━━━━━━━━━━━━━━━\u001b[0m\u001b[37m\u001b[0m \u001b[1m1s\u001b[0m 9ms/step - loss: 0.1281 - mean_absolute_error: 0.1281 - val_loss: 0.1824 - val_mean_absolute_error: 0.1824\n",
            "Epoch 58/100\n",
            "\u001b[1m90/90\u001b[0m \u001b[32m━━━━━━━━━━━━━━━━━━━━\u001b[0m\u001b[37m\u001b[0m \u001b[1m1s\u001b[0m 10ms/step - loss: 0.1257 - mean_absolute_error: 0.1257 - val_loss: 0.1850 - val_mean_absolute_error: 0.1850\n",
            "Epoch 59/100\n",
            "\u001b[1m90/90\u001b[0m \u001b[32m━━━━━━━━━━━━━━━━━━━━\u001b[0m\u001b[37m\u001b[0m \u001b[1m1s\u001b[0m 5ms/step - loss: 0.1243 - mean_absolute_error: 0.1243 - val_loss: 0.1854 - val_mean_absolute_error: 0.1854\n",
            "Epoch 60/100\n",
            "\u001b[1m90/90\u001b[0m \u001b[32m━━━━━━━━━━━━━━━━━━━━\u001b[0m\u001b[37m\u001b[0m \u001b[1m1s\u001b[0m 6ms/step - loss: 0.1220 - mean_absolute_error: 0.1220 - val_loss: 0.1858 - val_mean_absolute_error: 0.1858\n",
            "Epoch 61/100\n",
            "\u001b[1m90/90\u001b[0m \u001b[32m━━━━━━━━━━━━━━━━━━━━\u001b[0m\u001b[37m\u001b[0m \u001b[1m1s\u001b[0m 6ms/step - loss: 0.1246 - mean_absolute_error: 0.1246 - val_loss: 0.1919 - val_mean_absolute_error: 0.1919\n",
            "Epoch 62/100\n",
            "\u001b[1m90/90\u001b[0m \u001b[32m━━━━━━━━━━━━━━━━━━━━\u001b[0m\u001b[37m\u001b[0m \u001b[1m1s\u001b[0m 5ms/step - loss: 0.1305 - mean_absolute_error: 0.1305 - val_loss: 0.1924 - val_mean_absolute_error: 0.1924\n",
            "Epoch 63/100\n",
            "\u001b[1m90/90\u001b[0m \u001b[32m━━━━━━━━━━━━━━━━━━━━\u001b[0m\u001b[37m\u001b[0m \u001b[1m1s\u001b[0m 7ms/step - loss: 0.1335 - mean_absolute_error: 0.1335 - val_loss: 0.1959 - val_mean_absolute_error: 0.1959\n",
            "Epoch 64/100\n",
            "\u001b[1m90/90\u001b[0m \u001b[32m━━━━━━━━━━━━━━━━━━━━\u001b[0m\u001b[37m\u001b[0m \u001b[1m1s\u001b[0m 5ms/step - loss: 0.1279 - mean_absolute_error: 0.1279 - val_loss: 0.1848 - val_mean_absolute_error: 0.1848\n",
            "Epoch 65/100\n",
            "\u001b[1m90/90\u001b[0m \u001b[32m━━━━━━━━━━━━━━━━━━━━\u001b[0m\u001b[37m\u001b[0m \u001b[1m1s\u001b[0m 7ms/step - loss: 0.1307 - mean_absolute_error: 0.1307 - val_loss: 0.1923 - val_mean_absolute_error: 0.1923\n",
            "Epoch 66/100\n",
            "\u001b[1m90/90\u001b[0m \u001b[32m━━━━━━━━━━━━━━━━━━━━\u001b[0m\u001b[37m\u001b[0m \u001b[1m0s\u001b[0m 5ms/step - loss: 0.1397 - mean_absolute_error: 0.1397 - val_loss: 0.1887 - val_mean_absolute_error: 0.1887\n",
            "Epoch 67/100\n",
            "\u001b[1m90/90\u001b[0m \u001b[32m━━━━━━━━━━━━━━━━━━━━\u001b[0m\u001b[37m\u001b[0m \u001b[1m1s\u001b[0m 6ms/step - loss: 0.1267 - mean_absolute_error: 0.1267 - val_loss: 0.1847 - val_mean_absolute_error: 0.1847\n",
            "Epoch 68/100\n",
            "\u001b[1m90/90\u001b[0m \u001b[32m━━━━━━━━━━━━━━━━━━━━\u001b[0m\u001b[37m\u001b[0m \u001b[1m0s\u001b[0m 5ms/step - loss: 0.1210 - mean_absolute_error: 0.1210 - val_loss: 0.1910 - val_mean_absolute_error: 0.1910\n",
            "Epoch 69/100\n",
            "\u001b[1m90/90\u001b[0m \u001b[32m━━━━━━━━━━━━━━━━━━━━\u001b[0m\u001b[37m\u001b[0m \u001b[1m1s\u001b[0m 5ms/step - loss: 0.1379 - mean_absolute_error: 0.1379 - val_loss: 0.1827 - val_mean_absolute_error: 0.1827\n",
            "Epoch 70/100\n",
            "\u001b[1m90/90\u001b[0m \u001b[32m━━━━━━━━━━━━━━━━━━━━\u001b[0m\u001b[37m\u001b[0m \u001b[1m1s\u001b[0m 5ms/step - loss: 0.1250 - mean_absolute_error: 0.1250 - val_loss: 0.2153 - val_mean_absolute_error: 0.2153\n",
            "Epoch 71/100\n",
            "\u001b[1m90/90\u001b[0m \u001b[32m━━━━━━━━━━━━━━━━━━━━\u001b[0m\u001b[37m\u001b[0m \u001b[1m1s\u001b[0m 5ms/step - loss: 0.1694 - mean_absolute_error: 0.1694 - val_loss: 0.1859 - val_mean_absolute_error: 0.1859\n",
            "Epoch 72/100\n",
            "\u001b[1m90/90\u001b[0m \u001b[32m━━━━━━━━━━━━━━━━━━━━\u001b[0m\u001b[37m\u001b[0m \u001b[1m1s\u001b[0m 6ms/step - loss: 0.1310 - mean_absolute_error: 0.1310 - val_loss: 0.1827 - val_mean_absolute_error: 0.1827\n",
            "Epoch 73/100\n",
            "\u001b[1m90/90\u001b[0m \u001b[32m━━━━━━━━━━━━━━━━━━━━\u001b[0m\u001b[37m\u001b[0m \u001b[1m1s\u001b[0m 5ms/step - loss: 0.1187 - mean_absolute_error: 0.1187 - val_loss: 0.1856 - val_mean_absolute_error: 0.1856\n",
            "Epoch 74/100\n",
            "\u001b[1m90/90\u001b[0m \u001b[32m━━━━━━━━━━━━━━━━━━━━\u001b[0m\u001b[37m\u001b[0m \u001b[1m1s\u001b[0m 6ms/step - loss: 0.1216 - mean_absolute_error: 0.1216 - val_loss: 0.1819 - val_mean_absolute_error: 0.1819\n",
            "Epoch 75/100\n",
            "\u001b[1m90/90\u001b[0m \u001b[32m━━━━━━━━━━━━━━━━━━━━\u001b[0m\u001b[37m\u001b[0m \u001b[1m1s\u001b[0m 10ms/step - loss: 0.1248 - mean_absolute_error: 0.1248 - val_loss: 0.1864 - val_mean_absolute_error: 0.1864\n",
            "Epoch 76/100\n",
            "\u001b[1m90/90\u001b[0m \u001b[32m━━━━━━━━━━━━━━━━━━━━\u001b[0m\u001b[37m\u001b[0m \u001b[1m1s\u001b[0m 9ms/step - loss: 0.1218 - mean_absolute_error: 0.1218 - val_loss: 0.1811 - val_mean_absolute_error: 0.1811\n",
            "Epoch 77/100\n",
            "\u001b[1m90/90\u001b[0m \u001b[32m━━━━━━━━━━━━━━━━━━━━\u001b[0m\u001b[37m\u001b[0m \u001b[1m1s\u001b[0m 11ms/step - loss: 0.1286 - mean_absolute_error: 0.1286 - val_loss: 0.1843 - val_mean_absolute_error: 0.1843\n",
            "Epoch 78/100\n",
            "\u001b[1m90/90\u001b[0m \u001b[32m━━━━━━━━━━━━━━━━━━━━\u001b[0m\u001b[37m\u001b[0m \u001b[1m1s\u001b[0m 7ms/step - loss: 0.1295 - mean_absolute_error: 0.1295 - val_loss: 0.1805 - val_mean_absolute_error: 0.1805\n",
            "Epoch 79/100\n",
            "\u001b[1m90/90\u001b[0m \u001b[32m━━━━━━━━━━━━━━━━━━━━\u001b[0m\u001b[37m\u001b[0m \u001b[1m1s\u001b[0m 5ms/step - loss: 0.1273 - mean_absolute_error: 0.1273 - val_loss: 0.1826 - val_mean_absolute_error: 0.1826\n",
            "Epoch 80/100\n",
            "\u001b[1m90/90\u001b[0m \u001b[32m━━━━━━━━━━━━━━━━━━━━\u001b[0m\u001b[37m\u001b[0m \u001b[1m1s\u001b[0m 6ms/step - loss: 0.1267 - mean_absolute_error: 0.1267 - val_loss: 0.1796 - val_mean_absolute_error: 0.1796\n",
            "Epoch 81/100\n",
            "\u001b[1m90/90\u001b[0m \u001b[32m━━━━━━━━━━━━━━━━━━━━\u001b[0m\u001b[37m\u001b[0m \u001b[1m1s\u001b[0m 5ms/step - loss: 0.1318 - mean_absolute_error: 0.1318 - val_loss: 0.1843 - val_mean_absolute_error: 0.1843\n",
            "Epoch 82/100\n",
            "\u001b[1m90/90\u001b[0m \u001b[32m━━━━━━━━━━━━━━━━━━━━\u001b[0m\u001b[37m\u001b[0m \u001b[1m1s\u001b[0m 6ms/step - loss: 0.1148 - mean_absolute_error: 0.1148 - val_loss: 0.1832 - val_mean_absolute_error: 0.1832\n",
            "Epoch 83/100\n",
            "\u001b[1m90/90\u001b[0m \u001b[32m━━━━━━━━━━━━━━━━━━━━\u001b[0m\u001b[37m\u001b[0m \u001b[1m1s\u001b[0m 6ms/step - loss: 0.1192 - mean_absolute_error: 0.1192 - val_loss: 0.1854 - val_mean_absolute_error: 0.1854\n",
            "Epoch 84/100\n",
            "\u001b[1m90/90\u001b[0m \u001b[32m━━━━━━━━━━━━━━━━━━━━\u001b[0m\u001b[37m\u001b[0m \u001b[1m1s\u001b[0m 5ms/step - loss: 0.1239 - mean_absolute_error: 0.1239 - val_loss: 0.1983 - val_mean_absolute_error: 0.1983\n",
            "Epoch 85/100\n",
            "\u001b[1m90/90\u001b[0m \u001b[32m━━━━━━━━━━━━━━━━━━━━\u001b[0m\u001b[37m\u001b[0m \u001b[1m1s\u001b[0m 6ms/step - loss: 0.1253 - mean_absolute_error: 0.1253 - val_loss: 0.1813 - val_mean_absolute_error: 0.1813\n",
            "Epoch 86/100\n",
            "\u001b[1m90/90\u001b[0m \u001b[32m━━━━━━━━━━━━━━━━━━━━\u001b[0m\u001b[37m\u001b[0m \u001b[1m1s\u001b[0m 5ms/step - loss: 0.1283 - mean_absolute_error: 0.1283 - val_loss: 0.1869 - val_mean_absolute_error: 0.1869\n",
            "Epoch 87/100\n",
            "\u001b[1m90/90\u001b[0m \u001b[32m━━━━━━━━━━━━━━━━━━━━\u001b[0m\u001b[37m\u001b[0m \u001b[1m1s\u001b[0m 6ms/step - loss: 0.1181 - mean_absolute_error: 0.1181 - val_loss: 0.1816 - val_mean_absolute_error: 0.1816\n",
            "Epoch 88/100\n",
            "\u001b[1m90/90\u001b[0m \u001b[32m━━━━━━━━━━━━━━━━━━━━\u001b[0m\u001b[37m\u001b[0m \u001b[1m1s\u001b[0m 6ms/step - loss: 0.1203 - mean_absolute_error: 0.1203 - val_loss: 0.1801 - val_mean_absolute_error: 0.1801\n",
            "Epoch 89/100\n",
            "\u001b[1m90/90\u001b[0m \u001b[32m━━━━━━━━━━━━━━━━━━━━\u001b[0m\u001b[37m\u001b[0m \u001b[1m1s\u001b[0m 6ms/step - loss: 0.1245 - mean_absolute_error: 0.1245 - val_loss: 0.1827 - val_mean_absolute_error: 0.1827\n",
            "Epoch 90/100\n",
            "\u001b[1m90/90\u001b[0m \u001b[32m━━━━━━━━━━━━━━━━━━━━\u001b[0m\u001b[37m\u001b[0m \u001b[1m1s\u001b[0m 6ms/step - loss: 0.1163 - mean_absolute_error: 0.1163 - val_loss: 0.1868 - val_mean_absolute_error: 0.1868\n",
            "Epoch 91/100\n",
            "\u001b[1m90/90\u001b[0m \u001b[32m━━━━━━━━━━━━━━━━━━━━\u001b[0m\u001b[37m\u001b[0m \u001b[1m0s\u001b[0m 5ms/step - loss: 0.1121 - mean_absolute_error: 0.1121 - val_loss: 0.1817 - val_mean_absolute_error: 0.1817\n",
            "Epoch 92/100\n",
            "\u001b[1m90/90\u001b[0m \u001b[32m━━━━━━━━━━━━━━━━━━━━\u001b[0m\u001b[37m\u001b[0m \u001b[1m1s\u001b[0m 6ms/step - loss: 0.1191 - mean_absolute_error: 0.1191 - val_loss: 0.2013 - val_mean_absolute_error: 0.2013\n",
            "Epoch 93/100\n",
            "\u001b[1m90/90\u001b[0m \u001b[32m━━━━━━━━━━━━━━━━━━━━\u001b[0m\u001b[37m\u001b[0m \u001b[1m1s\u001b[0m 6ms/step - loss: 0.1394 - mean_absolute_error: 0.1394 - val_loss: 0.1817 - val_mean_absolute_error: 0.1817\n",
            "Epoch 94/100\n",
            "\u001b[1m90/90\u001b[0m \u001b[32m━━━━━━━━━━━━━━━━━━━━\u001b[0m\u001b[37m\u001b[0m \u001b[1m1s\u001b[0m 10ms/step - loss: 0.1385 - mean_absolute_error: 0.1385 - val_loss: 0.1888 - val_mean_absolute_error: 0.1888\n",
            "Epoch 95/100\n",
            "\u001b[1m90/90\u001b[0m \u001b[32m━━━━━━━━━━━━━━━━━━━━\u001b[0m\u001b[37m\u001b[0m \u001b[1m1s\u001b[0m 9ms/step - loss: 0.1322 - mean_absolute_error: 0.1322 - val_loss: 0.1862 - val_mean_absolute_error: 0.1862\n",
            "Epoch 96/100\n",
            "\u001b[1m90/90\u001b[0m \u001b[32m━━━━━━━━━━━━━━━━━━━━\u001b[0m\u001b[37m\u001b[0m \u001b[1m1s\u001b[0m 10ms/step - loss: 0.1324 - mean_absolute_error: 0.1324 - val_loss: 0.1798 - val_mean_absolute_error: 0.1798\n",
            "Epoch 97/100\n",
            "\u001b[1m90/90\u001b[0m \u001b[32m━━━━━━━━━━━━━━━━━━━━\u001b[0m\u001b[37m\u001b[0m \u001b[1m1s\u001b[0m 10ms/step - loss: 0.1118 - mean_absolute_error: 0.1118 - val_loss: 0.1839 - val_mean_absolute_error: 0.1839\n",
            "Epoch 98/100\n",
            "\u001b[1m90/90\u001b[0m \u001b[32m━━━━━━━━━━━━━━━━━━━━\u001b[0m\u001b[37m\u001b[0m \u001b[1m1s\u001b[0m 5ms/step - loss: 0.1220 - mean_absolute_error: 0.1220 - val_loss: 0.1833 - val_mean_absolute_error: 0.1833\n",
            "Epoch 99/100\n",
            "\u001b[1m90/90\u001b[0m \u001b[32m━━━━━━━━━━━━━━━━━━━━\u001b[0m\u001b[37m\u001b[0m \u001b[1m1s\u001b[0m 5ms/step - loss: 0.1154 - mean_absolute_error: 0.1154 - val_loss: 0.1863 - val_mean_absolute_error: 0.1863\n",
            "Epoch 100/100\n",
            "\u001b[1m90/90\u001b[0m \u001b[32m━━━━━━━━━━━━━━━━━━━━\u001b[0m\u001b[37m\u001b[0m \u001b[1m1s\u001b[0m 6ms/step - loss: 0.1228 - mean_absolute_error: 0.1228 - val_loss: 0.1831 - val_mean_absolute_error: 0.1831\n",
            "\u001b[1m39/39\u001b[0m \u001b[32m━━━━━━━━━━━━━━━━━━━━\u001b[0m\u001b[37m\u001b[0m \u001b[1m0s\u001b[0m 3ms/step\n",
            "Epoch 1/100\n"
          ]
        },
        {
          "output_type": "stream",
          "name": "stderr",
          "text": [
            "/usr/local/lib/python3.10/dist-packages/keras/src/layers/core/dense.py:87: UserWarning: Do not pass an `input_shape`/`input_dim` argument to a layer. When using Sequential models, prefer using an `Input(shape)` object as the first layer in the model instead.\n",
            "  super().__init__(activity_regularizer=activity_regularizer, **kwargs)\n"
          ]
        },
        {
          "output_type": "stream",
          "name": "stdout",
          "text": [
            "\u001b[1m90/90\u001b[0m \u001b[32m━━━━━━━━━━━━━━━━━━━━\u001b[0m\u001b[37m\u001b[0m \u001b[1m2s\u001b[0m 7ms/step - loss: 0.2564 - mean_absolute_error: 0.2564 - val_loss: 0.2177 - val_mean_absolute_error: 0.2177\n",
            "Epoch 2/100\n",
            "\u001b[1m90/90\u001b[0m \u001b[32m━━━━━━━━━━━━━━━━━━━━\u001b[0m\u001b[37m\u001b[0m \u001b[1m1s\u001b[0m 5ms/step - loss: 0.2382 - mean_absolute_error: 0.2382 - val_loss: 0.2177 - val_mean_absolute_error: 0.2177\n",
            "Epoch 3/100\n",
            "\u001b[1m90/90\u001b[0m \u001b[32m━━━━━━━━━━━━━━━━━━━━\u001b[0m\u001b[37m\u001b[0m \u001b[1m1s\u001b[0m 5ms/step - loss: 0.2490 - mean_absolute_error: 0.2490 - val_loss: 0.2172 - val_mean_absolute_error: 0.2172\n",
            "Epoch 4/100\n",
            "\u001b[1m90/90\u001b[0m \u001b[32m━━━━━━━━━━━━━━━━━━━━\u001b[0m\u001b[37m\u001b[0m \u001b[1m1s\u001b[0m 5ms/step - loss: 0.2193 - mean_absolute_error: 0.2193 - val_loss: 0.2018 - val_mean_absolute_error: 0.2018\n",
            "Epoch 5/100\n",
            "\u001b[1m90/90\u001b[0m \u001b[32m━━━━━━━━━━━━━━━━━━━━\u001b[0m\u001b[37m\u001b[0m \u001b[1m1s\u001b[0m 6ms/step - loss: 0.1978 - mean_absolute_error: 0.1978 - val_loss: 0.2060 - val_mean_absolute_error: 0.2060\n",
            "Epoch 6/100\n",
            "\u001b[1m90/90\u001b[0m \u001b[32m━━━━━━━━━━━━━━━━━━━━\u001b[0m\u001b[37m\u001b[0m \u001b[1m0s\u001b[0m 5ms/step - loss: 0.2039 - mean_absolute_error: 0.2039 - val_loss: 0.2009 - val_mean_absolute_error: 0.2009\n",
            "Epoch 7/100\n",
            "\u001b[1m90/90\u001b[0m \u001b[32m━━━━━━━━━━━━━━━━━━━━\u001b[0m\u001b[37m\u001b[0m \u001b[1m1s\u001b[0m 6ms/step - loss: 0.2100 - mean_absolute_error: 0.2100 - val_loss: 0.2007 - val_mean_absolute_error: 0.2007\n",
            "Epoch 8/100\n",
            "\u001b[1m90/90\u001b[0m \u001b[32m━━━━━━━━━━━━━━━━━━━━\u001b[0m\u001b[37m\u001b[0m \u001b[1m1s\u001b[0m 5ms/step - loss: 0.2024 - mean_absolute_error: 0.2024 - val_loss: 0.1972 - val_mean_absolute_error: 0.1972\n",
            "Epoch 9/100\n",
            "\u001b[1m90/90\u001b[0m \u001b[32m━━━━━━━━━━━━━━━━━━━━\u001b[0m\u001b[37m\u001b[0m \u001b[1m1s\u001b[0m 5ms/step - loss: 0.1921 - mean_absolute_error: 0.1921 - val_loss: 0.1980 - val_mean_absolute_error: 0.1980\n",
            "Epoch 10/100\n",
            "\u001b[1m90/90\u001b[0m \u001b[32m━━━━━━━━━━━━━━━━━━━━\u001b[0m\u001b[37m\u001b[0m \u001b[1m1s\u001b[0m 5ms/step - loss: 0.1862 - mean_absolute_error: 0.1862 - val_loss: 0.1978 - val_mean_absolute_error: 0.1978\n",
            "Epoch 11/100\n",
            "\u001b[1m90/90\u001b[0m \u001b[32m━━━━━━━━━━━━━━━━━━━━\u001b[0m\u001b[37m\u001b[0m \u001b[1m1s\u001b[0m 8ms/step - loss: 0.1896 - mean_absolute_error: 0.1896 - val_loss: 0.2091 - val_mean_absolute_error: 0.2091\n",
            "Epoch 12/100\n",
            "\u001b[1m90/90\u001b[0m \u001b[32m━━━━━━━━━━━━━━━━━━━━\u001b[0m\u001b[37m\u001b[0m \u001b[1m1s\u001b[0m 9ms/step - loss: 0.1866 - mean_absolute_error: 0.1866 - val_loss: 0.1922 - val_mean_absolute_error: 0.1922\n",
            "Epoch 13/100\n",
            "\u001b[1m90/90\u001b[0m \u001b[32m━━━━━━━━━━━━━━━━━━━━\u001b[0m\u001b[37m\u001b[0m \u001b[1m1s\u001b[0m 10ms/step - loss: 0.1850 - mean_absolute_error: 0.1850 - val_loss: 0.1984 - val_mean_absolute_error: 0.1984\n",
            "Epoch 14/100\n",
            "\u001b[1m90/90\u001b[0m \u001b[32m━━━━━━━━━━━━━━━━━━━━\u001b[0m\u001b[37m\u001b[0m \u001b[1m1s\u001b[0m 5ms/step - loss: 0.1775 - mean_absolute_error: 0.1775 - val_loss: 0.1921 - val_mean_absolute_error: 0.1921\n",
            "Epoch 15/100\n",
            "\u001b[1m90/90\u001b[0m \u001b[32m━━━━━━━━━━━━━━━━━━━━\u001b[0m\u001b[37m\u001b[0m \u001b[1m1s\u001b[0m 5ms/step - loss: 0.1821 - mean_absolute_error: 0.1821 - val_loss: 0.1876 - val_mean_absolute_error: 0.1876\n",
            "Epoch 16/100\n",
            "\u001b[1m90/90\u001b[0m \u001b[32m━━━━━━━━━━━━━━━━━━━━\u001b[0m\u001b[37m\u001b[0m \u001b[1m1s\u001b[0m 6ms/step - loss: 0.1728 - mean_absolute_error: 0.1728 - val_loss: 0.1884 - val_mean_absolute_error: 0.1884\n",
            "Epoch 17/100\n",
            "\u001b[1m90/90\u001b[0m \u001b[32m━━━━━━━━━━━━━━━━━━━━\u001b[0m\u001b[37m\u001b[0m \u001b[1m1s\u001b[0m 6ms/step - loss: 0.1766 - mean_absolute_error: 0.1766 - val_loss: 0.1898 - val_mean_absolute_error: 0.1898\n",
            "Epoch 18/100\n",
            "\u001b[1m90/90\u001b[0m \u001b[32m━━━━━━━━━━━━━━━━━━━━\u001b[0m\u001b[37m\u001b[0m \u001b[1m1s\u001b[0m 6ms/step - loss: 0.1655 - mean_absolute_error: 0.1655 - val_loss: 0.1849 - val_mean_absolute_error: 0.1849\n",
            "Epoch 19/100\n",
            "\u001b[1m90/90\u001b[0m \u001b[32m━━━━━━━━━━━━━━━━━━━━\u001b[0m\u001b[37m\u001b[0m \u001b[1m1s\u001b[0m 6ms/step - loss: 0.1744 - mean_absolute_error: 0.1744 - val_loss: 0.1856 - val_mean_absolute_error: 0.1856\n",
            "Epoch 20/100\n",
            "\u001b[1m90/90\u001b[0m \u001b[32m━━━━━━━━━━━━━━━━━━━━\u001b[0m\u001b[37m\u001b[0m \u001b[1m1s\u001b[0m 6ms/step - loss: 0.1749 - mean_absolute_error: 0.1749 - val_loss: 0.1871 - val_mean_absolute_error: 0.1871\n",
            "Epoch 21/100\n",
            "\u001b[1m90/90\u001b[0m \u001b[32m━━━━━━━━━━━━━━━━━━━━\u001b[0m\u001b[37m\u001b[0m \u001b[1m1s\u001b[0m 5ms/step - loss: 0.1620 - mean_absolute_error: 0.1620 - val_loss: 0.1904 - val_mean_absolute_error: 0.1904\n",
            "Epoch 22/100\n",
            "\u001b[1m90/90\u001b[0m \u001b[32m━━━━━━━━━━━━━━━━━━━━\u001b[0m\u001b[37m\u001b[0m \u001b[1m1s\u001b[0m 6ms/step - loss: 0.1630 - mean_absolute_error: 0.1630 - val_loss: 0.1857 - val_mean_absolute_error: 0.1857\n",
            "Epoch 23/100\n",
            "\u001b[1m90/90\u001b[0m \u001b[32m━━━━━━━━━━━━━━━━━━━━\u001b[0m\u001b[37m\u001b[0m \u001b[1m1s\u001b[0m 6ms/step - loss: 0.1645 - mean_absolute_error: 0.1645 - val_loss: 0.1879 - val_mean_absolute_error: 0.1879\n",
            "Epoch 24/100\n",
            "\u001b[1m90/90\u001b[0m \u001b[32m━━━━━━━━━━━━━━━━━━━━\u001b[0m\u001b[37m\u001b[0m \u001b[1m1s\u001b[0m 5ms/step - loss: 0.1604 - mean_absolute_error: 0.1604 - val_loss: 0.1941 - val_mean_absolute_error: 0.1941\n",
            "Epoch 25/100\n",
            "\u001b[1m90/90\u001b[0m \u001b[32m━━━━━━━━━━━━━━━━━━━━\u001b[0m\u001b[37m\u001b[0m \u001b[1m1s\u001b[0m 6ms/step - loss: 0.1614 - mean_absolute_error: 0.1614 - val_loss: 0.2082 - val_mean_absolute_error: 0.2082\n",
            "Epoch 26/100\n",
            "\u001b[1m90/90\u001b[0m \u001b[32m━━━━━━━━━━━━━━━━━━━━\u001b[0m\u001b[37m\u001b[0m \u001b[1m1s\u001b[0m 6ms/step - loss: 0.1602 - mean_absolute_error: 0.1602 - val_loss: 0.1960 - val_mean_absolute_error: 0.1960\n",
            "Epoch 27/100\n",
            "\u001b[1m90/90\u001b[0m \u001b[32m━━━━━━━━━━━━━━━━━━━━\u001b[0m\u001b[37m\u001b[0m \u001b[1m1s\u001b[0m 5ms/step - loss: 0.1594 - mean_absolute_error: 0.1594 - val_loss: 0.1869 - val_mean_absolute_error: 0.1869\n",
            "Epoch 28/100\n",
            "\u001b[1m90/90\u001b[0m \u001b[32m━━━━━━━━━━━━━━━━━━━━\u001b[0m\u001b[37m\u001b[0m \u001b[1m1s\u001b[0m 6ms/step - loss: 0.1629 - mean_absolute_error: 0.1629 - val_loss: 0.2192 - val_mean_absolute_error: 0.2192\n",
            "Epoch 29/100\n",
            "\u001b[1m90/90\u001b[0m \u001b[32m━━━━━━━━━━━━━━━━━━━━\u001b[0m\u001b[37m\u001b[0m \u001b[1m1s\u001b[0m 5ms/step - loss: 0.1794 - mean_absolute_error: 0.1794 - val_loss: 0.1841 - val_mean_absolute_error: 0.1841\n",
            "Epoch 30/100\n",
            "\u001b[1m90/90\u001b[0m \u001b[32m━━━━━━━━━━━━━━━━━━━━\u001b[0m\u001b[37m\u001b[0m \u001b[1m1s\u001b[0m 7ms/step - loss: 0.1575 - mean_absolute_error: 0.1575 - val_loss: 0.1828 - val_mean_absolute_error: 0.1828\n",
            "Epoch 31/100\n",
            "\u001b[1m90/90\u001b[0m \u001b[32m━━━━━━━━━━━━━━━━━━━━\u001b[0m\u001b[37m\u001b[0m \u001b[1m2s\u001b[0m 10ms/step - loss: 0.1568 - mean_absolute_error: 0.1568 - val_loss: 0.1905 - val_mean_absolute_error: 0.1905\n",
            "Epoch 32/100\n",
            "\u001b[1m90/90\u001b[0m \u001b[32m━━━━━━━━━━━━━━━━━━━━\u001b[0m\u001b[37m\u001b[0m \u001b[1m1s\u001b[0m 10ms/step - loss: 0.1729 - mean_absolute_error: 0.1729 - val_loss: 0.1838 - val_mean_absolute_error: 0.1838\n",
            "Epoch 33/100\n",
            "\u001b[1m90/90\u001b[0m \u001b[32m━━━━━━━━━━━━━━━━━━━━\u001b[0m\u001b[37m\u001b[0m \u001b[1m1s\u001b[0m 6ms/step - loss: 0.1533 - mean_absolute_error: 0.1533 - val_loss: 0.1835 - val_mean_absolute_error: 0.1835\n",
            "Epoch 34/100\n",
            "\u001b[1m90/90\u001b[0m \u001b[32m━━━━━━━━━━━━━━━━━━━━\u001b[0m\u001b[37m\u001b[0m \u001b[1m1s\u001b[0m 5ms/step - loss: 0.1528 - mean_absolute_error: 0.1528 - val_loss: 0.1885 - val_mean_absolute_error: 0.1885\n",
            "Epoch 35/100\n",
            "\u001b[1m90/90\u001b[0m \u001b[32m━━━━━━━━━━━━━━━━━━━━\u001b[0m\u001b[37m\u001b[0m \u001b[1m1s\u001b[0m 5ms/step - loss: 0.1525 - mean_absolute_error: 0.1525 - val_loss: 0.1822 - val_mean_absolute_error: 0.1822\n",
            "Epoch 36/100\n",
            "\u001b[1m90/90\u001b[0m \u001b[32m━━━━━━━━━━━━━━━━━━━━\u001b[0m\u001b[37m\u001b[0m \u001b[1m1s\u001b[0m 6ms/step - loss: 0.1519 - mean_absolute_error: 0.1519 - val_loss: 0.1926 - val_mean_absolute_error: 0.1926\n",
            "Epoch 37/100\n",
            "\u001b[1m90/90\u001b[0m \u001b[32m━━━━━━━━━━━━━━━━━━━━\u001b[0m\u001b[37m\u001b[0m \u001b[1m0s\u001b[0m 5ms/step - loss: 0.1497 - mean_absolute_error: 0.1497 - val_loss: 0.1808 - val_mean_absolute_error: 0.1808\n",
            "Epoch 38/100\n",
            "\u001b[1m90/90\u001b[0m \u001b[32m━━━━━━━━━━━━━━━━━━━━\u001b[0m\u001b[37m\u001b[0m \u001b[1m1s\u001b[0m 6ms/step - loss: 0.1429 - mean_absolute_error: 0.1429 - val_loss: 0.1818 - val_mean_absolute_error: 0.1818\n",
            "Epoch 39/100\n",
            "\u001b[1m90/90\u001b[0m \u001b[32m━━━━━━━━━━━━━━━━━━━━\u001b[0m\u001b[37m\u001b[0m \u001b[1m1s\u001b[0m 6ms/step - loss: 0.1523 - mean_absolute_error: 0.1523 - val_loss: 0.1910 - val_mean_absolute_error: 0.1910\n",
            "Epoch 40/100\n",
            "\u001b[1m90/90\u001b[0m \u001b[32m━━━━━━━━━━━━━━━━━━━━\u001b[0m\u001b[37m\u001b[0m \u001b[1m1s\u001b[0m 6ms/step - loss: 0.1448 - mean_absolute_error: 0.1448 - val_loss: 0.1819 - val_mean_absolute_error: 0.1819\n",
            "Epoch 41/100\n",
            "\u001b[1m90/90\u001b[0m \u001b[32m━━━━━━━━━━━━━━━━━━━━\u001b[0m\u001b[37m\u001b[0m \u001b[1m1s\u001b[0m 7ms/step - loss: 0.1507 - mean_absolute_error: 0.1507 - val_loss: 0.1909 - val_mean_absolute_error: 0.1909\n",
            "Epoch 42/100\n",
            "\u001b[1m90/90\u001b[0m \u001b[32m━━━━━━━━━━━━━━━━━━━━\u001b[0m\u001b[37m\u001b[0m \u001b[1m1s\u001b[0m 5ms/step - loss: 0.1539 - mean_absolute_error: 0.1539 - val_loss: 0.1807 - val_mean_absolute_error: 0.1807\n",
            "Epoch 43/100\n",
            "\u001b[1m90/90\u001b[0m \u001b[32m━━━━━━━━━━━━━━━━━━━━\u001b[0m\u001b[37m\u001b[0m \u001b[1m1s\u001b[0m 6ms/step - loss: 0.1541 - mean_absolute_error: 0.1541 - val_loss: 0.1842 - val_mean_absolute_error: 0.1842\n",
            "Epoch 44/100\n",
            "\u001b[1m90/90\u001b[0m \u001b[32m━━━━━━━━━━━━━━━━━━━━\u001b[0m\u001b[37m\u001b[0m \u001b[1m0s\u001b[0m 5ms/step - loss: 0.1428 - mean_absolute_error: 0.1428 - val_loss: 0.1845 - val_mean_absolute_error: 0.1845\n",
            "Epoch 45/100\n",
            "\u001b[1m90/90\u001b[0m \u001b[32m━━━━━━━━━━━━━━━━━━━━\u001b[0m\u001b[37m\u001b[0m \u001b[1m1s\u001b[0m 5ms/step - loss: 0.1466 - mean_absolute_error: 0.1466 - val_loss: 0.1918 - val_mean_absolute_error: 0.1918\n",
            "Epoch 46/100\n",
            "\u001b[1m90/90\u001b[0m \u001b[32m━━━━━━━━━━━━━━━━━━━━\u001b[0m\u001b[37m\u001b[0m \u001b[1m1s\u001b[0m 5ms/step - loss: 0.1468 - mean_absolute_error: 0.1468 - val_loss: 0.1902 - val_mean_absolute_error: 0.1902\n",
            "Epoch 47/100\n",
            "\u001b[1m90/90\u001b[0m \u001b[32m━━━━━━━━━━━━━━━━━━━━\u001b[0m\u001b[37m\u001b[0m \u001b[1m1s\u001b[0m 5ms/step - loss: 0.1666 - mean_absolute_error: 0.1666 - val_loss: 0.1823 - val_mean_absolute_error: 0.1823\n",
            "Epoch 48/100\n",
            "\u001b[1m90/90\u001b[0m \u001b[32m━━━━━━━━━━━━━━━━━━━━\u001b[0m\u001b[37m\u001b[0m \u001b[1m1s\u001b[0m 6ms/step - loss: 0.1450 - mean_absolute_error: 0.1450 - val_loss: 0.1843 - val_mean_absolute_error: 0.1843\n",
            "Epoch 49/100\n",
            "\u001b[1m90/90\u001b[0m \u001b[32m━━━━━━━━━━━━━━━━━━━━\u001b[0m\u001b[37m\u001b[0m \u001b[1m1s\u001b[0m 6ms/step - loss: 0.1421 - mean_absolute_error: 0.1421 - val_loss: 0.1992 - val_mean_absolute_error: 0.1992\n",
            "Epoch 50/100\n",
            "\u001b[1m90/90\u001b[0m \u001b[32m━━━━━━━━━━━━━━━━━━━━\u001b[0m\u001b[37m\u001b[0m \u001b[1m1s\u001b[0m 9ms/step - loss: 0.1442 - mean_absolute_error: 0.1442 - val_loss: 0.1788 - val_mean_absolute_error: 0.1788\n",
            "Epoch 51/100\n",
            "\u001b[1m90/90\u001b[0m \u001b[32m━━━━━━━━━━━━━━━━━━━━\u001b[0m\u001b[37m\u001b[0m \u001b[1m1s\u001b[0m 10ms/step - loss: 0.1460 - mean_absolute_error: 0.1460 - val_loss: 0.1837 - val_mean_absolute_error: 0.1837\n",
            "Epoch 52/100\n",
            "\u001b[1m90/90\u001b[0m \u001b[32m━━━━━━━━━━━━━━━━━━━━\u001b[0m\u001b[37m\u001b[0m \u001b[1m1s\u001b[0m 10ms/step - loss: 0.1415 - mean_absolute_error: 0.1415 - val_loss: 0.1849 - val_mean_absolute_error: 0.1849\n",
            "Epoch 53/100\n",
            "\u001b[1m90/90\u001b[0m \u001b[32m━━━━━━━━━━━━━━━━━━━━\u001b[0m\u001b[37m\u001b[0m \u001b[1m1s\u001b[0m 5ms/step - loss: 0.1501 - mean_absolute_error: 0.1501 - val_loss: 0.1785 - val_mean_absolute_error: 0.1785\n",
            "Epoch 54/100\n",
            "\u001b[1m90/90\u001b[0m \u001b[32m━━━━━━━━━━━━━━━━━━━━\u001b[0m\u001b[37m\u001b[0m \u001b[1m1s\u001b[0m 5ms/step - loss: 0.1461 - mean_absolute_error: 0.1461 - val_loss: 0.1928 - val_mean_absolute_error: 0.1928\n",
            "Epoch 55/100\n",
            "\u001b[1m90/90\u001b[0m \u001b[32m━━━━━━━━━━━━━━━━━━━━\u001b[0m\u001b[37m\u001b[0m \u001b[1m1s\u001b[0m 5ms/step - loss: 0.1517 - mean_absolute_error: 0.1517 - val_loss: 0.1902 - val_mean_absolute_error: 0.1902\n",
            "Epoch 56/100\n",
            "\u001b[1m90/90\u001b[0m \u001b[32m━━━━━━━━━━━━━━━━━━━━\u001b[0m\u001b[37m\u001b[0m \u001b[1m1s\u001b[0m 5ms/step - loss: 0.1324 - mean_absolute_error: 0.1324 - val_loss: 0.1787 - val_mean_absolute_error: 0.1787\n",
            "Epoch 57/100\n",
            "\u001b[1m90/90\u001b[0m \u001b[32m━━━━━━━━━━━━━━━━━━━━\u001b[0m\u001b[37m\u001b[0m \u001b[1m1s\u001b[0m 6ms/step - loss: 0.1367 - mean_absolute_error: 0.1367 - val_loss: 0.1943 - val_mean_absolute_error: 0.1943\n",
            "Epoch 58/100\n",
            "\u001b[1m90/90\u001b[0m \u001b[32m━━━━━━━━━━━━━━━━━━━━\u001b[0m\u001b[37m\u001b[0m \u001b[1m1s\u001b[0m 6ms/step - loss: 0.1534 - mean_absolute_error: 0.1534 - val_loss: 0.1851 - val_mean_absolute_error: 0.1851\n",
            "Epoch 59/100\n",
            "\u001b[1m90/90\u001b[0m \u001b[32m━━━━━━━━━━━━━━━━━━━━\u001b[0m\u001b[37m\u001b[0m \u001b[1m1s\u001b[0m 6ms/step - loss: 0.1390 - mean_absolute_error: 0.1390 - val_loss: 0.1895 - val_mean_absolute_error: 0.1895\n",
            "Epoch 60/100\n",
            "\u001b[1m90/90\u001b[0m \u001b[32m━━━━━━━━━━━━━━━━━━━━\u001b[0m\u001b[37m\u001b[0m \u001b[1m1s\u001b[0m 5ms/step - loss: 0.2032 - mean_absolute_error: 0.2032 - val_loss: 0.1991 - val_mean_absolute_error: 0.1991\n",
            "Epoch 61/100\n",
            "\u001b[1m90/90\u001b[0m \u001b[32m━━━━━━━━━━━━━━━━━━━━\u001b[0m\u001b[37m\u001b[0m \u001b[1m1s\u001b[0m 6ms/step - loss: 0.1393 - mean_absolute_error: 0.1393 - val_loss: 0.1843 - val_mean_absolute_error: 0.1843\n",
            "Epoch 62/100\n",
            "\u001b[1m90/90\u001b[0m \u001b[32m━━━━━━━━━━━━━━━━━━━━\u001b[0m\u001b[37m\u001b[0m \u001b[1m1s\u001b[0m 5ms/step - loss: 0.1405 - mean_absolute_error: 0.1405 - val_loss: 0.1805 - val_mean_absolute_error: 0.1805\n",
            "Epoch 63/100\n",
            "\u001b[1m90/90\u001b[0m \u001b[32m━━━━━━━━━━━━━━━━━━━━\u001b[0m\u001b[37m\u001b[0m \u001b[1m1s\u001b[0m 6ms/step - loss: 0.1497 - mean_absolute_error: 0.1497 - val_loss: 0.1846 - val_mean_absolute_error: 0.1846\n",
            "Epoch 64/100\n",
            "\u001b[1m90/90\u001b[0m \u001b[32m━━━━━━━━━━━━━━━━━━━━\u001b[0m\u001b[37m\u001b[0m \u001b[1m1s\u001b[0m 5ms/step - loss: 0.1430 - mean_absolute_error: 0.1430 - val_loss: 0.1885 - val_mean_absolute_error: 0.1885\n",
            "Epoch 65/100\n",
            "\u001b[1m90/90\u001b[0m \u001b[32m━━━━━━━━━━━━━━━━━━━━\u001b[0m\u001b[37m\u001b[0m \u001b[1m1s\u001b[0m 5ms/step - loss: 0.1350 - mean_absolute_error: 0.1350 - val_loss: 0.1897 - val_mean_absolute_error: 0.1897\n",
            "Epoch 66/100\n",
            "\u001b[1m90/90\u001b[0m \u001b[32m━━━━━━━━━━━━━━━━━━━━\u001b[0m\u001b[37m\u001b[0m \u001b[1m1s\u001b[0m 6ms/step - loss: 0.1421 - mean_absolute_error: 0.1421 - val_loss: 0.2026 - val_mean_absolute_error: 0.2026\n",
            "Epoch 67/100\n",
            "\u001b[1m90/90\u001b[0m \u001b[32m━━━━━━━━━━━━━━━━━━━━\u001b[0m\u001b[37m\u001b[0m \u001b[1m1s\u001b[0m 5ms/step - loss: 0.1580 - mean_absolute_error: 0.1580 - val_loss: 0.1827 - val_mean_absolute_error: 0.1827\n",
            "Epoch 68/100\n",
            "\u001b[1m90/90\u001b[0m \u001b[32m━━━━━━━━━━━━━━━━━━━━\u001b[0m\u001b[37m\u001b[0m \u001b[1m1s\u001b[0m 5ms/step - loss: 0.1294 - mean_absolute_error: 0.1294 - val_loss: 0.2131 - val_mean_absolute_error: 0.2131\n",
            "Epoch 69/100\n",
            "\u001b[1m90/90\u001b[0m \u001b[32m━━━━━━━━━━━━━━━━━━━━\u001b[0m\u001b[37m\u001b[0m \u001b[1m1s\u001b[0m 9ms/step - loss: 0.1466 - mean_absolute_error: 0.1466 - val_loss: 0.1821 - val_mean_absolute_error: 0.1821\n",
            "Epoch 70/100\n",
            "\u001b[1m90/90\u001b[0m \u001b[32m━━━━━━━━━━━━━━━━━━━━\u001b[0m\u001b[37m\u001b[0m \u001b[1m1s\u001b[0m 10ms/step - loss: 0.1344 - mean_absolute_error: 0.1344 - val_loss: 0.1787 - val_mean_absolute_error: 0.1787\n",
            "Epoch 71/100\n",
            "\u001b[1m90/90\u001b[0m \u001b[32m━━━━━━━━━━━━━━━━━━━━\u001b[0m\u001b[37m\u001b[0m \u001b[1m1s\u001b[0m 9ms/step - loss: 0.1374 - mean_absolute_error: 0.1374 - val_loss: 0.1847 - val_mean_absolute_error: 0.1847\n",
            "Epoch 72/100\n",
            "\u001b[1m90/90\u001b[0m \u001b[32m━━━━━━━━━━━━━━━━━━━━\u001b[0m\u001b[37m\u001b[0m \u001b[1m1s\u001b[0m 6ms/step - loss: 0.1324 - mean_absolute_error: 0.1324 - val_loss: 0.1790 - val_mean_absolute_error: 0.1790\n",
            "Epoch 73/100\n",
            "\u001b[1m90/90\u001b[0m \u001b[32m━━━━━━━━━━━━━━━━━━━━\u001b[0m\u001b[37m\u001b[0m \u001b[1m1s\u001b[0m 6ms/step - loss: 0.1306 - mean_absolute_error: 0.1306 - val_loss: 0.1784 - val_mean_absolute_error: 0.1784\n",
            "Epoch 74/100\n",
            "\u001b[1m90/90\u001b[0m \u001b[32m━━━━━━━━━━━━━━━━━━━━\u001b[0m\u001b[37m\u001b[0m \u001b[1m1s\u001b[0m 6ms/step - loss: 0.1422 - mean_absolute_error: 0.1422 - val_loss: 0.1840 - val_mean_absolute_error: 0.1840\n",
            "Epoch 75/100\n",
            "\u001b[1m90/90\u001b[0m \u001b[32m━━━━━━━━━━━━━━━━━━━━\u001b[0m\u001b[37m\u001b[0m \u001b[1m1s\u001b[0m 6ms/step - loss: 0.1388 - mean_absolute_error: 0.1388 - val_loss: 0.1889 - val_mean_absolute_error: 0.1889\n",
            "Epoch 76/100\n",
            "\u001b[1m90/90\u001b[0m \u001b[32m━━━━━━━━━━━━━━━━━━━━\u001b[0m\u001b[37m\u001b[0m \u001b[1m1s\u001b[0m 6ms/step - loss: 0.1293 - mean_absolute_error: 0.1293 - val_loss: 0.1844 - val_mean_absolute_error: 0.1844\n",
            "Epoch 77/100\n",
            "\u001b[1m90/90\u001b[0m \u001b[32m━━━━━━━━━━━━━━━━━━━━\u001b[0m\u001b[37m\u001b[0m \u001b[1m1s\u001b[0m 6ms/step - loss: 0.1368 - mean_absolute_error: 0.1368 - val_loss: 0.1860 - val_mean_absolute_error: 0.1860\n",
            "Epoch 78/100\n",
            "\u001b[1m90/90\u001b[0m \u001b[32m━━━━━━━━━━━━━━━━━━━━\u001b[0m\u001b[37m\u001b[0m \u001b[1m1s\u001b[0m 5ms/step - loss: 0.1507 - mean_absolute_error: 0.1507 - val_loss: 0.1885 - val_mean_absolute_error: 0.1885\n",
            "Epoch 79/100\n",
            "\u001b[1m90/90\u001b[0m \u001b[32m━━━━━━━━━━━━━━━━━━━━\u001b[0m\u001b[37m\u001b[0m \u001b[1m1s\u001b[0m 5ms/step - loss: 0.1392 - mean_absolute_error: 0.1392 - val_loss: 0.1838 - val_mean_absolute_error: 0.1838\n",
            "Epoch 80/100\n",
            "\u001b[1m90/90\u001b[0m \u001b[32m━━━━━━━━━━━━━━━━━━━━\u001b[0m\u001b[37m\u001b[0m \u001b[1m1s\u001b[0m 5ms/step - loss: 0.1323 - mean_absolute_error: 0.1323 - val_loss: 0.1840 - val_mean_absolute_error: 0.1840\n",
            "Epoch 81/100\n",
            "\u001b[1m90/90\u001b[0m \u001b[32m━━━━━━━━━━━━━━━━━━━━\u001b[0m\u001b[37m\u001b[0m \u001b[1m1s\u001b[0m 5ms/step - loss: 0.1326 - mean_absolute_error: 0.1326 - val_loss: 0.1839 - val_mean_absolute_error: 0.1839\n",
            "Epoch 82/100\n",
            "\u001b[1m90/90\u001b[0m \u001b[32m━━━━━━━━━━━━━━━━━━━━\u001b[0m\u001b[37m\u001b[0m \u001b[1m1s\u001b[0m 6ms/step - loss: 0.1273 - mean_absolute_error: 0.1273 - val_loss: 0.1867 - val_mean_absolute_error: 0.1867\n",
            "Epoch 83/100\n",
            "\u001b[1m90/90\u001b[0m \u001b[32m━━━━━━━━━━━━━━━━━━━━\u001b[0m\u001b[37m\u001b[0m \u001b[1m1s\u001b[0m 5ms/step - loss: 0.1359 - mean_absolute_error: 0.1359 - val_loss: 0.1977 - val_mean_absolute_error: 0.1977\n",
            "Epoch 84/100\n",
            "\u001b[1m90/90\u001b[0m \u001b[32m━━━━━━━━━━━━━━━━━━━━\u001b[0m\u001b[37m\u001b[0m \u001b[1m1s\u001b[0m 5ms/step - loss: 0.1221 - mean_absolute_error: 0.1221 - val_loss: 0.1784 - val_mean_absolute_error: 0.1784\n",
            "Epoch 85/100\n",
            "\u001b[1m90/90\u001b[0m \u001b[32m━━━━━━━━━━━━━━━━━━━━\u001b[0m\u001b[37m\u001b[0m \u001b[1m1s\u001b[0m 5ms/step - loss: 0.1239 - mean_absolute_error: 0.1239 - val_loss: 0.1862 - val_mean_absolute_error: 0.1862\n",
            "Epoch 86/100\n",
            "\u001b[1m90/90\u001b[0m \u001b[32m━━━━━━━━━━━━━━━━━━━━\u001b[0m\u001b[37m\u001b[0m \u001b[1m1s\u001b[0m 5ms/step - loss: 0.1270 - mean_absolute_error: 0.1270 - val_loss: 0.1833 - val_mean_absolute_error: 0.1833\n",
            "Epoch 87/100\n",
            "\u001b[1m90/90\u001b[0m \u001b[32m━━━━━━━━━━━━━━━━━━━━\u001b[0m\u001b[37m\u001b[0m \u001b[1m1s\u001b[0m 8ms/step - loss: 0.1225 - mean_absolute_error: 0.1225 - val_loss: 0.2041 - val_mean_absolute_error: 0.2041\n",
            "Epoch 88/100\n",
            "\u001b[1m90/90\u001b[0m \u001b[32m━━━━━━━━━━━━━━━━━━━━\u001b[0m\u001b[37m\u001b[0m \u001b[1m1s\u001b[0m 9ms/step - loss: 0.1352 - mean_absolute_error: 0.1352 - val_loss: 0.1829 - val_mean_absolute_error: 0.1829\n",
            "Epoch 89/100\n",
            "\u001b[1m90/90\u001b[0m \u001b[32m━━━━━━━━━━━━━━━━━━━━\u001b[0m\u001b[37m\u001b[0m \u001b[1m1s\u001b[0m 9ms/step - loss: 0.1253 - mean_absolute_error: 0.1253 - val_loss: 0.1865 - val_mean_absolute_error: 0.1865\n",
            "Epoch 90/100\n",
            "\u001b[1m90/90\u001b[0m \u001b[32m━━━━━━━━━━━━━━━━━━━━\u001b[0m\u001b[37m\u001b[0m \u001b[1m1s\u001b[0m 5ms/step - loss: 0.1426 - mean_absolute_error: 0.1426 - val_loss: 0.1867 - val_mean_absolute_error: 0.1867\n",
            "Epoch 91/100\n",
            "\u001b[1m90/90\u001b[0m \u001b[32m━━━━━━━━━━━━━━━━━━━━\u001b[0m\u001b[37m\u001b[0m \u001b[1m0s\u001b[0m 5ms/step - loss: 0.1320 - mean_absolute_error: 0.1320 - val_loss: 0.1904 - val_mean_absolute_error: 0.1904\n",
            "Epoch 92/100\n",
            "\u001b[1m90/90\u001b[0m \u001b[32m━━━━━━━━━━━━━━━━━━━━\u001b[0m\u001b[37m\u001b[0m \u001b[1m1s\u001b[0m 6ms/step - loss: 0.1301 - mean_absolute_error: 0.1301 - val_loss: 0.1839 - val_mean_absolute_error: 0.1839\n",
            "Epoch 93/100\n",
            "\u001b[1m90/90\u001b[0m \u001b[32m━━━━━━━━━━━━━━━━━━━━\u001b[0m\u001b[37m\u001b[0m \u001b[1m0s\u001b[0m 5ms/step - loss: 0.1361 - mean_absolute_error: 0.1361 - val_loss: 0.1748 - val_mean_absolute_error: 0.1748\n",
            "Epoch 94/100\n",
            "\u001b[1m90/90\u001b[0m \u001b[32m━━━━━━━━━━━━━━━━━━━━\u001b[0m\u001b[37m\u001b[0m \u001b[1m1s\u001b[0m 6ms/step - loss: 0.1365 - mean_absolute_error: 0.1365 - val_loss: 0.1775 - val_mean_absolute_error: 0.1775\n",
            "Epoch 95/100\n",
            "\u001b[1m90/90\u001b[0m \u001b[32m━━━━━━━━━━━━━━━━━━━━\u001b[0m\u001b[37m\u001b[0m \u001b[1m1s\u001b[0m 5ms/step - loss: 0.1321 - mean_absolute_error: 0.1321 - val_loss: 0.1858 - val_mean_absolute_error: 0.1858\n",
            "Epoch 96/100\n",
            "\u001b[1m90/90\u001b[0m \u001b[32m━━━━━━━━━━━━━━━━━━━━\u001b[0m\u001b[37m\u001b[0m \u001b[1m1s\u001b[0m 5ms/step - loss: 0.1241 - mean_absolute_error: 0.1241 - val_loss: 0.1900 - val_mean_absolute_error: 0.1900\n",
            "Epoch 97/100\n",
            "\u001b[1m90/90\u001b[0m \u001b[32m━━━━━━━━━━━━━━━━━━━━\u001b[0m\u001b[37m\u001b[0m \u001b[1m0s\u001b[0m 5ms/step - loss: 0.1306 - mean_absolute_error: 0.1306 - val_loss: 0.1781 - val_mean_absolute_error: 0.1781\n",
            "Epoch 98/100\n",
            "\u001b[1m90/90\u001b[0m \u001b[32m━━━━━━━━━━━━━━━━━━━━\u001b[0m\u001b[37m\u001b[0m \u001b[1m1s\u001b[0m 5ms/step - loss: 0.1325 - mean_absolute_error: 0.1325 - val_loss: 0.1896 - val_mean_absolute_error: 0.1896\n",
            "Epoch 99/100\n",
            "\u001b[1m90/90\u001b[0m \u001b[32m━━━━━━━━━━━━━━━━━━━━\u001b[0m\u001b[37m\u001b[0m \u001b[1m1s\u001b[0m 6ms/step - loss: 0.1300 - mean_absolute_error: 0.1300 - val_loss: 0.1793 - val_mean_absolute_error: 0.1793\n",
            "Epoch 100/100\n",
            "\u001b[1m90/90\u001b[0m \u001b[32m━━━━━━━━━━━━━━━━━━━━\u001b[0m\u001b[37m\u001b[0m \u001b[1m1s\u001b[0m 5ms/step - loss: 0.1331 - mean_absolute_error: 0.1331 - val_loss: 0.1827 - val_mean_absolute_error: 0.1827\n",
            "\u001b[1m39/39\u001b[0m \u001b[32m━━━━━━━━━━━━━━━━━━━━\u001b[0m\u001b[37m\u001b[0m \u001b[1m0s\u001b[0m 3ms/step\n",
            "Лучшие параметры для Neural Network с подбором: [150, 20, 5]\n",
            "MAE для Neural Network с подбором: 0.17921586258818656\n"
          ]
        }
      ]
    },
    {
      "cell_type": "markdown",
      "source": [
        "MAE для Neural Network с подбором: 0.1792"
      ],
      "metadata": {
        "id": "I2--4jl615GE"
      }
    },
    {
      "cell_type": "markdown",
      "metadata": {
        "id": "SXJitgqevifc"
      },
      "source": [
        "<img src=\"https://upload.wikimedia.org/wikipedia/commons/b/ba/Warning_sign_4.0.png\" align=left width=44, heigth=33>\n",
        "<div class=\"alert alert-warning\">\n",
        "Есть смысл передать модели валидационную выборку, тогда она будет показывать лосс не толко на обучении, но и на валидации. Это помогает нам лучше настроить модель, понимать как улучшить решение. Ну и конечно же мониторить и лосс и нашу целевую метрику МАЕ, как мы это делали в прошлом проекте.</div>"
      ]
    },
    {
      "cell_type": "markdown",
      "metadata": {
        "id": "3nd6gGrvzp1l"
      },
      "source": [
        "<img src=\"https://upload.wikimedia.org/wikipedia/commons/b/ba/Warning_sign_4.0.png\" align=left width=44, heigth=33>\n",
        "<div class=\"alert alert-warning\">\n",
        "На мой взгляд ты воспринимаешь \"количество эпох\" как гиперпараметр \"спущеный с верху\". Т.е. устанавливаем параметры сети, запускаем обучение и смотрим на результат.\n",
        "    \n",
        "Но в случае с нейронками логика ипользования немного отличается от того, к чему мы привыкли в классических моделях. Здесь лучше работать по другой логике:\n",
        "    \n",
        " - оределилили архитектуру, создали модель\n",
        " - начинаем её учить. и учим пока метрика на валидационной выборке улучшается.  Наблюдая в динамике метрики на обучающей и валидационной выборках.\n",
        " - если вдруг метрика на обучающей выборке перестала снижаться, можно попробовать уменьшить шаг обучения (например в 10 раз) и продолжить обучение модели.\n",
        "    \n",
        "В любом случае полезно обучать модель пока метрика на валидации улучшается. Наша цель - оптимальное состояние модели, при котором модель хорошо находит законмоерности в данных, но еще не переобучилась.\n",
        "        \n",
        "После того, как закончили обучение смотрим на логи, анализируем, чего модели не хватило, меняем архитектуру и запускаем обучение по новой.    \n",
        "    \n",
        "\n",
        "    \n",
        "\n",
        "    \n",
        "</div>"
      ]
    },
    {
      "cell_type": "markdown",
      "source": [
        "<div class=\"alert\" style=\"background-color:#ead7f7;color:#8737bf\">\n",
        "    <font size=\"3\"><b>Комментарий студента</b></font>\n",
        "   \n",
        "Попробовала подбор для нейронки. Оказывается так можно было! Спасибо за совет!.\n",
        "\n",
        "</div>"
      ],
      "metadata": {
        "id": "4aHC-xtNov-4"
      }
    },
    {
      "cell_type": "markdown",
      "metadata": {
        "id": "ukorcJsEvifc"
      },
      "source": [
        "<img src=\"https://emojigraph.org/media/apple/check-mark-button_2705.png\" align=left width=33, heigth=33>\n",
        "<div class=\"alert alert-success\">\n",
        "\n",
        "\n",
        "Для осознанной настройки нейронки важно понимать, как менять её архитектуру (усложнять и уменьшать регуляризацию? уменьшать шаг обучения? усиливать регуляризацию?). Для того чтобы принять эти  решения мало видеть только конечную цифру, важно понимать, чего модели не хватает чтобы метрика стала лучше.\n",
        "    \n",
        "    \n",
        "Вот типичные  проблемы, которые можно выявить  анализируя графики и пути их решения:\n",
        "\n",
        "<b>Недообучение (Underfitting)</b>\n",
        "  Признаки: Высокие значения потерь и низкая точность как на обучающей, так и на валидационной выборке. Графики потерь не снижаются (или снижаются  недостаточно).\n",
        "  \n",
        "  Решения:\n",
        "    \n",
        " - Увеличение сложности модели (добавление слоев, увеличение числа нейронов).\n",
        " - Использование более сложных моделей, таких как более глубокие нейронные сети.\n",
        " - Увеличение количества эпох обучения.\n",
        "\n",
        "<b>Переобучение (Overfitting)</b>\n",
        "  Признаки: Значительное снижение потерь и увеличение точности на обучающей выборке, но высокие потери и низкая точность на валидационной выборке. Графики начинают расходиться после некоторого количества эпох.\n",
        "    \n",
        " Решения:\n",
        "  - Регуляризация (L1, L2 регуляризация).\n",
        "  - Dropout (добавление Dropout слоев).\n",
        "  - Уменьшение сложности модели (уменьшение числа слоев или нейронов).\n",
        "  - Использование аугментации данных для увеличения разнообразия данных.\n",
        "  - Раннее завершение обучения (Early Stopping) на основе валидационной ошибки.\n",
        "\n",
        "<b>Плохой выбор гиперпараметров</b>\n",
        " Признаки: Нестабильные графики потерь и точности (большие колебания).\n",
        "\n",
        " Решения:\n",
        "  - Настройка скорости обучения (learning rate).\n",
        "  - Оптимизация размера батча (batch size).\n",
        "  - Попробовать другие оптимизаторы (например, Adam, SGD с различными параметрами).    \n",
        "\n",
        "</div>"
      ]
    },
    {
      "cell_type": "markdown",
      "metadata": {
        "id": "k4zaeoDvtFZv"
      },
      "source": [
        "- MAE для DummyRegressor: 0.25. Это значение MAE указывает на то, что DummyRegressor (который обычно предсказывает среднее значение целевой переменной) имеет среднюю абсолютную ошибку 0.25. Это означает, что в среднем, предсказание модели отклоняется от фактических значений на 0.25. Так как это простая модель, она служит референсной точкой для оценки производительности более сложных моделей.\n",
        "\n",
        "- MAE для Linear Regression: 0.93. Значение MAE 0.93 для линейной регрессии означает, что эта модель значительно хуже работает, чем проста модель DummyRegressor. Это может свидетельствовать о том, что линейная регрессия не подходит для предсказания данной задачи, возможно, из-за отсутствия линейной зависимости в данных, наличия выбросов или нерелевантных признаков.\n",
        "\n",
        "- MAE для Neural Network без подбора: 0.22. Это значение MAE указывает на то, что нейронная сеть значительно лучше, чем DummyRegressor и линейная регрессия. Это может означать, что нейронная сеть смогла уловить более сложные зависимости в данных.\n",
        "- MAE для Neural Network с подбором: 0.18. Эта модель показала лучший результат."
      ]
    },
    {
      "cell_type": "markdown",
      "metadata": {
        "id": "sdvMDRDdvAX4"
      },
      "source": [
        "## Тестирование"
      ]
    },
    {
      "cell_type": "markdown",
      "source": [
        "Для для тестирования получим эмбеддинги для всех тестовых изображений из папки test_images, выберим случайные 10 запросов из файла test_queries.csv и для каждого запроса выведим наиболее релевантное изображение. Сравним визуально качество поиска."
      ],
      "metadata": {
        "id": "ELRdCV-k6FcM"
      }
    },
    {
      "cell_type": "markdown",
      "metadata": {
        "id": "vQ-bHiYQvifc"
      },
      "source": [
        "<img src=\"https://upload.wikimedia.org/wikipedia/commons/thumb/8/81/Stop_sign.png/240px-Stop_sign.png\" align=left width=35, heigth=35>\n",
        "<div class=\"alert alert-danger\">\n",
        "На мой взгляд главная ошибка, которую ты допускаешь в этой части - ты переобучаешь TF-IDF векторайзер. Но это не имеет смысла, нужно использовать именно тот векторайзер, который ты обучила при подготовке данных для обучения модели.\n",
        "\n",
        "Ну и конечно не нужно заранее векторизовать тестовые описания. Это легко сделатьт \"на лету\" при получении запроса.\n",
        "    \n",
        "    \n",
        "На всякий случай опишу логику для этого раздела\n",
        "    \n",
        "Во первых, нужно заранее векторизовать 100 уникальных тестовых изображений.    \n",
        "    \n",
        "Далее нужно написать функцию, способную искать изображение по тексту для одного описания. Функция должна уметь работать с любым текстовым описанием.\n",
        "\n",
        "Что должна делаь функция\n",
        "    \n",
        "   - Получать текст\n",
        "   - Возвращать картинку и метрику близости.\n",
        "   - Выдавать дисклеймер если запрос некорректный\n",
        "    \n",
        "Под капотом функция должна векторизовать полученный текст, и с помощью модели получить предсказание для 100 пар (вектор описания + вектор изображения), где вектор описания мы получили только что, а 100 векторов изображений получили заранее.\n",
        "    \n",
        "И дальше ищем изображение, для которого модель покажет максимальную метрику.\n",
        "        \n",
        "\n",
        "</div>"
      ]
    },
    {
      "cell_type": "markdown",
      "source": [
        "<div class=\"alert\" style=\"background-color:#ead7f7;color:#8737bf\">\n",
        "    <font size=\"3\"><b>Комментарий студента</b></font>\n",
        "   \n",
        "Доработала.\n",
        "\n",
        "</div>"
      ],
      "metadata": {
        "id": "bG7ZoLQYpBLA"
      }
    },
    {
      "cell_type": "code",
      "source": [
        "test_images.head(1)"
      ],
      "metadata": {
        "colab": {
          "base_uri": "https://localhost:8080/",
          "height": 100
        },
        "id": "aLbH1HQcuSPs",
        "outputId": "2bd4a26a-ce9a-4455-97a1-39a37fde5917"
      },
      "execution_count": 63,
      "outputs": [
        {
          "output_type": "execute_result",
          "data": {
            "text/plain": [
              "                       image\n",
              "0  3356748019_2251399314.jpg"
            ],
            "text/html": [
              "\n",
              "  <div id=\"df-d8c41365-0845-4188-b091-ab3b81b79587\" class=\"colab-df-container\">\n",
              "    <div>\n",
              "<style scoped>\n",
              "    .dataframe tbody tr th:only-of-type {\n",
              "        vertical-align: middle;\n",
              "    }\n",
              "\n",
              "    .dataframe tbody tr th {\n",
              "        vertical-align: top;\n",
              "    }\n",
              "\n",
              "    .dataframe thead th {\n",
              "        text-align: right;\n",
              "    }\n",
              "</style>\n",
              "<table border=\"1\" class=\"dataframe\">\n",
              "  <thead>\n",
              "    <tr style=\"text-align: right;\">\n",
              "      <th></th>\n",
              "      <th>image</th>\n",
              "    </tr>\n",
              "  </thead>\n",
              "  <tbody>\n",
              "    <tr>\n",
              "      <th>0</th>\n",
              "      <td>3356748019_2251399314.jpg</td>\n",
              "    </tr>\n",
              "  </tbody>\n",
              "</table>\n",
              "</div>\n",
              "    <div class=\"colab-df-buttons\">\n",
              "\n",
              "  <div class=\"colab-df-container\">\n",
              "    <button class=\"colab-df-convert\" onclick=\"convertToInteractive('df-d8c41365-0845-4188-b091-ab3b81b79587')\"\n",
              "            title=\"Convert this dataframe to an interactive table.\"\n",
              "            style=\"display:none;\">\n",
              "\n",
              "  <svg xmlns=\"http://www.w3.org/2000/svg\" height=\"24px\" viewBox=\"0 -960 960 960\">\n",
              "    <path d=\"M120-120v-720h720v720H120Zm60-500h600v-160H180v160Zm220 220h160v-160H400v160Zm0 220h160v-160H400v160ZM180-400h160v-160H180v160Zm440 0h160v-160H620v160ZM180-180h160v-160H180v160Zm440 0h160v-160H620v160Z\"/>\n",
              "  </svg>\n",
              "    </button>\n",
              "\n",
              "  <style>\n",
              "    .colab-df-container {\n",
              "      display:flex;\n",
              "      gap: 12px;\n",
              "    }\n",
              "\n",
              "    .colab-df-convert {\n",
              "      background-color: #E8F0FE;\n",
              "      border: none;\n",
              "      border-radius: 50%;\n",
              "      cursor: pointer;\n",
              "      display: none;\n",
              "      fill: #1967D2;\n",
              "      height: 32px;\n",
              "      padding: 0 0 0 0;\n",
              "      width: 32px;\n",
              "    }\n",
              "\n",
              "    .colab-df-convert:hover {\n",
              "      background-color: #E2EBFA;\n",
              "      box-shadow: 0px 1px 2px rgba(60, 64, 67, 0.3), 0px 1px 3px 1px rgba(60, 64, 67, 0.15);\n",
              "      fill: #174EA6;\n",
              "    }\n",
              "\n",
              "    .colab-df-buttons div {\n",
              "      margin-bottom: 4px;\n",
              "    }\n",
              "\n",
              "    [theme=dark] .colab-df-convert {\n",
              "      background-color: #3B4455;\n",
              "      fill: #D2E3FC;\n",
              "    }\n",
              "\n",
              "    [theme=dark] .colab-df-convert:hover {\n",
              "      background-color: #434B5C;\n",
              "      box-shadow: 0px 1px 3px 1px rgba(0, 0, 0, 0.15);\n",
              "      filter: drop-shadow(0px 1px 2px rgba(0, 0, 0, 0.3));\n",
              "      fill: #FFFFFF;\n",
              "    }\n",
              "  </style>\n",
              "\n",
              "    <script>\n",
              "      const buttonEl =\n",
              "        document.querySelector('#df-d8c41365-0845-4188-b091-ab3b81b79587 button.colab-df-convert');\n",
              "      buttonEl.style.display =\n",
              "        google.colab.kernel.accessAllowed ? 'block' : 'none';\n",
              "\n",
              "      async function convertToInteractive(key) {\n",
              "        const element = document.querySelector('#df-d8c41365-0845-4188-b091-ab3b81b79587');\n",
              "        const dataTable =\n",
              "          await google.colab.kernel.invokeFunction('convertToInteractive',\n",
              "                                                    [key], {});\n",
              "        if (!dataTable) return;\n",
              "\n",
              "        const docLinkHtml = 'Like what you see? Visit the ' +\n",
              "          '<a target=\"_blank\" href=https://colab.research.google.com/notebooks/data_table.ipynb>data table notebook</a>'\n",
              "          + ' to learn more about interactive tables.';\n",
              "        element.innerHTML = '';\n",
              "        dataTable['output_type'] = 'display_data';\n",
              "        await google.colab.output.renderOutput(dataTable, element);\n",
              "        const docLink = document.createElement('div');\n",
              "        docLink.innerHTML = docLinkHtml;\n",
              "        element.appendChild(docLink);\n",
              "      }\n",
              "    </script>\n",
              "  </div>\n",
              "\n",
              "    </div>\n",
              "  </div>\n"
            ],
            "application/vnd.google.colaboratory.intrinsic+json": {
              "type": "dataframe",
              "variable_name": "test_images",
              "summary": "{\n  \"name\": \"test_images\",\n  \"rows\": 100,\n  \"fields\": [\n    {\n      \"column\": \"image\",\n      \"properties\": {\n        \"dtype\": \"string\",\n        \"num_unique_values\": 100,\n        \"samples\": [\n          \"2505056124_1276e8dbcb.jpg\",\n          \"3553476195_fb3747d7c1.jpg\",\n          \"1580671272_3e99d94305.jpg\"\n        ],\n        \"semantic_type\": \"\",\n        \"description\": \"\"\n      }\n    }\n  ]\n}"
            }
          },
          "metadata": {},
          "execution_count": 63
        }
      ]
    },
    {
      "cell_type": "markdown",
      "source": [
        "Векторизуем тестовые изображения."
      ],
      "metadata": {
        "id": "DZJMYZhB3jF8"
      }
    },
    {
      "cell_type": "code",
      "source": [
        "test_images_vectors = df_img_vectorizer(test_images, 'test_images')\n",
        "test_df = test_queries.merge(test_images_vectors, on='image', how='left')\n",
        "\n",
        "test_df.head(1)"
      ],
      "metadata": {
        "colab": {
          "base_uri": "https://localhost:8080/",
          "height": 167
        },
        "id": "wdD1g1WD3lBT",
        "outputId": "a5fbc66c-aa5f-4678-b288-6955bb742e9b"
      },
      "execution_count": 64,
      "outputs": [
        {
          "output_type": "execute_result",
          "data": {
            "text/plain": [
              "                      query_id  \\\n",
              "0  1177994172_10d143cb8d.jpg#0   \n",
              "\n",
              "                                          query_text  \\\n",
              "0  Two blonde boys , one in a camouflage shirt an...   \n",
              "\n",
              "                       image  \\\n",
              "0  1177994172_10d143cb8d.jpg   \n",
              "\n",
              "                                          img_vector  \n",
              "0  [0.44397026, 2.3347216, 0.0063395523, 2.394032...  "
            ],
            "text/html": [
              "\n",
              "  <div id=\"df-c4798947-ee49-4c72-bad8-080a7293ffa5\" class=\"colab-df-container\">\n",
              "    <div>\n",
              "<style scoped>\n",
              "    .dataframe tbody tr th:only-of-type {\n",
              "        vertical-align: middle;\n",
              "    }\n",
              "\n",
              "    .dataframe tbody tr th {\n",
              "        vertical-align: top;\n",
              "    }\n",
              "\n",
              "    .dataframe thead th {\n",
              "        text-align: right;\n",
              "    }\n",
              "</style>\n",
              "<table border=\"1\" class=\"dataframe\">\n",
              "  <thead>\n",
              "    <tr style=\"text-align: right;\">\n",
              "      <th></th>\n",
              "      <th>query_id</th>\n",
              "      <th>query_text</th>\n",
              "      <th>image</th>\n",
              "      <th>img_vector</th>\n",
              "    </tr>\n",
              "  </thead>\n",
              "  <tbody>\n",
              "    <tr>\n",
              "      <th>0</th>\n",
              "      <td>1177994172_10d143cb8d.jpg#0</td>\n",
              "      <td>Two blonde boys , one in a camouflage shirt an...</td>\n",
              "      <td>1177994172_10d143cb8d.jpg</td>\n",
              "      <td>[0.44397026, 2.3347216, 0.0063395523, 2.394032...</td>\n",
              "    </tr>\n",
              "  </tbody>\n",
              "</table>\n",
              "</div>\n",
              "    <div class=\"colab-df-buttons\">\n",
              "\n",
              "  <div class=\"colab-df-container\">\n",
              "    <button class=\"colab-df-convert\" onclick=\"convertToInteractive('df-c4798947-ee49-4c72-bad8-080a7293ffa5')\"\n",
              "            title=\"Convert this dataframe to an interactive table.\"\n",
              "            style=\"display:none;\">\n",
              "\n",
              "  <svg xmlns=\"http://www.w3.org/2000/svg\" height=\"24px\" viewBox=\"0 -960 960 960\">\n",
              "    <path d=\"M120-120v-720h720v720H120Zm60-500h600v-160H180v160Zm220 220h160v-160H400v160Zm0 220h160v-160H400v160ZM180-400h160v-160H180v160Zm440 0h160v-160H620v160ZM180-180h160v-160H180v160Zm440 0h160v-160H620v160Z\"/>\n",
              "  </svg>\n",
              "    </button>\n",
              "\n",
              "  <style>\n",
              "    .colab-df-container {\n",
              "      display:flex;\n",
              "      gap: 12px;\n",
              "    }\n",
              "\n",
              "    .colab-df-convert {\n",
              "      background-color: #E8F0FE;\n",
              "      border: none;\n",
              "      border-radius: 50%;\n",
              "      cursor: pointer;\n",
              "      display: none;\n",
              "      fill: #1967D2;\n",
              "      height: 32px;\n",
              "      padding: 0 0 0 0;\n",
              "      width: 32px;\n",
              "    }\n",
              "\n",
              "    .colab-df-convert:hover {\n",
              "      background-color: #E2EBFA;\n",
              "      box-shadow: 0px 1px 2px rgba(60, 64, 67, 0.3), 0px 1px 3px 1px rgba(60, 64, 67, 0.15);\n",
              "      fill: #174EA6;\n",
              "    }\n",
              "\n",
              "    .colab-df-buttons div {\n",
              "      margin-bottom: 4px;\n",
              "    }\n",
              "\n",
              "    [theme=dark] .colab-df-convert {\n",
              "      background-color: #3B4455;\n",
              "      fill: #D2E3FC;\n",
              "    }\n",
              "\n",
              "    [theme=dark] .colab-df-convert:hover {\n",
              "      background-color: #434B5C;\n",
              "      box-shadow: 0px 1px 3px 1px rgba(0, 0, 0, 0.15);\n",
              "      filter: drop-shadow(0px 1px 2px rgba(0, 0, 0, 0.3));\n",
              "      fill: #FFFFFF;\n",
              "    }\n",
              "  </style>\n",
              "\n",
              "    <script>\n",
              "      const buttonEl =\n",
              "        document.querySelector('#df-c4798947-ee49-4c72-bad8-080a7293ffa5 button.colab-df-convert');\n",
              "      buttonEl.style.display =\n",
              "        google.colab.kernel.accessAllowed ? 'block' : 'none';\n",
              "\n",
              "      async function convertToInteractive(key) {\n",
              "        const element = document.querySelector('#df-c4798947-ee49-4c72-bad8-080a7293ffa5');\n",
              "        const dataTable =\n",
              "          await google.colab.kernel.invokeFunction('convertToInteractive',\n",
              "                                                    [key], {});\n",
              "        if (!dataTable) return;\n",
              "\n",
              "        const docLinkHtml = 'Like what you see? Visit the ' +\n",
              "          '<a target=\"_blank\" href=https://colab.research.google.com/notebooks/data_table.ipynb>data table notebook</a>'\n",
              "          + ' to learn more about interactive tables.';\n",
              "        element.innerHTML = '';\n",
              "        dataTable['output_type'] = 'display_data';\n",
              "        await google.colab.output.renderOutput(dataTable, element);\n",
              "        const docLink = document.createElement('div');\n",
              "        docLink.innerHTML = docLinkHtml;\n",
              "        element.appendChild(docLink);\n",
              "      }\n",
              "    </script>\n",
              "  </div>\n",
              "\n",
              "    </div>\n",
              "  </div>\n"
            ],
            "application/vnd.google.colaboratory.intrinsic+json": {
              "type": "dataframe",
              "variable_name": "test_df",
              "summary": "{\n  \"name\": \"test_df\",\n  \"rows\": 500,\n  \"fields\": [\n    {\n      \"column\": \"query_id\",\n      \"properties\": {\n        \"dtype\": \"string\",\n        \"num_unique_values\": 500,\n        \"samples\": [\n          \"3482859574_3908de3427.jpg#1\",\n          \"2141713971_e25eb12712.jpg#3\",\n          \"3488087117_2719647989.jpg#4\"\n        ],\n        \"semantic_type\": \"\",\n        \"description\": \"\"\n      }\n    },\n    {\n      \"column\": \"query_text\",\n      \"properties\": {\n        \"dtype\": \"string\",\n        \"num_unique_values\": 500,\n        \"samples\": [\n          \"A group of girls who are gothically dressed standing together\",\n          \"A woman and girl riding downhill on a sled with a dog running alongside them\",\n          \"The dog is running .\"\n        ],\n        \"semantic_type\": \"\",\n        \"description\": \"\"\n      }\n    },\n    {\n      \"column\": \"image\",\n      \"properties\": {\n        \"dtype\": \"category\",\n        \"num_unique_values\": 100,\n        \"samples\": [\n          \"3722572342_6904d11d52.jpg\",\n          \"3184031654_34b5c4ffe1.jpg\",\n          \"3459871361_92d1ecda36.jpg\"\n        ],\n        \"semantic_type\": \"\",\n        \"description\": \"\"\n      }\n    },\n    {\n      \"column\": \"img_vector\",\n      \"properties\": {\n        \"dtype\": \"object\",\n        \"semantic_type\": \"\",\n        \"description\": \"\"\n      }\n    }\n  ]\n}"
            }
          },
          "metadata": {},
          "execution_count": 64
        }
      ]
    },
    {
      "cell_type": "code",
      "source": [
        "test_df.reset_index(drop=True, inplace=True)"
      ],
      "metadata": {
        "id": "xnEPrWLyOxXk"
      },
      "execution_count": 65,
      "outputs": []
    },
    {
      "cell_type": "markdown",
      "source": [
        "Функция eval_query_nn обрабатывает текстовый запрос, определяет, содержит ли он стоп-слова, и в зависимости от этого либо выводит предсказанные изображения и оценку, либо отображает дисклеймер."
      ],
      "metadata": {
        "id": "JjnBjKsB60ZU"
      }
    },
    {
      "cell_type": "code",
      "source": [
        "def eval_query_nn(query_text):\n",
        "    # лемматизируем текст запроса\n",
        "    lemm_text = \" \".join([token.lemma_ for token in nlp(query_text)])\n",
        "    # создаем маркер наличия стоп-слова\n",
        "    stop = 0\n",
        "    # проверяем на наличие стоп-слов в запросе\n",
        "    stop_words = ban_wordlist\n",
        "    for word in stop_words:\n",
        "        if word in lemm_text:\n",
        "            stop = 1\n",
        "            break\n",
        "\n",
        "    if stop == 0:\n",
        "        # лемматизируем текст\n",
        "        test_df['lem_text'] = lemm_text\n",
        "        # создаем массив признаков\n",
        "        test_features = make_features(test_df)\n",
        "        # получаем предсказания\n",
        "        test_preds = best_dense_model.predict(test_features)\n",
        "\n",
        "        # находим индекс изображения с наибольшей оценкой\n",
        "        img_index = np.argsort(test_preds.ravel())[::-1][0]\n",
        "\n",
        "        # выводим изображение на экран\n",
        "        display(Image.open(DATA_PATH + 'test_images/' +\n",
        "                           test_images.loc[img_index,'image']).convert('RGB'))\n",
        "        # выодим текст запроса на экран\n",
        "        print(query_text)\n",
        "        # выводим оценку, которую поставила модель, на экран\n",
        "        print(round(test_preds.ravel()[img_index], 3))\n",
        "\n",
        "    else:\n",
        "        # если в запросе есть стоп-слова - выводим дисклеймер\n",
        "        result = print('This image is unavailable in your country in compliance with local laws.')"
      ],
      "metadata": {
        "id": "0MsRpI2m621J"
      },
      "execution_count": 66,
      "outputs": []
    },
    {
      "cell_type": "markdown",
      "source": [
        "## Демонстрация"
      ],
      "metadata": {
        "id": "zcP7HPiossOA"
      }
    },
    {
      "cell_type": "code",
      "source": [
        "query_text = 'A family watches as a little girl blows'\n",
        "print(eval_query_nn(query_text))"
      ],
      "metadata": {
        "colab": {
          "base_uri": "https://localhost:8080/"
        },
        "id": "M8Dmn1PUbFtx",
        "outputId": "cb92beed-4e53-40e3-f2b8-13b81f2884b7"
      },
      "execution_count": 68,
      "outputs": [
        {
          "output_type": "stream",
          "name": "stdout",
          "text": [
            "This image is unavailable in your country in compliance with local laws.\n",
            "None\n"
          ]
        }
      ]
    },
    {
      "cell_type": "code",
      "source": [
        "query_text = test_df['query_text'][3]\n",
        "eval_query_nn(query_text)"
      ],
      "metadata": {
        "colab": {
          "base_uri": "https://localhost:8080/"
        },
        "id": "7bhG9tUhb8y-",
        "outputId": "1dfc9b31-fdc5-4129-ccb2-6e3b18b01031"
      },
      "execution_count": 69,
      "outputs": [
        {
          "output_type": "stream",
          "name": "stdout",
          "text": [
            "This image is unavailable in your country in compliance with local laws.\n"
          ]
        }
      ]
    },
    {
      "cell_type": "markdown",
      "source": [
        "<div class=\"alert\" style=\"background-color:#ead7f7;color:#8737bf\">\n",
        "    <font size=\"3\"><b>Комментарий студента</b></font>\n",
        "   \n",
        "Дмитрий! В предыдущем сеансе этот код выводил фотографию, теперь не работает. Помоги пожалуйста разобрать в чём проблема.\n",
        "\n",
        "</div>"
      ],
      "metadata": {
        "id": "ikEUNh_706ZW"
      }
    },
    {
      "cell_type": "code",
      "source": [
        "query_text = test_df['query_text'][11]\n",
        "eval_query_nn(query_text)"
      ],
      "metadata": {
        "colab": {
          "base_uri": "https://localhost:8080/",
          "height": 468
        },
        "id": "2MayFUC4h8-G",
        "outputId": "b4668527-3abd-4e59-f662-4a5b240d63c9"
      },
      "execution_count": 70,
      "outputs": [
        {
          "output_type": "stream",
          "name": "stdout",
          "text": [
            "\u001b[1m16/16\u001b[0m \u001b[32m━━━━━━━━━━━━━━━━━━━━\u001b[0m\u001b[37m\u001b[0m \u001b[1m0s\u001b[0m 2ms/step \n"
          ]
        },
        {
          "output_type": "error",
          "ename": "KeyError",
          "evalue": "458",
          "traceback": [
            "\u001b[0;31m---------------------------------------------------------------------------\u001b[0m",
            "\u001b[0;31mValueError\u001b[0m                                Traceback (most recent call last)",
            "\u001b[0;32m/usr/local/lib/python3.10/dist-packages/pandas/core/indexes/range.py\u001b[0m in \u001b[0;36mget_loc\u001b[0;34m(self, key)\u001b[0m\n\u001b[1;32m    412\u001b[0m             \u001b[0;32mtry\u001b[0m\u001b[0;34m:\u001b[0m\u001b[0;34m\u001b[0m\u001b[0;34m\u001b[0m\u001b[0m\n\u001b[0;32m--> 413\u001b[0;31m                 \u001b[0;32mreturn\u001b[0m \u001b[0mself\u001b[0m\u001b[0;34m.\u001b[0m\u001b[0m_range\u001b[0m\u001b[0;34m.\u001b[0m\u001b[0mindex\u001b[0m\u001b[0;34m(\u001b[0m\u001b[0mnew_key\u001b[0m\u001b[0;34m)\u001b[0m\u001b[0;34m\u001b[0m\u001b[0;34m\u001b[0m\u001b[0m\n\u001b[0m\u001b[1;32m    414\u001b[0m             \u001b[0;32mexcept\u001b[0m \u001b[0mValueError\u001b[0m \u001b[0;32mas\u001b[0m \u001b[0merr\u001b[0m\u001b[0;34m:\u001b[0m\u001b[0;34m\u001b[0m\u001b[0;34m\u001b[0m\u001b[0m\n",
            "\u001b[0;31mValueError\u001b[0m: 458 is not in range",
            "\nThe above exception was the direct cause of the following exception:\n",
            "\u001b[0;31mKeyError\u001b[0m                                  Traceback (most recent call last)",
            "\u001b[0;32m<ipython-input-70-3d0771a24b23>\u001b[0m in \u001b[0;36m<cell line: 2>\u001b[0;34m()\u001b[0m\n\u001b[1;32m      1\u001b[0m \u001b[0mquery_text\u001b[0m \u001b[0;34m=\u001b[0m \u001b[0mtest_df\u001b[0m\u001b[0;34m[\u001b[0m\u001b[0;34m'query_text'\u001b[0m\u001b[0;34m]\u001b[0m\u001b[0;34m[\u001b[0m\u001b[0;36m11\u001b[0m\u001b[0;34m]\u001b[0m\u001b[0;34m\u001b[0m\u001b[0;34m\u001b[0m\u001b[0m\n\u001b[0;32m----> 2\u001b[0;31m \u001b[0meval_query_nn\u001b[0m\u001b[0;34m(\u001b[0m\u001b[0mquery_text\u001b[0m\u001b[0;34m)\u001b[0m\u001b[0;34m\u001b[0m\u001b[0;34m\u001b[0m\u001b[0m\n\u001b[0m",
            "\u001b[0;32m<ipython-input-66-8fdc7f027785>\u001b[0m in \u001b[0;36meval_query_nn\u001b[0;34m(query_text)\u001b[0m\n\u001b[1;32m     24\u001b[0m         \u001b[0;31m# выводим изображение на экран\u001b[0m\u001b[0;34m\u001b[0m\u001b[0;34m\u001b[0m\u001b[0m\n\u001b[1;32m     25\u001b[0m         display(Image.open(DATA_PATH + 'test_images/' +\n\u001b[0;32m---> 26\u001b[0;31m                            test_images.loc[img_index,'image']).convert('RGB'))\n\u001b[0m\u001b[1;32m     27\u001b[0m         \u001b[0;31m# выодим текст запроса на экран\u001b[0m\u001b[0;34m\u001b[0m\u001b[0;34m\u001b[0m\u001b[0m\n\u001b[1;32m     28\u001b[0m         \u001b[0mprint\u001b[0m\u001b[0;34m(\u001b[0m\u001b[0mquery_text\u001b[0m\u001b[0;34m)\u001b[0m\u001b[0;34m\u001b[0m\u001b[0;34m\u001b[0m\u001b[0m\n",
            "\u001b[0;32m/usr/local/lib/python3.10/dist-packages/pandas/core/indexing.py\u001b[0m in \u001b[0;36m__getitem__\u001b[0;34m(self, key)\u001b[0m\n\u001b[1;32m   1181\u001b[0m             \u001b[0mkey\u001b[0m \u001b[0;34m=\u001b[0m \u001b[0mtuple\u001b[0m\u001b[0;34m(\u001b[0m\u001b[0mcom\u001b[0m\u001b[0;34m.\u001b[0m\u001b[0mapply_if_callable\u001b[0m\u001b[0;34m(\u001b[0m\u001b[0mx\u001b[0m\u001b[0;34m,\u001b[0m \u001b[0mself\u001b[0m\u001b[0;34m.\u001b[0m\u001b[0mobj\u001b[0m\u001b[0;34m)\u001b[0m \u001b[0;32mfor\u001b[0m \u001b[0mx\u001b[0m \u001b[0;32min\u001b[0m \u001b[0mkey\u001b[0m\u001b[0;34m)\u001b[0m\u001b[0;34m\u001b[0m\u001b[0;34m\u001b[0m\u001b[0m\n\u001b[1;32m   1182\u001b[0m             \u001b[0;32mif\u001b[0m \u001b[0mself\u001b[0m\u001b[0;34m.\u001b[0m\u001b[0m_is_scalar_access\u001b[0m\u001b[0;34m(\u001b[0m\u001b[0mkey\u001b[0m\u001b[0;34m)\u001b[0m\u001b[0;34m:\u001b[0m\u001b[0;34m\u001b[0m\u001b[0;34m\u001b[0m\u001b[0m\n\u001b[0;32m-> 1183\u001b[0;31m                 \u001b[0;32mreturn\u001b[0m \u001b[0mself\u001b[0m\u001b[0;34m.\u001b[0m\u001b[0mobj\u001b[0m\u001b[0;34m.\u001b[0m\u001b[0m_get_value\u001b[0m\u001b[0;34m(\u001b[0m\u001b[0;34m*\u001b[0m\u001b[0mkey\u001b[0m\u001b[0;34m,\u001b[0m \u001b[0mtakeable\u001b[0m\u001b[0;34m=\u001b[0m\u001b[0mself\u001b[0m\u001b[0;34m.\u001b[0m\u001b[0m_takeable\u001b[0m\u001b[0;34m)\u001b[0m\u001b[0;34m\u001b[0m\u001b[0;34m\u001b[0m\u001b[0m\n\u001b[0m\u001b[1;32m   1184\u001b[0m             \u001b[0;32mreturn\u001b[0m \u001b[0mself\u001b[0m\u001b[0;34m.\u001b[0m\u001b[0m_getitem_tuple\u001b[0m\u001b[0;34m(\u001b[0m\u001b[0mkey\u001b[0m\u001b[0;34m)\u001b[0m\u001b[0;34m\u001b[0m\u001b[0;34m\u001b[0m\u001b[0m\n\u001b[1;32m   1185\u001b[0m         \u001b[0;32melse\u001b[0m\u001b[0;34m:\u001b[0m\u001b[0;34m\u001b[0m\u001b[0;34m\u001b[0m\u001b[0m\n",
            "\u001b[0;32m/usr/local/lib/python3.10/dist-packages/pandas/core/frame.py\u001b[0m in \u001b[0;36m_get_value\u001b[0;34m(self, index, col, takeable)\u001b[0m\n\u001b[1;32m   4219\u001b[0m             \u001b[0;31m#  results if our categories are integers that dont match our codes\u001b[0m\u001b[0;34m\u001b[0m\u001b[0;34m\u001b[0m\u001b[0m\n\u001b[1;32m   4220\u001b[0m             \u001b[0;31m# IntervalIndex: IntervalTree has no get_loc\u001b[0m\u001b[0;34m\u001b[0m\u001b[0;34m\u001b[0m\u001b[0m\n\u001b[0;32m-> 4221\u001b[0;31m             \u001b[0mrow\u001b[0m \u001b[0;34m=\u001b[0m \u001b[0mself\u001b[0m\u001b[0;34m.\u001b[0m\u001b[0mindex\u001b[0m\u001b[0;34m.\u001b[0m\u001b[0mget_loc\u001b[0m\u001b[0;34m(\u001b[0m\u001b[0mindex\u001b[0m\u001b[0;34m)\u001b[0m\u001b[0;34m\u001b[0m\u001b[0;34m\u001b[0m\u001b[0m\n\u001b[0m\u001b[1;32m   4222\u001b[0m             \u001b[0;32mreturn\u001b[0m \u001b[0mseries\u001b[0m\u001b[0;34m.\u001b[0m\u001b[0m_values\u001b[0m\u001b[0;34m[\u001b[0m\u001b[0mrow\u001b[0m\u001b[0;34m]\u001b[0m\u001b[0;34m\u001b[0m\u001b[0;34m\u001b[0m\u001b[0m\n\u001b[1;32m   4223\u001b[0m \u001b[0;34m\u001b[0m\u001b[0m\n",
            "\u001b[0;32m/usr/local/lib/python3.10/dist-packages/pandas/core/indexes/range.py\u001b[0m in \u001b[0;36mget_loc\u001b[0;34m(self, key)\u001b[0m\n\u001b[1;32m    413\u001b[0m                 \u001b[0;32mreturn\u001b[0m \u001b[0mself\u001b[0m\u001b[0;34m.\u001b[0m\u001b[0m_range\u001b[0m\u001b[0;34m.\u001b[0m\u001b[0mindex\u001b[0m\u001b[0;34m(\u001b[0m\u001b[0mnew_key\u001b[0m\u001b[0;34m)\u001b[0m\u001b[0;34m\u001b[0m\u001b[0;34m\u001b[0m\u001b[0m\n\u001b[1;32m    414\u001b[0m             \u001b[0;32mexcept\u001b[0m \u001b[0mValueError\u001b[0m \u001b[0;32mas\u001b[0m \u001b[0merr\u001b[0m\u001b[0;34m:\u001b[0m\u001b[0;34m\u001b[0m\u001b[0;34m\u001b[0m\u001b[0m\n\u001b[0;32m--> 415\u001b[0;31m                 \u001b[0;32mraise\u001b[0m \u001b[0mKeyError\u001b[0m\u001b[0;34m(\u001b[0m\u001b[0mkey\u001b[0m\u001b[0;34m)\u001b[0m \u001b[0;32mfrom\u001b[0m \u001b[0merr\u001b[0m\u001b[0;34m\u001b[0m\u001b[0;34m\u001b[0m\u001b[0m\n\u001b[0m\u001b[1;32m    416\u001b[0m         \u001b[0;32mif\u001b[0m \u001b[0misinstance\u001b[0m\u001b[0;34m(\u001b[0m\u001b[0mkey\u001b[0m\u001b[0;34m,\u001b[0m \u001b[0mHashable\u001b[0m\u001b[0;34m)\u001b[0m\u001b[0;34m:\u001b[0m\u001b[0;34m\u001b[0m\u001b[0;34m\u001b[0m\u001b[0m\n\u001b[1;32m    417\u001b[0m             \u001b[0;32mraise\u001b[0m \u001b[0mKeyError\u001b[0m\u001b[0;34m(\u001b[0m\u001b[0mkey\u001b[0m\u001b[0;34m)\u001b[0m\u001b[0;34m\u001b[0m\u001b[0;34m\u001b[0m\u001b[0m\n",
            "\u001b[0;31mKeyError\u001b[0m: 458"
          ]
        }
      ]
    },
    {
      "cell_type": "code",
      "source": [
        "query_text = test_df['query_text'][12]\n",
        "eval_query_nn(query_text)"
      ],
      "metadata": {
        "colab": {
          "base_uri": "https://localhost:8080/"
        },
        "id": "dYOdy_ABl0Gj",
        "outputId": "68286a1e-7b1a-4a89-d38e-720410befa23"
      },
      "execution_count": 71,
      "outputs": [
        {
          "output_type": "stream",
          "name": "stdout",
          "text": [
            "This image is unavailable in your country in compliance with local laws.\n"
          ]
        }
      ]
    },
    {
      "cell_type": "code",
      "source": [
        "query_text = test_df['query_text'][13]\n",
        "eval_query_nn(query_text)"
      ],
      "metadata": {
        "colab": {
          "base_uri": "https://localhost:8080/",
          "height": 468
        },
        "id": "44q-HTPEmBg8",
        "outputId": "93d696d7-7aac-4007-f71a-820c4411b73a"
      },
      "execution_count": 72,
      "outputs": [
        {
          "output_type": "stream",
          "name": "stdout",
          "text": [
            "\u001b[1m16/16\u001b[0m \u001b[32m━━━━━━━━━━━━━━━━━━━━\u001b[0m\u001b[37m\u001b[0m \u001b[1m0s\u001b[0m 2ms/step \n"
          ]
        },
        {
          "output_type": "error",
          "ename": "KeyError",
          "evalue": "458",
          "traceback": [
            "\u001b[0;31m---------------------------------------------------------------------------\u001b[0m",
            "\u001b[0;31mValueError\u001b[0m                                Traceback (most recent call last)",
            "\u001b[0;32m/usr/local/lib/python3.10/dist-packages/pandas/core/indexes/range.py\u001b[0m in \u001b[0;36mget_loc\u001b[0;34m(self, key)\u001b[0m\n\u001b[1;32m    412\u001b[0m             \u001b[0;32mtry\u001b[0m\u001b[0;34m:\u001b[0m\u001b[0;34m\u001b[0m\u001b[0;34m\u001b[0m\u001b[0m\n\u001b[0;32m--> 413\u001b[0;31m                 \u001b[0;32mreturn\u001b[0m \u001b[0mself\u001b[0m\u001b[0;34m.\u001b[0m\u001b[0m_range\u001b[0m\u001b[0;34m.\u001b[0m\u001b[0mindex\u001b[0m\u001b[0;34m(\u001b[0m\u001b[0mnew_key\u001b[0m\u001b[0;34m)\u001b[0m\u001b[0;34m\u001b[0m\u001b[0;34m\u001b[0m\u001b[0m\n\u001b[0m\u001b[1;32m    414\u001b[0m             \u001b[0;32mexcept\u001b[0m \u001b[0mValueError\u001b[0m \u001b[0;32mas\u001b[0m \u001b[0merr\u001b[0m\u001b[0;34m:\u001b[0m\u001b[0;34m\u001b[0m\u001b[0;34m\u001b[0m\u001b[0m\n",
            "\u001b[0;31mValueError\u001b[0m: 458 is not in range",
            "\nThe above exception was the direct cause of the following exception:\n",
            "\u001b[0;31mKeyError\u001b[0m                                  Traceback (most recent call last)",
            "\u001b[0;32m<ipython-input-72-e1298ae5e4f5>\u001b[0m in \u001b[0;36m<cell line: 2>\u001b[0;34m()\u001b[0m\n\u001b[1;32m      1\u001b[0m \u001b[0mquery_text\u001b[0m \u001b[0;34m=\u001b[0m \u001b[0mtest_df\u001b[0m\u001b[0;34m[\u001b[0m\u001b[0;34m'query_text'\u001b[0m\u001b[0;34m]\u001b[0m\u001b[0;34m[\u001b[0m\u001b[0;36m13\u001b[0m\u001b[0;34m]\u001b[0m\u001b[0;34m\u001b[0m\u001b[0;34m\u001b[0m\u001b[0m\n\u001b[0;32m----> 2\u001b[0;31m \u001b[0meval_query_nn\u001b[0m\u001b[0;34m(\u001b[0m\u001b[0mquery_text\u001b[0m\u001b[0;34m)\u001b[0m\u001b[0;34m\u001b[0m\u001b[0;34m\u001b[0m\u001b[0m\n\u001b[0m",
            "\u001b[0;32m<ipython-input-66-8fdc7f027785>\u001b[0m in \u001b[0;36meval_query_nn\u001b[0;34m(query_text)\u001b[0m\n\u001b[1;32m     24\u001b[0m         \u001b[0;31m# выводим изображение на экран\u001b[0m\u001b[0;34m\u001b[0m\u001b[0;34m\u001b[0m\u001b[0m\n\u001b[1;32m     25\u001b[0m         display(Image.open(DATA_PATH + 'test_images/' +\n\u001b[0;32m---> 26\u001b[0;31m                            test_images.loc[img_index,'image']).convert('RGB'))\n\u001b[0m\u001b[1;32m     27\u001b[0m         \u001b[0;31m# выодим текст запроса на экран\u001b[0m\u001b[0;34m\u001b[0m\u001b[0;34m\u001b[0m\u001b[0m\n\u001b[1;32m     28\u001b[0m         \u001b[0mprint\u001b[0m\u001b[0;34m(\u001b[0m\u001b[0mquery_text\u001b[0m\u001b[0;34m)\u001b[0m\u001b[0;34m\u001b[0m\u001b[0;34m\u001b[0m\u001b[0m\n",
            "\u001b[0;32m/usr/local/lib/python3.10/dist-packages/pandas/core/indexing.py\u001b[0m in \u001b[0;36m__getitem__\u001b[0;34m(self, key)\u001b[0m\n\u001b[1;32m   1181\u001b[0m             \u001b[0mkey\u001b[0m \u001b[0;34m=\u001b[0m \u001b[0mtuple\u001b[0m\u001b[0;34m(\u001b[0m\u001b[0mcom\u001b[0m\u001b[0;34m.\u001b[0m\u001b[0mapply_if_callable\u001b[0m\u001b[0;34m(\u001b[0m\u001b[0mx\u001b[0m\u001b[0;34m,\u001b[0m \u001b[0mself\u001b[0m\u001b[0;34m.\u001b[0m\u001b[0mobj\u001b[0m\u001b[0;34m)\u001b[0m \u001b[0;32mfor\u001b[0m \u001b[0mx\u001b[0m \u001b[0;32min\u001b[0m \u001b[0mkey\u001b[0m\u001b[0;34m)\u001b[0m\u001b[0;34m\u001b[0m\u001b[0;34m\u001b[0m\u001b[0m\n\u001b[1;32m   1182\u001b[0m             \u001b[0;32mif\u001b[0m \u001b[0mself\u001b[0m\u001b[0;34m.\u001b[0m\u001b[0m_is_scalar_access\u001b[0m\u001b[0;34m(\u001b[0m\u001b[0mkey\u001b[0m\u001b[0;34m)\u001b[0m\u001b[0;34m:\u001b[0m\u001b[0;34m\u001b[0m\u001b[0;34m\u001b[0m\u001b[0m\n\u001b[0;32m-> 1183\u001b[0;31m                 \u001b[0;32mreturn\u001b[0m \u001b[0mself\u001b[0m\u001b[0;34m.\u001b[0m\u001b[0mobj\u001b[0m\u001b[0;34m.\u001b[0m\u001b[0m_get_value\u001b[0m\u001b[0;34m(\u001b[0m\u001b[0;34m*\u001b[0m\u001b[0mkey\u001b[0m\u001b[0;34m,\u001b[0m \u001b[0mtakeable\u001b[0m\u001b[0;34m=\u001b[0m\u001b[0mself\u001b[0m\u001b[0;34m.\u001b[0m\u001b[0m_takeable\u001b[0m\u001b[0;34m)\u001b[0m\u001b[0;34m\u001b[0m\u001b[0;34m\u001b[0m\u001b[0m\n\u001b[0m\u001b[1;32m   1184\u001b[0m             \u001b[0;32mreturn\u001b[0m \u001b[0mself\u001b[0m\u001b[0;34m.\u001b[0m\u001b[0m_getitem_tuple\u001b[0m\u001b[0;34m(\u001b[0m\u001b[0mkey\u001b[0m\u001b[0;34m)\u001b[0m\u001b[0;34m\u001b[0m\u001b[0;34m\u001b[0m\u001b[0m\n\u001b[1;32m   1185\u001b[0m         \u001b[0;32melse\u001b[0m\u001b[0;34m:\u001b[0m\u001b[0;34m\u001b[0m\u001b[0;34m\u001b[0m\u001b[0m\n",
            "\u001b[0;32m/usr/local/lib/python3.10/dist-packages/pandas/core/frame.py\u001b[0m in \u001b[0;36m_get_value\u001b[0;34m(self, index, col, takeable)\u001b[0m\n\u001b[1;32m   4219\u001b[0m             \u001b[0;31m#  results if our categories are integers that dont match our codes\u001b[0m\u001b[0;34m\u001b[0m\u001b[0;34m\u001b[0m\u001b[0m\n\u001b[1;32m   4220\u001b[0m             \u001b[0;31m# IntervalIndex: IntervalTree has no get_loc\u001b[0m\u001b[0;34m\u001b[0m\u001b[0;34m\u001b[0m\u001b[0m\n\u001b[0;32m-> 4221\u001b[0;31m             \u001b[0mrow\u001b[0m \u001b[0;34m=\u001b[0m \u001b[0mself\u001b[0m\u001b[0;34m.\u001b[0m\u001b[0mindex\u001b[0m\u001b[0;34m.\u001b[0m\u001b[0mget_loc\u001b[0m\u001b[0;34m(\u001b[0m\u001b[0mindex\u001b[0m\u001b[0;34m)\u001b[0m\u001b[0;34m\u001b[0m\u001b[0;34m\u001b[0m\u001b[0m\n\u001b[0m\u001b[1;32m   4222\u001b[0m             \u001b[0;32mreturn\u001b[0m \u001b[0mseries\u001b[0m\u001b[0;34m.\u001b[0m\u001b[0m_values\u001b[0m\u001b[0;34m[\u001b[0m\u001b[0mrow\u001b[0m\u001b[0;34m]\u001b[0m\u001b[0;34m\u001b[0m\u001b[0;34m\u001b[0m\u001b[0m\n\u001b[1;32m   4223\u001b[0m \u001b[0;34m\u001b[0m\u001b[0m\n",
            "\u001b[0;32m/usr/local/lib/python3.10/dist-packages/pandas/core/indexes/range.py\u001b[0m in \u001b[0;36mget_loc\u001b[0;34m(self, key)\u001b[0m\n\u001b[1;32m    413\u001b[0m                 \u001b[0;32mreturn\u001b[0m \u001b[0mself\u001b[0m\u001b[0;34m.\u001b[0m\u001b[0m_range\u001b[0m\u001b[0;34m.\u001b[0m\u001b[0mindex\u001b[0m\u001b[0;34m(\u001b[0m\u001b[0mnew_key\u001b[0m\u001b[0;34m)\u001b[0m\u001b[0;34m\u001b[0m\u001b[0;34m\u001b[0m\u001b[0m\n\u001b[1;32m    414\u001b[0m             \u001b[0;32mexcept\u001b[0m \u001b[0mValueError\u001b[0m \u001b[0;32mas\u001b[0m \u001b[0merr\u001b[0m\u001b[0;34m:\u001b[0m\u001b[0;34m\u001b[0m\u001b[0;34m\u001b[0m\u001b[0m\n\u001b[0;32m--> 415\u001b[0;31m                 \u001b[0;32mraise\u001b[0m \u001b[0mKeyError\u001b[0m\u001b[0;34m(\u001b[0m\u001b[0mkey\u001b[0m\u001b[0;34m)\u001b[0m \u001b[0;32mfrom\u001b[0m \u001b[0merr\u001b[0m\u001b[0;34m\u001b[0m\u001b[0;34m\u001b[0m\u001b[0m\n\u001b[0m\u001b[1;32m    416\u001b[0m         \u001b[0;32mif\u001b[0m \u001b[0misinstance\u001b[0m\u001b[0;34m(\u001b[0m\u001b[0mkey\u001b[0m\u001b[0;34m,\u001b[0m \u001b[0mHashable\u001b[0m\u001b[0;34m)\u001b[0m\u001b[0;34m:\u001b[0m\u001b[0;34m\u001b[0m\u001b[0;34m\u001b[0m\u001b[0m\n\u001b[1;32m    417\u001b[0m             \u001b[0;32mraise\u001b[0m \u001b[0mKeyError\u001b[0m\u001b[0;34m(\u001b[0m\u001b[0mkey\u001b[0m\u001b[0;34m)\u001b[0m\u001b[0;34m\u001b[0m\u001b[0;34m\u001b[0m\u001b[0m\n",
            "\u001b[0;31mKeyError\u001b[0m: 458"
          ]
        }
      ]
    },
    {
      "cell_type": "code",
      "source": [
        "query_text = test_df['query_text'][14]\n",
        "eval_query_nn(query_text)"
      ],
      "metadata": {
        "colab": {
          "base_uri": "https://localhost:8080/",
          "height": 468
        },
        "id": "OCnJ7CC_mGoF",
        "outputId": "2693af5d-a54b-4ab4-87e2-e0b394ed12b6"
      },
      "execution_count": 73,
      "outputs": [
        {
          "output_type": "stream",
          "name": "stdout",
          "text": [
            "\u001b[1m16/16\u001b[0m \u001b[32m━━━━━━━━━━━━━━━━━━━━\u001b[0m\u001b[37m\u001b[0m \u001b[1m0s\u001b[0m 2ms/step \n"
          ]
        },
        {
          "output_type": "error",
          "ename": "KeyError",
          "evalue": "326",
          "traceback": [
            "\u001b[0;31m---------------------------------------------------------------------------\u001b[0m",
            "\u001b[0;31mValueError\u001b[0m                                Traceback (most recent call last)",
            "\u001b[0;32m/usr/local/lib/python3.10/dist-packages/pandas/core/indexes/range.py\u001b[0m in \u001b[0;36mget_loc\u001b[0;34m(self, key)\u001b[0m\n\u001b[1;32m    412\u001b[0m             \u001b[0;32mtry\u001b[0m\u001b[0;34m:\u001b[0m\u001b[0;34m\u001b[0m\u001b[0;34m\u001b[0m\u001b[0m\n\u001b[0;32m--> 413\u001b[0;31m                 \u001b[0;32mreturn\u001b[0m \u001b[0mself\u001b[0m\u001b[0;34m.\u001b[0m\u001b[0m_range\u001b[0m\u001b[0;34m.\u001b[0m\u001b[0mindex\u001b[0m\u001b[0;34m(\u001b[0m\u001b[0mnew_key\u001b[0m\u001b[0;34m)\u001b[0m\u001b[0;34m\u001b[0m\u001b[0;34m\u001b[0m\u001b[0m\n\u001b[0m\u001b[1;32m    414\u001b[0m             \u001b[0;32mexcept\u001b[0m \u001b[0mValueError\u001b[0m \u001b[0;32mas\u001b[0m \u001b[0merr\u001b[0m\u001b[0;34m:\u001b[0m\u001b[0;34m\u001b[0m\u001b[0;34m\u001b[0m\u001b[0m\n",
            "\u001b[0;31mValueError\u001b[0m: 326 is not in range",
            "\nThe above exception was the direct cause of the following exception:\n",
            "\u001b[0;31mKeyError\u001b[0m                                  Traceback (most recent call last)",
            "\u001b[0;32m<ipython-input-73-ec14334a6162>\u001b[0m in \u001b[0;36m<cell line: 2>\u001b[0;34m()\u001b[0m\n\u001b[1;32m      1\u001b[0m \u001b[0mquery_text\u001b[0m \u001b[0;34m=\u001b[0m \u001b[0mtest_df\u001b[0m\u001b[0;34m[\u001b[0m\u001b[0;34m'query_text'\u001b[0m\u001b[0;34m]\u001b[0m\u001b[0;34m[\u001b[0m\u001b[0;36m14\u001b[0m\u001b[0;34m]\u001b[0m\u001b[0;34m\u001b[0m\u001b[0;34m\u001b[0m\u001b[0m\n\u001b[0;32m----> 2\u001b[0;31m \u001b[0meval_query_nn\u001b[0m\u001b[0;34m(\u001b[0m\u001b[0mquery_text\u001b[0m\u001b[0;34m)\u001b[0m\u001b[0;34m\u001b[0m\u001b[0;34m\u001b[0m\u001b[0m\n\u001b[0m",
            "\u001b[0;32m<ipython-input-66-8fdc7f027785>\u001b[0m in \u001b[0;36meval_query_nn\u001b[0;34m(query_text)\u001b[0m\n\u001b[1;32m     24\u001b[0m         \u001b[0;31m# выводим изображение на экран\u001b[0m\u001b[0;34m\u001b[0m\u001b[0;34m\u001b[0m\u001b[0m\n\u001b[1;32m     25\u001b[0m         display(Image.open(DATA_PATH + 'test_images/' +\n\u001b[0;32m---> 26\u001b[0;31m                            test_images.loc[img_index,'image']).convert('RGB'))\n\u001b[0m\u001b[1;32m     27\u001b[0m         \u001b[0;31m# выодим текст запроса на экран\u001b[0m\u001b[0;34m\u001b[0m\u001b[0;34m\u001b[0m\u001b[0m\n\u001b[1;32m     28\u001b[0m         \u001b[0mprint\u001b[0m\u001b[0;34m(\u001b[0m\u001b[0mquery_text\u001b[0m\u001b[0;34m)\u001b[0m\u001b[0;34m\u001b[0m\u001b[0;34m\u001b[0m\u001b[0m\n",
            "\u001b[0;32m/usr/local/lib/python3.10/dist-packages/pandas/core/indexing.py\u001b[0m in \u001b[0;36m__getitem__\u001b[0;34m(self, key)\u001b[0m\n\u001b[1;32m   1181\u001b[0m             \u001b[0mkey\u001b[0m \u001b[0;34m=\u001b[0m \u001b[0mtuple\u001b[0m\u001b[0;34m(\u001b[0m\u001b[0mcom\u001b[0m\u001b[0;34m.\u001b[0m\u001b[0mapply_if_callable\u001b[0m\u001b[0;34m(\u001b[0m\u001b[0mx\u001b[0m\u001b[0;34m,\u001b[0m \u001b[0mself\u001b[0m\u001b[0;34m.\u001b[0m\u001b[0mobj\u001b[0m\u001b[0;34m)\u001b[0m \u001b[0;32mfor\u001b[0m \u001b[0mx\u001b[0m \u001b[0;32min\u001b[0m \u001b[0mkey\u001b[0m\u001b[0;34m)\u001b[0m\u001b[0;34m\u001b[0m\u001b[0;34m\u001b[0m\u001b[0m\n\u001b[1;32m   1182\u001b[0m             \u001b[0;32mif\u001b[0m \u001b[0mself\u001b[0m\u001b[0;34m.\u001b[0m\u001b[0m_is_scalar_access\u001b[0m\u001b[0;34m(\u001b[0m\u001b[0mkey\u001b[0m\u001b[0;34m)\u001b[0m\u001b[0;34m:\u001b[0m\u001b[0;34m\u001b[0m\u001b[0;34m\u001b[0m\u001b[0m\n\u001b[0;32m-> 1183\u001b[0;31m                 \u001b[0;32mreturn\u001b[0m \u001b[0mself\u001b[0m\u001b[0;34m.\u001b[0m\u001b[0mobj\u001b[0m\u001b[0;34m.\u001b[0m\u001b[0m_get_value\u001b[0m\u001b[0;34m(\u001b[0m\u001b[0;34m*\u001b[0m\u001b[0mkey\u001b[0m\u001b[0;34m,\u001b[0m \u001b[0mtakeable\u001b[0m\u001b[0;34m=\u001b[0m\u001b[0mself\u001b[0m\u001b[0;34m.\u001b[0m\u001b[0m_takeable\u001b[0m\u001b[0;34m)\u001b[0m\u001b[0;34m\u001b[0m\u001b[0;34m\u001b[0m\u001b[0m\n\u001b[0m\u001b[1;32m   1184\u001b[0m             \u001b[0;32mreturn\u001b[0m \u001b[0mself\u001b[0m\u001b[0;34m.\u001b[0m\u001b[0m_getitem_tuple\u001b[0m\u001b[0;34m(\u001b[0m\u001b[0mkey\u001b[0m\u001b[0;34m)\u001b[0m\u001b[0;34m\u001b[0m\u001b[0;34m\u001b[0m\u001b[0m\n\u001b[1;32m   1185\u001b[0m         \u001b[0;32melse\u001b[0m\u001b[0;34m:\u001b[0m\u001b[0;34m\u001b[0m\u001b[0;34m\u001b[0m\u001b[0m\n",
            "\u001b[0;32m/usr/local/lib/python3.10/dist-packages/pandas/core/frame.py\u001b[0m in \u001b[0;36m_get_value\u001b[0;34m(self, index, col, takeable)\u001b[0m\n\u001b[1;32m   4219\u001b[0m             \u001b[0;31m#  results if our categories are integers that dont match our codes\u001b[0m\u001b[0;34m\u001b[0m\u001b[0;34m\u001b[0m\u001b[0m\n\u001b[1;32m   4220\u001b[0m             \u001b[0;31m# IntervalIndex: IntervalTree has no get_loc\u001b[0m\u001b[0;34m\u001b[0m\u001b[0;34m\u001b[0m\u001b[0m\n\u001b[0;32m-> 4221\u001b[0;31m             \u001b[0mrow\u001b[0m \u001b[0;34m=\u001b[0m \u001b[0mself\u001b[0m\u001b[0;34m.\u001b[0m\u001b[0mindex\u001b[0m\u001b[0;34m.\u001b[0m\u001b[0mget_loc\u001b[0m\u001b[0;34m(\u001b[0m\u001b[0mindex\u001b[0m\u001b[0;34m)\u001b[0m\u001b[0;34m\u001b[0m\u001b[0;34m\u001b[0m\u001b[0m\n\u001b[0m\u001b[1;32m   4222\u001b[0m             \u001b[0;32mreturn\u001b[0m \u001b[0mseries\u001b[0m\u001b[0;34m.\u001b[0m\u001b[0m_values\u001b[0m\u001b[0;34m[\u001b[0m\u001b[0mrow\u001b[0m\u001b[0;34m]\u001b[0m\u001b[0;34m\u001b[0m\u001b[0;34m\u001b[0m\u001b[0m\n\u001b[1;32m   4223\u001b[0m \u001b[0;34m\u001b[0m\u001b[0m\n",
            "\u001b[0;32m/usr/local/lib/python3.10/dist-packages/pandas/core/indexes/range.py\u001b[0m in \u001b[0;36mget_loc\u001b[0;34m(self, key)\u001b[0m\n\u001b[1;32m    413\u001b[0m                 \u001b[0;32mreturn\u001b[0m \u001b[0mself\u001b[0m\u001b[0;34m.\u001b[0m\u001b[0m_range\u001b[0m\u001b[0;34m.\u001b[0m\u001b[0mindex\u001b[0m\u001b[0;34m(\u001b[0m\u001b[0mnew_key\u001b[0m\u001b[0;34m)\u001b[0m\u001b[0;34m\u001b[0m\u001b[0;34m\u001b[0m\u001b[0m\n\u001b[1;32m    414\u001b[0m             \u001b[0;32mexcept\u001b[0m \u001b[0mValueError\u001b[0m \u001b[0;32mas\u001b[0m \u001b[0merr\u001b[0m\u001b[0;34m:\u001b[0m\u001b[0;34m\u001b[0m\u001b[0;34m\u001b[0m\u001b[0m\n\u001b[0;32m--> 415\u001b[0;31m                 \u001b[0;32mraise\u001b[0m \u001b[0mKeyError\u001b[0m\u001b[0;34m(\u001b[0m\u001b[0mkey\u001b[0m\u001b[0;34m)\u001b[0m \u001b[0;32mfrom\u001b[0m \u001b[0merr\u001b[0m\u001b[0;34m\u001b[0m\u001b[0;34m\u001b[0m\u001b[0m\n\u001b[0m\u001b[1;32m    416\u001b[0m         \u001b[0;32mif\u001b[0m \u001b[0misinstance\u001b[0m\u001b[0;34m(\u001b[0m\u001b[0mkey\u001b[0m\u001b[0;34m,\u001b[0m \u001b[0mHashable\u001b[0m\u001b[0;34m)\u001b[0m\u001b[0;34m:\u001b[0m\u001b[0;34m\u001b[0m\u001b[0;34m\u001b[0m\u001b[0m\n\u001b[1;32m    417\u001b[0m             \u001b[0;32mraise\u001b[0m \u001b[0mKeyError\u001b[0m\u001b[0;34m(\u001b[0m\u001b[0mkey\u001b[0m\u001b[0;34m)\u001b[0m\u001b[0;34m\u001b[0m\u001b[0;34m\u001b[0m\u001b[0m\n",
            "\u001b[0;31mKeyError\u001b[0m: 326"
          ]
        }
      ]
    },
    {
      "cell_type": "code",
      "source": [
        "query_text = test_df['query_text'][343]\n",
        "eval_query_nn(query_text)"
      ],
      "metadata": {
        "colab": {
          "base_uri": "https://localhost:8080/",
          "height": 468
        },
        "id": "kgCrKg1SmaAU",
        "outputId": "39d5de25-d21f-4968-8322-f82ecf8ab931"
      },
      "execution_count": 74,
      "outputs": [
        {
          "output_type": "stream",
          "name": "stdout",
          "text": [
            "\u001b[1m16/16\u001b[0m \u001b[32m━━━━━━━━━━━━━━━━━━━━\u001b[0m\u001b[37m\u001b[0m \u001b[1m0s\u001b[0m 2ms/step \n"
          ]
        },
        {
          "output_type": "error",
          "ename": "KeyError",
          "evalue": "125",
          "traceback": [
            "\u001b[0;31m---------------------------------------------------------------------------\u001b[0m",
            "\u001b[0;31mValueError\u001b[0m                                Traceback (most recent call last)",
            "\u001b[0;32m/usr/local/lib/python3.10/dist-packages/pandas/core/indexes/range.py\u001b[0m in \u001b[0;36mget_loc\u001b[0;34m(self, key)\u001b[0m\n\u001b[1;32m    412\u001b[0m             \u001b[0;32mtry\u001b[0m\u001b[0;34m:\u001b[0m\u001b[0;34m\u001b[0m\u001b[0;34m\u001b[0m\u001b[0m\n\u001b[0;32m--> 413\u001b[0;31m                 \u001b[0;32mreturn\u001b[0m \u001b[0mself\u001b[0m\u001b[0;34m.\u001b[0m\u001b[0m_range\u001b[0m\u001b[0;34m.\u001b[0m\u001b[0mindex\u001b[0m\u001b[0;34m(\u001b[0m\u001b[0mnew_key\u001b[0m\u001b[0;34m)\u001b[0m\u001b[0;34m\u001b[0m\u001b[0;34m\u001b[0m\u001b[0m\n\u001b[0m\u001b[1;32m    414\u001b[0m             \u001b[0;32mexcept\u001b[0m \u001b[0mValueError\u001b[0m \u001b[0;32mas\u001b[0m \u001b[0merr\u001b[0m\u001b[0;34m:\u001b[0m\u001b[0;34m\u001b[0m\u001b[0;34m\u001b[0m\u001b[0m\n",
            "\u001b[0;31mValueError\u001b[0m: 125 is not in range",
            "\nThe above exception was the direct cause of the following exception:\n",
            "\u001b[0;31mKeyError\u001b[0m                                  Traceback (most recent call last)",
            "\u001b[0;32m<ipython-input-74-c5bb0d9ca680>\u001b[0m in \u001b[0;36m<cell line: 2>\u001b[0;34m()\u001b[0m\n\u001b[1;32m      1\u001b[0m \u001b[0mquery_text\u001b[0m \u001b[0;34m=\u001b[0m \u001b[0mtest_df\u001b[0m\u001b[0;34m[\u001b[0m\u001b[0;34m'query_text'\u001b[0m\u001b[0;34m]\u001b[0m\u001b[0;34m[\u001b[0m\u001b[0;36m343\u001b[0m\u001b[0;34m]\u001b[0m\u001b[0;34m\u001b[0m\u001b[0;34m\u001b[0m\u001b[0m\n\u001b[0;32m----> 2\u001b[0;31m \u001b[0meval_query_nn\u001b[0m\u001b[0;34m(\u001b[0m\u001b[0mquery_text\u001b[0m\u001b[0;34m)\u001b[0m\u001b[0;34m\u001b[0m\u001b[0;34m\u001b[0m\u001b[0m\n\u001b[0m",
            "\u001b[0;32m<ipython-input-66-8fdc7f027785>\u001b[0m in \u001b[0;36meval_query_nn\u001b[0;34m(query_text)\u001b[0m\n\u001b[1;32m     24\u001b[0m         \u001b[0;31m# выводим изображение на экран\u001b[0m\u001b[0;34m\u001b[0m\u001b[0;34m\u001b[0m\u001b[0m\n\u001b[1;32m     25\u001b[0m         display(Image.open(DATA_PATH + 'test_images/' +\n\u001b[0;32m---> 26\u001b[0;31m                            test_images.loc[img_index,'image']).convert('RGB'))\n\u001b[0m\u001b[1;32m     27\u001b[0m         \u001b[0;31m# выодим текст запроса на экран\u001b[0m\u001b[0;34m\u001b[0m\u001b[0;34m\u001b[0m\u001b[0m\n\u001b[1;32m     28\u001b[0m         \u001b[0mprint\u001b[0m\u001b[0;34m(\u001b[0m\u001b[0mquery_text\u001b[0m\u001b[0;34m)\u001b[0m\u001b[0;34m\u001b[0m\u001b[0;34m\u001b[0m\u001b[0m\n",
            "\u001b[0;32m/usr/local/lib/python3.10/dist-packages/pandas/core/indexing.py\u001b[0m in \u001b[0;36m__getitem__\u001b[0;34m(self, key)\u001b[0m\n\u001b[1;32m   1181\u001b[0m             \u001b[0mkey\u001b[0m \u001b[0;34m=\u001b[0m \u001b[0mtuple\u001b[0m\u001b[0;34m(\u001b[0m\u001b[0mcom\u001b[0m\u001b[0;34m.\u001b[0m\u001b[0mapply_if_callable\u001b[0m\u001b[0;34m(\u001b[0m\u001b[0mx\u001b[0m\u001b[0;34m,\u001b[0m \u001b[0mself\u001b[0m\u001b[0;34m.\u001b[0m\u001b[0mobj\u001b[0m\u001b[0;34m)\u001b[0m \u001b[0;32mfor\u001b[0m \u001b[0mx\u001b[0m \u001b[0;32min\u001b[0m \u001b[0mkey\u001b[0m\u001b[0;34m)\u001b[0m\u001b[0;34m\u001b[0m\u001b[0;34m\u001b[0m\u001b[0m\n\u001b[1;32m   1182\u001b[0m             \u001b[0;32mif\u001b[0m \u001b[0mself\u001b[0m\u001b[0;34m.\u001b[0m\u001b[0m_is_scalar_access\u001b[0m\u001b[0;34m(\u001b[0m\u001b[0mkey\u001b[0m\u001b[0;34m)\u001b[0m\u001b[0;34m:\u001b[0m\u001b[0;34m\u001b[0m\u001b[0;34m\u001b[0m\u001b[0m\n\u001b[0;32m-> 1183\u001b[0;31m                 \u001b[0;32mreturn\u001b[0m \u001b[0mself\u001b[0m\u001b[0;34m.\u001b[0m\u001b[0mobj\u001b[0m\u001b[0;34m.\u001b[0m\u001b[0m_get_value\u001b[0m\u001b[0;34m(\u001b[0m\u001b[0;34m*\u001b[0m\u001b[0mkey\u001b[0m\u001b[0;34m,\u001b[0m \u001b[0mtakeable\u001b[0m\u001b[0;34m=\u001b[0m\u001b[0mself\u001b[0m\u001b[0;34m.\u001b[0m\u001b[0m_takeable\u001b[0m\u001b[0;34m)\u001b[0m\u001b[0;34m\u001b[0m\u001b[0;34m\u001b[0m\u001b[0m\n\u001b[0m\u001b[1;32m   1184\u001b[0m             \u001b[0;32mreturn\u001b[0m \u001b[0mself\u001b[0m\u001b[0;34m.\u001b[0m\u001b[0m_getitem_tuple\u001b[0m\u001b[0;34m(\u001b[0m\u001b[0mkey\u001b[0m\u001b[0;34m)\u001b[0m\u001b[0;34m\u001b[0m\u001b[0;34m\u001b[0m\u001b[0m\n\u001b[1;32m   1185\u001b[0m         \u001b[0;32melse\u001b[0m\u001b[0;34m:\u001b[0m\u001b[0;34m\u001b[0m\u001b[0;34m\u001b[0m\u001b[0m\n",
            "\u001b[0;32m/usr/local/lib/python3.10/dist-packages/pandas/core/frame.py\u001b[0m in \u001b[0;36m_get_value\u001b[0;34m(self, index, col, takeable)\u001b[0m\n\u001b[1;32m   4219\u001b[0m             \u001b[0;31m#  results if our categories are integers that dont match our codes\u001b[0m\u001b[0;34m\u001b[0m\u001b[0;34m\u001b[0m\u001b[0m\n\u001b[1;32m   4220\u001b[0m             \u001b[0;31m# IntervalIndex: IntervalTree has no get_loc\u001b[0m\u001b[0;34m\u001b[0m\u001b[0;34m\u001b[0m\u001b[0m\n\u001b[0;32m-> 4221\u001b[0;31m             \u001b[0mrow\u001b[0m \u001b[0;34m=\u001b[0m \u001b[0mself\u001b[0m\u001b[0;34m.\u001b[0m\u001b[0mindex\u001b[0m\u001b[0;34m.\u001b[0m\u001b[0mget_loc\u001b[0m\u001b[0;34m(\u001b[0m\u001b[0mindex\u001b[0m\u001b[0;34m)\u001b[0m\u001b[0;34m\u001b[0m\u001b[0;34m\u001b[0m\u001b[0m\n\u001b[0m\u001b[1;32m   4222\u001b[0m             \u001b[0;32mreturn\u001b[0m \u001b[0mseries\u001b[0m\u001b[0;34m.\u001b[0m\u001b[0m_values\u001b[0m\u001b[0;34m[\u001b[0m\u001b[0mrow\u001b[0m\u001b[0;34m]\u001b[0m\u001b[0;34m\u001b[0m\u001b[0;34m\u001b[0m\u001b[0m\n\u001b[1;32m   4223\u001b[0m \u001b[0;34m\u001b[0m\u001b[0m\n",
            "\u001b[0;32m/usr/local/lib/python3.10/dist-packages/pandas/core/indexes/range.py\u001b[0m in \u001b[0;36mget_loc\u001b[0;34m(self, key)\u001b[0m\n\u001b[1;32m    413\u001b[0m                 \u001b[0;32mreturn\u001b[0m \u001b[0mself\u001b[0m\u001b[0;34m.\u001b[0m\u001b[0m_range\u001b[0m\u001b[0;34m.\u001b[0m\u001b[0mindex\u001b[0m\u001b[0;34m(\u001b[0m\u001b[0mnew_key\u001b[0m\u001b[0;34m)\u001b[0m\u001b[0;34m\u001b[0m\u001b[0;34m\u001b[0m\u001b[0m\n\u001b[1;32m    414\u001b[0m             \u001b[0;32mexcept\u001b[0m \u001b[0mValueError\u001b[0m \u001b[0;32mas\u001b[0m \u001b[0merr\u001b[0m\u001b[0;34m:\u001b[0m\u001b[0;34m\u001b[0m\u001b[0;34m\u001b[0m\u001b[0m\n\u001b[0;32m--> 415\u001b[0;31m                 \u001b[0;32mraise\u001b[0m \u001b[0mKeyError\u001b[0m\u001b[0;34m(\u001b[0m\u001b[0mkey\u001b[0m\u001b[0;34m)\u001b[0m \u001b[0;32mfrom\u001b[0m \u001b[0merr\u001b[0m\u001b[0;34m\u001b[0m\u001b[0;34m\u001b[0m\u001b[0m\n\u001b[0m\u001b[1;32m    416\u001b[0m         \u001b[0;32mif\u001b[0m \u001b[0misinstance\u001b[0m\u001b[0;34m(\u001b[0m\u001b[0mkey\u001b[0m\u001b[0;34m,\u001b[0m \u001b[0mHashable\u001b[0m\u001b[0;34m)\u001b[0m\u001b[0;34m:\u001b[0m\u001b[0;34m\u001b[0m\u001b[0;34m\u001b[0m\u001b[0m\n\u001b[1;32m    417\u001b[0m             \u001b[0;32mraise\u001b[0m \u001b[0mKeyError\u001b[0m\u001b[0;34m(\u001b[0m\u001b[0mkey\u001b[0m\u001b[0;34m)\u001b[0m\u001b[0;34m\u001b[0m\u001b[0;34m\u001b[0m\u001b[0m\n",
            "\u001b[0;31mKeyError\u001b[0m: 125"
          ]
        }
      ]
    },
    {
      "cell_type": "code",
      "source": [
        "query_text = test_df['query_text'][185]\n",
        "eval_query_nn(query_text)"
      ],
      "metadata": {
        "colab": {
          "base_uri": "https://localhost:8080/"
        },
        "id": "OuTkHb2VmgFY",
        "outputId": "e6ba72e4-9ad4-4c8d-d54c-cd465e8c6090"
      },
      "execution_count": 75,
      "outputs": [
        {
          "output_type": "stream",
          "name": "stdout",
          "text": [
            "This image is unavailable in your country in compliance with local laws.\n"
          ]
        }
      ]
    },
    {
      "cell_type": "code",
      "source": [
        "query_text = test_df['query_text'][451]\n",
        "eval_query_nn(query_text)"
      ],
      "metadata": {
        "colab": {
          "base_uri": "https://localhost:8080/"
        },
        "id": "9_yU6lt6mgyi",
        "outputId": "00172a80-935f-4c3f-cbcf-8a10a0ba09ae"
      },
      "execution_count": 76,
      "outputs": [
        {
          "output_type": "stream",
          "name": "stdout",
          "text": [
            "This image is unavailable in your country in compliance with local laws.\n"
          ]
        }
      ]
    },
    {
      "cell_type": "code",
      "source": [
        "query_text = test_df['query_text'][56]\n",
        "eval_query_nn(query_text)"
      ],
      "metadata": {
        "colab": {
          "base_uri": "https://localhost:8080/"
        },
        "id": "gMWW7Ex5mhZv",
        "outputId": "e1092a0d-3675-4bbc-cbcd-0dd8ee075359"
      },
      "execution_count": 77,
      "outputs": [
        {
          "output_type": "stream",
          "name": "stdout",
          "text": [
            "This image is unavailable in your country in compliance with local laws.\n"
          ]
        }
      ]
    },
    {
      "cell_type": "markdown",
      "metadata": {
        "id": "aS7sKDSouicW"
      },
      "source": [
        "##Общий вывод\n",
        "- Лучше всего, с задачей сравнения сходства картинки и текста, справляется нейроная модель полученная с помощью подбора парамтров. Метрика MAE составляет 0.1763.\n",
        "- К сожалению модель допускает ошибки во время поиска картинки по её текстовому описанию. Например показ одной и той же фотографии на разные по смыслу запросы.\n",
        "- Проект по созданию сервиса поиска фотографий по текстовому описанию практически осуществим, но требует тщательного подбора парамтров нейросети и обширного обучающего материала максимально точно размеченного экспертами.\n"
      ]
    },
    {
      "cell_type": "markdown",
      "metadata": {
        "id": "98130d7d"
      },
      "source": [
        "<img src=\"http://s3.amazonaws.com/pix.iemoji.com/images/emoji/apple/ios-12/256/waving-hand.png\" align=left width=44, heigth=44>\n",
        "<div class=\"alert alert-info\">\n",
        "<b> Идеи и альтернативные подходы</b>\n",
        "  Если хочешь получить хорошо работающее решение без обучения, то можешь провести эксперимент с нейронной сетью CLIP от OPEN AI (это не обязательно, только если хочешь добиться хороших результатов в этом проекте).\n",
        "\n",
        "  Про эту нейронку много где написано, но можешь посмотреть например вот здесь  https://habr.com/ru/post/539312/.\n",
        "\n",
        "  А для написания  реализации наиболее удобной лично для меня оказалась библиотека sbert. https://www.sbert.net/examples/applications/image-search/README.html  \n",
        "    \n",
        "    \n",
        "<hr>    \n",
        "    \n",
        "Также неплохо работает следующий подход без предобученных моделей (к тому же легко реализуемый).\n",
        "    \n",
        "    \n",
        "Вместо того, чтобы подавать на вход модели изображение + текст и получать меру соответствия, поступаем по другому.\n",
        "    \n",
        "На вход модели подаем вектор описания, а на выходе учимся предсказывать вектор изображения.\n",
        "    \n",
        "По поводу метрик тут ситуация следующая. Точно работает следующий подход\n",
        "    \n",
        "  - берем метрику mse, но тогда нужно чтобы модель её уменьшала. А значит в обучении используем только пары заведомо сответствующие друг другу\n",
        "\n",
        "Можно попробовать использовать косинусное расстояние, она позволяет использовать все данные (если есть соответствие то выдает 1, если нет то 0).\n",
        "    \n",
        "Также можно попробовать усложнить модель, например и изображения и тексты отправлять в пространство размерностью 256 и уже в этом пространстве учиться их \"сближать\".\n",
        "    \n",
        "По поводу методов векторизации: я бы использовать resnet18 для изображений (размерность эмбеддинга избражения 512) и БЕРТ для текстов (768).\n",
        "    \n",
        "   \n",
        "</div>"
      ]
    },
    {
      "cell_type": "markdown",
      "metadata": {
        "id": "IGIm-kz6vifd"
      },
      "source": []
    }
  ],
  "metadata": {
    "colab": {
      "provenance": [],
      "toc_visible": true,
      "include_colab_link": true
    },
    "kernelspec": {
      "display_name": "Python 3 (ipykernel)",
      "language": "python",
      "name": "python3"
    },
    "language_info": {
      "codemirror_mode": {
        "name": "ipython",
        "version": 3
      },
      "file_extension": ".py",
      "mimetype": "text/x-python",
      "name": "python",
      "nbconvert_exporter": "python",
      "pygments_lexer": "ipython3",
      "version": "3.9.19"
    },
    "toc": {
      "base_numbering": 1,
      "nav_menu": {},
      "number_sections": false,
      "sideBar": true,
      "skip_h1_title": false,
      "title_cell": "Table of Contents",
      "title_sidebar": "Contents",
      "toc_cell": false,
      "toc_position": {
        "height": "calc(100% - 180px)",
        "left": "10px",
        "top": "150px",
        "width": "403.108px"
      },
      "toc_section_display": true,
      "toc_window_display": true
    },
    "varInspector": {
      "cols": {
        "lenName": 16,
        "lenType": 16,
        "lenVar": 40
      },
      "kernels_config": {
        "python": {
          "delete_cmd_postfix": "",
          "delete_cmd_prefix": "del ",
          "library": "var_list.py",
          "varRefreshCmd": "print(var_dic_list())"
        },
        "r": {
          "delete_cmd_postfix": ") ",
          "delete_cmd_prefix": "rm(",
          "library": "var_list.r",
          "varRefreshCmd": "cat(var_dic_list()) "
        }
      },
      "types_to_exclude": [
        "module",
        "function",
        "builtin_function_or_method",
        "instance",
        "_Feature"
      ],
      "window_display": false
    }
  },
  "nbformat": 4,
  "nbformat_minor": 0
}